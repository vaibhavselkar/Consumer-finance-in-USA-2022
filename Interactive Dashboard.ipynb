{
 "cells": [
  {
   "cell_type": "markdown",
   "id": "7bcfa2e0",
   "metadata": {},
   "source": [
    "# Consumer_Finance_In_USA_2022"
   ]
  },
  {
   "cell_type": "code",
   "execution_count": 141,
   "id": "fc945b83",
   "metadata": {},
   "outputs": [],
   "source": [
    "import pandas as pd\n",
    "import plotly.express as px\n",
    "\n",
    "from jupyter_dash import JupyterDash\n",
    "from scipy.stats.mstats import trimmed_var\n",
    "from sklearn.cluster import KMeans\n",
    "from sklearn.decomposition import PCA\n",
    "from dash import Input, Output, dcc, html\n",
    "from sklearn.metrics import silhouette_score\n",
    "from sklearn.pipeline import make_pipeline\n",
    "from sklearn.preprocessing import StandardScaler"
   ]
  },
  {
   "cell_type": "markdown",
   "id": "b2fbb066",
   "metadata": {},
   "source": [
    "# importing data"
   ]
  },
  {
   "cell_type": "code",
   "execution_count": 142,
   "id": "c34bb2bb",
   "metadata": {},
   "outputs": [
    {
     "name": "stdout",
     "output_type": "stream",
     "text": [
      "df shape (3839, 356)\n"
     ]
    },
    {
     "data": {
      "text/html": [
       "<div>\n",
       "<style scoped>\n",
       "    .dataframe tbody tr th:only-of-type {\n",
       "        vertical-align: middle;\n",
       "    }\n",
       "\n",
       "    .dataframe tbody tr th {\n",
       "        vertical-align: top;\n",
       "    }\n",
       "\n",
       "    .dataframe thead th {\n",
       "        text-align: right;\n",
       "    }\n",
       "</style>\n",
       "<table border=\"1\" class=\"dataframe\">\n",
       "  <thead>\n",
       "    <tr style=\"text-align: right;\">\n",
       "      <th></th>\n",
       "      <th>YY1</th>\n",
       "      <th>Y1</th>\n",
       "      <th>WGT</th>\n",
       "      <th>HHSEX</th>\n",
       "      <th>AGE</th>\n",
       "      <th>AGECL</th>\n",
       "      <th>EDUC</th>\n",
       "      <th>EDCL</th>\n",
       "      <th>MARRIED</th>\n",
       "      <th>KIDS</th>\n",
       "      <th>...</th>\n",
       "      <th>NWCAT</th>\n",
       "      <th>INCCAT</th>\n",
       "      <th>ASSETCAT</th>\n",
       "      <th>NINCCAT</th>\n",
       "      <th>NINC2CAT</th>\n",
       "      <th>NWPCTLECAT</th>\n",
       "      <th>INCPCTLECAT</th>\n",
       "      <th>NINCPCTLECAT</th>\n",
       "      <th>INCQRTCAT</th>\n",
       "      <th>NINCQRTCAT</th>\n",
       "    </tr>\n",
       "  </thead>\n",
       "  <tbody>\n",
       "    <tr>\n",
       "      <th>20</th>\n",
       "      <td>5</td>\n",
       "      <td>51</td>\n",
       "      <td>7191.481109</td>\n",
       "      <td>2</td>\n",
       "      <td>19</td>\n",
       "      <td>1</td>\n",
       "      <td>8</td>\n",
       "      <td>2</td>\n",
       "      <td>1</td>\n",
       "      <td>0</td>\n",
       "      <td>...</td>\n",
       "      <td>1</td>\n",
       "      <td>3</td>\n",
       "      <td>1</td>\n",
       "      <td>2</td>\n",
       "      <td>1</td>\n",
       "      <td>2</td>\n",
       "      <td>5</td>\n",
       "      <td>4</td>\n",
       "      <td>2</td>\n",
       "      <td>2</td>\n",
       "    </tr>\n",
       "    <tr>\n",
       "      <th>21</th>\n",
       "      <td>5</td>\n",
       "      <td>52</td>\n",
       "      <td>7352.487205</td>\n",
       "      <td>2</td>\n",
       "      <td>19</td>\n",
       "      <td>1</td>\n",
       "      <td>8</td>\n",
       "      <td>2</td>\n",
       "      <td>1</td>\n",
       "      <td>0</td>\n",
       "      <td>...</td>\n",
       "      <td>1</td>\n",
       "      <td>3</td>\n",
       "      <td>1</td>\n",
       "      <td>2</td>\n",
       "      <td>1</td>\n",
       "      <td>2</td>\n",
       "      <td>5</td>\n",
       "      <td>4</td>\n",
       "      <td>2</td>\n",
       "      <td>2</td>\n",
       "    </tr>\n",
       "    <tr>\n",
       "      <th>22</th>\n",
       "      <td>5</td>\n",
       "      <td>53</td>\n",
       "      <td>7270.703541</td>\n",
       "      <td>2</td>\n",
       "      <td>19</td>\n",
       "      <td>1</td>\n",
       "      <td>8</td>\n",
       "      <td>2</td>\n",
       "      <td>1</td>\n",
       "      <td>0</td>\n",
       "      <td>...</td>\n",
       "      <td>1</td>\n",
       "      <td>3</td>\n",
       "      <td>1</td>\n",
       "      <td>3</td>\n",
       "      <td>1</td>\n",
       "      <td>2</td>\n",
       "      <td>5</td>\n",
       "      <td>5</td>\n",
       "      <td>2</td>\n",
       "      <td>2</td>\n",
       "    </tr>\n",
       "    <tr>\n",
       "      <th>23</th>\n",
       "      <td>5</td>\n",
       "      <td>54</td>\n",
       "      <td>7383.866597</td>\n",
       "      <td>2</td>\n",
       "      <td>19</td>\n",
       "      <td>1</td>\n",
       "      <td>8</td>\n",
       "      <td>2</td>\n",
       "      <td>1</td>\n",
       "      <td>0</td>\n",
       "      <td>...</td>\n",
       "      <td>1</td>\n",
       "      <td>3</td>\n",
       "      <td>1</td>\n",
       "      <td>3</td>\n",
       "      <td>1</td>\n",
       "      <td>2</td>\n",
       "      <td>5</td>\n",
       "      <td>5</td>\n",
       "      <td>2</td>\n",
       "      <td>2</td>\n",
       "    </tr>\n",
       "    <tr>\n",
       "      <th>24</th>\n",
       "      <td>5</td>\n",
       "      <td>55</td>\n",
       "      <td>7330.537669</td>\n",
       "      <td>2</td>\n",
       "      <td>19</td>\n",
       "      <td>1</td>\n",
       "      <td>8</td>\n",
       "      <td>2</td>\n",
       "      <td>1</td>\n",
       "      <td>0</td>\n",
       "      <td>...</td>\n",
       "      <td>1</td>\n",
       "      <td>3</td>\n",
       "      <td>1</td>\n",
       "      <td>2</td>\n",
       "      <td>1</td>\n",
       "      <td>2</td>\n",
       "      <td>5</td>\n",
       "      <td>4</td>\n",
       "      <td>2</td>\n",
       "      <td>2</td>\n",
       "    </tr>\n",
       "  </tbody>\n",
       "</table>\n",
       "<p>5 rows × 356 columns</p>\n",
       "</div>"
      ],
      "text/plain": [
       "    YY1  Y1          WGT  HHSEX  AGE  AGECL  EDUC  EDCL  MARRIED  KIDS  ...  \\\n",
       "20    5  51  7191.481109      2   19      1     8     2        1     0  ...   \n",
       "21    5  52  7352.487205      2   19      1     8     2        1     0  ...   \n",
       "22    5  53  7270.703541      2   19      1     8     2        1     0  ...   \n",
       "23    5  54  7383.866597      2   19      1     8     2        1     0  ...   \n",
       "24    5  55  7330.537669      2   19      1     8     2        1     0  ...   \n",
       "\n",
       "    NWCAT  INCCAT  ASSETCAT  NINCCAT  NINC2CAT  NWPCTLECAT  INCPCTLECAT  \\\n",
       "20      1       3         1        2         1           2            5   \n",
       "21      1       3         1        2         1           2            5   \n",
       "22      1       3         1        3         1           2            5   \n",
       "23      1       3         1        3         1           2            5   \n",
       "24      1       3         1        2         1           2            5   \n",
       "\n",
       "    NINCPCTLECAT  INCQRTCAT  NINCQRTCAT  \n",
       "20             4          2           2  \n",
       "21             4          2           2  \n",
       "22             5          2           2  \n",
       "23             5          2           2  \n",
       "24             4          2           2  \n",
       "\n",
       "[5 rows x 356 columns]"
      ]
     },
     "execution_count": 142,
     "metadata": {},
     "output_type": "execute_result"
    }
   ],
   "source": [
    "df = pd.read_csv(\"SCFP2022.csv\")\n",
    "mask = df[\"TURNFEAR\"] == 1\n",
    "df = df[mask]\n",
    "print(\"df shape\", df.shape)\n",
    "df.head()"
   ]
  },
  {
   "cell_type": "markdown",
   "id": "0817a161",
   "metadata": {},
   "source": [
    "## Using Jupyter_dash for creating app"
   ]
  },
  {
   "cell_type": "code",
   "execution_count": 143,
   "id": "a581111c",
   "metadata": {},
   "outputs": [
    {
     "name": "stderr",
     "output_type": "stream",
     "text": [
      "C:\\Users\\Vaibhav\\AppData\\Local\\anaconda3\\lib\\site-packages\\dash\\dash.py:538: UserWarning:\n",
      "\n",
      "JupyterDash is deprecated, use Dash instead.\n",
      "See https://dash.plotly.com/dash-in-jupyter for more details.\n",
      "\n"
     ]
    }
   ],
   "source": [
    "# assigning the app\n",
    "app = JupyterDash(__name__)"
   ]
  },
  {
   "cell_type": "markdown",
   "id": "521aa7fe",
   "metadata": {},
   "source": [
    "### Layout"
   ]
  },
  {
   "cell_type": "code",
   "execution_count": 144,
   "id": "ff645f46",
   "metadata": {},
   "outputs": [],
   "source": [
    "app.layout = html.Div(\n",
    "    [\n",
    "        html.H1(\"Survey of Consumer Finances\"),\n",
    "        html.H2(\"High Variance Features\"),\n",
    "        # Bar chart element\n",
    "        dcc.Graph(id=\"bar-chart\"),\n",
    "        dcc.RadioItems(\n",
    "            options=[\n",
    "                {\"label\":\"trimmed\", \"value\": True},\n",
    "                {\"label\":\"not trimmed\", \"value\": False}\n",
    "            ],\n",
    "            value=True,\n",
    "            id=\"trim-button\"\n",
    "        \n",
    "        ),\n",
    "        html.H2(\"K-means clustering\"),\n",
    "        html.H3(\"Number of clustering (k)\"),\n",
    "        dcc.Slider(min=2, max=12, step=1, value=2, id=\"k-slider\"),\n",
    "        html.Div(id =\"metrics\"),\n",
    "        dcc.Graph(id=\"pca-scatter\")\n",
    "    ]\n",
    "\n",
    ")"
   ]
  },
  {
   "cell_type": "markdown",
   "id": "183abb51",
   "metadata": {},
   "source": [
    "# 1. Variance "
   ]
  },
  {
   "cell_type": "markdown",
   "id": "34d47a85",
   "metadata": {},
   "source": [
    "### Business Layer"
   ]
  },
  {
   "cell_type": "code",
   "execution_count": 145,
   "id": "d352ec3c",
   "metadata": {},
   "outputs": [],
   "source": [
    "def get_high_var_features(trimmed=True, return_feat_names=True):\n",
    "\n",
    "    \"\"\"Returns the five highest-variance features of ``df``. \"\"\"\n",
    "    if trimmed:\n",
    "        top_five_features = (\n",
    "            df.apply(trimmed_var).sort_values().tail(5)\n",
    "        )\n",
    "    else:\n",
    "        top_five_features = df.var().sort_values().tail(5)\n",
    "    if return_feat_names:\n",
    "        top_five_features = top_five_features.index.tolist()\n",
    "    return top_five_features"
   ]
  },
  {
   "cell_type": "markdown",
   "id": "4b816563",
   "metadata": {},
   "source": [
    "### Service Layer"
   ]
  },
  {
   "cell_type": "code",
   "execution_count": 146,
   "id": "40c25196",
   "metadata": {},
   "outputs": [],
   "source": [
    "@app.callback(\n",
    "    Output(\"bar-chart\", \"figure\"), Input(\"trim-button\", \"value\")\n",
    ")\n",
    "def serve_bar_chart(trimmed=True):\n",
    "\n",
    "    \"\"\"Returns a horizontal bar chart of five highest-variance features.\"\"\"\n",
    "    top_five_features = get_high_var_features(trimmed=trimmed, return_feat_names=False)\n",
    "    \n",
    "    fig= px.bar(x=top_five_features, y=top_five_features.index, orientation=\"h\")\n",
    "    fig.update_layout(xaxis_title=\"Variance\", yaxis_title=\"Features\")\n",
    "    return fig"
   ]
  },
  {
   "cell_type": "markdown",
   "id": "94874ac8",
   "metadata": {},
   "source": [
    "# k-means Slider"
   ]
  },
  {
   "cell_type": "markdown",
   "id": "52b15b48",
   "metadata": {},
   "source": [
    "### Business Layer"
   ]
  },
  {
   "cell_type": "code",
   "execution_count": 147,
   "id": "edf02d7f",
   "metadata": {},
   "outputs": [],
   "source": [
    "def get_model_metrics(trimmed=True, k=2, return_metrics=False):\n",
    "\n",
    "    features = get_high_var_features(trimmed=trimmed, return_feat_names=True)\n",
    "    X = df[features]\n",
    "    model= make_pipeline(StandardScaler(), KMeans(n_clusters=k, n_init=10, random_state=42))\n",
    "    model.fit(X)\n",
    "    \n",
    "    if return_metrics:\n",
    "        i = model.named_steps[\"kmeans\"].inertia_\n",
    "        ss = silhouette_score(X, model.named_steps[\"kmeans\"].labels_)\n",
    "        metrics = {\n",
    "            \"inertia\": round(i),\n",
    "            \"silhouette\": round(ss, 3)\n",
    "        }\n",
    "        return metrics\n",
    "    return model"
   ]
  },
  {
   "cell_type": "markdown",
   "id": "492ed957",
   "metadata": {},
   "source": [
    "### Service Layer"
   ]
  },
  {
   "cell_type": "code",
   "execution_count": 148,
   "id": "fa424b5a",
   "metadata": {},
   "outputs": [],
   "source": [
    "@app.callback(\n",
    "    Output(\"metrics\", \"children\"),\n",
    "    Input(\"trim-button\", \"value\"),\n",
    "    Input(\"k-slider\", \"value\")\n",
    ")\n",
    "def serve_metrics(trimmed=True, k=2):\n",
    "\n",
    "    metrics = get_model_metrics(trimmed=trimmed, k = k, return_metrics=True)\n",
    "    text = [\n",
    "        html.H3(f\"Inertia: {metrics['inertia']}\"),\n",
    "        html.H3(f\"Silhouette Score: {metrics['silhouette']}\")\n",
    "    ]\n",
    "    return text"
   ]
  },
  {
   "cell_type": "markdown",
   "id": "0679a3d1",
   "metadata": {},
   "source": [
    "# PCA Scatter plot"
   ]
  },
  {
   "cell_type": "markdown",
   "id": "1828ed46",
   "metadata": {},
   "source": [
    "### Business Layer"
   ]
  },
  {
   "cell_type": "code",
   "execution_count": 149,
   "id": "461d4c5c",
   "metadata": {},
   "outputs": [],
   "source": [
    "def get_pca_labels(trimmed=True, k=2):\n",
    "\n",
    "    \"\"\"\n",
    "    ``KMeans`` labels.\n",
    "\n",
    "    Parameters\n",
    "    ----------\n",
    "    trimmed : bool, default=True\n",
    "        If ``True``, calculates trimmed variance, removing bottom and top 10%\n",
    "        of observations.\n",
    "\n",
    "    k : int, default=2\n",
    "        Number of clusters.\n",
    "    \"\"\"\n",
    "    features = get_high_var_features(trimmed=trimmed, return_feat_names=True)\n",
    "    X = df[features]\n",
    "    \n",
    "    transformer = PCA(n_components=2, random_state=42)\n",
    "    \n",
    "    X_t = transformer.fit_transform(X)\n",
    "    X_pca = pd.DataFrame(X_t, columns=[\"PC1\", \"PC2\"])\n",
    "    \n",
    "    model = get_model_metrics(trimmed=trimmed, k=k, return_metrics=False)\n",
    "    X_pca[\"labels\"] = model.named_steps[\"kmeans\"].labels_.astype(str)\n",
    "    X_pca.sort_values(\"labels\", inplace = True)\n",
    "    \n",
    "    return X_pca"
   ]
  },
  {
   "cell_type": "markdown",
   "id": "85163d44",
   "metadata": {},
   "source": [
    "### Service Layer"
   ]
  },
  {
   "cell_type": "code",
   "execution_count": 150,
   "id": "aacd39cb",
   "metadata": {},
   "outputs": [],
   "source": [
    "@app.callback(\n",
    "    Output(\"pca-scatter\", \"figure\"),\n",
    "    Input(\"trim-button\", \"value\"),\n",
    "    Input(\"k-slider\", \"value\")\n",
    ")\n",
    "def serve_scatter_plot(trimmed=True, k=2):\n",
    "\n",
    "    fig = px.scatter(\n",
    "        data_frame=get_pca_labels(trimmed=trimmed, k=k),\n",
    "        x=\"PC1\",\n",
    "        y=\"PC2\",\n",
    "        color=\"labels\",\n",
    "        title=\"PCA Representation of Clusters\"\n",
    "    )\n",
    "    fig.update_layout(xaxis_title=\"PC1\", yaxis_title=\"PC2\")\n",
    "    return fig"
   ]
  },
  {
   "cell_type": "code",
   "execution_count": 152,
   "id": "466e4674",
   "metadata": {
    "scrolled": false
   },
   "outputs": [
    {
     "name": "stdout",
     "output_type": "stream",
     "text": [
      "Dash app running on http://localhost:6001/\n"
     ]
    },
    {
     "data": {
      "text/html": [
       "\n",
       "        <iframe\n",
       "            width=\"100%\"\n",
       "            height=\"650\"\n",
       "            src=\"http://localhost:6001/\"\n",
       "            frameborder=\"0\"\n",
       "            allowfullscreen\n",
       "            \n",
       "        ></iframe>\n",
       "        "
      ],
      "text/plain": [
       "<IPython.lib.display.IFrame at 0x1dd282b64a0>"
      ]
     },
     "metadata": {},
     "output_type": "display_data"
    }
   ],
   "source": [
    "app.run_server(host=\"localhost\", port=6001)"
   ]
  },
  {
   "cell_type": "code",
   "execution_count": null,
   "id": "3d50e43f",
   "metadata": {},
   "outputs": [],
   "source": []
  }
 ],
 "metadata": {
  "kernelspec": {
   "display_name": "Python 3 (ipykernel)",
   "language": "python",
   "name": "python3"
  },
  "language_info": {
   "codemirror_mode": {
    "name": "ipython",
    "version": 3
   },
   "file_extension": ".py",
   "mimetype": "text/x-python",
   "name": "python",
   "nbconvert_exporter": "python",
   "pygments_lexer": "ipython3",
   "version": "3.10.9"
  }
 },
 "nbformat": 4,
 "nbformat_minor": 5
}
