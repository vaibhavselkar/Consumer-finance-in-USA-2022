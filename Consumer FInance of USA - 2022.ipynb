{
 "cells": [
  {
   "cell_type": "markdown",
   "id": "ccb28262",
   "metadata": {},
   "source": [
    "# Consumer Finances of USA - 2022"
   ]
  },
  {
   "cell_type": "markdown",
   "id": "fb643948",
   "metadata": {},
   "source": [
    "### Project Objective"
   ]
  },
  {
   "cell_type": "markdown",
   "id": "78ab21d6",
   "metadata": {},
   "source": [
    "Creating a **Unsupervised ML model**, utilize **K-means** clustering on USA consumer finance data to identify distinct financial clusters, specifically focusing on the credit-fearful group. Apply hyperparameter tuning for optimal cluster determination and employ PCA for enhanced visualization, aiming to provide actionable insights for credit risk assessment and financial management."
   ]
  },
  {
   "cell_type": "markdown",
   "id": "cb7633c2",
   "metadata": {},
   "source": [
    "### Data Source"
   ]
  },
  {
   "cell_type": "markdown",
   "id": "f5d8e7a3",
   "metadata": {},
   "source": [
    "The dataset used in this project is sourced from the Federal Reserve's Survey of Consumer Finances (SCF), accessible at https://www.federalreserve.gov/econres/scfindex.htm. The SCF is a comprehensive and authoritative survey capturing detailed information on the finances of U.S. households. "
   ]
  },
  {
   "cell_type": "markdown",
   "id": "023a04f5",
   "metadata": {},
   "source": [
    "### Demographics Information Source"
   ]
  },
  {
   "cell_type": "markdown",
   "id": "a8a60763",
   "metadata": {},
   "source": [
    "For detailed demographics information related to the dataset, the details are offered by the `SDA-University of Berkeley`. This link provides comprehensive insights into demographic variables, contributing to a more nuanced understanding of the population under consideration in the analysis. The source utilized is https://sda.berkeley.edu/sdaweb/docs/scfcomb2022/DOC/hcbk0001.htm. "
   ]
  },
  {
   "cell_type": "markdown",
   "id": "9174a0a8",
   "metadata": {},
   "source": [
    "# Reading and Importing Data"
   ]
  },
  {
   "cell_type": "code",
   "execution_count": 36,
   "id": "9b6448ea",
   "metadata": {},
   "outputs": [],
   "source": [
    "# Importing Libraries \n",
    "import pandas as pd\n",
    "import matplotlib.pyplot as plt\n",
    "import seaborn as sns\n",
    "import plotly.express as px\n",
    "\n",
    "from scipy.stats.mstats import trimmed_var\n",
    "from sklearn.cluster import KMeans\n",
    "from sklearn.decomposition import PCA\n",
    "from sklearn.metrics import silhouette_score\n",
    "from sklearn.pipeline import make_pipeline\n",
    "from sklearn.preprocessing import StandardScaler"
   ]
  },
  {
   "cell_type": "code",
   "execution_count": 6,
   "id": "65205aa2",
   "metadata": {},
   "outputs": [
    {
     "name": "stdout",
     "output_type": "stream",
     "text": [
      "df shape (22975, 356)\n"
     ]
    },
    {
     "data": {
      "text/html": [
       "<div>\n",
       "<style scoped>\n",
       "    .dataframe tbody tr th:only-of-type {\n",
       "        vertical-align: middle;\n",
       "    }\n",
       "\n",
       "    .dataframe tbody tr th {\n",
       "        vertical-align: top;\n",
       "    }\n",
       "\n",
       "    .dataframe thead th {\n",
       "        text-align: right;\n",
       "    }\n",
       "</style>\n",
       "<table border=\"1\" class=\"dataframe\">\n",
       "  <thead>\n",
       "    <tr style=\"text-align: right;\">\n",
       "      <th></th>\n",
       "      <th>YY1</th>\n",
       "      <th>Y1</th>\n",
       "      <th>WGT</th>\n",
       "      <th>HHSEX</th>\n",
       "      <th>AGE</th>\n",
       "      <th>AGECL</th>\n",
       "      <th>EDUC</th>\n",
       "      <th>EDCL</th>\n",
       "      <th>MARRIED</th>\n",
       "      <th>KIDS</th>\n",
       "      <th>...</th>\n",
       "      <th>NWCAT</th>\n",
       "      <th>INCCAT</th>\n",
       "      <th>ASSETCAT</th>\n",
       "      <th>NINCCAT</th>\n",
       "      <th>NINC2CAT</th>\n",
       "      <th>NWPCTLECAT</th>\n",
       "      <th>INCPCTLECAT</th>\n",
       "      <th>NINCPCTLECAT</th>\n",
       "      <th>INCQRTCAT</th>\n",
       "      <th>NINCQRTCAT</th>\n",
       "    </tr>\n",
       "  </thead>\n",
       "  <tbody>\n",
       "    <tr>\n",
       "      <th>0</th>\n",
       "      <td>1</td>\n",
       "      <td>11</td>\n",
       "      <td>3027.956120</td>\n",
       "      <td>2</td>\n",
       "      <td>70</td>\n",
       "      <td>5</td>\n",
       "      <td>9</td>\n",
       "      <td>3</td>\n",
       "      <td>2</td>\n",
       "      <td>2</td>\n",
       "      <td>...</td>\n",
       "      <td>4</td>\n",
       "      <td>2</td>\n",
       "      <td>4</td>\n",
       "      <td>2</td>\n",
       "      <td>1</td>\n",
       "      <td>8</td>\n",
       "      <td>3</td>\n",
       "      <td>3</td>\n",
       "      <td>2</td>\n",
       "      <td>1</td>\n",
       "    </tr>\n",
       "    <tr>\n",
       "      <th>1</th>\n",
       "      <td>1</td>\n",
       "      <td>12</td>\n",
       "      <td>3054.900065</td>\n",
       "      <td>2</td>\n",
       "      <td>70</td>\n",
       "      <td>5</td>\n",
       "      <td>9</td>\n",
       "      <td>3</td>\n",
       "      <td>2</td>\n",
       "      <td>2</td>\n",
       "      <td>...</td>\n",
       "      <td>4</td>\n",
       "      <td>2</td>\n",
       "      <td>5</td>\n",
       "      <td>2</td>\n",
       "      <td>1</td>\n",
       "      <td>8</td>\n",
       "      <td>3</td>\n",
       "      <td>3</td>\n",
       "      <td>2</td>\n",
       "      <td>1</td>\n",
       "    </tr>\n",
       "    <tr>\n",
       "      <th>2</th>\n",
       "      <td>1</td>\n",
       "      <td>13</td>\n",
       "      <td>3163.637766</td>\n",
       "      <td>2</td>\n",
       "      <td>70</td>\n",
       "      <td>5</td>\n",
       "      <td>9</td>\n",
       "      <td>3</td>\n",
       "      <td>2</td>\n",
       "      <td>2</td>\n",
       "      <td>...</td>\n",
       "      <td>4</td>\n",
       "      <td>2</td>\n",
       "      <td>4</td>\n",
       "      <td>2</td>\n",
       "      <td>1</td>\n",
       "      <td>8</td>\n",
       "      <td>3</td>\n",
       "      <td>3</td>\n",
       "      <td>1</td>\n",
       "      <td>1</td>\n",
       "    </tr>\n",
       "    <tr>\n",
       "      <th>3</th>\n",
       "      <td>1</td>\n",
       "      <td>14</td>\n",
       "      <td>3166.228463</td>\n",
       "      <td>2</td>\n",
       "      <td>70</td>\n",
       "      <td>5</td>\n",
       "      <td>9</td>\n",
       "      <td>3</td>\n",
       "      <td>2</td>\n",
       "      <td>2</td>\n",
       "      <td>...</td>\n",
       "      <td>3</td>\n",
       "      <td>2</td>\n",
       "      <td>4</td>\n",
       "      <td>1</td>\n",
       "      <td>1</td>\n",
       "      <td>6</td>\n",
       "      <td>3</td>\n",
       "      <td>2</td>\n",
       "      <td>1</td>\n",
       "      <td>1</td>\n",
       "    </tr>\n",
       "    <tr>\n",
       "      <th>4</th>\n",
       "      <td>1</td>\n",
       "      <td>15</td>\n",
       "      <td>3235.624715</td>\n",
       "      <td>2</td>\n",
       "      <td>70</td>\n",
       "      <td>5</td>\n",
       "      <td>9</td>\n",
       "      <td>3</td>\n",
       "      <td>2</td>\n",
       "      <td>2</td>\n",
       "      <td>...</td>\n",
       "      <td>3</td>\n",
       "      <td>2</td>\n",
       "      <td>4</td>\n",
       "      <td>2</td>\n",
       "      <td>1</td>\n",
       "      <td>8</td>\n",
       "      <td>3</td>\n",
       "      <td>3</td>\n",
       "      <td>1</td>\n",
       "      <td>1</td>\n",
       "    </tr>\n",
       "  </tbody>\n",
       "</table>\n",
       "<p>5 rows × 356 columns</p>\n",
       "</div>"
      ],
      "text/plain": [
       "   YY1  Y1          WGT  HHSEX  AGE  AGECL  EDUC  EDCL  MARRIED  KIDS  ...  \\\n",
       "0    1  11  3027.956120      2   70      5     9     3        2     2  ...   \n",
       "1    1  12  3054.900065      2   70      5     9     3        2     2  ...   \n",
       "2    1  13  3163.637766      2   70      5     9     3        2     2  ...   \n",
       "3    1  14  3166.228463      2   70      5     9     3        2     2  ...   \n",
       "4    1  15  3235.624715      2   70      5     9     3        2     2  ...   \n",
       "\n",
       "   NWCAT  INCCAT  ASSETCAT  NINCCAT  NINC2CAT  NWPCTLECAT  INCPCTLECAT  \\\n",
       "0      4       2         4        2         1           8            3   \n",
       "1      4       2         5        2         1           8            3   \n",
       "2      4       2         4        2         1           8            3   \n",
       "3      3       2         4        1         1           6            3   \n",
       "4      3       2         4        2         1           8            3   \n",
       "\n",
       "   NINCPCTLECAT  INCQRTCAT  NINCQRTCAT  \n",
       "0             3          2           1  \n",
       "1             3          2           1  \n",
       "2             3          1           1  \n",
       "3             2          1           1  \n",
       "4             3          1           1  \n",
       "\n",
       "[5 rows x 356 columns]"
      ]
     },
     "execution_count": 6,
     "metadata": {},
     "output_type": "execute_result"
    }
   ],
   "source": [
    "# Reading the data from csv\n",
    "df = pd.read_csv(\"SCFP2022.csv\")\n",
    "print(\"df shape\", df.shape)\n",
    "df.head()"
   ]
  },
  {
   "cell_type": "markdown",
   "id": "870246e5",
   "metadata": {},
   "source": [
    "The dataset is huge with 22975 rows and 365 columns"
   ]
  },
  {
   "cell_type": "markdown",
   "id": "904d1660",
   "metadata": {},
   "source": [
    "**In this Project our main focus will be on `TURNFEAR`**"
   ]
  },
  {
   "cell_type": "markdown",
   "id": "7cc969a6",
   "metadata": {},
   "source": [
    "<img src=\"image/Turnfear.png\"/>"
   ]
  },
  {
   "cell_type": "code",
   "execution_count": 7,
   "id": "822e4204",
   "metadata": {},
   "outputs": [
    {
     "name": "stdout",
     "output_type": "stream",
     "text": [
      "df_fear shape (3839, 356)\n"
     ]
    },
    {
     "data": {
      "text/html": [
       "<div>\n",
       "<style scoped>\n",
       "    .dataframe tbody tr th:only-of-type {\n",
       "        vertical-align: middle;\n",
       "    }\n",
       "\n",
       "    .dataframe tbody tr th {\n",
       "        vertical-align: top;\n",
       "    }\n",
       "\n",
       "    .dataframe thead th {\n",
       "        text-align: right;\n",
       "    }\n",
       "</style>\n",
       "<table border=\"1\" class=\"dataframe\">\n",
       "  <thead>\n",
       "    <tr style=\"text-align: right;\">\n",
       "      <th></th>\n",
       "      <th>YY1</th>\n",
       "      <th>Y1</th>\n",
       "      <th>WGT</th>\n",
       "      <th>HHSEX</th>\n",
       "      <th>AGE</th>\n",
       "      <th>AGECL</th>\n",
       "      <th>EDUC</th>\n",
       "      <th>EDCL</th>\n",
       "      <th>MARRIED</th>\n",
       "      <th>KIDS</th>\n",
       "      <th>...</th>\n",
       "      <th>NWCAT</th>\n",
       "      <th>INCCAT</th>\n",
       "      <th>ASSETCAT</th>\n",
       "      <th>NINCCAT</th>\n",
       "      <th>NINC2CAT</th>\n",
       "      <th>NWPCTLECAT</th>\n",
       "      <th>INCPCTLECAT</th>\n",
       "      <th>NINCPCTLECAT</th>\n",
       "      <th>INCQRTCAT</th>\n",
       "      <th>NINCQRTCAT</th>\n",
       "    </tr>\n",
       "  </thead>\n",
       "  <tbody>\n",
       "    <tr>\n",
       "      <th>0</th>\n",
       "      <td>1</td>\n",
       "      <td>11</td>\n",
       "      <td>3027.956120</td>\n",
       "      <td>2</td>\n",
       "      <td>70</td>\n",
       "      <td>5</td>\n",
       "      <td>9</td>\n",
       "      <td>3</td>\n",
       "      <td>2</td>\n",
       "      <td>2</td>\n",
       "      <td>...</td>\n",
       "      <td>4</td>\n",
       "      <td>2</td>\n",
       "      <td>4</td>\n",
       "      <td>2</td>\n",
       "      <td>1</td>\n",
       "      <td>8</td>\n",
       "      <td>3</td>\n",
       "      <td>3</td>\n",
       "      <td>2</td>\n",
       "      <td>1</td>\n",
       "    </tr>\n",
       "    <tr>\n",
       "      <th>1</th>\n",
       "      <td>1</td>\n",
       "      <td>12</td>\n",
       "      <td>3054.900065</td>\n",
       "      <td>2</td>\n",
       "      <td>70</td>\n",
       "      <td>5</td>\n",
       "      <td>9</td>\n",
       "      <td>3</td>\n",
       "      <td>2</td>\n",
       "      <td>2</td>\n",
       "      <td>...</td>\n",
       "      <td>4</td>\n",
       "      <td>2</td>\n",
       "      <td>5</td>\n",
       "      <td>2</td>\n",
       "      <td>1</td>\n",
       "      <td>8</td>\n",
       "      <td>3</td>\n",
       "      <td>3</td>\n",
       "      <td>2</td>\n",
       "      <td>1</td>\n",
       "    </tr>\n",
       "    <tr>\n",
       "      <th>2</th>\n",
       "      <td>1</td>\n",
       "      <td>13</td>\n",
       "      <td>3163.637766</td>\n",
       "      <td>2</td>\n",
       "      <td>70</td>\n",
       "      <td>5</td>\n",
       "      <td>9</td>\n",
       "      <td>3</td>\n",
       "      <td>2</td>\n",
       "      <td>2</td>\n",
       "      <td>...</td>\n",
       "      <td>4</td>\n",
       "      <td>2</td>\n",
       "      <td>4</td>\n",
       "      <td>2</td>\n",
       "      <td>1</td>\n",
       "      <td>8</td>\n",
       "      <td>3</td>\n",
       "      <td>3</td>\n",
       "      <td>1</td>\n",
       "      <td>1</td>\n",
       "    </tr>\n",
       "    <tr>\n",
       "      <th>3</th>\n",
       "      <td>1</td>\n",
       "      <td>14</td>\n",
       "      <td>3166.228463</td>\n",
       "      <td>2</td>\n",
       "      <td>70</td>\n",
       "      <td>5</td>\n",
       "      <td>9</td>\n",
       "      <td>3</td>\n",
       "      <td>2</td>\n",
       "      <td>2</td>\n",
       "      <td>...</td>\n",
       "      <td>3</td>\n",
       "      <td>2</td>\n",
       "      <td>4</td>\n",
       "      <td>1</td>\n",
       "      <td>1</td>\n",
       "      <td>6</td>\n",
       "      <td>3</td>\n",
       "      <td>2</td>\n",
       "      <td>1</td>\n",
       "      <td>1</td>\n",
       "    </tr>\n",
       "    <tr>\n",
       "      <th>4</th>\n",
       "      <td>1</td>\n",
       "      <td>15</td>\n",
       "      <td>3235.624715</td>\n",
       "      <td>2</td>\n",
       "      <td>70</td>\n",
       "      <td>5</td>\n",
       "      <td>9</td>\n",
       "      <td>3</td>\n",
       "      <td>2</td>\n",
       "      <td>2</td>\n",
       "      <td>...</td>\n",
       "      <td>3</td>\n",
       "      <td>2</td>\n",
       "      <td>4</td>\n",
       "      <td>2</td>\n",
       "      <td>1</td>\n",
       "      <td>8</td>\n",
       "      <td>3</td>\n",
       "      <td>3</td>\n",
       "      <td>1</td>\n",
       "      <td>1</td>\n",
       "    </tr>\n",
       "  </tbody>\n",
       "</table>\n",
       "<p>5 rows × 356 columns</p>\n",
       "</div>"
      ],
      "text/plain": [
       "   YY1  Y1          WGT  HHSEX  AGE  AGECL  EDUC  EDCL  MARRIED  KIDS  ...  \\\n",
       "0    1  11  3027.956120      2   70      5     9     3        2     2  ...   \n",
       "1    1  12  3054.900065      2   70      5     9     3        2     2  ...   \n",
       "2    1  13  3163.637766      2   70      5     9     3        2     2  ...   \n",
       "3    1  14  3166.228463      2   70      5     9     3        2     2  ...   \n",
       "4    1  15  3235.624715      2   70      5     9     3        2     2  ...   \n",
       "\n",
       "   NWCAT  INCCAT  ASSETCAT  NINCCAT  NINC2CAT  NWPCTLECAT  INCPCTLECAT  \\\n",
       "0      4       2         4        2         1           8            3   \n",
       "1      4       2         5        2         1           8            3   \n",
       "2      4       2         4        2         1           8            3   \n",
       "3      3       2         4        1         1           6            3   \n",
       "4      3       2         4        2         1           8            3   \n",
       "\n",
       "   NINCPCTLECAT  INCQRTCAT  NINCQRTCAT  \n",
       "0             3          2           1  \n",
       "1             3          2           1  \n",
       "2             3          1           1  \n",
       "3             2          1           1  \n",
       "4             3          1           1  \n",
       "\n",
       "[5 rows x 356 columns]"
      ]
     },
     "execution_count": 7,
     "metadata": {},
     "output_type": "execute_result"
    }
   ],
   "source": [
    "# Creating a subset of 'TURNFEAR' is 1\n",
    "mask = df[\"TURNFEAR\"] == 1\n",
    "df_fear = df[mask]\n",
    "print(\"df_fear shape\", df_fear.shape)\n",
    "df.head()"
   ]
  },
  {
   "cell_type": "markdown",
   "id": "e6f7718d",
   "metadata": {},
   "source": [
    "Now the data is ready to explore with 3839 rows and 356 columns"
   ]
  },
  {
   "cell_type": "markdown",
   "id": "3b219301",
   "metadata": {},
   "source": [
    "# Exploring Data"
   ]
  },
  {
   "cell_type": "markdown",
   "id": "0bee2f34",
   "metadata": {},
   "source": [
    "## AGE"
   ]
  },
  {
   "cell_type": "markdown",
   "id": "4b26642a",
   "metadata": {},
   "source": [
    "<img src=\"image/Agecl.png\"/>"
   ]
  },
  {
   "cell_type": "code",
   "execution_count": 8,
   "id": "84508a35",
   "metadata": {},
   "outputs": [
    {
     "data": {
      "text/plain": [
       "20    Under 35\n",
       "21    Under 35\n",
       "22    Under 35\n",
       "23    Under 35\n",
       "24    Under 35\n",
       "Name: AGECL, dtype: object"
      ]
     },
     "execution_count": 8,
     "metadata": {},
     "output_type": "execute_result"
    }
   ],
   "source": [
    "# Changing the age-group into readable format\n",
    "agecl_dict = {\n",
    "    1: \"Under 35\",\n",
    "    2: \"35-44\",\n",
    "    3: \"45-54\",\n",
    "    4: \"55-64\",\n",
    "    5: \"65-74\",\n",
    "    6: \"75 or Older\",\n",
    "}\n",
    "\n",
    "age_cl = df_fear[\"AGECL\"].replace(agecl_dict)\n",
    "age_cl.head()"
   ]
  },
  {
   "cell_type": "markdown",
   "id": "3f464bf0",
   "metadata": {},
   "source": [
    "**Now Lets see the distribution of Age group**"
   ]
  },
  {
   "cell_type": "code",
   "execution_count": 9,
   "id": "2d190fc6",
   "metadata": {},
   "outputs": [
    {
     "data": {
      "image/png": "[encoded data removed]",
      "text/plain": [
       "<Figure size 640x480 with 1 Axes>"
      ]
     },
     "metadata": {},
     "output_type": "display_data"
    }
   ],
   "source": [
    "# distribution of age\n",
    "age_cl_value_counts = age_cl.value_counts()\n",
    "\n",
    "# Bar plot of `age_cl_value_counts`\n",
    "age_cl_value_counts.plot(kind=\"bar\",\n",
    "                        xlabel=\"Age Group\",\n",
    "                        ylabel=\"Frequency (count)\",\n",
    "                        title=\"Credit Fearful: Age Groups\");"
   ]
  },
  {
   "cell_type": "markdown",
   "id": "b9e7c1d1",
   "metadata": {},
   "source": [
    "* Observation: the count is in increasing order except '35-44' and 'Under 35' but showing similar count"
   ]
  },
  {
   "cell_type": "markdown",
   "id": "256193c0",
   "metadata": {},
   "source": [
    "**Now we can see what perticular Age is affraid of Credit**"
   ]
  },
  {
   "cell_type": "code",
   "execution_count": 10,
   "id": "94106cdf",
   "metadata": {},
   "outputs": [
    {
     "data": {
      "image/png": "[encoded data removed]",
      "text/plain": [
       "<Figure size 640x480 with 1 Axes>"
      ]
     },
     "metadata": {},
     "output_type": "display_data"
    }
   ],
   "source": [
    "# Plot histogram of \"AGE\"\n",
    "df_fear[\"AGE\"].hist(bins=10)\n",
    "plt.xlabel(\"Age\")\n",
    "plt.ylabel(\"Frequency (count)\")\n",
    "plt.title(\"Credit Fearful: Age Distribution\");"
   ]
  },
  {
   "cell_type": "markdown",
   "id": "9bc0c404",
   "metadata": {},
   "source": [
    "* Observation: From age group was showing that the main group was under 44, but the main Age Group is in 25 to 60"
   ]
  },
  {
   "cell_type": "markdown",
   "id": "7d47117f",
   "metadata": {},
   "source": [
    "## RACE"
   ]
  },
  {
   "cell_type": "markdown",
   "id": "c6a04e94",
   "metadata": {},
   "source": [
    "<img src=\"image/Race.png\"/>"
   ]
  },
  {
   "cell_type": "code",
   "execution_count": 11,
   "id": "4970ee70",
   "metadata": {},
   "outputs": [],
   "source": [
    "# Changing into understandable form\n",
    "race_dict = {\n",
    "    1: \"White/Non-Hispanic\",\n",
    "    2: \"Black/African-American\",\n",
    "    3: \"Hispanic\",\n",
    "    5: \"Other\",\n",
    "}\n",
    "race = df_fear[\"RACE\"].replace(race_dict)"
   ]
  },
  {
   "cell_type": "code",
   "execution_count": 12,
   "id": "982e35d0",
   "metadata": {},
   "outputs": [
    {
     "data": {
      "image/png": "[encoded data removed]",
      "text/plain": [
       "<Figure size 800x600 with 1 Axes>"
      ]
     },
     "metadata": {},
     "output_type": "display_data"
    }
   ],
   "source": [
    "# How lets see the distribution of 'race'\n",
    "race_value_counts = race.value_counts(normalize=True)\n",
    "# Create bar chart of race_value_counts\n",
    "plt.figure(figsize=(8, 6))\n",
    "race_value_counts.plot(kind=\"barh\")\n",
    "plt.xlim((0, 1))\n",
    "plt.xlabel(\"Frequency (%)\")\n",
    "plt.ylabel(\"Race\")\n",
    "plt.title(\"Credit Fearful: Racial Groups\");"
   ]
  },
  {
   "cell_type": "markdown",
   "id": "b7666f23",
   "metadata": {},
   "source": [
    "* Observation - most non-Hispanic people are fearfull of credit"
   ]
  },
  {
   "cell_type": "code",
   "execution_count": 13,
   "id": "d180e83d",
   "metadata": {},
   "outputs": [
    {
     "data": {
      "image/png": "[encoded data removed]",
      "text/plain": [
       "<Figure size 640x480 with 1 Axes>"
      ]
     },
     "metadata": {},
     "output_type": "display_data"
    }
   ],
   "source": [
    "# Lets compare the data with actual data\n",
    "race = df[\"RACE\"].replace(race_dict)\n",
    "race_value_counts = race.value_counts(normalize=True)\n",
    "# Create bar chart of race_value_counts\n",
    "race_value_counts.plot(kind=\"barh\")\n",
    "plt.xlim((0, 1))\n",
    "plt.xlabel(\"Frequency (%)\")\n",
    "plt.ylabel(\"Race\")\n",
    "plt.title(\"SCF Respondents: Racial Groups\");"
   ]
  },
  {
   "cell_type": "markdown",
   "id": "bc4c44d7",
   "metadata": {},
   "source": [
    "* Observation: \n",
    "1. White/Non-Hispanic are in majority of population and simulatinous it's not affected by fearful or not feared by credit. \n",
    "2. On otherside the american and hispanic were more than 20% in feared group but in the actual population is less than and 20%  which shows that the black/african-american and Hispanic were mostly affected by the Credit fear."
   ]
  },
  {
   "cell_type": "markdown",
   "id": "944c4833",
   "metadata": {},
   "source": [
    "## INCOME"
   ]
  },
  {
   "cell_type": "markdown",
   "id": "70325011",
   "metadata": {},
   "source": [
    "<img src=\"image/Income.png\"/>"
   ]
  },
  {
   "cell_type": "markdown",
   "id": "9f735523",
   "metadata": {},
   "source": [
    "Creating a side by side graph of income group and Credit fearful group"
   ]
  },
  {
   "cell_type": "code",
   "execution_count": 15,
   "id": "3d6a4e1b",
   "metadata": {},
   "outputs": [
    {
     "data": {
      "text/html": [
       "<div>\n",
       "<style scoped>\n",
       "    .dataframe tbody tr th:only-of-type {\n",
       "        vertical-align: middle;\n",
       "    }\n",
       "\n",
       "    .dataframe tbody tr th {\n",
       "        vertical-align: top;\n",
       "    }\n",
       "\n",
       "    .dataframe thead th {\n",
       "        text-align: right;\n",
       "    }\n",
       "</style>\n",
       "<table border=\"1\" class=\"dataframe\">\n",
       "  <thead>\n",
       "    <tr style=\"text-align: right;\">\n",
       "      <th></th>\n",
       "      <th>TURNFEAR</th>\n",
       "      <th>INCCAT</th>\n",
       "      <th>Frequency</th>\n",
       "    </tr>\n",
       "  </thead>\n",
       "  <tbody>\n",
       "    <tr>\n",
       "      <th>0</th>\n",
       "      <td>0</td>\n",
       "      <td>90-100</td>\n",
       "      <td>0.303982</td>\n",
       "    </tr>\n",
       "    <tr>\n",
       "      <th>1</th>\n",
       "      <td>0</td>\n",
       "      <td>60-79.9</td>\n",
       "      <td>0.162312</td>\n",
       "    </tr>\n",
       "    <tr>\n",
       "      <th>2</th>\n",
       "      <td>0</td>\n",
       "      <td>40-59.9</td>\n",
       "      <td>0.144492</td>\n",
       "    </tr>\n",
       "    <tr>\n",
       "      <th>3</th>\n",
       "      <td>0</td>\n",
       "      <td>0-20</td>\n",
       "      <td>0.140050</td>\n",
       "    </tr>\n",
       "    <tr>\n",
       "      <th>4</th>\n",
       "      <td>0</td>\n",
       "      <td>21-39.9</td>\n",
       "      <td>0.139162</td>\n",
       "    </tr>\n",
       "    <tr>\n",
       "      <th>5</th>\n",
       "      <td>0</td>\n",
       "      <td>80-89.9</td>\n",
       "      <td>0.110002</td>\n",
       "    </tr>\n",
       "    <tr>\n",
       "      <th>6</th>\n",
       "      <td>1</td>\n",
       "      <td>0-20</td>\n",
       "      <td>0.340714</td>\n",
       "    </tr>\n",
       "    <tr>\n",
       "      <th>7</th>\n",
       "      <td>1</td>\n",
       "      <td>21-39.9</td>\n",
       "      <td>0.266476</td>\n",
       "    </tr>\n",
       "    <tr>\n",
       "      <th>8</th>\n",
       "      <td>1</td>\n",
       "      <td>40-59.9</td>\n",
       "      <td>0.205001</td>\n",
       "    </tr>\n",
       "    <tr>\n",
       "      <th>9</th>\n",
       "      <td>1</td>\n",
       "      <td>60-79.9</td>\n",
       "      <td>0.112529</td>\n",
       "    </tr>\n",
       "    <tr>\n",
       "      <th>10</th>\n",
       "      <td>1</td>\n",
       "      <td>80-89.9</td>\n",
       "      <td>0.041417</td>\n",
       "    </tr>\n",
       "    <tr>\n",
       "      <th>11</th>\n",
       "      <td>1</td>\n",
       "      <td>90-100</td>\n",
       "      <td>0.033863</td>\n",
       "    </tr>\n",
       "  </tbody>\n",
       "</table>\n",
       "</div>"
      ],
      "text/plain": [
       "    TURNFEAR   INCCAT  Frequency\n",
       "0          0   90-100   0.303982\n",
       "1          0  60-79.9   0.162312\n",
       "2          0  40-59.9   0.144492\n",
       "3          0     0-20   0.140050\n",
       "4          0  21-39.9   0.139162\n",
       "5          0  80-89.9   0.110002\n",
       "6          1     0-20   0.340714\n",
       "7          1  21-39.9   0.266476\n",
       "8          1  40-59.9   0.205001\n",
       "9          1  60-79.9   0.112529\n",
       "10         1  80-89.9   0.041417\n",
       "11         1   90-100   0.033863"
      ]
     },
     "execution_count": 15,
     "metadata": {},
     "output_type": "execute_result"
    }
   ],
   "source": [
    "# making a dataframe of turnfear, and frequency by income group\n",
    "inccat_dict = {\n",
    "    1: \"0-20\",\n",
    "    2: \"21-39.9\",\n",
    "    3: \"40-59.9\",\n",
    "    4: \"60-79.9\",\n",
    "    5: \"80-89.9\",\n",
    "    6: \"90-100\",\n",
    "}\n",
    "\n",
    "df_inccat = (\n",
    "    df[\"INCCAT\"]\n",
    "    .replace(inccat_dict)\n",
    "    .groupby(df[\"TURNFEAR\"])\n",
    "    .value_counts(normalize=True)\n",
    "    .rename(\"Frequency\")\n",
    "    .to_frame()\n",
    "    .reset_index()\n",
    ")\n",
    "df_inccat"
   ]
  },
  {
   "cell_type": "code",
   "execution_count": 18,
   "id": "79d10f30",
   "metadata": {},
   "outputs": [
    {
     "data": {
      "image/png": "[encoded data removed]",
      "text/plain": [
       "<Figure size 640x480 with 1 Axes>"
      ]
     },
     "metadata": {},
     "output_type": "display_data"
    }
   ],
   "source": [
    "# PLot of dataframe\n",
    "sns.barplot(\n",
    "    x=\"INCCAT\",\n",
    "    y=\"Frequency\",\n",
    "    hue=\"TURNFEAR\",\n",
    "    data=df_inccat,\n",
    "    order=inccat_dict.values()\n",
    "    \n",
    ")\n",
    "plt.xlabel(\"Income Category\")\n",
    "plt.ylabel(\"Frequency (%)\")\n",
    "plt.title(\"Income Distribution: Credit Fearful vs. Non-fearful\");"
   ]
  },
  {
   "cell_type": "markdown",
   "id": "6c6937d2",
   "metadata": {},
   "source": [
    "* Observations: Income showing a clear trend as income increases the credit fearful frequqncy is decreasing"
   ]
  },
  {
   "cell_type": "markdown",
   "id": "9dd6329f",
   "metadata": {},
   "source": [
    "## ASSETS"
   ]
  },
  {
   "cell_type": "markdown",
   "id": "5529be42",
   "metadata": {},
   "source": [
    "**Lets compare the correlation of Assets and house price of credit fearful and whole dataset.**"
   ]
  },
  {
   "cell_type": "code",
   "execution_count": 20,
   "id": "475645ec",
   "metadata": {},
   "outputs": [
    {
     "name": "stdout",
     "output_type": "stream",
     "text": [
      "Asset Houses Correlation: 0.5617765465095474\n"
     ]
    }
   ],
   "source": [
    "# firstly correlate assets and house price of whole population\n",
    "asset_house_corr = df[\"ASSET\"].corr(df[\"HOUSES\"])\n",
    "print(\"Asset Houses Correlation:\", asset_house_corr)"
   ]
  },
  {
   "cell_type": "code",
   "execution_count": 21,
   "id": "3064955b",
   "metadata": {},
   "outputs": [
    {
     "name": "stdout",
     "output_type": "stream",
     "text": [
      "Credit fearful: Asset Houses Correlation: 0.36495454276411665\n"
     ]
    }
   ],
   "source": [
    "#Now credit fearful group\n",
    "asset_house_corr = df_fear[\"ASSET\"].corr(df_fear[\"HOUSES\"])\n",
    "print(\"Credit fearful: Asset Houses Correlation:\", asset_house_corr)"
   ]
  },
  {
   "cell_type": "markdown",
   "id": "24363d4f",
   "metadata": {},
   "source": [
    "* Observation: The credit fearful group showing that their asset not mainly in their house price"
   ]
  },
  {
   "cell_type": "markdown",
   "id": "72b76798",
   "metadata": {},
   "source": [
    "## Education"
   ]
  },
  {
   "cell_type": "markdown",
   "id": "ead85d21",
   "metadata": {},
   "source": [
    "<img src=\"image/Educ.png\"/>"
   ]
  },
  {
   "cell_type": "code",
   "execution_count": 24,
   "id": "981d40c2",
   "metadata": {},
   "outputs": [
    {
     "data": {
      "text/html": [
       "<div>\n",
       "<style scoped>\n",
       "    .dataframe tbody tr th:only-of-type {\n",
       "        vertical-align: middle;\n",
       "    }\n",
       "\n",
       "    .dataframe tbody tr th {\n",
       "        vertical-align: top;\n",
       "    }\n",
       "\n",
       "    .dataframe thead th {\n",
       "        text-align: right;\n",
       "    }\n",
       "</style>\n",
       "<table border=\"1\" class=\"dataframe\">\n",
       "  <thead>\n",
       "    <tr style=\"text-align: right;\">\n",
       "      <th></th>\n",
       "      <th>TURNFEAR</th>\n",
       "      <th>EDUC</th>\n",
       "      <th>Frequency</th>\n",
       "    </tr>\n",
       "  </thead>\n",
       "  <tbody>\n",
       "    <tr>\n",
       "      <th>0</th>\n",
       "      <td>0</td>\n",
       "      <td>12</td>\n",
       "      <td>0.278689</td>\n",
       "    </tr>\n",
       "    <tr>\n",
       "      <th>1</th>\n",
       "      <td>0</td>\n",
       "      <td>8</td>\n",
       "      <td>0.174383</td>\n",
       "    </tr>\n",
       "    <tr>\n",
       "      <th>2</th>\n",
       "      <td>0</td>\n",
       "      <td>13</td>\n",
       "      <td>0.158967</td>\n",
       "    </tr>\n",
       "    <tr>\n",
       "      <th>3</th>\n",
       "      <td>0</td>\n",
       "      <td>9</td>\n",
       "      <td>0.111727</td>\n",
       "    </tr>\n",
       "    <tr>\n",
       "      <th>4</th>\n",
       "      <td>0</td>\n",
       "      <td>14</td>\n",
       "      <td>0.108539</td>\n",
       "    </tr>\n",
       "    <tr>\n",
       "      <th>5</th>\n",
       "      <td>0</td>\n",
       "      <td>10</td>\n",
       "      <td>0.049122</td>\n",
       "    </tr>\n",
       "    <tr>\n",
       "      <th>6</th>\n",
       "      <td>0</td>\n",
       "      <td>11</td>\n",
       "      <td>0.041283</td>\n",
       "    </tr>\n",
       "    <tr>\n",
       "      <th>7</th>\n",
       "      <td>0</td>\n",
       "      <td>7</td>\n",
       "      <td>0.016722</td>\n",
       "    </tr>\n",
       "    <tr>\n",
       "      <th>8</th>\n",
       "      <td>0</td>\n",
       "      <td>6</td>\n",
       "      <td>0.012176</td>\n",
       "    </tr>\n",
       "    <tr>\n",
       "      <th>9</th>\n",
       "      <td>0</td>\n",
       "      <td>4</td>\n",
       "      <td>0.010974</td>\n",
       "    </tr>\n",
       "    <tr>\n",
       "      <th>10</th>\n",
       "      <td>0</td>\n",
       "      <td>5</td>\n",
       "      <td>0.010347</td>\n",
       "    </tr>\n",
       "    <tr>\n",
       "      <th>11</th>\n",
       "      <td>0</td>\n",
       "      <td>2</td>\n",
       "      <td>0.010190</td>\n",
       "    </tr>\n",
       "    <tr>\n",
       "      <th>12</th>\n",
       "      <td>0</td>\n",
       "      <td>3</td>\n",
       "      <td>0.008884</td>\n",
       "    </tr>\n",
       "    <tr>\n",
       "      <th>13</th>\n",
       "      <td>0</td>\n",
       "      <td>1</td>\n",
       "      <td>0.005383</td>\n",
       "    </tr>\n",
       "    <tr>\n",
       "      <th>14</th>\n",
       "      <td>0</td>\n",
       "      <td>-1</td>\n",
       "      <td>0.002613</td>\n",
       "    </tr>\n",
       "    <tr>\n",
       "      <th>15</th>\n",
       "      <td>1</td>\n",
       "      <td>8</td>\n",
       "      <td>0.308674</td>\n",
       "    </tr>\n",
       "    <tr>\n",
       "      <th>16</th>\n",
       "      <td>1</td>\n",
       "      <td>9</td>\n",
       "      <td>0.183381</td>\n",
       "    </tr>\n",
       "    <tr>\n",
       "      <th>17</th>\n",
       "      <td>1</td>\n",
       "      <td>12</td>\n",
       "      <td>0.149779</td>\n",
       "    </tr>\n",
       "    <tr>\n",
       "      <th>18</th>\n",
       "      <td>1</td>\n",
       "      <td>13</td>\n",
       "      <td>0.072936</td>\n",
       "    </tr>\n",
       "    <tr>\n",
       "      <th>19</th>\n",
       "      <td>1</td>\n",
       "      <td>10</td>\n",
       "      <td>0.055223</td>\n",
       "    </tr>\n",
       "    <tr>\n",
       "      <th>20</th>\n",
       "      <td>1</td>\n",
       "      <td>6</td>\n",
       "      <td>0.042198</td>\n",
       "    </tr>\n",
       "    <tr>\n",
       "      <th>21</th>\n",
       "      <td>1</td>\n",
       "      <td>11</td>\n",
       "      <td>0.040375</td>\n",
       "    </tr>\n",
       "    <tr>\n",
       "      <th>22</th>\n",
       "      <td>1</td>\n",
       "      <td>7</td>\n",
       "      <td>0.039333</td>\n",
       "    </tr>\n",
       "    <tr>\n",
       "      <th>23</th>\n",
       "      <td>1</td>\n",
       "      <td>4</td>\n",
       "      <td>0.025007</td>\n",
       "    </tr>\n",
       "    <tr>\n",
       "      <th>24</th>\n",
       "      <td>1</td>\n",
       "      <td>5</td>\n",
       "      <td>0.022662</td>\n",
       "    </tr>\n",
       "    <tr>\n",
       "      <th>25</th>\n",
       "      <td>1</td>\n",
       "      <td>2</td>\n",
       "      <td>0.018234</td>\n",
       "    </tr>\n",
       "    <tr>\n",
       "      <th>26</th>\n",
       "      <td>1</td>\n",
       "      <td>3</td>\n",
       "      <td>0.015890</td>\n",
       "    </tr>\n",
       "    <tr>\n",
       "      <th>27</th>\n",
       "      <td>1</td>\n",
       "      <td>14</td>\n",
       "      <td>0.015890</td>\n",
       "    </tr>\n",
       "    <tr>\n",
       "      <th>28</th>\n",
       "      <td>1</td>\n",
       "      <td>1</td>\n",
       "      <td>0.007815</td>\n",
       "    </tr>\n",
       "    <tr>\n",
       "      <th>29</th>\n",
       "      <td>1</td>\n",
       "      <td>-1</td>\n",
       "      <td>0.002605</td>\n",
       "    </tr>\n",
       "  </tbody>\n",
       "</table>\n",
       "</div>"
      ],
      "text/plain": [
       "    TURNFEAR  EDUC  Frequency\n",
       "0          0    12   0.278689\n",
       "1          0     8   0.174383\n",
       "2          0    13   0.158967\n",
       "3          0     9   0.111727\n",
       "4          0    14   0.108539\n",
       "5          0    10   0.049122\n",
       "6          0    11   0.041283\n",
       "7          0     7   0.016722\n",
       "8          0     6   0.012176\n",
       "9          0     4   0.010974\n",
       "10         0     5   0.010347\n",
       "11         0     2   0.010190\n",
       "12         0     3   0.008884\n",
       "13         0     1   0.005383\n",
       "14         0    -1   0.002613\n",
       "15         1     8   0.308674\n",
       "16         1     9   0.183381\n",
       "17         1    12   0.149779\n",
       "18         1    13   0.072936\n",
       "19         1    10   0.055223\n",
       "20         1     6   0.042198\n",
       "21         1    11   0.040375\n",
       "22         1     7   0.039333\n",
       "23         1     4   0.025007\n",
       "24         1     5   0.022662\n",
       "25         1     2   0.018234\n",
       "26         1     3   0.015890\n",
       "27         1    14   0.015890\n",
       "28         1     1   0.007815\n",
       "29         1    -1   0.002605"
      ]
     },
     "execution_count": 24,
     "metadata": {},
     "output_type": "execute_result"
    }
   ],
   "source": [
    "# Creating a dataframe of the Education comparing with Turnfear and its frequency\n",
    "df_educ = (\n",
    "    df[\"EDUC\"]\n",
    "    .groupby(df[\"TURNFEAR\"])\n",
    "    .value_counts(normalize=True)\n",
    "    .rename(\"Frequency\")\n",
    "    .to_frame()\n",
    "    .reset_index()\n",
    "    \n",
    ")\n",
    "df_educ"
   ]
  },
  {
   "cell_type": "code",
   "execution_count": 25,
   "id": "6c1260c3",
   "metadata": {},
   "outputs": [
    {
     "data": {
      "image/png": "[encoded data removed]",
      "text/plain": [
       "<Figure size 640x480 with 1 Axes>"
      ]
     },
     "metadata": {},
     "output_type": "display_data"
    }
   ],
   "source": [
    "# Now lets plot it\n",
    "sns.barplot(\n",
    "    x=\"EDUC\",\n",
    "    y=\"Frequency\",\n",
    "    hue=\"TURNFEAR\",\n",
    "    data=df_educ\n",
    "    \n",
    ")\n",
    "plt.xlabel(\"Education Level\")\n",
    "plt.ylabel(\"Frequency (%)\")\n",
    "plt.title(\"Educational Attainment: Credit Fearful vs. Non-fearful\");"
   ]
  },
  {
   "cell_type": "markdown",
   "id": "3a387cd5",
   "metadata": {},
   "source": [
    "* Observations:\n",
    "1. The most fearful group in education are 8 and 9 which are high-school diploma and some college but not graduate.\n",
    "2. Under 12 group proportionally the credit fearful people are more.\n",
    "3. Non fearful group are represented by 12, 13 and 14 group which are university degree, masters degree and phd or professional degree."
   ]
  },
  {
   "cell_type": "markdown",
   "id": "c2c7f160",
   "metadata": {},
   "source": [
    "## Debt"
   ]
  },
  {
   "cell_type": "markdown",
   "id": "87db6871",
   "metadata": {},
   "source": [
    "**Debt Comparision with assets**"
   ]
  },
  {
   "cell_type": "code",
   "execution_count": 27,
   "id": "3b0d4ac2",
   "metadata": {},
   "outputs": [
    {
     "data": {
      "image/png": "[encoded data removed]",
      "text/plain": [
       "<Figure size 640x480 with 1 Axes>"
      ]
     },
     "metadata": {},
     "output_type": "display_data"
    }
   ],
   "source": [
    "# Create scatter plot of HOUSES vs DEBT, df\n",
    "df.plot.scatter(x=\"DEBT\", y=\"ASSET\");"
   ]
  },
  {
   "cell_type": "markdown",
   "id": "e69bb32d",
   "metadata": {},
   "source": [
    "* Observation: A group of people showing so much debt but as they have pretty good asset."
   ]
  },
  {
   "cell_type": "code",
   "execution_count": 30,
   "id": "b9c222e6",
   "metadata": {},
   "outputs": [
    {
     "data": {
      "image/png": "[encoded data removed]",
      "text/plain": [
       "<Figure size 640x480 with 1 Axes>"
      ]
     },
     "metadata": {},
     "output_type": "display_data"
    }
   ],
   "source": [
    "# Now the Credit fearful Group\n",
    "df_fear.plot.scatter(x=\"DEBT\", y=\"ASSET\");"
   ]
  },
  {
   "cell_type": "markdown",
   "id": "fd25304f",
   "metadata": {},
   "source": [
    "* Observations:\n",
    "1. One group is showing high debt compared to the total asset.\n",
    "2. A group of household have high amount of assets but also credit fearful."
   ]
  },
  {
   "cell_type": "markdown",
   "id": "45bbc83f",
   "metadata": {},
   "source": [
    "## Features Comparision"
   ]
  },
  {
   "cell_type": "markdown",
   "id": "95577e6d",
   "metadata": {},
   "source": [
    "**Creating a correlation matrix of columns `\"ASSET\"`, `\"HOUSES\"`, `\"INCOME\"`, `\"DEBT\"`, and `\"EDUC\"`.**"
   ]
  },
  {
   "cell_type": "code",
   "execution_count": 32,
   "id": "997c5d4e",
   "metadata": {},
   "outputs": [
    {
     "data": {
      "text/html": [
       "<style type=\"text/css\">\n",
       "#T_81b53_row0_col0, #T_81b53_row1_col1, #T_81b53_row2_col2, #T_81b53_row3_col3, #T_81b53_row4_col4 {\n",
       "  background-color: #023858;\n",
       "  color: #f1f1f1;\n",
       "}\n",
       "#T_81b53_row0_col1, #T_81b53_row1_col0 {\n",
       "  background-color: #69a5cc;\n",
       "  color: #f1f1f1;\n",
       "}\n",
       "#T_81b53_row0_col2, #T_81b53_row2_col0 {\n",
       "  background-color: #2182b9;\n",
       "  color: #f1f1f1;\n",
       "}\n",
       "#T_81b53_row0_col3, #T_81b53_row2_col3, #T_81b53_row3_col0, #T_81b53_row3_col2 {\n",
       "  background-color: #d2d3e7;\n",
       "  color: #000000;\n",
       "}\n",
       "#T_81b53_row0_col4, #T_81b53_row4_col0 {\n",
       "  background-color: #faf2f8;\n",
       "  color: #000000;\n",
       "}\n",
       "#T_81b53_row1_col2, #T_81b53_row2_col1 {\n",
       "  background-color: #b7c5df;\n",
       "  color: #000000;\n",
       "}\n",
       "#T_81b53_row1_col3, #T_81b53_row3_col1 {\n",
       "  background-color: #e0dded;\n",
       "  color: #000000;\n",
       "}\n",
       "#T_81b53_row1_col4, #T_81b53_row4_col1 {\n",
       "  background-color: #efe9f3;\n",
       "  color: #000000;\n",
       "}\n",
       "#T_81b53_row2_col4, #T_81b53_row4_col2 {\n",
       "  background-color: #fef6fa;\n",
       "  color: #000000;\n",
       "}\n",
       "#T_81b53_row3_col4, #T_81b53_row4_col3 {\n",
       "  background-color: #fff7fb;\n",
       "  color: #000000;\n",
       "}\n",
       "</style>\n",
       "<table id=\"T_81b53\">\n",
       "  <thead>\n",
       "    <tr>\n",
       "      <th class=\"blank level0\" >&nbsp;</th>\n",
       "      <th id=\"T_81b53_level0_col0\" class=\"col_heading level0 col0\" >ASSET</th>\n",
       "      <th id=\"T_81b53_level0_col1\" class=\"col_heading level0 col1\" >HOUSES</th>\n",
       "      <th id=\"T_81b53_level0_col2\" class=\"col_heading level0 col2\" >INCOME</th>\n",
       "      <th id=\"T_81b53_level0_col3\" class=\"col_heading level0 col3\" >DEBT</th>\n",
       "      <th id=\"T_81b53_level0_col4\" class=\"col_heading level0 col4\" >EDUC</th>\n",
       "    </tr>\n",
       "  </thead>\n",
       "  <tbody>\n",
       "    <tr>\n",
       "      <th id=\"T_81b53_level0_row0\" class=\"row_heading level0 row0\" >ASSET</th>\n",
       "      <td id=\"T_81b53_row0_col0\" class=\"data row0 col0\" >1.000000</td>\n",
       "      <td id=\"T_81b53_row0_col1\" class=\"data row0 col1\" >0.561777</td>\n",
       "      <td id=\"T_81b53_row0_col2\" class=\"data row0 col2\" >0.706685</td>\n",
       "      <td id=\"T_81b53_row0_col3\" class=\"data row0 col3\" >0.307143</td>\n",
       "      <td id=\"T_81b53_row0_col4\" class=\"data row0 col4\" >0.120139</td>\n",
       "    </tr>\n",
       "    <tr>\n",
       "      <th id=\"T_81b53_level0_row1\" class=\"row_heading level0 row1\" >HOUSES</th>\n",
       "      <td id=\"T_81b53_row1_col0\" class=\"data row1 col0\" >0.561777</td>\n",
       "      <td id=\"T_81b53_row1_col1\" class=\"data row1 col1\" >1.000000</td>\n",
       "      <td id=\"T_81b53_row1_col2\" class=\"data row1 col2\" >0.384699</td>\n",
       "      <td id=\"T_81b53_row1_col3\" class=\"data row1 col3\" >0.251876</td>\n",
       "      <td id=\"T_81b53_row1_col4\" class=\"data row1 col4\" >0.186120</td>\n",
       "    </tr>\n",
       "    <tr>\n",
       "      <th id=\"T_81b53_level0_row2\" class=\"row_heading level0 row2\" >INCOME</th>\n",
       "      <td id=\"T_81b53_row2_col0\" class=\"data row2 col0\" >0.706685</td>\n",
       "      <td id=\"T_81b53_row2_col1\" class=\"data row2 col1\" >0.384699</td>\n",
       "      <td id=\"T_81b53_row2_col2\" class=\"data row2 col2\" >1.000000</td>\n",
       "      <td id=\"T_81b53_row2_col3\" class=\"data row2 col3\" >0.306534</td>\n",
       "      <td id=\"T_81b53_row2_col4\" class=\"data row2 col4\" >0.096549</td>\n",
       "    </tr>\n",
       "    <tr>\n",
       "      <th id=\"T_81b53_level0_row3\" class=\"row_heading level0 row3\" >DEBT</th>\n",
       "      <td id=\"T_81b53_row3_col0\" class=\"data row3 col0\" >0.307143</td>\n",
       "      <td id=\"T_81b53_row3_col1\" class=\"data row3 col1\" >0.251876</td>\n",
       "      <td id=\"T_81b53_row3_col2\" class=\"data row3 col2\" >0.306534</td>\n",
       "      <td id=\"T_81b53_row3_col3\" class=\"data row3 col3\" >1.000000</td>\n",
       "      <td id=\"T_81b53_row3_col4\" class=\"data row3 col4\" >0.086561</td>\n",
       "    </tr>\n",
       "    <tr>\n",
       "      <th id=\"T_81b53_level0_row4\" class=\"row_heading level0 row4\" >EDUC</th>\n",
       "      <td id=\"T_81b53_row4_col0\" class=\"data row4 col0\" >0.120139</td>\n",
       "      <td id=\"T_81b53_row4_col1\" class=\"data row4 col1\" >0.186120</td>\n",
       "      <td id=\"T_81b53_row4_col2\" class=\"data row4 col2\" >0.096549</td>\n",
       "      <td id=\"T_81b53_row4_col3\" class=\"data row4 col3\" >0.086561</td>\n",
       "      <td id=\"T_81b53_row4_col4\" class=\"data row4 col4\" >1.000000</td>\n",
       "    </tr>\n",
       "  </tbody>\n",
       "</table>\n"
      ],
      "text/plain": [
       "<pandas.io.formats.style.Styler at 0x268bbd7a8f0>"
      ]
     },
     "execution_count": 32,
     "metadata": {},
     "output_type": "execute_result"
    }
   ],
   "source": [
    "# Lets make a correlation matric of entire population\n",
    "cols = [\"ASSET\", \"HOUSES\", \"INCOME\", \"DEBT\", \"EDUC\"]\n",
    "corr = df[cols].corr()\n",
    "corr.style.background_gradient(axis=None)"
   ]
  },
  {
   "cell_type": "markdown",
   "id": "54f78684",
   "metadata": {},
   "source": [
    "* Observations: \n",
    "1. Income and assets good correlation in whole population.\n",
    "2. House and assets also have correlation."
   ]
  },
  {
   "cell_type": "code",
   "execution_count": 33,
   "id": "8a927778",
   "metadata": {},
   "outputs": [
    {
     "data": {
      "text/html": [
       "<style type=\"text/css\">\n",
       "#T_13f47_row0_col0, #T_13f47_row1_col1, #T_13f47_row2_col2, #T_13f47_row3_col3, #T_13f47_row4_col4 {\n",
       "  background-color: #023858;\n",
       "  color: #f1f1f1;\n",
       "}\n",
       "#T_13f47_row0_col1, #T_13f47_row1_col0 {\n",
       "  background-color: #c4cbe3;\n",
       "  color: #000000;\n",
       "}\n",
       "#T_13f47_row0_col2, #T_13f47_row2_col0 {\n",
       "  background-color: #04588a;\n",
       "  color: #f1f1f1;\n",
       "}\n",
       "#T_13f47_row0_col3, #T_13f47_row3_col0 {\n",
       "  background-color: #97b7d7;\n",
       "  color: #000000;\n",
       "}\n",
       "#T_13f47_row0_col4, #T_13f47_row2_col4, #T_13f47_row4_col0, #T_13f47_row4_col2 {\n",
       "  background-color: #fff7fb;\n",
       "  color: #000000;\n",
       "}\n",
       "#T_13f47_row1_col2, #T_13f47_row2_col1 {\n",
       "  background-color: #d4d4e8;\n",
       "  color: #000000;\n",
       "}\n",
       "#T_13f47_row1_col3, #T_13f47_row3_col1 {\n",
       "  background-color: #308cbe;\n",
       "  color: #f1f1f1;\n",
       "}\n",
       "#T_13f47_row1_col4, #T_13f47_row4_col1 {\n",
       "  background-color: #f1ebf4;\n",
       "  color: #000000;\n",
       "}\n",
       "#T_13f47_row2_col3, #T_13f47_row3_col2 {\n",
       "  background-color: #a1bbda;\n",
       "  color: #000000;\n",
       "}\n",
       "#T_13f47_row3_col4, #T_13f47_row4_col3 {\n",
       "  background-color: #f2ecf5;\n",
       "  color: #000000;\n",
       "}\n",
       "</style>\n",
       "<table id=\"T_13f47\">\n",
       "  <thead>\n",
       "    <tr>\n",
       "      <th class=\"blank level0\" >&nbsp;</th>\n",
       "      <th id=\"T_13f47_level0_col0\" class=\"col_heading level0 col0\" >ASSET</th>\n",
       "      <th id=\"T_13f47_level0_col1\" class=\"col_heading level0 col1\" >HOUSES</th>\n",
       "      <th id=\"T_13f47_level0_col2\" class=\"col_heading level0 col2\" >INCOME</th>\n",
       "      <th id=\"T_13f47_level0_col3\" class=\"col_heading level0 col3\" >DEBT</th>\n",
       "      <th id=\"T_13f47_level0_col4\" class=\"col_heading level0 col4\" >EDUC</th>\n",
       "    </tr>\n",
       "  </thead>\n",
       "  <tbody>\n",
       "    <tr>\n",
       "      <th id=\"T_13f47_level0_row0\" class=\"row_heading level0 row0\" >ASSET</th>\n",
       "      <td id=\"T_13f47_row0_col0\" class=\"data row0 col0\" >1.000000</td>\n",
       "      <td id=\"T_13f47_row0_col1\" class=\"data row0 col1\" >0.364955</td>\n",
       "      <td id=\"T_13f47_row0_col2\" class=\"data row0 col2\" >0.893282</td>\n",
       "      <td id=\"T_13f47_row0_col3\" class=\"data row0 col3\" >0.477171</td>\n",
       "      <td id=\"T_13f47_row0_col4\" class=\"data row0 col4\" >0.110659</td>\n",
       "    </tr>\n",
       "    <tr>\n",
       "      <th id=\"T_13f47_level0_row1\" class=\"row_heading level0 row1\" >HOUSES</th>\n",
       "      <td id=\"T_13f47_row1_col0\" class=\"data row1 col0\" >0.364955</td>\n",
       "      <td id=\"T_13f47_row1_col1\" class=\"data row1 col1\" >1.000000</td>\n",
       "      <td id=\"T_13f47_row1_col2\" class=\"data row1 col2\" >0.314501</td>\n",
       "      <td id=\"T_13f47_row1_col3\" class=\"data row1 col3\" >0.676984</td>\n",
       "      <td id=\"T_13f47_row1_col4\" class=\"data row1 col4\" >0.195174</td>\n",
       "    </tr>\n",
       "    <tr>\n",
       "      <th id=\"T_13f47_level0_row2\" class=\"row_heading level0 row2\" >INCOME</th>\n",
       "      <td id=\"T_13f47_row2_col0\" class=\"data row2 col0\" >0.893282</td>\n",
       "      <td id=\"T_13f47_row2_col1\" class=\"data row2 col1\" >0.314501</td>\n",
       "      <td id=\"T_13f47_row2_col2\" class=\"data row2 col2\" >1.000000</td>\n",
       "      <td id=\"T_13f47_row2_col3\" class=\"data row2 col3\" >0.456622</td>\n",
       "      <td id=\"T_13f47_row2_col4\" class=\"data row2 col4\" >0.108845</td>\n",
       "    </tr>\n",
       "    <tr>\n",
       "      <th id=\"T_13f47_level0_row3\" class=\"row_heading level0 row3\" >DEBT</th>\n",
       "      <td id=\"T_13f47_row3_col0\" class=\"data row3 col0\" >0.477171</td>\n",
       "      <td id=\"T_13f47_row3_col1\" class=\"data row3 col1\" >0.676984</td>\n",
       "      <td id=\"T_13f47_row3_col2\" class=\"data row3 col2\" >0.456622</td>\n",
       "      <td id=\"T_13f47_row3_col3\" class=\"data row3 col3\" >1.000000</td>\n",
       "      <td id=\"T_13f47_row3_col4\" class=\"data row3 col4\" >0.182570</td>\n",
       "    </tr>\n",
       "    <tr>\n",
       "      <th id=\"T_13f47_level0_row4\" class=\"row_heading level0 row4\" >EDUC</th>\n",
       "      <td id=\"T_13f47_row4_col0\" class=\"data row4 col0\" >0.110659</td>\n",
       "      <td id=\"T_13f47_row4_col1\" class=\"data row4 col1\" >0.195174</td>\n",
       "      <td id=\"T_13f47_row4_col2\" class=\"data row4 col2\" >0.108845</td>\n",
       "      <td id=\"T_13f47_row4_col3\" class=\"data row4 col3\" >0.182570</td>\n",
       "      <td id=\"T_13f47_row4_col4\" class=\"data row4 col4\" >1.000000</td>\n",
       "    </tr>\n",
       "  </tbody>\n",
       "</table>\n"
      ],
      "text/plain": [
       "<pandas.io.formats.style.Styler at 0x268bbd78d30>"
      ]
     },
     "execution_count": 33,
     "metadata": {},
     "output_type": "execute_result"
    }
   ],
   "source": [
    "# Credit fearful group correlation\n",
    "corr = df_fear[cols].corr()\n",
    "corr.style.background_gradient(axis=None)"
   ]
  },
  {
   "cell_type": "markdown",
   "id": "4607fd3d",
   "metadata": {},
   "source": [
    "* Observations:\n",
    "1. Income and assets showing higher correlation than entire population for credit fearful.\n",
    "2. As the price of house get higher then their debt is also getting higher.\n"
   ]
  },
  {
   "cell_type": "markdown",
   "id": "2785b665",
   "metadata": {},
   "source": [
    "# Features Selection"
   ]
  },
  {
   "cell_type": "markdown",
   "id": "c915f883",
   "metadata": {},
   "source": [
    "\n",
    "To optimize `unsupervised models`, prioritize numerical features with `substantial variance`. Higher-variance features capture a broader spectrum of values, enhancing their role in discerning diverse patterns within the data. This selection strategy contributes to the overall effectiveness of unsupervised models in uncovering hidden structures and relationships within the dataset."
   ]
  },
  {
   "cell_type": "code",
   "execution_count": 38,
   "id": "1a449484",
   "metadata": {},
   "outputs": [
    {
     "data": {
      "text/plain": [
       "EQUITY      8.272191e+12\n",
       "FIN         1.324553e+13\n",
       "KGBUS       3.919372e+13\n",
       "KGTOTAL     4.611527e+13\n",
       "ACTBUS      6.441643e+13\n",
       "BUS         7.182994e+13\n",
       "NHNFIN      8.296348e+13\n",
       "NFIN        8.582096e+13\n",
       "NETWORTH    1.550844e+14\n",
       "ASSET       1.599419e+14\n",
       "dtype: float64"
      ]
     },
     "execution_count": 38,
     "metadata": {},
     "output_type": "execute_result"
    }
   ],
   "source": [
    "# lets calculate the top 10 features with largest variance\n",
    "top_ten_var = df_fear.var().sort_values().tail(10)\n",
    "top_ten_var"
   ]
  },
  {
   "cell_type": "code",
   "execution_count": 39,
   "id": "154d2866",
   "metadata": {},
   "outputs": [
    {
     "data": {
      "application/vnd.plotly.v1+json": {
       "config": {
        "plotlyServerURL": "https://plot.ly"
       },
       "data": [
        {
         "alignmentgroup": "True",
         "hovertemplate": "x=%{x}<br>y=%{y}<extra></extra>",
         "legendgroup": "",
         "marker": {
          "color": "#636efa",
          "pattern": {
           "shape": ""
          }
         },
         "name": "",
         "offsetgroup": "",
         "orientation": "h",
         "showlegend": false,
         "textposition": "auto",
         "type": "bar",
         "x": [
          8272190849493.963,
          13245526271032.062,
          39193717806129.32,
          46115269315953.78,
          64416431056303.22,
          71829942893394.28,
          82963479658033.38,
          85820961527023.84,
          155084437749786.9,
          159941925102422.3
         ],
         "xaxis": "x",
         "y": [
          "EQUITY",
          "FIN",
          "KGBUS",
          "KGTOTAL",
          "ACTBUS",
          "BUS",
          "NHNFIN",
          "NFIN",
          "NETWORTH",
          "ASSET"
         ],
         "yaxis": "y"
        }
       ],
       "layout": {
        "barmode": "relative",
        "legend": {
         "tracegroupgap": 0
        },
        "template": {
         "data": {
          "bar": [
           {
            "error_x": {
             "color": "#2a3f5f"
            },
            "error_y": {
             "color": "#2a3f5f"
            },
            "marker": {
             "line": {
              "color": "#E5ECF6",
              "width": 0.5
             },
             "pattern": {
              "fillmode": "overlay",
              "size": 10,
              "solidity": 0.2
             }
            },
            "type": "bar"
           }
          ],
          "barpolar": [
           {
            "marker": {
             "line": {
              "color": "#E5ECF6",
              "width": 0.5
             },
             "pattern": {
              "fillmode": "overlay",
              "size": 10,
              "solidity": 0.2
             }
            },
            "type": "barpolar"
           }
          ],
          "carpet": [
           {
            "aaxis": {
             "endlinecolor": "#2a3f5f",
             "gridcolor": "white",
             "linecolor": "white",
             "minorgridcolor": "white",
             "startlinecolor": "#2a3f5f"
            },
            "baxis": {
             "endlinecolor": "#2a3f5f",
             "gridcolor": "white",
             "linecolor": "white",
             "minorgridcolor": "white",
             "startlinecolor": "#2a3f5f"
            },
            "type": "carpet"
           }
          ],
          "choropleth": [
           {
            "colorbar": {
             "outlinewidth": 0,
             "ticks": ""
            },
            "type": "choropleth"
           }
          ],
          "contour": [
           {
            "colorbar": {
             "outlinewidth": 0,
             "ticks": ""
            },
            "colorscale": [
             [
              0,
              "#0d0887"
             ],
             [
              0.1111111111111111,
              "#46039f"
             ],
             [
              0.2222222222222222,
              "#7201a8"
             ],
             [
              0.3333333333333333,
              "#9c179e"
             ],
             [
              0.4444444444444444,
              "#bd3786"
             ],
             [
              0.5555555555555556,
              "#d8576b"
             ],
             [
              0.6666666666666666,
              "#ed7953"
             ],
             [
              0.7777777777777778,
              "#fb9f3a"
             ],
             [
              0.8888888888888888,
              "#fdca26"
             ],
             [
              1,
              "#f0f921"
             ]
            ],
            "type": "contour"
           }
          ],
          "contourcarpet": [
           {
            "colorbar": {
             "outlinewidth": 0,
             "ticks": ""
            },
            "type": "contourcarpet"
           }
          ],
          "heatmap": [
           {
            "colorbar": {
             "outlinewidth": 0,
             "ticks": ""
            },
            "colorscale": [
             [
              0,
              "#0d0887"
             ],
             [
              0.1111111111111111,
              "#46039f"
             ],
             [
              0.2222222222222222,
              "#7201a8"
             ],
             [
              0.3333333333333333,
              "#9c179e"
             ],
             [
              0.4444444444444444,
              "#bd3786"
             ],
             [
              0.5555555555555556,
              "#d8576b"
             ],
             [
              0.6666666666666666,
              "#ed7953"
             ],
             [
              0.7777777777777778,
              "#fb9f3a"
             ],
             [
              0.8888888888888888,
              "#fdca26"
             ],
             [
              1,
              "#f0f921"
             ]
            ],
            "type": "heatmap"
           }
          ],
          "heatmapgl": [
           {
            "colorbar": {
             "outlinewidth": 0,
             "ticks": ""
            },
            "colorscale": [
             [
              0,
              "#0d0887"
             ],
             [
              0.1111111111111111,
              "#46039f"
             ],
             [
              0.2222222222222222,
              "#7201a8"
             ],
             [
              0.3333333333333333,
              "#9c179e"
             ],
             [
              0.4444444444444444,
              "#bd3786"
             ],
             [
              0.5555555555555556,
              "#d8576b"
             ],
             [
              0.6666666666666666,
              "#ed7953"
             ],
             [
              0.7777777777777778,
              "#fb9f3a"
             ],
             [
              0.8888888888888888,
              "#fdca26"
             ],
             [
              1,
              "#f0f921"
             ]
            ],
            "type": "heatmapgl"
           }
          ],
          "histogram": [
           {
            "marker": {
             "pattern": {
              "fillmode": "overlay",
              "size": 10,
              "solidity": 0.2
             }
            },
            "type": "histogram"
           }
          ],
          "histogram2d": [
           {
            "colorbar": {
             "outlinewidth": 0,
             "ticks": ""
            },
            "colorscale": [
             [
              0,
              "#0d0887"
             ],
             [
              0.1111111111111111,
              "#46039f"
             ],
             [
              0.2222222222222222,
              "#7201a8"
             ],
             [
              0.3333333333333333,
              "#9c179e"
             ],
             [
              0.4444444444444444,
              "#bd3786"
             ],
             [
              0.5555555555555556,
              "#d8576b"
             ],
             [
              0.6666666666666666,
              "#ed7953"
             ],
             [
              0.7777777777777778,
              "#fb9f3a"
             ],
             [
              0.8888888888888888,
              "#fdca26"
             ],
             [
              1,
              "#f0f921"
             ]
            ],
            "type": "histogram2d"
           }
          ],
          "histogram2dcontour": [
           {
            "colorbar": {
             "outlinewidth": 0,
             "ticks": ""
            },
            "colorscale": [
             [
              0,
              "#0d0887"
             ],
             [
              0.1111111111111111,
              "#46039f"
             ],
             [
              0.2222222222222222,
              "#7201a8"
             ],
             [
              0.3333333333333333,
              "#9c179e"
             ],
             [
              0.4444444444444444,
              "#bd3786"
             ],
             [
              0.5555555555555556,
              "#d8576b"
             ],
             [
              0.6666666666666666,
              "#ed7953"
             ],
             [
              0.7777777777777778,
              "#fb9f3a"
             ],
             [
              0.8888888888888888,
              "#fdca26"
             ],
             [
              1,
              "#f0f921"
             ]
            ],
            "type": "histogram2dcontour"
           }
          ],
          "mesh3d": [
           {
            "colorbar": {
             "outlinewidth": 0,
             "ticks": ""
            },
            "type": "mesh3d"
           }
          ],
          "parcoords": [
           {
            "line": {
             "colorbar": {
              "outlinewidth": 0,
              "ticks": ""
             }
            },
            "type": "parcoords"
           }
          ],
          "pie": [
           {
            "automargin": true,
            "type": "pie"
           }
          ],
          "scatter": [
           {
            "fillpattern": {
             "fillmode": "overlay",
             "size": 10,
             "solidity": 0.2
            },
            "type": "scatter"
           }
          ],
          "scatter3d": [
           {
            "line": {
             "colorbar": {
              "outlinewidth": 0,
              "ticks": ""
             }
            },
            "marker": {
             "colorbar": {
              "outlinewidth": 0,
              "ticks": ""
             }
            },
            "type": "scatter3d"
           }
          ],
          "scattercarpet": [
           {
            "marker": {
             "colorbar": {
              "outlinewidth": 0,
              "ticks": ""
             }
            },
            "type": "scattercarpet"
           }
          ],
          "scattergeo": [
           {
            "marker": {
             "colorbar": {
              "outlinewidth": 0,
              "ticks": ""
             }
            },
            "type": "scattergeo"
           }
          ],
          "scattergl": [
           {
            "marker": {
             "colorbar": {
              "outlinewidth": 0,
              "ticks": ""
             }
            },
            "type": "scattergl"
           }
          ],
          "scattermapbox": [
           {
            "marker": {
             "colorbar": {
              "outlinewidth": 0,
              "ticks": ""
             }
            },
            "type": "scattermapbox"
           }
          ],
          "scatterpolar": [
           {
            "marker": {
             "colorbar": {
              "outlinewidth": 0,
              "ticks": ""
             }
            },
            "type": "scatterpolar"
           }
          ],
          "scatterpolargl": [
           {
            "marker": {
             "colorbar": {
              "outlinewidth": 0,
              "ticks": ""
             }
            },
            "type": "scatterpolargl"
           }
          ],
          "scatterternary": [
           {
            "marker": {
             "colorbar": {
              "outlinewidth": 0,
              "ticks": ""
             }
            },
            "type": "scatterternary"
           }
          ],
          "surface": [
           {
            "colorbar": {
             "outlinewidth": 0,
             "ticks": ""
            },
            "colorscale": [
             [
              0,
              "#0d0887"
             ],
             [
              0.1111111111111111,
              "#46039f"
             ],
             [
              0.2222222222222222,
              "#7201a8"
             ],
             [
              0.3333333333333333,
              "#9c179e"
             ],
             [
              0.4444444444444444,
              "#bd3786"
             ],
             [
              0.5555555555555556,
              "#d8576b"
             ],
             [
              0.6666666666666666,
              "#ed7953"
             ],
             [
              0.7777777777777778,
              "#fb9f3a"
             ],
             [
              0.8888888888888888,
              "#fdca26"
             ],
             [
              1,
              "#f0f921"
             ]
            ],
            "type": "surface"
           }
          ],
          "table": [
           {
            "cells": {
             "fill": {
              "color": "#EBF0F8"
             },
             "line": {
              "color": "white"
             }
            },
            "header": {
             "fill": {
              "color": "#C8D4E3"
             },
             "line": {
              "color": "white"
             }
            },
            "type": "table"
           }
          ]
         },
         "layout": {
          "annotationdefaults": {
           "arrowcolor": "#2a3f5f",
           "arrowhead": 0,
           "arrowwidth": 1
          },
          "autotypenumbers": "strict",
          "coloraxis": {
           "colorbar": {
            "outlinewidth": 0,
            "ticks": ""
           }
          },
          "colorscale": {
           "diverging": [
            [
             0,
             "#8e0152"
            ],
            [
             0.1,
             "#c51b7d"
            ],
            [
             0.2,
             "#de77ae"
            ],
            [
             0.3,
             "#f1b6da"
            ],
            [
             0.4,
             "#fde0ef"
            ],
            [
             0.5,
             "#f7f7f7"
            ],
            [
             0.6,
             "#e6f5d0"
            ],
            [
             0.7,
             "#b8e186"
            ],
            [
             0.8,
             "#7fbc41"
            ],
            [
             0.9,
             "#4d9221"
            ],
            [
             1,
             "#276419"
            ]
           ],
           "sequential": [
            [
             0,
             "#0d0887"
            ],
            [
             0.1111111111111111,
             "#46039f"
            ],
            [
             0.2222222222222222,
             "#7201a8"
            ],
            [
             0.3333333333333333,
             "#9c179e"
            ],
            [
             0.4444444444444444,
             "#bd3786"
            ],
            [
             0.5555555555555556,
             "#d8576b"
            ],
            [
             0.6666666666666666,
             "#ed7953"
            ],
            [
             0.7777777777777778,
             "#fb9f3a"
            ],
            [
             0.8888888888888888,
             "#fdca26"
            ],
            [
             1,
             "#f0f921"
            ]
           ],
           "sequentialminus": [
            [
             0,
             "#0d0887"
            ],
            [
             0.1111111111111111,
             "#46039f"
            ],
            [
             0.2222222222222222,
             "#7201a8"
            ],
            [
             0.3333333333333333,
             "#9c179e"
            ],
            [
             0.4444444444444444,
             "#bd3786"
            ],
            [
             0.5555555555555556,
             "#d8576b"
            ],
            [
             0.6666666666666666,
             "#ed7953"
            ],
            [
             0.7777777777777778,
             "#fb9f3a"
            ],
            [
             0.8888888888888888,
             "#fdca26"
            ],
            [
             1,
             "#f0f921"
            ]
           ]
          },
          "colorway": [
           "#636efa",
           "#EF553B",
           "#00cc96",
           "#ab63fa",
           "#FFA15A",
           "#19d3f3",
           "#FF6692",
           "#B6E880",
           "#FF97FF",
           "#FECB52"
          ],
          "font": {
           "color": "#2a3f5f"
          },
          "geo": {
           "bgcolor": "white",
           "lakecolor": "white",
           "landcolor": "#E5ECF6",
           "showlakes": true,
           "showland": true,
           "subunitcolor": "white"
          },
          "hoverlabel": {
           "align": "left"
          },
          "hovermode": "closest",
          "mapbox": {
           "style": "light"
          },
          "paper_bgcolor": "white",
          "plot_bgcolor": "#E5ECF6",
          "polar": {
           "angularaxis": {
            "gridcolor": "white",
            "linecolor": "white",
            "ticks": ""
           },
           "bgcolor": "#E5ECF6",
           "radialaxis": {
            "gridcolor": "white",
            "linecolor": "white",
            "ticks": ""
           }
          },
          "scene": {
           "xaxis": {
            "backgroundcolor": "#E5ECF6",
            "gridcolor": "white",
            "gridwidth": 2,
            "linecolor": "white",
            "showbackground": true,
            "ticks": "",
            "zerolinecolor": "white"
           },
           "yaxis": {
            "backgroundcolor": "#E5ECF6",
            "gridcolor": "white",
            "gridwidth": 2,
            "linecolor": "white",
            "showbackground": true,
            "ticks": "",
            "zerolinecolor": "white"
           },
           "zaxis": {
            "backgroundcolor": "#E5ECF6",
            "gridcolor": "white",
            "gridwidth": 2,
            "linecolor": "white",
            "showbackground": true,
            "ticks": "",
            "zerolinecolor": "white"
           }
          },
          "shapedefaults": {
           "line": {
            "color": "#2a3f5f"
           }
          },
          "ternary": {
           "aaxis": {
            "gridcolor": "white",
            "linecolor": "white",
            "ticks": ""
           },
           "baxis": {
            "gridcolor": "white",
            "linecolor": "white",
            "ticks": ""
           },
           "bgcolor": "#E5ECF6",
           "caxis": {
            "gridcolor": "white",
            "linecolor": "white",
            "ticks": ""
           }
          },
          "title": {
           "x": 0.05
          },
          "xaxis": {
           "automargin": true,
           "gridcolor": "white",
           "linecolor": "white",
           "ticks": "",
           "title": {
            "standoff": 15
           },
           "zerolinecolor": "white",
           "zerolinewidth": 2
          },
          "yaxis": {
           "automargin": true,
           "gridcolor": "white",
           "linecolor": "white",
           "ticks": "",
           "title": {
            "standoff": 15
           },
           "zerolinecolor": "white",
           "zerolinewidth": 2
          }
         }
        },
        "title": {
         "text": "High Variance Features"
        },
        "xaxis": {
         "anchor": "y",
         "domain": [
          0,
          1
         ],
         "title": {
          "text": "Variance"
         }
        },
        "yaxis": {
         "anchor": "x",
         "domain": [
          0,
          1
         ],
         "title": {
          "text": "Features"
         }
        }
       }
      },
      "text/html": [
       "<div>                            <div id=\"654439b6-56df-4aee-8dfb-543d7435f70e\" class=\"plotly-graph-div\" style=\"height:525px; width:100%;\"></div>            <script type=\"text/javascript\">                require([\"plotly\"], function(Plotly) {                    window.PLOTLYENV=window.PLOTLYENV || {};                                    if (document.getElementById(\"654439b6-56df-4aee-8dfb-543d7435f70e\")) {                    Plotly.newPlot(                        \"654439b6-56df-4aee-8dfb-543d7435f70e\",                        [{\"alignmentgroup\":\"True\",\"hovertemplate\":\"x=%{x}<br>y=%{y}<extra></extra>\",\"legendgroup\":\"\",\"marker\":{\"color\":\"#636efa\",\"pattern\":{\"shape\":\"\"}},\"name\":\"\",\"offsetgroup\":\"\",\"orientation\":\"h\",\"showlegend\":false,\"textposition\":\"auto\",\"x\":[8272190849493.963,13245526271032.062,39193717806129.32,46115269315953.78,64416431056303.22,71829942893394.28,82963479658033.38,85820961527023.84,155084437749786.9,159941925102422.3],\"xaxis\":\"x\",\"y\":[\"EQUITY\",\"FIN\",\"KGBUS\",\"KGTOTAL\",\"ACTBUS\",\"BUS\",\"NHNFIN\",\"NFIN\",\"NETWORTH\",\"ASSET\"],\"yaxis\":\"y\",\"type\":\"bar\"}],                        {\"template\":{\"data\":{\"histogram2dcontour\":[{\"type\":\"histogram2dcontour\",\"colorbar\":{\"outlinewidth\":0,\"ticks\":\"\"},\"colorscale\":[[0.0,\"#0d0887\"],[0.1111111111111111,\"#46039f\"],[0.2222222222222222,\"#7201a8\"],[0.3333333333333333,\"#9c179e\"],[0.4444444444444444,\"#bd3786\"],[0.5555555555555556,\"#d8576b\"],[0.6666666666666666,\"#ed7953\"],[0.7777777777777778,\"#fb9f3a\"],[0.8888888888888888,\"#fdca26\"],[1.0,\"#f0f921\"]]}],\"choropleth\":[{\"type\":\"choropleth\",\"colorbar\":{\"outlinewidth\":0,\"ticks\":\"\"}}],\"histogram2d\":[{\"type\":\"histogram2d\",\"colorbar\":{\"outlinewidth\":0,\"ticks\":\"\"},\"colorscale\":[[0.0,\"#0d0887\"],[0.1111111111111111,\"#46039f\"],[0.2222222222222222,\"#7201a8\"],[0.3333333333333333,\"#9c179e\"],[0.4444444444444444,\"#bd3786\"],[0.5555555555555556,\"#d8576b\"],[0.6666666666666666,\"#ed7953\"],[0.7777777777777778,\"#fb9f3a\"],[0.8888888888888888,\"#fdca26\"],[1.0,\"#f0f921\"]]}],\"heatmap\":[{\"type\":\"heatmap\",\"colorbar\":{\"outlinewidth\":0,\"ticks\":\"\"},\"colorscale\":[[0.0,\"#0d0887\"],[0.1111111111111111,\"#46039f\"],[0.2222222222222222,\"#7201a8\"],[0.3333333333333333,\"#9c179e\"],[0.4444444444444444,\"#bd3786\"],[0.5555555555555556,\"#d8576b\"],[0.6666666666666666,\"#ed7953\"],[0.7777777777777778,\"#fb9f3a\"],[0.8888888888888888,\"#fdca26\"],[1.0,\"#f0f921\"]]}],\"heatmapgl\":[{\"type\":\"heatmapgl\",\"colorbar\":{\"outlinewidth\":0,\"ticks\":\"\"},\"colorscale\":[[0.0,\"#0d0887\"],[0.1111111111111111,\"#46039f\"],[0.2222222222222222,\"#7201a8\"],[0.3333333333333333,\"#9c179e\"],[0.4444444444444444,\"#bd3786\"],[0.5555555555555556,\"#d8576b\"],[0.6666666666666666,\"#ed7953\"],[0.7777777777777778,\"#fb9f3a\"],[0.8888888888888888,\"#fdca26\"],[1.0,\"#f0f921\"]]}],\"contourcarpet\":[{\"type\":\"contourcarpet\",\"colorbar\":{\"outlinewidth\":0,\"ticks\":\"\"}}],\"contour\":[{\"type\":\"contour\",\"colorbar\":{\"outlinewidth\":0,\"ticks\":\"\"},\"colorscale\":[[0.0,\"#0d0887\"],[0.1111111111111111,\"#46039f\"],[0.2222222222222222,\"#7201a8\"],[0.3333333333333333,\"#9c179e\"],[0.4444444444444444,\"#bd3786\"],[0.5555555555555556,\"#d8576b\"],[0.6666666666666666,\"#ed7953\"],[0.7777777777777778,\"#fb9f3a\"],[0.8888888888888888,\"#fdca26\"],[1.0,\"#f0f921\"]]}],\"surface\":[{\"type\":\"surface\",\"colorbar\":{\"outlinewidth\":0,\"ticks\":\"\"},\"colorscale\":[[0.0,\"#0d0887\"],[0.1111111111111111,\"#46039f\"],[0.2222222222222222,\"#7201a8\"],[0.3333333333333333,\"#9c179e\"],[0.4444444444444444,\"#bd3786\"],[0.5555555555555556,\"#d8576b\"],[0.6666666666666666,\"#ed7953\"],[0.7777777777777778,\"#fb9f3a\"],[0.8888888888888888,\"#fdca26\"],[1.0,\"#f0f921\"]]}],\"mesh3d\":[{\"type\":\"mesh3d\",\"colorbar\":{\"outlinewidth\":0,\"ticks\":\"\"}}],\"scatter\":[{\"fillpattern\":{\"fillmode\":\"overlay\",\"size\":10,\"solidity\":0.2},\"type\":\"scatter\"}],\"parcoords\":[{\"type\":\"parcoords\",\"line\":{\"colorbar\":{\"outlinewidth\":0,\"ticks\":\"\"}}}],\"scatterpolargl\":[{\"type\":\"scatterpolargl\",\"marker\":{\"colorbar\":{\"outlinewidth\":0,\"ticks\":\"\"}}}],\"bar\":[{\"error_x\":{\"color\":\"#2a3f5f\"},\"error_y\":{\"color\":\"#2a3f5f\"},\"marker\":{\"line\":{\"color\":\"#E5ECF6\",\"width\":0.5},\"pattern\":{\"fillmode\":\"overlay\",\"size\":10,\"solidity\":0.2}},\"type\":\"bar\"}],\"scattergeo\":[{\"type\":\"scattergeo\",\"marker\":{\"colorbar\":{\"outlinewidth\":0,\"ticks\":\"\"}}}],\"scatterpolar\":[{\"type\":\"scatterpolar\",\"marker\":{\"colorbar\":{\"outlinewidth\":0,\"ticks\":\"\"}}}],\"histogram\":[{\"marker\":{\"pattern\":{\"fillmode\":\"overlay\",\"size\":10,\"solidity\":0.2}},\"type\":\"histogram\"}],\"scattergl\":[{\"type\":\"scattergl\",\"marker\":{\"colorbar\":{\"outlinewidth\":0,\"ticks\":\"\"}}}],\"scatter3d\":[{\"type\":\"scatter3d\",\"line\":{\"colorbar\":{\"outlinewidth\":0,\"ticks\":\"\"}},\"marker\":{\"colorbar\":{\"outlinewidth\":0,\"ticks\":\"\"}}}],\"scattermapbox\":[{\"type\":\"scattermapbox\",\"marker\":{\"colorbar\":{\"outlinewidth\":0,\"ticks\":\"\"}}}],\"scatterternary\":[{\"type\":\"scatterternary\",\"marker\":{\"colorbar\":{\"outlinewidth\":0,\"ticks\":\"\"}}}],\"scattercarpet\":[{\"type\":\"scattercarpet\",\"marker\":{\"colorbar\":{\"outlinewidth\":0,\"ticks\":\"\"}}}],\"carpet\":[{\"aaxis\":{\"endlinecolor\":\"#2a3f5f\",\"gridcolor\":\"white\",\"linecolor\":\"white\",\"minorgridcolor\":\"white\",\"startlinecolor\":\"#2a3f5f\"},\"baxis\":{\"endlinecolor\":\"#2a3f5f\",\"gridcolor\":\"white\",\"linecolor\":\"white\",\"minorgridcolor\":\"white\",\"startlinecolor\":\"#2a3f5f\"},\"type\":\"carpet\"}],\"table\":[{\"cells\":{\"fill\":{\"color\":\"#EBF0F8\"},\"line\":{\"color\":\"white\"}},\"header\":{\"fill\":{\"color\":\"#C8D4E3\"},\"line\":{\"color\":\"white\"}},\"type\":\"table\"}],\"barpolar\":[{\"marker\":{\"line\":{\"color\":\"#E5ECF6\",\"width\":0.5},\"pattern\":{\"fillmode\":\"overlay\",\"size\":10,\"solidity\":0.2}},\"type\":\"barpolar\"}],\"pie\":[{\"automargin\":true,\"type\":\"pie\"}]},\"layout\":{\"autotypenumbers\":\"strict\",\"colorway\":[\"#636efa\",\"#EF553B\",\"#00cc96\",\"#ab63fa\",\"#FFA15A\",\"#19d3f3\",\"#FF6692\",\"#B6E880\",\"#FF97FF\",\"#FECB52\"],\"font\":{\"color\":\"#2a3f5f\"},\"hovermode\":\"closest\",\"hoverlabel\":{\"align\":\"left\"},\"paper_bgcolor\":\"white\",\"plot_bgcolor\":\"#E5ECF6\",\"polar\":{\"bgcolor\":\"#E5ECF6\",\"angularaxis\":{\"gridcolor\":\"white\",\"linecolor\":\"white\",\"ticks\":\"\"},\"radialaxis\":{\"gridcolor\":\"white\",\"linecolor\":\"white\",\"ticks\":\"\"}},\"ternary\":{\"bgcolor\":\"#E5ECF6\",\"aaxis\":{\"gridcolor\":\"white\",\"linecolor\":\"white\",\"ticks\":\"\"},\"baxis\":{\"gridcolor\":\"white\",\"linecolor\":\"white\",\"ticks\":\"\"},\"caxis\":{\"gridcolor\":\"white\",\"linecolor\":\"white\",\"ticks\":\"\"}},\"coloraxis\":{\"colorbar\":{\"outlinewidth\":0,\"ticks\":\"\"}},\"colorscale\":{\"sequential\":[[0.0,\"#0d0887\"],[0.1111111111111111,\"#46039f\"],[0.2222222222222222,\"#7201a8\"],[0.3333333333333333,\"#9c179e\"],[0.4444444444444444,\"#bd3786\"],[0.5555555555555556,\"#d8576b\"],[0.6666666666666666,\"#ed7953\"],[0.7777777777777778,\"#fb9f3a\"],[0.8888888888888888,\"#fdca26\"],[1.0,\"#f0f921\"]],\"sequentialminus\":[[0.0,\"#0d0887\"],[0.1111111111111111,\"#46039f\"],[0.2222222222222222,\"#7201a8\"],[0.3333333333333333,\"#9c179e\"],[0.4444444444444444,\"#bd3786\"],[0.5555555555555556,\"#d8576b\"],[0.6666666666666666,\"#ed7953\"],[0.7777777777777778,\"#fb9f3a\"],[0.8888888888888888,\"#fdca26\"],[1.0,\"#f0f921\"]],\"diverging\":[[0,\"#8e0152\"],[0.1,\"#c51b7d\"],[0.2,\"#de77ae\"],[0.3,\"#f1b6da\"],[0.4,\"#fde0ef\"],[0.5,\"#f7f7f7\"],[0.6,\"#e6f5d0\"],[0.7,\"#b8e186\"],[0.8,\"#7fbc41\"],[0.9,\"#4d9221\"],[1,\"#276419\"]]},\"xaxis\":{\"gridcolor\":\"white\",\"linecolor\":\"white\",\"ticks\":\"\",\"title\":{\"standoff\":15},\"zerolinecolor\":\"white\",\"automargin\":true,\"zerolinewidth\":2},\"yaxis\":{\"gridcolor\":\"white\",\"linecolor\":\"white\",\"ticks\":\"\",\"title\":{\"standoff\":15},\"zerolinecolor\":\"white\",\"automargin\":true,\"zerolinewidth\":2},\"scene\":{\"xaxis\":{\"backgroundcolor\":\"#E5ECF6\",\"gridcolor\":\"white\",\"linecolor\":\"white\",\"showbackground\":true,\"ticks\":\"\",\"zerolinecolor\":\"white\",\"gridwidth\":2},\"yaxis\":{\"backgroundcolor\":\"#E5ECF6\",\"gridcolor\":\"white\",\"linecolor\":\"white\",\"showbackground\":true,\"ticks\":\"\",\"zerolinecolor\":\"white\",\"gridwidth\":2},\"zaxis\":{\"backgroundcolor\":\"#E5ECF6\",\"gridcolor\":\"white\",\"linecolor\":\"white\",\"showbackground\":true,\"ticks\":\"\",\"zerolinecolor\":\"white\",\"gridwidth\":2}},\"shapedefaults\":{\"line\":{\"color\":\"#2a3f5f\"}},\"annotationdefaults\":{\"arrowcolor\":\"#2a3f5f\",\"arrowhead\":0,\"arrowwidth\":1},\"geo\":{\"bgcolor\":\"white\",\"landcolor\":\"#E5ECF6\",\"subunitcolor\":\"white\",\"showland\":true,\"showlakes\":true,\"lakecolor\":\"white\"},\"title\":{\"x\":0.05},\"mapbox\":{\"style\":\"light\"}}},\"xaxis\":{\"anchor\":\"y\",\"domain\":[0.0,1.0],\"title\":{\"text\":\"Variance\"}},\"yaxis\":{\"anchor\":\"x\",\"domain\":[0.0,1.0],\"title\":{\"text\":\"Features\"}},\"legend\":{\"tracegroupgap\":0},\"title\":{\"text\":\"High Variance Features\"},\"barmode\":\"relative\"},                        {\"responsive\": true}                    ).then(function(){\n",
       "                            \n",
       "var gd = document.getElementById('654439b6-56df-4aee-8dfb-543d7435f70e');\n",
       "var x = new MutationObserver(function (mutations, observer) {{\n",
       "        var display = window.getComputedStyle(gd).display;\n",
       "        if (!display || display === 'none') {{\n",
       "            console.log([gd, 'removed!']);\n",
       "            Plotly.purge(gd);\n",
       "            observer.disconnect();\n",
       "        }}\n",
       "}});\n",
       "\n",
       "// Listen for the removal of the full notebook cells\n",
       "var notebookContainer = gd.closest('#notebook-container');\n",
       "if (notebookContainer) {{\n",
       "    x.observe(notebookContainer, {childList: true});\n",
       "}}\n",
       "\n",
       "// Listen for the clearing of the current output cell\n",
       "var outputEl = gd.closest('.output');\n",
       "if (outputEl) {{\n",
       "    x.observe(outputEl, {childList: true});\n",
       "}}\n",
       "\n",
       "                        })                };                });            </script>        </div>"
      ]
     },
     "metadata": {},
     "output_type": "display_data"
    }
   ],
   "source": [
    "# lets plot that in bar-chart\n",
    "fig = px.bar(\n",
    "    x = top_ten_var,\n",
    "    y = top_ten_var.index,\n",
    "    title = \"High Variance Features\"\n",
    ")\n",
    "fig.update_layout(xaxis_title= \"Variance\", yaxis_title = \"Features\")\n",
    "fig.show()"
   ]
  },
  {
   "cell_type": "markdown",
   "id": "f2c0887a",
   "metadata": {},
   "source": [
    "* Observation: The features are showing very high variance, values are in `trillions` "
   ]
  },
  {
   "cell_type": "markdown",
   "id": "6ee25462",
   "metadata": {},
   "source": [
    "**High variance is observed in the feature lets check the distribution of a feature `NFIN`.**"
   ]
  },
  {
   "cell_type": "code",
   "execution_count": 40,
   "id": "847492f1",
   "metadata": {},
   "outputs": [
    {
     "data": {
      "application/vnd.plotly.v1+json": {
       "config": {
        "plotlyServerURL": "https://plot.ly"
       },
       "data": [
        {
         "alignmentgroup": "True",
         "hovertemplate": "NFIN=%{x}<extra></extra>",
         "legendgroup": "",
         "marker": {
          "color": "#636efa"
         },
         "name": "",
         "notched": false,
         "offsetgroup": "",
         "orientation": "h",
         "showlegend": false,
         "type": "box",
         "x": [
          14000,
          14000,
          13000,
          14000,
          14000,
          115700,
          111800,
          112500,
          110900,
          111200,
          10000,
          10000,
          11000,
          11000,
          11000,
          0,
          0,
          0,
          0,
          0,
          557000,
          556000,
          556000,
          557000,
          556000,
          6800,
          11100,
          7500,
          7600,
          9800,
          15000,
          15000,
          14900,
          15000,
          15000,
          100000,
          100000,
          100000,
          100000,
          100000,
          5800,
          5800,
          5900,
          5900,
          5900,
          0,
          0,
          0,
          0,
          0,
          19000,
          20000,
          20000,
          19000,
          20000,
          4500,
          4500,
          4500,
          4400,
          4500,
          342000,
          342000,
          342000,
          343000,
          341000,
          0,
          0,
          0,
          0,
          0,
          346000,
          331000,
          322900,
          330000,
          338000,
          0,
          0,
          0,
          0,
          0,
          173400,
          173300,
          173400,
          173400,
          173300,
          72000,
          72000,
          72100,
          72000,
          72100,
          0,
          0,
          0,
          0,
          0,
          2500,
          2500,
          2500,
          2500,
          2500,
          635000,
          635000,
          636000,
          635000,
          635000,
          880000,
          885000,
          821000,
          859400,
          834000,
          152000,
          165500,
          173400,
          170700,
          181000,
          0,
          0,
          0,
          0,
          0,
          12000,
          11000,
          12000,
          10000,
          11000,
          24000,
          25000,
          25000,
          25000,
          24000,
          42000,
          42000,
          42000,
          42000,
          41000,
          13300,
          14900,
          12000,
          8860,
          9800,
          5000,
          6100,
          3900,
          8600,
          4900,
          45000,
          44000,
          46000,
          41000,
          41000,
          0,
          0,
          0,
          0,
          0,
          3900,
          3400,
          4100,
          3000,
          7700,
          0,
          0,
          0,
          0,
          0,
          11000,
          8000,
          4300,
          5900,
          4500,
          5700,
          4000,
          4100,
          3400,
          3100,
          27500,
          27500,
          27500,
          28500,
          27500,
          0,
          0,
          0,
          0,
          0,
          21000,
          22000,
          22000,
          21000,
          21000,
          781400,
          782400,
          781500,
          782400,
          782500,
          21500,
          20500,
          20500,
          21400,
          21500,
          12500,
          7600,
          12400,
          8900,
          8700,
          9100,
          9100,
          9100,
          9200,
          9200,
          486600,
          544200,
          461000,
          503200,
          532000,
          512000,
          512000,
          512000,
          513000,
          512000,
          12500,
          14500,
          12800,
          18300,
          17900,
          0,
          0,
          0,
          0,
          0,
          0,
          0,
          0,
          0,
          0,
          17500,
          50500,
          25500,
          10500,
          50500,
          0,
          0,
          0,
          0,
          0,
          60000,
          33000,
          34000,
          58000,
          36000,
          428800,
          433000,
          432000,
          433000,
          426200,
          510000,
          510000,
          510000,
          510000,
          510000,
          0,
          0,
          0,
          0,
          0,
          0,
          0,
          0,
          0,
          0,
          0,
          0,
          0,
          0,
          0,
          8100,
          8000,
          8000,
          8000,
          8100,
          42100,
          42200,
          42100,
          42200,
          42200,
          3700,
          3700,
          3700,
          3700,
          3700,
          0,
          0,
          0,
          0,
          0,
          16000,
          15000,
          15000,
          15000,
          15000,
          0,
          0,
          0,
          0,
          0,
          2401960,
          2401950,
          2400960,
          2400950,
          2402000,
          12000,
          13000,
          13000,
          12000,
          12000,
          76800,
          76900,
          76800,
          76900,
          76900,
          400000,
          400000,
          400000,
          400000,
          400000,
          0,
          0,
          0,
          0,
          0,
          29000,
          29000,
          29000,
          29000,
          29000,
          15000,
          15000,
          15000,
          15000,
          15000,
          43000,
          40000,
          38000,
          48000,
          46000,
          212841000,
          220191000,
          220661000,
          205791000,
          221071000,
          15000,
          15000,
          15000,
          14000,
          15000,
          272100,
          272400,
          267020,
          272100,
          274900,
          7000,
          7000,
          7100,
          7100,
          7100,
          53900,
          69000,
          60000,
          60000,
          62000,
          3700,
          3600,
          3700,
          3700,
          3600,
          13400,
          13400,
          13400,
          13400,
          13400,
          337600,
          337600,
          337500,
          337600,
          337500,
          42700,
          41700,
          41700,
          41700,
          41700,
          7700,
          3500,
          178000,
          177000,
          178000,
          177000,
          178000,
          6900,
          7800,
          5400,
          5000,
          5100,
          0,
          0,
          0,
          0,
          0,
          696000,
          696000,
          695000,
          695000,
          696000,
          831000,
          812400,
          815500,
          816500,
          809970,
          5400,
          5400,
          5300,
          5400,
          5400,
          13000,
          13000,
          14000,
          13000,
          13000,
          646000,
          648900,
          636500,
          639400,
          622900,
          367000,
          368800,
          369700,
          369100,
          368600,
          238100,
          238100,
          238100,
          238100,
          238200,
          16070700,
          16066900,
          16070700,
          16089000,
          16085000,
          267005,
          267010,
          267010,
          267010,
          267010,
          15400,
          14500,
          19000,
          11200,
          12600,
          95400,
          94400,
          94400,
          93400,
          95400,
          11000,
          11000,
          11000,
          11000,
          11000,
          8800,
          8900,
          8900,
          8900,
          8800,
          167800,
          167800,
          167900,
          168800,
          167900,
          0,
          0,
          0,
          0,
          0,
          119000,
          119000,
          118000,
          118000,
          119000,
          18600,
          18600,
          18700,
          18600,
          18600,
          3200,
          3200,
          3200,
          3100,
          3100,
          0,
          0,
          0,
          0,
          0,
          600000,
          600000,
          600000,
          600000,
          600000,
          135900,
          164100,
          164000,
          154200,
          133300,
          5500,
          5500,
          5600,
          5600,
          5500,
          60000,
          60000,
          60000,
          60000,
          60000,
          1457000,
          1456000,
          1457000,
          1457000,
          1457000,
          60000,
          61000,
          61000,
          61000,
          61000,
          0,
          0,
          0,
          0,
          0,
          54100,
          54100,
          54100,
          53100,
          54100,
          1051200,
          1051300,
          1051200,
          1052200,
          1051200,
          10200,
          11000,
          16000,
          13200,
          10100,
          37000,
          37000,
          38000,
          37000,
          38000,
          35000,
          37000,
          36000,
          36000,
          36000,
          548000,
          548000,
          548000,
          548000,
          549000,
          0,
          0,
          0,
          0,
          0,
          109000,
          88200,
          88300,
          101000,
          112000,
          0,
          0,
          0,
          0,
          0,
          6811000,
          6812000,
          6811000,
          6811000,
          6811000,
          0,
          0,
          0,
          0,
          0,
          82620,
          82610,
          84000,
          84000,
          83000,
          0,
          0,
          0,
          0,
          0,
          30500,
          36000,
          27600,
          26700,
          48000,
          15700,
          15700,
          8900,
          16800,
          9900,
          43000,
          43000,
          43000,
          42000,
          42000,
          57200,
          55100,
          55100,
          54100,
          57200,
          5900,
          5800,
          5900,
          5800,
          5900,
          4334000,
          4335000,
          4335000,
          4334000,
          4334000,
          5200,
          5300,
          5200,
          5200,
          5200,
          0,
          0,
          0,
          0,
          0,
          46386600,
          47385200,
          50308800,
          48500500,
          46978600,
          22000,
          22000,
          23000,
          22000,
          23000,
          2600,
          2700,
          2600,
          2700,
          2600,
          12000,
          13000,
          12000,
          12000,
          12000,
          31000,
          31000,
          31000,
          31000,
          31000,
          1590200,
          1601400,
          1591100,
          1593800,
          1596400,
          845000,
          847000,
          842100,
          850000,
          848000,
          0,
          0,
          0,
          0,
          0,
          1727000,
          1727000,
          1727000,
          1726000,
          1726000,
          48000,
          48000,
          47000,
          48000,
          47000,
          172000,
          174000,
          173000,
          173000,
          173000,
          0,
          0,
          0,
          0,
          0,
          5800,
          5800,
          5800,
          5800,
          5800,
          8200,
          8100,
          8200,
          8200,
          8200,
          507000,
          503000,
          503000,
          507000,
          503000,
          13000,
          12000,
          12000,
          12000,
          12000,
          55800,
          54800,
          55700,
          55800,
          54800,
          19100,
          19100,
          19100,
          19100,
          19100,
          8900,
          9000,
          9000,
          9000,
          9000,
          364000,
          320000,
          360000,
          316000,
          326000,
          0,
          0,
          0,
          0,
          0,
          5000,
          5000,
          5000,
          5000,
          5000,
          151000,
          151000,
          151000,
          151000,
          151000,
          0,
          0,
          0,
          0,
          0,
          34062800,
          34061900,
          34061500,
          34061700,
          34062300,
          900000,
          900000,
          900000,
          901000,
          900000,
          199400,
          192400,
          184100,
          191700,
          193000,
          0,
          0,
          0,
          0,
          0,
          21900,
          21900,
          21900,
          21900,
          21900,
          0,
          0,
          0,
          0,
          0,
          0,
          0,
          0,
          0,
          0,
          70994000,
          71353700,
          70650000,
          72201500,
          71980000,
          0,
          0,
          0,
          0,
          0,
          3100,
          3200,
          3200,
          3200,
          3200,
          0,
          0,
          0,
          0,
          0,
          0,
          0,
          0,
          0,
          0,
          68600,
          68600,
          68600,
          68500,
          68600,
          1015600,
          1010300,
          1007800,
          1008600,
          1015600,
          0,
          0,
          0,
          0,
          0,
          256000,
          256000,
          256000,
          257000,
          257000,
          140000,
          139900,
          140000,
          140000,
          141000,
          159300,
          154660,
          160200,
          165100,
          164100,
          90000,
          89000,
          89000,
          90000,
          89000,
          0,
          0,
          0,
          0,
          0,
          0,
          0,
          0,
          0,
          0,
          22000,
          22000,
          23000,
          23000,
          22000,
          71000,
          70000,
          61000,
          72000,
          72000,
          0,
          0,
          0,
          0,
          0,
          4200,
          4300,
          4300,
          4200,
          4200,
          0,
          0,
          0,
          0,
          0,
          34000,
          34000,
          34000,
          34000,
          35000,
          432700,
          425700,
          424700,
          427700,
          422700,
          21700,
          30900,
          28100,
          28500,
          18900,
          0,
          0,
          0,
          0,
          0,
          10000,
          11000,
          10000,
          11000,
          10000,
          43100,
          43100,
          43000,
          43100,
          43000,
          10000,
          10000,
          10000,
          10000,
          10000,
          106100,
          105000,
          105000,
          105100,
          106100,
          8500,
          8500,
          8500,
          8500,
          8500,
          0,
          0,
          0,
          0,
          0,
          7400,
          7500,
          7400,
          7500,
          7500,
          11000,
          11000,
          11000,
          11000,
          11000,
          3600,
          3600,
          3600,
          3600,
          3600,
          0,
          0,
          0,
          0,
          0,
          0,
          0,
          0,
          0,
          0,
          31900,
          31900,
          42900,
          36800,
          44800,
          4700,
          4700,
          4700,
          4700,
          4700,
          5200,
          5200,
          5200,
          5200,
          5200,
          725000,
          726000,
          725000,
          725000,
          725000,
          1373500,
          1373500,
          1373500,
          1373500,
          1374500,
          1020500,
          1214500,
          1110500,
          1140500,
          1175000,
          21000,
          20000,
          21000,
          21000,
          21000,
          0,
          0,
          0,
          0,
          0,
          4000,
          4100,
          4100,
          4100,
          4100,
          153000,
          160000,
          150000,
          154000,
          162000,
          4300,
          4300,
          4300,
          4300,
          4300,
          261000,
          260000,
          261000,
          261000,
          260000,
          9700,
          9700,
          9700,
          9700,
          9700,
          66000,
          66000,
          57000,
          62000,
          57000,
          24200,
          22600,
          21600,
          24900,
          33000,
          6600,
          7000,
          7400,
          8100,
          6800,
          15900,
          36500,
          9100,
          22200,
          29700,
          0,
          0,
          0,
          0,
          0,
          37000,
          38000,
          200000,
          200000,
          200000,
          200000,
          200000,
          49600,
          49600,
          49600,
          49500,
          49600,
          363000,
          362000,
          363000,
          364000,
          363000,
          299500,
          299500,
          253250,
          299500,
          309650,
          11000,
          11000,
          11000,
          11000,
          12000,
          15000,
          8200,
          19000,
          12000,
          11000,
          0,
          0,
          0,
          0,
          0,
          0,
          0,
          0,
          0,
          0,
          300000,
          300000,
          300000,
          300000,
          300000,
          13000,
          13100,
          13100,
          13000,
          13100,
          22700,
          22800,
          22700,
          22800,
          23700,
          0,
          0,
          0,
          0,
          0,
          0,
          0,
          0,
          0,
          0,
          0,
          0,
          0,
          0,
          0,
          7400,
          7400,
          7400,
          7500,
          7400,
          20000,
          20000,
          20000,
          19000,
          20000,
          214000,
          215000,
          214000,
          215000,
          214000,
          30000,
          28000,
          29600,
          30800,
          29800,
          0,
          0,
          0,
          0,
          0,
          21880,
          21870,
          14960,
          22960,
          22380,
          489500,
          273500,
          329500,
          439500,
          305500,
          36500,
          36500,
          37500,
          37500,
          36500,
          60900,
          61000,
          61000,
          61000,
          60900,
          21100,
          20000,
          20000,
          20000,
          21100,
          4700,
          7400,
          4500,
          12000,
          4500,
          3600,
          8700,
          5000,
          5000,
          6300,
          217000,
          217000,
          216000,
          216000,
          216000,
          0,
          0,
          0,
          0,
          0,
          0,
          0,
          0,
          0,
          0,
          900200,
          1356200,
          888600,
          893200,
          1359200,
          0,
          0,
          0,
          0,
          0,
          24000,
          23000,
          22000,
          25000,
          24000,
          0,
          11000,
          12000,
          12000,
          11000,
          12000,
          3700,
          3700,
          3700,
          3700,
          3800,
          8547000,
          8547000,
          8547000,
          8546000,
          8547000,
          1254600,
          391600,
          514600,
          1248600,
          627600,
          4500,
          4500,
          4500,
          4500,
          4500,
          535700,
          535800,
          535800,
          534700,
          533900,
          4100,
          5200,
          3800,
          3300,
          3900,
          0,
          0,
          0,
          0,
          0,
          37700,
          38800,
          38800,
          38800,
          37800,
          1170000,
          1170000,
          1170000,
          1170000,
          1170000,
          9000,
          9000,
          9000,
          9000,
          9000,
          974000,
          974000,
          974000,
          974000,
          974000,
          0,
          0,
          0,
          0,
          0,
          47000,
          47000,
          46000,
          46000,
          47000,
          288000,
          287000,
          288000,
          287000,
          287000,
          16000,
          15000,
          15000,
          15000,
          15000,
          8600,
          8700,
          8700,
          8600,
          8600,
          681000,
          570000,
          647000,
          561000,
          677000,
          275000,
          277000,
          277000,
          276000,
          276000,
          238900,
          249500,
          243200,
          254100,
          243600,
          234000,
          234000,
          234000,
          234000,
          234000,
          444000,
          445000,
          445000,
          444000,
          444000,
          331600,
          330500,
          334300,
          331600,
          330800,
          54000,
          54000,
          35100,
          54000,
          46000,
          0,
          0,
          0,
          0,
          0,
          12000,
          12000,
          13000,
          14000,
          11000,
          488000,
          488000,
          488000,
          487000,
          488000,
          412000,
          412000,
          411000,
          411000,
          411000,
          3341000,
          3591000,
          3181000,
          3582000,
          2962000,
          512300,
          513400,
          513400,
          513400,
          513400,
          333200,
          333200,
          333200,
          333200,
          333200,
          145000,
          162000,
          161000,
          174000,
          181000,
          8200,
          8100,
          8100,
          8100,
          8100,
          19800,
          16400,
          12500,
          10500,
          13700,
          8200,
          8300,
          8200,
          8300,
          8200,
          1653000,
          1653000,
          1653000,
          1652000,
          1653000,
          63000,
          62000,
          63000,
          62000,
          62000,
          40100,
          45200,
          39070,
          41900,
          43200,
          8600,
          8300,
          8400,
          11500,
          15000,
          9500,
          9500,
          9500,
          9500,
          9500,
          205600,
          204600,
          204500,
          204500,
          205600,
          204500,
          204600,
          204600,
          205600,
          205600,
          444400,
          445300,
          444300,
          444300,
          444400,
          28000,
          28000,
          29000,
          28000,
          28000,
          25000,
          24000,
          24000,
          24000,
          25000,
          410100,
          410200,
          410200,
          411100,
          410100,
          115600,
          115600,
          114600,
          115600,
          114600,
          0,
          0,
          0,
          0,
          0,
          286900,
          310900,
          337000,
          310200,
          269900,
          200000,
          177000,
          239000,
          138000,
          213000,
          3100,
          3200,
          3200,
          3200,
          3200,
          0,
          0,
          0,
          0,
          0,
          339000,
          340000,
          340000,
          340000,
          340000,
          12000,
          13000,
          13000,
          12000,
          13000,
          347600,
          347400,
          348100,
          347300,
          347300,
          18000,
          19000,
          15000,
          18000,
          18000,
          1279000,
          1263000,
          1254200,
          1264000,
          1270000,
          21000,
          20000,
          21000,
          20000,
          21000,
          0,
          0,
          0,
          0,
          0,
          5780000,
          5870000,
          5770000,
          5851000,
          5790000,
          23000,
          23000,
          23000,
          23000,
          23000,
          165400,
          164900,
          177100,
          169100,
          182100,
          8300,
          8400,
          8300,
          8400,
          8300,
          40000,
          40000,
          40000,
          40000,
          40000,
          0,
          0,
          0,
          0,
          0,
          63000,
          64000,
          64000,
          63000,
          64000,
          63100,
          65100,
          71100,
          64100,
          67100,
          18000,
          18000,
          18000,
          18000,
          18000,
          156800,
          157900,
          157800,
          154900,
          157200,
          0,
          0,
          0,
          0,
          0,
          0,
          0,
          0,
          0,
          0,
          35900,
          35800,
          35800,
          35800,
          35900,
          566140,
          566140,
          566140,
          566140,
          566140,
          10000,
          6700,
          9700,
          12200,
          10300,
          0,
          0,
          0,
          0,
          0,
          78322000,
          70299000,
          84559000,
          73751000,
          79166000,
          262400,
          259900,
          264700,
          260600,
          269200,
          82200,
          83400,
          84900,
          86000,
          84600,
          4600,
          4200,
          4600,
          4500,
          4200,
          171300,
          171300,
          171300,
          171300,
          172400,
          173700,
          173700,
          173700,
          173800,
          173800,
          0,
          0,
          0,
          0,
          0,
          1754000,
          1754000,
          1753000,
          1753000,
          1753000,
          0,
          0,
          0,
          0,
          0,
          35000,
          36000,
          35500,
          29400,
          31000,
          469900,
          470000,
          475800,
          480000,
          472310,
          192400,
          809900,
          58453.6,
          451500,
          370600,
          0,
          0,
          0,
          0,
          0,
          7000,
          7000,
          7000,
          7000,
          7000,
          213470,
          213370,
          213470,
          213470,
          213370,
          0,
          0,
          0,
          0,
          0,
          0,
          46000,
          46000,
          46000,
          46000,
          46000,
          28600,
          27600,
          28600,
          28600,
          27600,
          0,
          0,
          0,
          0,
          0,
          474000,
          475000,
          474000,
          475000,
          474000,
          410600,
          410500,
          410500,
          410500,
          410500,
          175100,
          174100,
          175100,
          175200,
          175100,
          631300,
          620300,
          634000,
          622300,
          635000,
          13300,
          13300,
          13300,
          13300,
          13400,
          37000,
          38000,
          38000,
          38000,
          38000,
          71000,
          59000,
          66000,
          59000,
          51000,
          38000,
          39000,
          38000,
          38000,
          39000,
          28000,
          29000,
          29000,
          28000,
          29000,
          7400,
          7500,
          7500,
          7500,
          7400,
          4000,
          4000,
          4000,
          4000,
          4000,
          216000,
          216000,
          216000,
          216000,
          216000,
          36000,
          36000,
          36000,
          36000,
          36000,
          1101000,
          1101000,
          1101000,
          1100000,
          1101000,
          11000,
          11000,
          11000,
          11000,
          11000,
          0,
          0,
          0,
          0,
          0,
          342000,
          341000,
          340000,
          341000,
          340000,
          746000,
          744800,
          766000,
          783000,
          750000,
          6300,
          6300,
          6300,
          6400,
          6400,
          26300,
          25400,
          25300,
          25300,
          25300,
          490000,
          486900,
          486100,
          489800,
          485400,
          498600,
          498600,
          498600,
          498500,
          498500,
          4500,
          4500,
          4500,
          4500,
          4500,
          22000,
          22000,
          23000,
          22000,
          22000,
          400000,
          396000,
          396000,
          385600,
          394000,
          420100,
          420200,
          421100,
          420100,
          679100,
          0,
          0,
          0,
          0,
          0,
          0,
          0,
          0,
          0,
          0,
          607000,
          606000,
          607000,
          607000,
          608000,
          21000,
          22000,
          21000,
          21000,
          22000,
          21000,
          21000,
          21000,
          21000,
          21000,
          34000,
          34000,
          34000,
          34000,
          34000,
          0,
          0,
          0,
          0,
          0,
          49000,
          49000,
          48000,
          49000,
          49000,
          7900,
          7900,
          7900,
          7900,
          7900,
          107900,
          107000,
          108000,
          107000,
          108000,
          36000,
          35000,
          35000,
          36000,
          35000,
          90900,
          70900,
          63200,
          74800,
          80800,
          10600,
          18900,
          13100,
          15100,
          11900,
          56000,
          57000,
          57000,
          57000,
          58000,
          87900,
          87900,
          88900,
          87900,
          87900,
          40000,
          39000,
          39000,
          39000,
          40000,
          5600,
          5600,
          5500,
          5600,
          5600,
          75500,
          75400,
          75600,
          76500,
          75600,
          272000,
          265000,
          267000,
          261000,
          262000,
          270000,
          269000,
          270000,
          270000,
          268000,
          577200,
          592150,
          543100,
          515900,
          599000,
          1566900,
          1566000,
          1565900,
          1577200,
          1566900,
          27000,
          27000,
          27000,
          27000,
          27000,
          33700,
          33700,
          34700,
          33700,
          34700,
          1750,
          1750,
          1750,
          1750,
          1750,
          20000,
          20000,
          20000,
          20000,
          20000,
          116700,
          117700,
          116700,
          117700,
          117700,
          344600,
          325700,
          327200,
          320700,
          336600,
          6300,
          5900,
          5100,
          9700,
          9200,
          7500,
          7500,
          7500,
          7500,
          7500,
          14300,
          15300,
          15300,
          14300,
          14300,
          424000,
          424000,
          425000,
          425000,
          424000,
          179890,
          179890,
          181890,
          179890,
          182890,
          3000,
          3000,
          2900,
          3000,
          3000,
          1060500,
          1615500,
          1615500,
          1031500,
          1093600,
          15000,
          15000,
          6800,
          11000,
          11000,
          222000,
          222000,
          223000,
          223000,
          223000,
          12900,
          12900,
          12800,
          12900,
          12800,
          1524900,
          1524900,
          1524800,
          1523900,
          1523900,
          0,
          0,
          0,
          0,
          0,
          0,
          0,
          0,
          0,
          0,
          138500,
          138800,
          138200,
          138800,
          138800,
          602000,
          603000,
          603000,
          603000,
          603000,
          0,
          0,
          0,
          0,
          0,
          6100,
          6100,
          6100,
          6100,
          6100,
          4300,
          6900,
          7500,
          4100,
          5000,
          0,
          0,
          0,
          0,
          0,
          7700,
          3600,
          3200,
          4700,
          6100,
          6500,
          6600,
          6600,
          6500,
          6500,
          35600,
          35200,
          35500,
          30000,
          29200,
          1721000,
          1244000,
          1487000,
          1720000,
          1291000,
          0,
          0,
          0,
          0,
          0,
          0,
          0,
          0,
          0,
          0,
          257000,
          205000,
          249000,
          458000,
          225000,
          9100,
          9100,
          9100,
          9000,
          9100,
          35000,
          35000,
          35000,
          35000,
          35000,
          8200,
          8100,
          8200,
          8200,
          8200,
          0,
          0,
          0,
          0,
          0,
          79000,
          97000,
          88000,
          94000,
          96000,
          0,
          0,
          0,
          0,
          0,
          14000,
          15000,
          15000,
          15000,
          15000,
          15000,
          16000,
          15000,
          15000,
          16000,
          0,
          0,
          0,
          0,
          0,
          4300,
          4400,
          4300,
          4300,
          4300,
          0,
          0,
          0,
          0,
          0,
          11900,
          6400,
          7100,
          4400,
          6500,
          35000,
          34000,
          35000,
          35000,
          35000,
          1141800,
          1085100,
          1118800,
          1085800,
          1095800,
          0,
          0,
          0,
          0,
          0,
          9300,
          9000,
          7900,
          7600,
          8100,
          753200,
          771600,
          777630,
          738600,
          754900,
          0,
          0,
          0,
          0,
          0,
          0,
          0,
          0,
          0,
          0,
          26000,
          25000,
          26000,
          25000,
          26000,
          383000,
          387000,
          390000,
          445000,
          383000,
          66700,
          66700,
          66700,
          66700,
          66700,
          0,
          0,
          0,
          0,
          0,
          47000,
          46000,
          46000,
          46000,
          46000,
          55300,
          52400,
          49600,
          53600,
          51400,
          469000,
          473000,
          472000,
          472000,
          469000,
          0,
          0,
          0,
          0,
          0,
          329200,
          324530,
          329800,
          325600,
          324530,
          359010,
          367500,
          365800,
          363000,
          364400,
          11000,
          11000,
          11000,
          11000,
          11000,
          257000,
          257000,
          257000,
          258000,
          257000,
          29300,
          41000,
          37000,
          33800,
          46000,
          0,
          0,
          0,
          0,
          0,
          292000,
          292000,
          292000,
          291000,
          292000,
          216000,
          216000,
          216000,
          216000,
          216000,
          458000,
          329000,
          373000,
          287000,
          427000,
          20900,
          14700,
          19800,
          18200,
          25700,
          1547000,
          1547000,
          1547000,
          1547000,
          1547000,
          19600,
          19600,
          19500,
          19500,
          19500,
          12000,
          12000,
          13000,
          12000,
          12000,
          8600,
          8700,
          8600,
          8600,
          8700,
          4600,
          4600,
          4600,
          4600,
          4600,
          5500,
          5500,
          5500,
          5400,
          5400,
          7400,
          7400,
          7400,
          7400,
          7500,
          7200,
          7200,
          7200,
          7200,
          7200,
          21000,
          21000,
          21000,
          21000,
          21000,
          290100,
          419000,
          354000,
          489000,
          427100,
          5300,
          5300,
          5300,
          5200,
          5200,
          393000,
          285000,
          329000,
          211000,
          231000,
          0,
          0,
          0,
          0,
          0,
          35000,
          34000,
          35000,
          34000,
          35000,
          0,
          0,
          0,
          0,
          0,
          9900,
          9100,
          8000,
          10500,
          10700,
          170300,
          170300,
          171200,
          170200,
          170300,
          292300,
          292300,
          292300,
          292300,
          292200,
          136000,
          136000,
          136000,
          136000,
          136000,
          1486000,
          1486000,
          1486000,
          1485000,
          1486000,
          12200,
          10700,
          13500,
          16900,
          11800,
          82400,
          82300,
          82400,
          83300,
          83400,
          6200,
          6100,
          5600,
          8400,
          6300,
          25000,
          26000,
          26000,
          25000,
          25000,
          8800,
          10100,
          9900,
          13200,
          11100,
          18000,
          18000,
          18000,
          17000,
          17000,
          28700,
          30500,
          29300,
          27200,
          27800,
          8100,
          8200,
          8100,
          8200,
          8100,
          448400,
          457000,
          448800,
          459000,
          441700,
          0,
          0,
          0,
          0,
          0,
          8700,
          9600,
          10100,
          8600,
          9000,
          601000,
          601000,
          601000,
          601000,
          601000,
          1147000,
          1260000,
          872000,
          951000,
          1919000,
          9100,
          9100,
          9100,
          9100,
          9200,
          8200,
          8200,
          8200,
          8200,
          8200,
          186100,
          188900,
          192200,
          189900,
          192000,
          18000,
          18000,
          19000,
          18000,
          19000,
          20900,
          20800,
          20800,
          19800,
          20800,
          20,
          20,
          20,
          20,
          20,
          453000,
          454000,
          453000,
          453000,
          453000,
          228400,
          239100,
          235700,
          227600,
          232000,
          33000,
          33000,
          33000,
          33000,
          33000,
          0,
          0,
          0,
          0,
          0,
          48800,
          44250,
          45950,
          54000,
          50100,
          5200,
          7500,
          6300,
          6800,
          14000,
          381000,
          382000,
          382000,
          382000,
          381000,
          6100,
          6000,
          6000,
          6000,
          6000,
          1214500,
          1222600,
          1246000,
          1230000,
          1227000,
          531000,
          510000,
          490600,
          508000,
          557000,
          0,
          0,
          0,
          0,
          0,
          0,
          0,
          0,
          0,
          0,
          0,
          0,
          0,
          0,
          0,
          74600,
          81200,
          80300,
          76600,
          79500,
          20700,
          19700,
          20700,
          20700,
          19700,
          2607100,
          2352100,
          2354100,
          2335100,
          2524100,
          0,
          0,
          0,
          0,
          0,
          0,
          0,
          0,
          0,
          0,
          0,
          0,
          0,
          0,
          0,
          13000,
          14000,
          14000,
          14000,
          14000,
          210200,
          210100,
          210100,
          210100,
          210200,
          534100,
          534100,
          534100,
          533100,
          535100,
          1409000,
          1409000,
          1409000,
          1408000,
          1409000,
          118330,
          120470,
          120280,
          119280,
          118330,
          5500,
          5500,
          5500,
          5500,
          5600,
          416000,
          415000,
          415000,
          416000,
          415000,
          9300,
          9300,
          9300,
          9300,
          9300,
          28800,
          27300,
          26500,
          27100,
          28600,
          1015800,
          1015800,
          1015800,
          1015800,
          1016800,
          40000,
          40000,
          40000,
          40000,
          40000,
          0,
          0,
          0,
          0,
          0,
          21800,
          21800,
          21900,
          21800,
          21800,
          0,
          0,
          0,
          0,
          0,
          0,
          0,
          0,
          0,
          0,
          9900,
          9900,
          9800,
          9800,
          9800,
          6000,
          5400,
          9300,
          6200,
          13000,
          22000,
          124700,
          125600,
          125600,
          125600,
          125700,
          230000,
          229000,
          225200,
          235000,
          237000,
          5700,
          5800,
          5800,
          5800,
          5800,
          5600,
          5600,
          5600,
          5600,
          5600,
          14000,
          14000,
          13000,
          13000,
          13000,
          287000,
          273600,
          273600,
          283000,
          305000,
          38200,
          34200,
          29200,
          38200,
          28200,
          141100,
          141100,
          141100,
          141100,
          140100,
          68600,
          69500,
          68600,
          69600,
          68600,
          16000,
          63000,
          30000,
          15000,
          23100,
          1852000,
          1814000,
          1815000,
          2129000,
          1814000,
          0,
          0,
          0,
          0,
          0,
          15000,
          15000,
          15000,
          15000,
          15000,
          461000,
          460900,
          461100,
          461900,
          461000,
          0,
          0,
          0,
          0,
          0,
          120000,
          117000,
          119000,
          123000,
          117000,
          1095000,
          1094000,
          1094000,
          1094000,
          1094000,
          53200,
          65000,
          66100,
          65100,
          59000,
          372000,
          373000,
          372000,
          373000,
          0,
          0,
          0,
          0,
          0,
          320000,
          319700,
          320000,
          320000,
          320000,
          35000,
          37000,
          37000,
          37000,
          37000,
          0,
          0,
          0,
          0,
          0,
          6600,
          6600,
          6600,
          6600,
          6600,
          108000,
          109000,
          109000,
          108000,
          108000,
          45000,
          45000,
          45000,
          45000,
          45000,
          40000,
          40000,
          40000,
          40000,
          40000,
          0,
          0,
          0,
          0,
          0,
          362000,
          362000,
          363000,
          363000,
          363000,
          299300,
          289600,
          290600,
          302300,
          291300,
          229000,
          212600,
          193400,
          301900,
          250000,
          11000,
          10900,
          11000,
          10800,
          11000,
          250000,
          250000,
          250000,
          250000,
          250000,
          58000,
          58000,
          58000,
          58000,
          58000,
          0,
          0,
          0,
          0,
          0,
          74000,
          74000,
          76000,
          74000,
          76000,
          6300,
          6200,
          6200,
          6200,
          6200,
          0,
          0,
          0,
          0,
          0,
          0,
          0,
          0,
          0,
          0,
          527000,
          529400,
          533700,
          525200,
          530900,
          7300,
          7300,
          7400,
          7300,
          7300,
          320500,
          301500,
          311500,
          308500,
          320500,
          350000,
          350000,
          350000,
          350000,
          350000,
          42959000,
          43210000,
          42630000,
          42730000,
          42760000,
          33100,
          35700,
          57000,
          29100,
          52000,
          34611000,
          34613000,
          34612000,
          34612000,
          34612000,
          74400,
          74400,
          74400,
          74400,
          74400,
          0,
          0,
          0,
          0,
          0,
          0,
          0,
          0,
          0,
          0,
          0,
          0,
          0,
          0,
          0,
          363700,
          353800,
          366800,
          360700,
          366800,
          417200,
          419780,
          420000,
          420000,
          419700,
          16000,
          16000,
          16000,
          17000,
          16000,
          20000,
          20000,
          20000,
          20000,
          20000,
          8300,
          8300,
          8200,
          8300,
          8300,
          291000,
          261000,
          273000,
          294000,
          301000,
          2465000,
          2464000,
          2464000,
          2465000,
          2464000,
          16000,
          16000,
          16000,
          17000,
          17000,
          0,
          0,
          0,
          0,
          0,
          1088100,
          1089100,
          1088100,
          1088100,
          1088100,
          905600,
          725600,
          858600,
          799600,
          565600,
          0,
          0,
          0,
          0,
          0,
          23000,
          23000,
          24000,
          23000,
          24000,
          13000,
          13000,
          13000,
          12000,
          12000,
          0,
          0,
          0,
          0,
          0,
          29000,
          31000,
          30000,
          30000,
          31000,
          66200,
          56100,
          61400,
          75400,
          74400,
          801620,
          812000,
          813000,
          819000,
          801630,
          724800,
          724900,
          723900,
          723900,
          724900,
          293640,
          293640,
          293630,
          293630,
          293740,
          0,
          0,
          0,
          0,
          0,
          531000,
          532000,
          532000,
          531000,
          532000,
          141700,
          153000,
          170900,
          162000,
          113500,
          27000,
          27000,
          27000,
          27000,
          27000,
          0,
          0,
          0,
          0,
          0,
          21000,
          20000,
          21000,
          20000,
          20000,
          0,
          0,
          0,
          0,
          0,
          170000,
          170000,
          170000,
          170000,
          170000,
          30000,
          30000,
          30000,
          30000,
          30000,
          55000,
          55000,
          55000,
          55000,
          55000,
          102800,
          102800,
          102700,
          102800,
          102800,
          3000,
          3000,
          3000,
          3000,
          3000,
          6100,
          6000,
          6000,
          6100,
          6000,
          296700,
          291700,
          295600,
          290600,
          292700,
          195000,
          197000,
          196000,
          196000,
          196000,
          283100,
          284100,
          283000,
          283100,
          283100,
          12800,
          8720,
          10100,
          9800,
          12000,
          28900,
          29000,
          29000,
          29000,
          29000,
          4400,
          4400,
          4400,
          4400,
          4400,
          14400,
          9600,
          7200,
          7200,
          10200,
          4800,
          10000,
          13000,
          13000,
          5400,
          6600,
          13000,
          7600,
          11600,
          6100,
          5200,
          5100,
          5200,
          5200,
          5100,
          0,
          0,
          0,
          0,
          0,
          40000,
          40000,
          40000,
          40000,
          40000,
          0,
          0,
          0,
          0,
          0,
          3000,
          3000,
          3000,
          3000,
          3000,
          0,
          0,
          0,
          0,
          0,
          0,
          0,
          0,
          0,
          0,
          22000,
          22000,
          22000,
          22000,
          21000,
          42000,
          43000,
          43000,
          43000,
          43000,
          0,
          0,
          0,
          0,
          0,
          0,
          0,
          0,
          0,
          0,
          10000,
          10000,
          10000,
          10000,
          10000,
          467900,
          468000,
          467900,
          469000,
          467900,
          59000,
          59000,
          60000,
          59000,
          59000,
          5200,
          4900,
          4900,
          6400,
          9800,
          17600,
          16700,
          17700,
          17700,
          17700,
          3900,
          3900,
          4000,
          3900,
          4000,
          43000,
          41900,
          42900,
          45600,
          48900,
          14000,
          15000,
          15000,
          15000,
          14000,
          29616000,
          29616000,
          29615000,
          29616000,
          29616000,
          66000,
          66000,
          66000,
          66000,
          66000,
          0,
          0,
          0,
          0,
          0,
          15000,
          14000,
          15000,
          14000,
          14000,
          264000,
          263000,
          264000,
          263000,
          263000,
          32000,
          18900,
          28600,
          55000,
          23000,
          235000,
          8100,
          10800,
          6000,
          7600,
          7900,
          292000,
          292000,
          292000,
          292000,
          292000,
          816000,
          817000,
          818000,
          816000,
          817000,
          0,
          0,
          0,
          0,
          0,
          0,
          0,
          0,
          0,
          0,
          314900,
          313900,
          313900,
          313900,
          314900,
          0,
          0,
          0,
          0,
          0,
          6800,
          5600,
          3600,
          9400,
          7900,
          1913000,
          1914000,
          1913000,
          1913000,
          1914000,
          240900,
          240900,
          240900,
          240900,
          240900,
          331800,
          331800,
          331900,
          331900,
          331900,
          1047200,
          1047200,
          1048300,
          1048300,
          1048300,
          66700,
          66700,
          66700,
          66600,
          65600,
          241900,
          276000,
          195900,
          284000,
          279900,
          15000,
          18000,
          17000,
          18000,
          16000,
          43000,
          43000,
          43000,
          43000,
          44000,
          20151000,
          17102000,
          19882000,
          16394000,
          20906000,
          27000,
          28100,
          27000,
          28100,
          27100,
          16200,
          16300,
          16300,
          16300,
          16200,
          171000,
          196100,
          200000,
          156000,
          158800,
          9100,
          9100,
          9100,
          9100,
          9100,
          364000,
          364000,
          365000,
          365000,
          364000,
          5400,
          9800,
          3900,
          9400,
          4700,
          261900,
          264800,
          261900,
          277500,
          264700,
          0,
          0,
          0,
          0,
          0,
          0,
          0,
          0,
          0,
          0,
          76000,
          77000,
          80000,
          80000,
          80000,
          6700,
          6800,
          6800,
          6800,
          6800,
          26000,
          26000,
          26000,
          26000,
          26000,
          19000,
          19000,
          19000,
          19000,
          19000,
          244000,
          243000,
          244000,
          243000,
          244000,
          315900,
          315900,
          315900,
          315800,
          315800,
          0,
          0,
          0,
          0,
          0,
          287000,
          287000,
          287000,
          287000,
          287000,
          208100,
          208200,
          208200,
          208100,
          208200,
          47900,
          47900,
          47900,
          48900,
          48900,
          127000,
          161000,
          161000,
          142000,
          195000,
          0,
          0,
          0,
          0,
          0,
          369000,
          368000,
          369000,
          368000,
          368000,
          567000,
          581000,
          1342000,
          629000,
          803000,
          440000,
          421000,
          407000,
          406000,
          413000,
          0,
          0,
          0,
          0,
          0,
          5800,
          5800,
          5800,
          5700,
          5800,
          210730,
          210730,
          211730,
          212620,
          211730,
          16000,
          17000,
          16000,
          16000,
          16000,
          130000,
          130000,
          130000,
          130000,
          130000,
          13100,
          13100,
          13100,
          13100,
          13100,
          0,
          0,
          0,
          0,
          0,
          37300,
          37400,
          37300,
          37300,
          37300,
          0,
          0,
          0,
          0,
          0,
          52000,
          60700,
          47200,
          42600,
          55900,
          542900,
          538900,
          532700,
          531200,
          539900,
          6575000,
          6574000,
          6574000,
          6574000,
          6574000,
          143710,
          144710,
          144400,
          143710,
          144250,
          22504000,
          22149000,
          22334000,
          22322000,
          22553000,
          222500,
          225500,
          238500,
          229800,
          217500,
          6800,
          7100,
          12000,
          5400,
          6500,
          228500,
          228500,
          228500,
          229600,
          229500,
          45400,
          45400,
          45400,
          45400,
          45400,
          37000,
          37000,
          35900,
          36900,
          37000,
          245200,
          230620,
          240200,
          243100,
          239200,
          33300,
          33300,
          33300,
          33300,
          33300,
          2625900,
          2625800,
          2626900,
          2625800,
          2625800,
          26300,
          26300,
          26300,
          27300,
          26300,
          317800,
          317800,
          318800,
          318800,
          318800,
          0,
          0,
          0,
          0,
          0,
          510000,
          510000,
          510000,
          507600,
          510000,
          7900,
          5900,
          6200,
          9300,
          6300,
          0,
          0,
          0,
          0,
          0,
          25000,
          25000,
          25000,
          25000,
          25000,
          8300,
          8300,
          8300,
          8300,
          8300,
          422000,
          422000,
          422000,
          422000,
          422000,
          21000,
          22000,
          22000,
          23000,
          23000,
          23800,
          23900,
          23900,
          23900,
          23900,
          0,
          0,
          0,
          0,
          0,
          6300,
          6200,
          6200,
          6300,
          6200,
          200000,
          200000,
          200000,
          201000,
          201000,
          177400,
          176400,
          176400,
          176400,
          176400,
          47100,
          47100,
          48100,
          47100,
          48100,
          0,
          0,
          0,
          0,
          0,
          0,
          0,
          0,
          0,
          0,
          0,
          0,
          0,
          0,
          0,
          12000,
          12000,
          12000,
          13000,
          13000,
          12000,
          12000,
          12000,
          12000,
          12000,
          4700,
          4700,
          4700,
          4700,
          4700,
          0,
          0,
          0,
          0,
          0,
          26500,
          26500,
          26600,
          26500,
          26600,
          0,
          0,
          0,
          0,
          0,
          30200,
          30200,
          30200,
          30200,
          29200,
          0,
          0,
          0,
          0,
          0,
          0,
          0,
          0,
          0,
          0,
          0,
          0,
          0,
          0,
          0,
          31000,
          31000,
          31000,
          31000,
          31000,
          18100,
          18100,
          18100,
          18100,
          18100,
          18000,
          17000,
          18000,
          17000,
          17000,
          0,
          0,
          0,
          0,
          0,
          305100,
          305100,
          305100,
          305100,
          305100,
          0,
          0,
          0,
          0,
          0,
          0,
          0,
          0,
          0,
          0,
          0,
          0,
          16000,
          16000,
          16000,
          16000,
          16000,
          0,
          0,
          0,
          0,
          0,
          1077100,
          1077100,
          1077200,
          1077100,
          1077100,
          31050,
          30040,
          30040,
          30040,
          31040,
          95000,
          95000,
          95000,
          95000,
          95000,
          10100,
          13000,
          14600,
          10200,
          9600,
          54000,
          55000,
          54000,
          55000,
          55000,
          16000,
          15000,
          16000,
          16000,
          15000,
          0,
          0,
          0,
          0,
          0,
          21300,
          21300,
          20300,
          20300,
          21300,
          12140,
          14500,
          12800,
          10600,
          9230,
          0,
          0,
          0,
          0,
          0,
          9000,
          9000,
          9000,
          9000,
          9000,
          23000,
          23000,
          22000,
          23000,
          22000,
          17300,
          17300,
          20300,
          11200,
          21300,
          559000,
          664000,
          588000,
          729000,
          793000,
          2229000,
          2229000,
          2228000,
          2228000,
          2229000,
          98000,
          86000,
          99000,
          86000,
          86000,
          246000,
          246000,
          239000,
          239000,
          245000,
          0,
          0,
          0,
          0,
          0,
          0,
          0,
          0,
          0,
          0
         ],
         "x0": " ",
         "xaxis": "x",
         "y0": " ",
         "yaxis": "y"
        }
       ],
       "layout": {
        "boxmode": "group",
        "legend": {
         "tracegroupgap": 0
        },
        "template": {
         "data": {
          "bar": [
           {
            "error_x": {
             "color": "#2a3f5f"
            },
            "error_y": {
             "color": "#2a3f5f"
            },
            "marker": {
             "line": {
              "color": "#E5ECF6",
              "width": 0.5
             },
             "pattern": {
              "fillmode": "overlay",
              "size": 10,
              "solidity": 0.2
             }
            },
            "type": "bar"
           }
          ],
          "barpolar": [
           {
            "marker": {
             "line": {
              "color": "#E5ECF6",
              "width": 0.5
             },
             "pattern": {
              "fillmode": "overlay",
              "size": 10,
              "solidity": 0.2
             }
            },
            "type": "barpolar"
           }
          ],
          "carpet": [
           {
            "aaxis": {
             "endlinecolor": "#2a3f5f",
             "gridcolor": "white",
             "linecolor": "white",
             "minorgridcolor": "white",
             "startlinecolor": "#2a3f5f"
            },
            "baxis": {
             "endlinecolor": "#2a3f5f",
             "gridcolor": "white",
             "linecolor": "white",
             "minorgridcolor": "white",
             "startlinecolor": "#2a3f5f"
            },
            "type": "carpet"
           }
          ],
          "choropleth": [
           {
            "colorbar": {
             "outlinewidth": 0,
             "ticks": ""
            },
            "type": "choropleth"
           }
          ],
          "contour": [
           {
            "colorbar": {
             "outlinewidth": 0,
             "ticks": ""
            },
            "colorscale": [
             [
              0,
              "#0d0887"
             ],
             [
              0.1111111111111111,
              "#46039f"
             ],
             [
              0.2222222222222222,
              "#7201a8"
             ],
             [
              0.3333333333333333,
              "#9c179e"
             ],
             [
              0.4444444444444444,
              "#bd3786"
             ],
             [
              0.5555555555555556,
              "#d8576b"
             ],
             [
              0.6666666666666666,
              "#ed7953"
             ],
             [
              0.7777777777777778,
              "#fb9f3a"
             ],
             [
              0.8888888888888888,
              "#fdca26"
             ],
             [
              1,
              "#f0f921"
             ]
            ],
            "type": "contour"
           }
          ],
          "contourcarpet": [
           {
            "colorbar": {
             "outlinewidth": 0,
             "ticks": ""
            },
            "type": "contourcarpet"
           }
          ],
          "heatmap": [
           {
            "colorbar": {
             "outlinewidth": 0,
             "ticks": ""
            },
            "colorscale": [
             [
              0,
              "#0d0887"
             ],
             [
              0.1111111111111111,
              "#46039f"
             ],
             [
              0.2222222222222222,
              "#7201a8"
             ],
             [
              0.3333333333333333,
              "#9c179e"
             ],
             [
              0.4444444444444444,
              "#bd3786"
             ],
             [
              0.5555555555555556,
              "#d8576b"
             ],
             [
              0.6666666666666666,
              "#ed7953"
             ],
             [
              0.7777777777777778,
              "#fb9f3a"
             ],
             [
              0.8888888888888888,
              "#fdca26"
             ],
             [
              1,
              "#f0f921"
             ]
            ],
            "type": "heatmap"
           }
          ],
          "heatmapgl": [
           {
            "colorbar": {
             "outlinewidth": 0,
             "ticks": ""
            },
            "colorscale": [
             [
              0,
              "#0d0887"
             ],
             [
              0.1111111111111111,
              "#46039f"
             ],
             [
              0.2222222222222222,
              "#7201a8"
             ],
             [
              0.3333333333333333,
              "#9c179e"
             ],
             [
              0.4444444444444444,
              "#bd3786"
             ],
             [
              0.5555555555555556,
              "#d8576b"
             ],
             [
              0.6666666666666666,
              "#ed7953"
             ],
             [
              0.7777777777777778,
              "#fb9f3a"
             ],
             [
              0.8888888888888888,
              "#fdca26"
             ],
             [
              1,
              "#f0f921"
             ]
            ],
            "type": "heatmapgl"
           }
          ],
          "histogram": [
           {
            "marker": {
             "pattern": {
              "fillmode": "overlay",
              "size": 10,
              "solidity": 0.2
             }
            },
            "type": "histogram"
           }
          ],
          "histogram2d": [
           {
            "colorbar": {
             "outlinewidth": 0,
             "ticks": ""
            },
            "colorscale": [
             [
              0,
              "#0d0887"
             ],
             [
              0.1111111111111111,
              "#46039f"
             ],
             [
              0.2222222222222222,
              "#7201a8"
             ],
             [
              0.3333333333333333,
              "#9c179e"
             ],
             [
              0.4444444444444444,
              "#bd3786"
             ],
             [
              0.5555555555555556,
              "#d8576b"
             ],
             [
              0.6666666666666666,
              "#ed7953"
             ],
             [
              0.7777777777777778,
              "#fb9f3a"
             ],
             [
              0.8888888888888888,
              "#fdca26"
             ],
             [
              1,
              "#f0f921"
             ]
            ],
            "type": "histogram2d"
           }
          ],
          "histogram2dcontour": [
           {
            "colorbar": {
             "outlinewidth": 0,
             "ticks": ""
            },
            "colorscale": [
             [
              0,
              "#0d0887"
             ],
             [
              0.1111111111111111,
              "#46039f"
             ],
             [
              0.2222222222222222,
              "#7201a8"
             ],
             [
              0.3333333333333333,
              "#9c179e"
             ],
             [
              0.4444444444444444,
              "#bd3786"
             ],
             [
              0.5555555555555556,
              "#d8576b"
             ],
             [
              0.6666666666666666,
              "#ed7953"
             ],
             [
              0.7777777777777778,
              "#fb9f3a"
             ],
             [
              0.8888888888888888,
              "#fdca26"
             ],
             [
              1,
              "#f0f921"
             ]
            ],
            "type": "histogram2dcontour"
           }
          ],
          "mesh3d": [
           {
            "colorbar": {
             "outlinewidth": 0,
             "ticks": ""
            },
            "type": "mesh3d"
           }
          ],
          "parcoords": [
           {
            "line": {
             "colorbar": {
              "outlinewidth": 0,
              "ticks": ""
             }
            },
            "type": "parcoords"
           }
          ],
          "pie": [
           {
            "automargin": true,
            "type": "pie"
           }
          ],
          "scatter": [
           {
            "fillpattern": {
             "fillmode": "overlay",
             "size": 10,
             "solidity": 0.2
            },
            "type": "scatter"
           }
          ],
          "scatter3d": [
           {
            "line": {
             "colorbar": {
              "outlinewidth": 0,
              "ticks": ""
             }
            },
            "marker": {
             "colorbar": {
              "outlinewidth": 0,
              "ticks": ""
             }
            },
            "type": "scatter3d"
           }
          ],
          "scattercarpet": [
           {
            "marker": {
             "colorbar": {
              "outlinewidth": 0,
              "ticks": ""
             }
            },
            "type": "scattercarpet"
           }
          ],
          "scattergeo": [
           {
            "marker": {
             "colorbar": {
              "outlinewidth": 0,
              "ticks": ""
             }
            },
            "type": "scattergeo"
           }
          ],
          "scattergl": [
           {
            "marker": {
             "colorbar": {
              "outlinewidth": 0,
              "ticks": ""
             }
            },
            "type": "scattergl"
           }
          ],
          "scattermapbox": [
           {
            "marker": {
             "colorbar": {
              "outlinewidth": 0,
              "ticks": ""
             }
            },
            "type": "scattermapbox"
           }
          ],
          "scatterpolar": [
           {
            "marker": {
             "colorbar": {
              "outlinewidth": 0,
              "ticks": ""
             }
            },
            "type": "scatterpolar"
           }
          ],
          "scatterpolargl": [
           {
            "marker": {
             "colorbar": {
              "outlinewidth": 0,
              "ticks": ""
             }
            },
            "type": "scatterpolargl"
           }
          ],
          "scatterternary": [
           {
            "marker": {
             "colorbar": {
              "outlinewidth": 0,
              "ticks": ""
             }
            },
            "type": "scatterternary"
           }
          ],
          "surface": [
           {
            "colorbar": {
             "outlinewidth": 0,
             "ticks": ""
            },
            "colorscale": [
             [
              0,
              "#0d0887"
             ],
             [
              0.1111111111111111,
              "#46039f"
             ],
             [
              0.2222222222222222,
              "#7201a8"
             ],
             [
              0.3333333333333333,
              "#9c179e"
             ],
             [
              0.4444444444444444,
              "#bd3786"
             ],
             [
              0.5555555555555556,
              "#d8576b"
             ],
             [
              0.6666666666666666,
              "#ed7953"
             ],
             [
              0.7777777777777778,
              "#fb9f3a"
             ],
             [
              0.8888888888888888,
              "#fdca26"
             ],
             [
              1,
              "#f0f921"
             ]
            ],
            "type": "surface"
           }
          ],
          "table": [
           {
            "cells": {
             "fill": {
              "color": "#EBF0F8"
             },
             "line": {
              "color": "white"
             }
            },
            "header": {
             "fill": {
              "color": "#C8D4E3"
             },
             "line": {
              "color": "white"
             }
            },
            "type": "table"
           }
          ]
         },
         "layout": {
          "annotationdefaults": {
           "arrowcolor": "#2a3f5f",
           "arrowhead": 0,
           "arrowwidth": 1
          },
          "autotypenumbers": "strict",
          "coloraxis": {
           "colorbar": {
            "outlinewidth": 0,
            "ticks": ""
           }
          },
          "colorscale": {
           "diverging": [
            [
             0,
             "#8e0152"
            ],
            [
             0.1,
             "#c51b7d"
            ],
            [
             0.2,
             "#de77ae"
            ],
            [
             0.3,
             "#f1b6da"
            ],
            [
             0.4,
             "#fde0ef"
            ],
            [
             0.5,
             "#f7f7f7"
            ],
            [
             0.6,
             "#e6f5d0"
            ],
            [
             0.7,
             "#b8e186"
            ],
            [
             0.8,
             "#7fbc41"
            ],
            [
             0.9,
             "#4d9221"
            ],
            [
             1,
             "#276419"
            ]
           ],
           "sequential": [
            [
             0,
             "#0d0887"
            ],
            [
             0.1111111111111111,
             "#46039f"
            ],
            [
             0.2222222222222222,
             "#7201a8"
            ],
            [
             0.3333333333333333,
             "#9c179e"
            ],
            [
             0.4444444444444444,
             "#bd3786"
            ],
            [
             0.5555555555555556,
             "#d8576b"
            ],
            [
             0.6666666666666666,
             "#ed7953"
            ],
            [
             0.7777777777777778,
             "#fb9f3a"
            ],
            [
             0.8888888888888888,
             "#fdca26"
            ],
            [
             1,
             "#f0f921"
            ]
           ],
           "sequentialminus": [
            [
             0,
             "#0d0887"
            ],
            [
             0.1111111111111111,
             "#46039f"
            ],
            [
             0.2222222222222222,
             "#7201a8"
            ],
            [
             0.3333333333333333,
             "#9c179e"
            ],
            [
             0.4444444444444444,
             "#bd3786"
            ],
            [
             0.5555555555555556,
             "#d8576b"
            ],
            [
             0.6666666666666666,
             "#ed7953"
            ],
            [
             0.7777777777777778,
             "#fb9f3a"
            ],
            [
             0.8888888888888888,
             "#fdca26"
            ],
            [
             1,
             "#f0f921"
            ]
           ]
          },
          "colorway": [
           "#636efa",
           "#EF553B",
           "#00cc96",
           "#ab63fa",
           "#FFA15A",
           "#19d3f3",
           "#FF6692",
           "#B6E880",
           "#FF97FF",
           "#FECB52"
          ],
          "font": {
           "color": "#2a3f5f"
          },
          "geo": {
           "bgcolor": "white",
           "lakecolor": "white",
           "landcolor": "#E5ECF6",
           "showlakes": true,
           "showland": true,
           "subunitcolor": "white"
          },
          "hoverlabel": {
           "align": "left"
          },
          "hovermode": "closest",
          "mapbox": {
           "style": "light"
          },
          "paper_bgcolor": "white",
          "plot_bgcolor": "#E5ECF6",
          "polar": {
           "angularaxis": {
            "gridcolor": "white",
            "linecolor": "white",
            "ticks": ""
           },
           "bgcolor": "#E5ECF6",
           "radialaxis": {
            "gridcolor": "white",
            "linecolor": "white",
            "ticks": ""
           }
          },
          "scene": {
           "xaxis": {
            "backgroundcolor": "#E5ECF6",
            "gridcolor": "white",
            "gridwidth": 2,
            "linecolor": "white",
            "showbackground": true,
            "ticks": "",
            "zerolinecolor": "white"
           },
           "yaxis": {
            "backgroundcolor": "#E5ECF6",
            "gridcolor": "white",
            "gridwidth": 2,
            "linecolor": "white",
            "showbackground": true,
            "ticks": "",
            "zerolinecolor": "white"
           },
           "zaxis": {
            "backgroundcolor": "#E5ECF6",
            "gridcolor": "white",
            "gridwidth": 2,
            "linecolor": "white",
            "showbackground": true,
            "ticks": "",
            "zerolinecolor": "white"
           }
          },
          "shapedefaults": {
           "line": {
            "color": "#2a3f5f"
           }
          },
          "ternary": {
           "aaxis": {
            "gridcolor": "white",
            "linecolor": "white",
            "ticks": ""
           },
           "baxis": {
            "gridcolor": "white",
            "linecolor": "white",
            "ticks": ""
           },
           "bgcolor": "#E5ECF6",
           "caxis": {
            "gridcolor": "white",
            "linecolor": "white",
            "ticks": ""
           }
          },
          "title": {
           "x": 0.05
          },
          "xaxis": {
           "automargin": true,
           "gridcolor": "white",
           "linecolor": "white",
           "ticks": "",
           "title": {
            "standoff": 15
           },
           "zerolinecolor": "white",
           "zerolinewidth": 2
          },
          "yaxis": {
           "automargin": true,
           "gridcolor": "white",
           "linecolor": "white",
           "ticks": "",
           "title": {
            "standoff": 15
           },
           "zerolinecolor": "white",
           "zerolinewidth": 2
          }
         }
        },
        "title": {
         "text": "Distribution of Non-home, Non-Financial Assets"
        },
        "xaxis": {
         "anchor": "y",
         "domain": [
          0,
          1
         ],
         "title": {
          "text": "Value [$]"
         }
        },
        "yaxis": {
         "anchor": "x",
         "domain": [
          0,
          1
         ]
        }
       }
      },
      "text/html": [
       "<div>                            <div id=\"abd1e516-7d1d-45d1-b011-2054ed4b861d\" class=\"plotly-graph-div\" style=\"height:525px; width:100%;\"></div>            <script type=\"text/javascript\">                require([\"plotly\"], function(Plotly) {                    window.PLOTLYENV=window.PLOTLYENV || {};                                    if (document.getElementById(\"abd1e516-7d1d-45d1-b011-2054ed4b861d\")) {                    Plotly.newPlot(                        \"abd1e516-7d1d-45d1-b011-2054ed4b861d\",                        [{\"alignmentgroup\":\"True\",\"hovertemplate\":\"NFIN=%{x}<extra></extra>\",\"legendgroup\":\"\",\"marker\":{\"color\":\"#636efa\"},\"name\":\"\",\"notched\":false,\"offsetgroup\":\"\",\"orientation\":\"h\",\"showlegend\":false,\"x\":[14000.0,14000.0,13000.0,14000.0,14000.0,115700.0,111800.0,112500.0,110900.0,111200.0,10000.0,10000.0,11000.0,11000.0,11000.0,0.0,0.0,0.0,0.0,0.0,557000.0,556000.0,556000.0,557000.0,556000.0,6800.0,11100.0,7500.0,7600.0,9800.0,15000.0,15000.0,14900.0,15000.0,15000.0,100000.0,100000.0,100000.0,100000.0,100000.0,5800.0,5800.0,5900.0,5900.0,5900.0,0.0,0.0,0.0,0.0,0.0,19000.0,20000.0,20000.0,19000.0,20000.0,4500.0,4500.0,4500.0,4400.0,4500.0,342000.0,342000.0,342000.0,343000.0,341000.0,0.0,0.0,0.0,0.0,0.0,346000.0,331000.0,322900.0,330000.0,338000.0,0.0,0.0,0.0,0.0,0.0,173400.0,173300.0,173400.0,173400.0,173300.0,72000.0,72000.0,72100.0,72000.0,72100.0,0.0,0.0,0.0,0.0,0.0,2500.0,2500.0,2500.0,2500.0,2500.0,635000.0,635000.0,636000.0,635000.0,635000.0,880000.0,885000.0,821000.0,859400.0,834000.0,152000.0,165500.0,173400.0,170700.0,181000.0,0.0,0.0,0.0,0.0,0.0,12000.0,11000.0,12000.0,10000.0,11000.0,24000.0,25000.0,25000.0,25000.0,24000.0,42000.0,42000.0,42000.0,42000.0,41000.0,13300.0,14900.0,12000.0,8860.0,9800.0,5000.0,6100.0,3900.0,8600.0,4900.0,45000.0,44000.0,46000.0,41000.0,41000.0,0.0,0.0,0.0,0.0,0.0,3900.0,3400.0,4100.0,3000.0,7700.0,0.0,0.0,0.0,0.0,0.0,11000.0,8000.0,4300.0,5900.0,4500.0,5700.0,4000.0,4100.0,3400.0,3100.0,27500.0,27500.0,27500.0,28500.0,27500.0,0.0,0.0,0.0,0.0,0.0,21000.0,22000.0,22000.0,21000.0,21000.0,781400.0,782400.0,781500.0,782400.0,782500.0,21500.0,20500.0,20500.0,21400.0,21500.0,12500.0,7600.0,12400.0,8900.0,8700.0,9100.0,9100.0,9100.0,9200.0,9200.0,486600.0,544200.0,461000.0,503200.0,532000.0,512000.0,512000.0,512000.0,513000.0,512000.0,12500.0,14500.0,12800.0,18300.0,17900.0,0.0,0.0,0.0,0.0,0.0,0.0,0.0,0.0,0.0,0.0,17500.0,50500.0,25500.0,10500.0,50500.0,0.0,0.0,0.0,0.0,0.0,60000.0,33000.0,34000.0,58000.0,36000.0,428800.0,433000.0,432000.0,433000.0,426200.0,510000.0,510000.0,510000.0,510000.0,510000.0,0.0,0.0,0.0,0.0,0.0,0.0,0.0,0.0,0.0,0.0,0.0,0.0,0.0,0.0,0.0,8100.0,8000.0,8000.0,8000.0,8100.0,42100.0,42200.0,42100.0,42200.0,42200.0,3700.0,3700.0,3700.0,3700.0,3700.0,0.0,0.0,0.0,0.0,0.0,16000.0,15000.0,15000.0,15000.0,15000.0,0.0,0.0,0.0,0.0,0.0,2401960.0,2401950.0,2400960.0,2400950.0,2402000.0,12000.0,13000.0,13000.0,12000.0,12000.0,76800.0,76900.0,76800.0,76900.0,76900.0,400000.0,400000.0,400000.0,400000.0,400000.0,0.0,0.0,0.0,0.0,0.0,29000.0,29000.0,29000.0,29000.0,29000.0,15000.0,15000.0,15000.0,15000.0,15000.0,43000.0,40000.0,38000.0,48000.0,46000.0,212841000.0,220191000.0,220661000.0,205791000.0,221071000.0,15000.0,15000.0,15000.0,14000.0,15000.0,272100.0,272400.0,267020.0,272100.0,274900.0,7000.0,7000.0,7100.0,7100.0,7100.0,53900.0,69000.0,60000.0,60000.0,62000.0,3700.0,3600.0,3700.0,3700.0,3600.0,13400.0,13400.0,13400.0,13400.0,13400.0,337600.0,337600.0,337500.0,337600.0,337500.0,42700.0,41700.0,41700.0,41700.0,41700.0,7700.0,3500.0,178000.0,177000.0,178000.0,177000.0,178000.0,6900.0,7800.0,5400.0,5000.0,5100.0,0.0,0.0,0.0,0.0,0.0,696000.0,696000.0,695000.0,695000.0,696000.0,831000.0,812400.0,815500.0,816500.0,809970.0,5400.0,5400.0,5300.0,5400.0,5400.0,13000.0,13000.0,14000.0,13000.0,13000.0,646000.0,648900.0,636500.0,639400.0,622900.0,367000.0,368800.0,369700.0,369100.0,368600.0,238100.0,238100.0,238100.0,238100.0,238200.0,16070700.0,16066900.0,16070700.0,16089000.0,16085000.0,267005.0,267010.0,267010.0,267010.0,267010.0,15400.0,14500.0,19000.0,11200.0,12600.0,95400.0,94400.0,94400.0,93400.0,95400.0,11000.0,11000.0,11000.0,11000.0,11000.0,8800.0,8900.0,8900.0,8900.0,8800.0,167800.0,167800.0,167900.0,168800.0,167900.0,0.0,0.0,0.0,0.0,0.0,119000.0,119000.0,118000.0,118000.0,119000.0,18600.0,18600.0,18700.0,18600.0,18600.0,3200.0,3200.0,3200.0,3100.0,3100.0,0.0,0.0,0.0,0.0,0.0,600000.0,600000.0,600000.0,600000.0,600000.0,135900.0,164100.0,164000.0,154200.0,133300.0,5500.0,5500.0,5600.0,5600.0,5500.0,60000.0,60000.0,60000.0,60000.0,60000.0,1457000.0,1456000.0,1457000.0,1457000.0,1457000.0,60000.0,61000.0,61000.0,61000.0,61000.0,0.0,0.0,0.0,0.0,0.0,54100.0,54100.0,54100.0,53100.0,54100.0,1051200.0,1051300.0,1051200.0,1052200.0,1051200.0,10200.0,11000.0,16000.0,13200.0,10100.0,37000.0,37000.0,38000.0,37000.0,38000.0,35000.0,37000.0,36000.0,36000.0,36000.0,548000.0,548000.0,548000.0,548000.0,549000.0,0.0,0.0,0.0,0.0,0.0,109000.0,88200.0,88300.0,101000.0,112000.0,0.0,0.0,0.0,0.0,0.0,6811000.0,6812000.0,6811000.0,6811000.0,6811000.0,0.0,0.0,0.0,0.0,0.0,82620.0,82610.0,84000.0,84000.0,83000.0,0.0,0.0,0.0,0.0,0.0,30500.0,36000.0,27600.0,26700.0,48000.0,15700.0,15700.0,8900.0,16800.0,9900.0,43000.0,43000.0,43000.0,42000.0,42000.0,57200.0,55100.0,55100.0,54100.0,57200.0,5900.0,5800.0,5900.0,5800.0,5900.0,4334000.0,4335000.0,4335000.0,4334000.0,4334000.0,5200.0,5300.0,5200.0,5200.0,5200.0,0.0,0.0,0.0,0.0,0.0,46386600.0,47385200.0,50308800.0,48500500.0,46978600.0,22000.0,22000.0,23000.0,22000.0,23000.0,2600.0,2700.0,2600.0,2700.0,2600.0,12000.0,13000.0,12000.0,12000.0,12000.0,31000.0,31000.0,31000.0,31000.0,31000.0,1590200.0,1601400.0,1591100.0,1593800.0,1596400.0,845000.0,847000.0,842100.0,850000.0,848000.0,0.0,0.0,0.0,0.0,0.0,1727000.0,1727000.0,1727000.0,1726000.0,1726000.0,48000.0,48000.0,47000.0,48000.0,47000.0,172000.0,174000.0,173000.0,173000.0,173000.0,0.0,0.0,0.0,0.0,0.0,5800.0,5800.0,5800.0,5800.0,5800.0,8200.0,8100.0,8200.0,8200.0,8200.0,507000.0,503000.0,503000.0,507000.0,503000.0,13000.0,12000.0,12000.0,12000.0,12000.0,55800.0,54800.0,55700.0,55800.0,54800.0,19100.0,19100.0,19100.0,19100.0,19100.0,8900.0,9000.0,9000.0,9000.0,9000.0,364000.0,320000.0,360000.0,316000.0,326000.0,0.0,0.0,0.0,0.0,0.0,5000.0,5000.0,5000.0,5000.0,5000.0,151000.0,151000.0,151000.0,151000.0,151000.0,0.0,0.0,0.0,0.0,0.0,34062800.0,34061900.0,34061500.0,34061700.0,34062300.0,900000.0,900000.0,900000.0,901000.0,900000.0,199400.0,192400.0,184100.0,191700.0,193000.0,0.0,0.0,0.0,0.0,0.0,21900.0,21900.0,21900.0,21900.0,21900.0,0.0,0.0,0.0,0.0,0.0,0.0,0.0,0.0,0.0,0.0,70994000.0,71353700.0,70650000.0,72201500.0,71980000.0,0.0,0.0,0.0,0.0,0.0,3100.0,3200.0,3200.0,3200.0,3200.0,0.0,0.0,0.0,0.0,0.0,0.0,0.0,0.0,0.0,0.0,68600.0,68600.0,68600.0,68500.0,68600.0,1015600.0,1010300.0,1007800.0,1008600.0,1015600.0,0.0,0.0,0.0,0.0,0.0,256000.0,256000.0,256000.0,257000.0,257000.0,140000.0,139900.0,140000.0,140000.0,141000.0,159300.0,154660.0,160200.0,165100.0,164100.0,90000.0,89000.0,89000.0,90000.0,89000.0,0.0,0.0,0.0,0.0,0.0,0.0,0.0,0.0,0.0,0.0,22000.0,22000.0,23000.0,23000.0,22000.0,71000.0,70000.0,61000.0,72000.0,72000.0,0.0,0.0,0.0,0.0,0.0,4200.0,4300.0,4300.0,4200.0,4200.0,0.0,0.0,0.0,0.0,0.0,34000.0,34000.0,34000.0,34000.0,35000.0,432700.0,425700.0,424700.0,427700.0,422700.0,21700.0,30900.0,28100.0,28500.0,18900.0,0.0,0.0,0.0,0.0,0.0,10000.0,11000.0,10000.0,11000.0,10000.0,43100.0,43100.0,43000.0,43100.0,43000.0,10000.0,10000.0,10000.0,10000.0,10000.0,106100.0,105000.0,105000.0,105100.0,106100.0,8500.0,8500.0,8500.0,8500.0,8500.0,0.0,0.0,0.0,0.0,0.0,7400.0,7500.0,7400.0,7500.0,7500.0,11000.0,11000.0,11000.0,11000.0,11000.0,3600.0,3600.0,3600.0,3600.0,3600.0,0.0,0.0,0.0,0.0,0.0,0.0,0.0,0.0,0.0,0.0,31900.0,31900.0,42900.0,36800.0,44800.0,4700.0,4700.0,4700.0,4700.0,4700.0,5200.0,5200.0,5200.0,5200.0,5200.0,725000.0,726000.0,725000.0,725000.0,725000.0,1373500.0,1373500.0,1373500.0,1373500.0,1374500.0,1020500.0,1214500.0,1110500.0,1140500.0,1175000.0,21000.0,20000.0,21000.0,21000.0,21000.0,0.0,0.0,0.0,0.0,0.0,4000.0,4100.0,4100.0,4100.0,4100.0,153000.0,160000.0,150000.0,154000.0,162000.0,4300.0,4300.0,4300.0,4300.0,4300.0,261000.0,260000.0,261000.0,261000.0,260000.0,9700.0,9700.0,9700.0,9700.0,9700.0,66000.0,66000.0,57000.0,62000.0,57000.0,24200.0,22600.0,21600.0,24900.0,33000.0,6600.0,7000.0,7400.0,8100.0,6800.0,15900.0,36500.0,9100.0,22200.0,29700.0,0.0,0.0,0.0,0.0,0.0,37000.0,38000.0,200000.0,200000.0,200000.0,200000.0,200000.0,49600.0,49600.0,49600.0,49500.0,49600.0,363000.0,362000.0,363000.0,364000.0,363000.0,299500.0,299500.0,253250.0,299500.0,309650.0,11000.0,11000.0,11000.0,11000.0,12000.0,15000.0,8200.0,19000.0,12000.0,11000.0,0.0,0.0,0.0,0.0,0.0,0.0,0.0,0.0,0.0,0.0,300000.0,300000.0,300000.0,300000.0,300000.0,13000.0,13100.0,13100.0,13000.0,13100.0,22700.0,22800.0,22700.0,22800.0,23700.0,0.0,0.0,0.0,0.0,0.0,0.0,0.0,0.0,0.0,0.0,0.0,0.0,0.0,0.0,0.0,7400.0,7400.0,7400.0,7500.0,7400.0,20000.0,20000.0,20000.0,19000.0,20000.0,214000.0,215000.0,214000.0,215000.0,214000.0,30000.0,28000.0,29600.0,30800.0,29800.0,0.0,0.0,0.0,0.0,0.0,21880.0,21870.0,14960.0,22960.0,22380.0,489500.0,273500.0,329500.0,439500.0,305500.0,36500.0,36500.0,37500.0,37500.0,36500.0,60900.0,61000.0,61000.0,61000.0,60900.0,21100.0,20000.0,20000.0,20000.0,21100.0,4700.0,7400.0,4500.0,12000.0,4500.0,3600.0,8700.0,5000.0,5000.0,6300.0,217000.0,217000.0,216000.0,216000.0,216000.0,0.0,0.0,0.0,0.0,0.0,0.0,0.0,0.0,0.0,0.0,900200.0,1356200.0,888600.0,893200.0,1359200.0,0.0,0.0,0.0,0.0,0.0,24000.0,23000.0,22000.0,25000.0,24000.0,0.0,11000.0,12000.0,12000.0,11000.0,12000.0,3700.0,3700.0,3700.0,3700.0,3800.0,8547000.0,8547000.0,8547000.0,8546000.0,8547000.0,1254600.0,391600.0,514600.0,1248600.0,627600.0,4500.0,4500.0,4500.0,4500.0,4500.0,535700.0,535800.0,535800.0,534700.0,533900.0,4100.0,5200.0,3800.0,3300.0,3900.0,0.0,0.0,0.0,0.0,0.0,37700.0,38800.0,38800.0,38800.0,37800.0,1170000.0,1170000.0,1170000.0,1170000.0,1170000.0,9000.0,9000.0,9000.0,9000.0,9000.0,974000.0,974000.0,974000.0,974000.0,974000.0,0.0,0.0,0.0,0.0,0.0,47000.0,47000.0,46000.0,46000.0,47000.0,288000.0,287000.0,288000.0,287000.0,287000.0,16000.0,15000.0,15000.0,15000.0,15000.0,8600.0,8700.0,8700.0,8600.0,8600.0,681000.0,570000.0,647000.0,561000.0,677000.0,275000.0,277000.0,277000.0,276000.0,276000.0,238900.0,249500.0,243200.0,254100.0,243600.0,234000.0,234000.0,234000.0,234000.0,234000.0,444000.0,445000.0,445000.0,444000.0,444000.0,331600.0,330500.0,334300.0,331600.0,330800.0,54000.0,54000.0,35100.0,54000.0,46000.0,0.0,0.0,0.0,0.0,0.0,12000.0,12000.0,13000.0,14000.0,11000.0,488000.0,488000.0,488000.0,487000.0,488000.0,412000.0,412000.0,411000.0,411000.0,411000.0,3341000.0,3591000.0,3181000.0,3582000.0,2962000.0,512300.0,513400.0,513400.0,513400.0,513400.0,333200.0,333200.0,333200.0,333200.0,333200.0,145000.0,162000.0,161000.0,174000.0,181000.0,8200.0,8100.0,8100.0,8100.0,8100.0,19800.0,16400.0,12500.0,10500.0,13700.0,8200.0,8300.0,8200.0,8300.0,8200.0,1653000.0,1653000.0,1653000.0,1652000.0,1653000.0,63000.0,62000.0,63000.0,62000.0,62000.0,40100.0,45200.0,39070.0,41900.0,43200.0,8600.0,8300.0,8400.0,11500.0,15000.0,9500.0,9500.0,9500.0,9500.0,9500.0,205600.0,204600.0,204500.0,204500.0,205600.0,204500.0,204600.0,204600.0,205600.0,205600.0,444400.0,445300.0,444300.0,444300.0,444400.0,28000.0,28000.0,29000.0,28000.0,28000.0,25000.0,24000.0,24000.0,24000.0,25000.0,410100.0,410200.0,410200.0,411100.0,410100.0,115600.0,115600.0,114600.0,115600.0,114600.0,0.0,0.0,0.0,0.0,0.0,286900.0,310900.0,337000.0,310200.0,269900.0,200000.0,177000.0,239000.0,138000.0,213000.0,3100.0,3200.0,3200.0,3200.0,3200.0,0.0,0.0,0.0,0.0,0.0,339000.0,340000.0,340000.0,340000.0,340000.0,12000.0,13000.0,13000.0,12000.0,13000.0,347600.0,347400.0,348100.0,347300.0,347300.0,18000.0,19000.0,15000.0,18000.0,18000.0,1279000.0,1263000.0,1254200.0,1264000.0,1270000.0,21000.0,20000.0,21000.0,20000.0,21000.0,0.0,0.0,0.0,0.0,0.0,5780000.0,5870000.0,5770000.0,5851000.0,5790000.0,23000.0,23000.0,23000.0,23000.0,23000.0,165400.0,164900.0,177100.0,169100.0,182100.0,8300.0,8400.0,8300.0,8400.0,8300.0,40000.0,40000.0,40000.0,40000.0,40000.0,0.0,0.0,0.0,0.0,0.0,63000.0,64000.0,64000.0,63000.0,64000.0,63100.0,65100.0,71100.0,64100.0,67100.0,18000.0,18000.0,18000.0,18000.0,18000.0,156800.0,157900.0,157800.0,154900.0,157200.0,0.0,0.0,0.0,0.0,0.0,0.0,0.0,0.0,0.0,0.0,35900.0,35800.0,35800.0,35800.0,35900.0,566140.0,566140.0,566140.0,566140.0,566140.0,10000.0,6700.0,9700.0,12200.0,10300.0,0.0,0.0,0.0,0.0,0.0,78322000.0,70299000.0,84559000.0,73751000.0,79166000.0,262400.0,259900.0,264700.0,260600.0,269200.0,82200.0,83400.0,84900.0,86000.0,84600.0,4600.0,4200.0,4600.0,4500.0,4200.0,171300.0,171300.0,171300.0,171300.0,172400.0,173700.0,173700.0,173700.0,173800.0,173800.0,0.0,0.0,0.0,0.0,0.0,1754000.0,1754000.0,1753000.0,1753000.0,1753000.0,0.0,0.0,0.0,0.0,0.0,35000.0,36000.0,35500.0,29400.0,31000.0,469900.0,470000.0,475800.0,480000.0,472310.0,192400.0,809900.0,58453.6,451500.0,370600.0,0.0,0.0,0.0,0.0,0.0,7000.0,7000.0,7000.0,7000.0,7000.0,213470.0,213370.0,213470.0,213470.0,213370.0,0.0,0.0,0.0,0.0,0.0,0.0,46000.0,46000.0,46000.0,46000.0,46000.0,28600.0,27600.0,28600.0,28600.0,27600.0,0.0,0.0,0.0,0.0,0.0,474000.0,475000.0,474000.0,475000.0,474000.0,410600.0,410500.0,410500.0,410500.0,410500.0,175100.0,174100.0,175100.0,175200.0,175100.0,631300.0,620300.0,634000.0,622300.0,635000.0,13300.0,13300.0,13300.0,13300.0,13400.0,37000.0,38000.0,38000.0,38000.0,38000.0,71000.0,59000.0,66000.0,59000.0,51000.0,38000.0,39000.0,38000.0,38000.0,39000.0,28000.0,29000.0,29000.0,28000.0,29000.0,7400.0,7500.0,7500.0,7500.0,7400.0,4000.0,4000.0,4000.0,4000.0,4000.0,216000.0,216000.0,216000.0,216000.0,216000.0,36000.0,36000.0,36000.0,36000.0,36000.0,1101000.0,1101000.0,1101000.0,1100000.0,1101000.0,11000.0,11000.0,11000.0,11000.0,11000.0,0.0,0.0,0.0,0.0,0.0,342000.0,341000.0,340000.0,341000.0,340000.0,746000.0,744800.0,766000.0,783000.0,750000.0,6300.0,6300.0,6300.0,6400.0,6400.0,26300.0,25400.0,25300.0,25300.0,25300.0,490000.0,486900.0,486100.0,489800.0,485400.0,498600.0,498600.0,498600.0,498500.0,498500.0,4500.0,4500.0,4500.0,4500.0,4500.0,22000.0,22000.0,23000.0,22000.0,22000.0,400000.0,396000.0,396000.0,385600.0,394000.0,420100.0,420200.0,421100.0,420100.0,679100.0,0.0,0.0,0.0,0.0,0.0,0.0,0.0,0.0,0.0,0.0,607000.0,606000.0,607000.0,607000.0,608000.0,21000.0,22000.0,21000.0,21000.0,22000.0,21000.0,21000.0,21000.0,21000.0,21000.0,34000.0,34000.0,34000.0,34000.0,34000.0,0.0,0.0,0.0,0.0,0.0,49000.0,49000.0,48000.0,49000.0,49000.0,7900.0,7900.0,7900.0,7900.0,7900.0,107900.0,107000.0,108000.0,107000.0,108000.0,36000.0,35000.0,35000.0,36000.0,35000.0,90900.0,70900.0,63200.0,74800.0,80800.0,10600.0,18900.0,13100.0,15100.0,11900.0,56000.0,57000.0,57000.0,57000.0,58000.0,87900.0,87900.0,88900.0,87900.0,87900.0,40000.0,39000.0,39000.0,39000.0,40000.0,5600.0,5600.0,5500.0,5600.0,5600.0,75500.0,75400.0,75600.0,76500.0,75600.0,272000.0,265000.0,267000.0,261000.0,262000.0,270000.0,269000.0,270000.0,270000.0,268000.0,577200.0,592150.0,543100.0,515900.0,599000.0,1566900.0,1566000.0,1565900.0,1577200.0,1566900.0,27000.0,27000.0,27000.0,27000.0,27000.0,33700.0,33700.0,34700.0,33700.0,34700.0,1750.0,1750.0,1750.0,1750.0,1750.0,20000.0,20000.0,20000.0,20000.0,20000.0,116700.0,117700.0,116700.0,117700.0,117700.0,344600.0,325700.0,327200.0,320700.0,336600.0,6300.0,5900.0,5100.0,9700.0,9200.0,7500.0,7500.0,7500.0,7500.0,7500.0,14300.0,15300.0,15300.0,14300.0,14300.0,424000.0,424000.0,425000.0,425000.0,424000.0,179890.0,179890.0,181890.0,179890.0,182890.0,3000.0,3000.0,2900.0,3000.0,3000.0,1060500.0,1615500.0,1615500.0,1031500.0,1093600.0,15000.0,15000.0,6800.0,11000.0,11000.0,222000.0,222000.0,223000.0,223000.0,223000.0,12900.0,12900.0,12800.0,12900.0,12800.0,1524900.0,1524900.0,1524800.0,1523900.0,1523900.0,0.0,0.0,0.0,0.0,0.0,0.0,0.0,0.0,0.0,0.0,138500.0,138800.0,138200.0,138800.0,138800.0,602000.0,603000.0,603000.0,603000.0,603000.0,0.0,0.0,0.0,0.0,0.0,6100.0,6100.0,6100.0,6100.0,6100.0,4300.0,6900.0,7500.0,4100.0,5000.0,0.0,0.0,0.0,0.0,0.0,7700.0,3600.0,3200.0,4700.0,6100.0,6500.0,6600.0,6600.0,6500.0,6500.0,35600.0,35200.0,35500.0,30000.0,29200.0,1721000.0,1244000.0,1487000.0,1720000.0,1291000.0,0.0,0.0,0.0,0.0,0.0,0.0,0.0,0.0,0.0,0.0,257000.0,205000.0,249000.0,458000.0,225000.0,9100.0,9100.0,9100.0,9000.0,9100.0,35000.0,35000.0,35000.0,35000.0,35000.0,8200.0,8100.0,8200.0,8200.0,8200.0,0.0,0.0,0.0,0.0,0.0,79000.0,97000.0,88000.0,94000.0,96000.0,0.0,0.0,0.0,0.0,0.0,14000.0,15000.0,15000.0,15000.0,15000.0,15000.0,16000.0,15000.0,15000.0,16000.0,0.0,0.0,0.0,0.0,0.0,4300.0,4400.0,4300.0,4300.0,4300.0,0.0,0.0,0.0,0.0,0.0,11900.0,6400.0,7100.0,4400.0,6500.0,35000.0,34000.0,35000.0,35000.0,35000.0,1141800.0,1085100.0,1118800.0,1085800.0,1095800.0,0.0,0.0,0.0,0.0,0.0,9300.0,9000.0,7900.0,7600.0,8100.0,753200.0,771600.0,777630.0,738600.0,754900.0,0.0,0.0,0.0,0.0,0.0,0.0,0.0,0.0,0.0,0.0,26000.0,25000.0,26000.0,25000.0,26000.0,383000.0,387000.0,390000.0,445000.0,383000.0,66700.0,66700.0,66700.0,66700.0,66700.0,0.0,0.0,0.0,0.0,0.0,47000.0,46000.0,46000.0,46000.0,46000.0,55300.0,52400.0,49600.0,53600.0,51400.0,469000.0,473000.0,472000.0,472000.0,469000.0,0.0,0.0,0.0,0.0,0.0,329200.0,324530.0,329800.0,325600.0,324530.0,359010.0,367500.0,365800.0,363000.0,364400.0,11000.0,11000.0,11000.0,11000.0,11000.0,257000.0,257000.0,257000.0,258000.0,257000.0,29300.0,41000.0,37000.0,33800.0,46000.0,0.0,0.0,0.0,0.0,0.0,292000.0,292000.0,292000.0,291000.0,292000.0,216000.0,216000.0,216000.0,216000.0,216000.0,458000.0,329000.0,373000.0,287000.0,427000.0,20900.0,14700.0,19800.0,18200.0,25700.0,1547000.0,1547000.0,1547000.0,1547000.0,1547000.0,19600.0,19600.0,19500.0,19500.0,19500.0,12000.0,12000.0,13000.0,12000.0,12000.0,8600.0,8700.0,8600.0,8600.0,8700.0,4600.0,4600.0,4600.0,4600.0,4600.0,5500.0,5500.0,5500.0,5400.0,5400.0,7400.0,7400.0,7400.0,7400.0,7500.0,7200.0,7200.0,7200.0,7200.0,7200.0,21000.0,21000.0,21000.0,21000.0,21000.0,290100.0,419000.0,354000.0,489000.0,427100.0,5300.0,5300.0,5300.0,5200.0,5200.0,393000.0,285000.0,329000.0,211000.0,231000.0,0.0,0.0,0.0,0.0,0.0,35000.0,34000.0,35000.0,34000.0,35000.0,0.0,0.0,0.0,0.0,0.0,9900.0,9100.0,8000.0,10500.0,10700.0,170300.0,170300.0,171200.0,170200.0,170300.0,292300.0,292300.0,292300.0,292300.0,292200.0,136000.0,136000.0,136000.0,136000.0,136000.0,1486000.0,1486000.0,1486000.0,1485000.0,1486000.0,12200.0,10700.0,13500.0,16900.0,11800.0,82400.0,82300.0,82400.0,83300.0,83400.0,6200.0,6100.0,5600.0,8400.0,6300.0,25000.0,26000.0,26000.0,25000.0,25000.0,8800.0,10100.0,9900.0,13200.0,11100.0,18000.0,18000.0,18000.0,17000.0,17000.0,28700.0,30500.0,29300.0,27200.0,27800.0,8100.0,8200.0,8100.0,8200.0,8100.0,448400.0,457000.0,448800.0,459000.0,441700.0,0.0,0.0,0.0,0.0,0.0,8700.0,9600.0,10100.0,8600.0,9000.0,601000.0,601000.0,601000.0,601000.0,601000.0,1147000.0,1260000.0,872000.0,951000.0,1919000.0,9100.0,9100.0,9100.0,9100.0,9200.0,8200.0,8200.0,8200.0,8200.0,8200.0,186100.0,188900.0,192200.0,189900.0,192000.0,18000.0,18000.0,19000.0,18000.0,19000.0,20900.0,20800.0,20800.0,19800.0,20800.0,20.0,20.0,20.0,20.0,20.0,453000.0,454000.0,453000.0,453000.0,453000.0,228400.0,239100.0,235700.0,227600.0,232000.0,33000.0,33000.0,33000.0,33000.0,33000.0,0.0,0.0,0.0,0.0,0.0,48800.0,44250.0,45950.0,54000.0,50100.0,5200.0,7500.0,6300.0,6800.0,14000.0,381000.0,382000.0,382000.0,382000.0,381000.0,6100.0,6000.0,6000.0,6000.0,6000.0,1214500.0,1222600.0,1246000.0,1230000.0,1227000.0,531000.0,510000.0,490600.0,508000.0,557000.0,0.0,0.0,0.0,0.0,0.0,0.0,0.0,0.0,0.0,0.0,0.0,0.0,0.0,0.0,0.0,74600.0,81200.0,80300.0,76600.0,79500.0,20700.0,19700.0,20700.0,20700.0,19700.0,2607100.0,2352100.0,2354100.0,2335100.0,2524100.0,0.0,0.0,0.0,0.0,0.0,0.0,0.0,0.0,0.0,0.0,0.0,0.0,0.0,0.0,0.0,13000.0,14000.0,14000.0,14000.0,14000.0,210200.0,210100.0,210100.0,210100.0,210200.0,534100.0,534100.0,534100.0,533100.0,535100.0,1409000.0,1409000.0,1409000.0,1408000.0,1409000.0,118330.0,120470.0,120280.0,119280.0,118330.0,5500.0,5500.0,5500.0,5500.0,5600.0,416000.0,415000.0,415000.0,416000.0,415000.0,9300.0,9300.0,9300.0,9300.0,9300.0,28800.0,27300.0,26500.0,27100.0,28600.0,1015800.0,1015800.0,1015800.0,1015800.0,1016800.0,40000.0,40000.0,40000.0,40000.0,40000.0,0.0,0.0,0.0,0.0,0.0,21800.0,21800.0,21900.0,21800.0,21800.0,0.0,0.0,0.0,0.0,0.0,0.0,0.0,0.0,0.0,0.0,9900.0,9900.0,9800.0,9800.0,9800.0,6000.0,5400.0,9300.0,6200.0,13000.0,22000.0,124700.0,125600.0,125600.0,125600.0,125700.0,230000.0,229000.0,225200.0,235000.0,237000.0,5700.0,5800.0,5800.0,5800.0,5800.0,5600.0,5600.0,5600.0,5600.0,5600.0,14000.0,14000.0,13000.0,13000.0,13000.0,287000.0,273600.0,273600.0,283000.0,305000.0,38200.0,34200.0,29200.0,38200.0,28200.0,141100.0,141100.0,141100.0,141100.0,140100.0,68600.0,69500.0,68600.0,69600.0,68600.0,16000.0,63000.0,30000.0,15000.0,23100.0,1852000.0,1814000.0,1815000.0,2129000.0,1814000.0,0.0,0.0,0.0,0.0,0.0,15000.0,15000.0,15000.0,15000.0,15000.0,461000.0,460900.0,461100.0,461900.0,461000.0,0.0,0.0,0.0,0.0,0.0,120000.0,117000.0,119000.0,123000.0,117000.0,1095000.0,1094000.0,1094000.0,1094000.0,1094000.0,53200.0,65000.0,66100.0,65100.0,59000.0,372000.0,373000.0,372000.0,373000.0,0.0,0.0,0.0,0.0,0.0,320000.0,319700.0,320000.0,320000.0,320000.0,35000.0,37000.0,37000.0,37000.0,37000.0,0.0,0.0,0.0,0.0,0.0,6600.0,6600.0,6600.0,6600.0,6600.0,108000.0,109000.0,109000.0,108000.0,108000.0,45000.0,45000.0,45000.0,45000.0,45000.0,40000.0,40000.0,40000.0,40000.0,40000.0,0.0,0.0,0.0,0.0,0.0,362000.0,362000.0,363000.0,363000.0,363000.0,299300.0,289600.0,290600.0,302300.0,291300.0,229000.0,212600.0,193400.0,301900.0,250000.0,11000.0,10900.0,11000.0,10800.0,11000.0,250000.0,250000.0,250000.0,250000.0,250000.0,58000.0,58000.0,58000.0,58000.0,58000.0,0.0,0.0,0.0,0.0,0.0,74000.0,74000.0,76000.0,74000.0,76000.0,6300.0,6200.0,6200.0,6200.0,6200.0,0.0,0.0,0.0,0.0,0.0,0.0,0.0,0.0,0.0,0.0,527000.0,529400.0,533700.0,525200.0,530900.0,7300.0,7300.0,7400.0,7300.0,7300.0,320500.0,301500.0,311500.0,308500.0,320500.0,350000.0,350000.0,350000.0,350000.0,350000.0,42959000.0,43210000.0,42630000.0,42730000.0,42760000.0,33100.0,35700.0,57000.0,29100.0,52000.0,34611000.0,34613000.0,34612000.0,34612000.0,34612000.0,74400.0,74400.0,74400.0,74400.0,74400.0,0.0,0.0,0.0,0.0,0.0,0.0,0.0,0.0,0.0,0.0,0.0,0.0,0.0,0.0,0.0,363700.0,353800.0,366800.0,360700.0,366800.0,417200.0,419780.0,420000.0,420000.0,419700.0,16000.0,16000.0,16000.0,17000.0,16000.0,20000.0,20000.0,20000.0,20000.0,20000.0,8300.0,8300.0,8200.0,8300.0,8300.0,291000.0,261000.0,273000.0,294000.0,301000.0,2465000.0,2464000.0,2464000.0,2465000.0,2464000.0,16000.0,16000.0,16000.0,17000.0,17000.0,0.0,0.0,0.0,0.0,0.0,1088100.0,1089100.0,1088100.0,1088100.0,1088100.0,905600.0,725600.0,858600.0,799600.0,565600.0,0.0,0.0,0.0,0.0,0.0,23000.0,23000.0,24000.0,23000.0,24000.0,13000.0,13000.0,13000.0,12000.0,12000.0,0.0,0.0,0.0,0.0,0.0,29000.0,31000.0,30000.0,30000.0,31000.0,66200.0,56100.0,61400.0,75400.0,74400.0,801620.0,812000.0,813000.0,819000.0,801630.0,724800.0,724900.0,723900.0,723900.0,724900.0,293640.0,293640.0,293630.0,293630.0,293740.0,0.0,0.0,0.0,0.0,0.0,531000.0,532000.0,532000.0,531000.0,532000.0,141700.0,153000.0,170900.0,162000.0,113500.0,27000.0,27000.0,27000.0,27000.0,27000.0,0.0,0.0,0.0,0.0,0.0,21000.0,20000.0,21000.0,20000.0,20000.0,0.0,0.0,0.0,0.0,0.0,170000.0,170000.0,170000.0,170000.0,170000.0,30000.0,30000.0,30000.0,30000.0,30000.0,55000.0,55000.0,55000.0,55000.0,55000.0,102800.0,102800.0,102700.0,102800.0,102800.0,3000.0,3000.0,3000.0,3000.0,3000.0,6100.0,6000.0,6000.0,6100.0,6000.0,296700.0,291700.0,295600.0,290600.0,292700.0,195000.0,197000.0,196000.0,196000.0,196000.0,283100.0,284100.0,283000.0,283100.0,283100.0,12800.0,8720.0,10100.0,9800.0,12000.0,28900.0,29000.0,29000.0,29000.0,29000.0,4400.0,4400.0,4400.0,4400.0,4400.0,14400.0,9600.0,7200.0,7200.0,10200.0,4800.0,10000.0,13000.0,13000.0,5400.0,6600.0,13000.0,7600.0,11600.0,6100.0,5200.0,5100.0,5200.0,5200.0,5100.0,0.0,0.0,0.0,0.0,0.0,40000.0,40000.0,40000.0,40000.0,40000.0,0.0,0.0,0.0,0.0,0.0,3000.0,3000.0,3000.0,3000.0,3000.0,0.0,0.0,0.0,0.0,0.0,0.0,0.0,0.0,0.0,0.0,22000.0,22000.0,22000.0,22000.0,21000.0,42000.0,43000.0,43000.0,43000.0,43000.0,0.0,0.0,0.0,0.0,0.0,0.0,0.0,0.0,0.0,0.0,10000.0,10000.0,10000.0,10000.0,10000.0,467900.0,468000.0,467900.0,469000.0,467900.0,59000.0,59000.0,60000.0,59000.0,59000.0,5200.0,4900.0,4900.0,6400.0,9800.0,17600.0,16700.0,17700.0,17700.0,17700.0,3900.0,3900.0,4000.0,3900.0,4000.0,43000.0,41900.0,42900.0,45600.0,48900.0,14000.0,15000.0,15000.0,15000.0,14000.0,29616000.0,29616000.0,29615000.0,29616000.0,29616000.0,66000.0,66000.0,66000.0,66000.0,66000.0,0.0,0.0,0.0,0.0,0.0,15000.0,14000.0,15000.0,14000.0,14000.0,264000.0,263000.0,264000.0,263000.0,263000.0,32000.0,18900.0,28600.0,55000.0,23000.0,235000.0,8100.0,10800.0,6000.0,7600.0,7900.0,292000.0,292000.0,292000.0,292000.0,292000.0,816000.0,817000.0,818000.0,816000.0,817000.0,0.0,0.0,0.0,0.0,0.0,0.0,0.0,0.0,0.0,0.0,314900.0,313900.0,313900.0,313900.0,314900.0,0.0,0.0,0.0,0.0,0.0,6800.0,5600.0,3600.0,9400.0,7900.0,1913000.0,1914000.0,1913000.0,1913000.0,1914000.0,240900.0,240900.0,240900.0,240900.0,240900.0,331800.0,331800.0,331900.0,331900.0,331900.0,1047200.0,1047200.0,1048300.0,1048300.0,1048300.0,66700.0,66700.0,66700.0,66600.0,65600.0,241900.0,276000.0,195900.0,284000.0,279900.0,15000.0,18000.0,17000.0,18000.0,16000.0,43000.0,43000.0,43000.0,43000.0,44000.0,20151000.0,17102000.0,19882000.0,16394000.0,20906000.0,27000.0,28100.0,27000.0,28100.0,27100.0,16200.0,16300.0,16300.0,16300.0,16200.0,171000.0,196100.0,200000.0,156000.0,158800.0,9100.0,9100.0,9100.0,9100.0,9100.0,364000.0,364000.0,365000.0,365000.0,364000.0,5400.0,9800.0,3900.0,9400.0,4700.0,261900.0,264800.0,261900.0,277500.0,264700.0,0.0,0.0,0.0,0.0,0.0,0.0,0.0,0.0,0.0,0.0,76000.0,77000.0,80000.0,80000.0,80000.0,6700.0,6800.0,6800.0,6800.0,6800.0,26000.0,26000.0,26000.0,26000.0,26000.0,19000.0,19000.0,19000.0,19000.0,19000.0,244000.0,243000.0,244000.0,243000.0,244000.0,315900.0,315900.0,315900.0,315800.0,315800.0,0.0,0.0,0.0,0.0,0.0,287000.0,287000.0,287000.0,287000.0,287000.0,208100.0,208200.0,208200.0,208100.0,208200.0,47900.0,47900.0,47900.0,48900.0,48900.0,127000.0,161000.0,161000.0,142000.0,195000.0,0.0,0.0,0.0,0.0,0.0,369000.0,368000.0,369000.0,368000.0,368000.0,567000.0,581000.0,1342000.0,629000.0,803000.0,440000.0,421000.0,407000.0,406000.0,413000.0,0.0,0.0,0.0,0.0,0.0,5800.0,5800.0,5800.0,5700.0,5800.0,210730.0,210730.0,211730.0,212620.0,211730.0,16000.0,17000.0,16000.0,16000.0,16000.0,130000.0,130000.0,130000.0,130000.0,130000.0,13100.0,13100.0,13100.0,13100.0,13100.0,0.0,0.0,0.0,0.0,0.0,37300.0,37400.0,37300.0,37300.0,37300.0,0.0,0.0,0.0,0.0,0.0,52000.0,60700.0,47200.0,42600.0,55900.0,542900.0,538900.0,532700.0,531200.0,539900.0,6575000.0,6574000.0,6574000.0,6574000.0,6574000.0,143710.0,144710.0,144400.0,143710.0,144250.0,22504000.0,22149000.0,22334000.0,22322000.0,22553000.0,222500.0,225500.0,238500.0,229800.0,217500.0,6800.0,7100.0,12000.0,5400.0,6500.0,228500.0,228500.0,228500.0,229600.0,229500.0,45400.0,45400.0,45400.0,45400.0,45400.0,37000.0,37000.0,35900.0,36900.0,37000.0,245200.0,230620.0,240200.0,243100.0,239200.0,33300.0,33300.0,33300.0,33300.0,33300.0,2625900.0,2625800.0,2626900.0,2625800.0,2625800.0,26300.0,26300.0,26300.0,27300.0,26300.0,317800.0,317800.0,318800.0,318800.0,318800.0,0.0,0.0,0.0,0.0,0.0,510000.0,510000.0,510000.0,507600.0,510000.0,7900.0,5900.0,6200.0,9300.0,6300.0,0.0,0.0,0.0,0.0,0.0,25000.0,25000.0,25000.0,25000.0,25000.0,8300.0,8300.0,8300.0,8300.0,8300.0,422000.0,422000.0,422000.0,422000.0,422000.0,21000.0,22000.0,22000.0,23000.0,23000.0,23800.0,23900.0,23900.0,23900.0,23900.0,0.0,0.0,0.0,0.0,0.0,6300.0,6200.0,6200.0,6300.0,6200.0,200000.0,200000.0,200000.0,201000.0,201000.0,177400.0,176400.0,176400.0,176400.0,176400.0,47100.0,47100.0,48100.0,47100.0,48100.0,0.0,0.0,0.0,0.0,0.0,0.0,0.0,0.0,0.0,0.0,0.0,0.0,0.0,0.0,0.0,12000.0,12000.0,12000.0,13000.0,13000.0,12000.0,12000.0,12000.0,12000.0,12000.0,4700.0,4700.0,4700.0,4700.0,4700.0,0.0,0.0,0.0,0.0,0.0,26500.0,26500.0,26600.0,26500.0,26600.0,0.0,0.0,0.0,0.0,0.0,30200.0,30200.0,30200.0,30200.0,29200.0,0.0,0.0,0.0,0.0,0.0,0.0,0.0,0.0,0.0,0.0,0.0,0.0,0.0,0.0,0.0,31000.0,31000.0,31000.0,31000.0,31000.0,18100.0,18100.0,18100.0,18100.0,18100.0,18000.0,17000.0,18000.0,17000.0,17000.0,0.0,0.0,0.0,0.0,0.0,305100.0,305100.0,305100.0,305100.0,305100.0,0.0,0.0,0.0,0.0,0.0,0.0,0.0,0.0,0.0,0.0,0.0,0.0,16000.0,16000.0,16000.0,16000.0,16000.0,0.0,0.0,0.0,0.0,0.0,1077100.0,1077100.0,1077200.0,1077100.0,1077100.0,31050.0,30040.0,30040.0,30040.0,31040.0,95000.0,95000.0,95000.0,95000.0,95000.0,10100.0,13000.0,14600.0,10200.0,9600.0,54000.0,55000.0,54000.0,55000.0,55000.0,16000.0,15000.0,16000.0,16000.0,15000.0,0.0,0.0,0.0,0.0,0.0,21300.0,21300.0,20300.0,20300.0,21300.0,12140.0,14500.0,12800.0,10600.0,9230.0,0.0,0.0,0.0,0.0,0.0,9000.0,9000.0,9000.0,9000.0,9000.0,23000.0,23000.0,22000.0,23000.0,22000.0,17300.0,17300.0,20300.0,11200.0,21300.0,559000.0,664000.0,588000.0,729000.0,793000.0,2229000.0,2229000.0,2228000.0,2228000.0,2229000.0,98000.0,86000.0,99000.0,86000.0,86000.0,246000.0,246000.0,239000.0,239000.0,245000.0,0.0,0.0,0.0,0.0,0.0,0.0,0.0,0.0,0.0,0.0],\"x0\":\" \",\"xaxis\":\"x\",\"y0\":\" \",\"yaxis\":\"y\",\"type\":\"box\"}],                        {\"template\":{\"data\":{\"histogram2dcontour\":[{\"type\":\"histogram2dcontour\",\"colorbar\":{\"outlinewidth\":0,\"ticks\":\"\"},\"colorscale\":[[0.0,\"#0d0887\"],[0.1111111111111111,\"#46039f\"],[0.2222222222222222,\"#7201a8\"],[0.3333333333333333,\"#9c179e\"],[0.4444444444444444,\"#bd3786\"],[0.5555555555555556,\"#d8576b\"],[0.6666666666666666,\"#ed7953\"],[0.7777777777777778,\"#fb9f3a\"],[0.8888888888888888,\"#fdca26\"],[1.0,\"#f0f921\"]]}],\"choropleth\":[{\"type\":\"choropleth\",\"colorbar\":{\"outlinewidth\":0,\"ticks\":\"\"}}],\"histogram2d\":[{\"type\":\"histogram2d\",\"colorbar\":{\"outlinewidth\":0,\"ticks\":\"\"},\"colorscale\":[[0.0,\"#0d0887\"],[0.1111111111111111,\"#46039f\"],[0.2222222222222222,\"#7201a8\"],[0.3333333333333333,\"#9c179e\"],[0.4444444444444444,\"#bd3786\"],[0.5555555555555556,\"#d8576b\"],[0.6666666666666666,\"#ed7953\"],[0.7777777777777778,\"#fb9f3a\"],[0.8888888888888888,\"#fdca26\"],[1.0,\"#f0f921\"]]}],\"heatmap\":[{\"type\":\"heatmap\",\"colorbar\":{\"outlinewidth\":0,\"ticks\":\"\"},\"colorscale\":[[0.0,\"#0d0887\"],[0.1111111111111111,\"#46039f\"],[0.2222222222222222,\"#7201a8\"],[0.3333333333333333,\"#9c179e\"],[0.4444444444444444,\"#bd3786\"],[0.5555555555555556,\"#d8576b\"],[0.6666666666666666,\"#ed7953\"],[0.7777777777777778,\"#fb9f3a\"],[0.8888888888888888,\"#fdca26\"],[1.0,\"#f0f921\"]]}],\"heatmapgl\":[{\"type\":\"heatmapgl\",\"colorbar\":{\"outlinewidth\":0,\"ticks\":\"\"},\"colorscale\":[[0.0,\"#0d0887\"],[0.1111111111111111,\"#46039f\"],[0.2222222222222222,\"#7201a8\"],[0.3333333333333333,\"#9c179e\"],[0.4444444444444444,\"#bd3786\"],[0.5555555555555556,\"#d8576b\"],[0.6666666666666666,\"#ed7953\"],[0.7777777777777778,\"#fb9f3a\"],[0.8888888888888888,\"#fdca26\"],[1.0,\"#f0f921\"]]}],\"contourcarpet\":[{\"type\":\"contourcarpet\",\"colorbar\":{\"outlinewidth\":0,\"ticks\":\"\"}}],\"contour\":[{\"type\":\"contour\",\"colorbar\":{\"outlinewidth\":0,\"ticks\":\"\"},\"colorscale\":[[0.0,\"#0d0887\"],[0.1111111111111111,\"#46039f\"],[0.2222222222222222,\"#7201a8\"],[0.3333333333333333,\"#9c179e\"],[0.4444444444444444,\"#bd3786\"],[0.5555555555555556,\"#d8576b\"],[0.6666666666666666,\"#ed7953\"],[0.7777777777777778,\"#fb9f3a\"],[0.8888888888888888,\"#fdca26\"],[1.0,\"#f0f921\"]]}],\"surface\":[{\"type\":\"surface\",\"colorbar\":{\"outlinewidth\":0,\"ticks\":\"\"},\"colorscale\":[[0.0,\"#0d0887\"],[0.1111111111111111,\"#46039f\"],[0.2222222222222222,\"#7201a8\"],[0.3333333333333333,\"#9c179e\"],[0.4444444444444444,\"#bd3786\"],[0.5555555555555556,\"#d8576b\"],[0.6666666666666666,\"#ed7953\"],[0.7777777777777778,\"#fb9f3a\"],[0.8888888888888888,\"#fdca26\"],[1.0,\"#f0f921\"]]}],\"mesh3d\":[{\"type\":\"mesh3d\",\"colorbar\":{\"outlinewidth\":0,\"ticks\":\"\"}}],\"scatter\":[{\"fillpattern\":{\"fillmode\":\"overlay\",\"size\":10,\"solidity\":0.2},\"type\":\"scatter\"}],\"parcoords\":[{\"type\":\"parcoords\",\"line\":{\"colorbar\":{\"outlinewidth\":0,\"ticks\":\"\"}}}],\"scatterpolargl\":[{\"type\":\"scatterpolargl\",\"marker\":{\"colorbar\":{\"outlinewidth\":0,\"ticks\":\"\"}}}],\"bar\":[{\"error_x\":{\"color\":\"#2a3f5f\"},\"error_y\":{\"color\":\"#2a3f5f\"},\"marker\":{\"line\":{\"color\":\"#E5ECF6\",\"width\":0.5},\"pattern\":{\"fillmode\":\"overlay\",\"size\":10,\"solidity\":0.2}},\"type\":\"bar\"}],\"scattergeo\":[{\"type\":\"scattergeo\",\"marker\":{\"colorbar\":{\"outlinewidth\":0,\"ticks\":\"\"}}}],\"scatterpolar\":[{\"type\":\"scatterpolar\",\"marker\":{\"colorbar\":{\"outlinewidth\":0,\"ticks\":\"\"}}}],\"histogram\":[{\"marker\":{\"pattern\":{\"fillmode\":\"overlay\",\"size\":10,\"solidity\":0.2}},\"type\":\"histogram\"}],\"scattergl\":[{\"type\":\"scattergl\",\"marker\":{\"colorbar\":{\"outlinewidth\":0,\"ticks\":\"\"}}}],\"scatter3d\":[{\"type\":\"scatter3d\",\"line\":{\"colorbar\":{\"outlinewidth\":0,\"ticks\":\"\"}},\"marker\":{\"colorbar\":{\"outlinewidth\":0,\"ticks\":\"\"}}}],\"scattermapbox\":[{\"type\":\"scattermapbox\",\"marker\":{\"colorbar\":{\"outlinewidth\":0,\"ticks\":\"\"}}}],\"scatterternary\":[{\"type\":\"scatterternary\",\"marker\":{\"colorbar\":{\"outlinewidth\":0,\"ticks\":\"\"}}}],\"scattercarpet\":[{\"type\":\"scattercarpet\",\"marker\":{\"colorbar\":{\"outlinewidth\":0,\"ticks\":\"\"}}}],\"carpet\":[{\"aaxis\":{\"endlinecolor\":\"#2a3f5f\",\"gridcolor\":\"white\",\"linecolor\":\"white\",\"minorgridcolor\":\"white\",\"startlinecolor\":\"#2a3f5f\"},\"baxis\":{\"endlinecolor\":\"#2a3f5f\",\"gridcolor\":\"white\",\"linecolor\":\"white\",\"minorgridcolor\":\"white\",\"startlinecolor\":\"#2a3f5f\"},\"type\":\"carpet\"}],\"table\":[{\"cells\":{\"fill\":{\"color\":\"#EBF0F8\"},\"line\":{\"color\":\"white\"}},\"header\":{\"fill\":{\"color\":\"#C8D4E3\"},\"line\":{\"color\":\"white\"}},\"type\":\"table\"}],\"barpolar\":[{\"marker\":{\"line\":{\"color\":\"#E5ECF6\",\"width\":0.5},\"pattern\":{\"fillmode\":\"overlay\",\"size\":10,\"solidity\":0.2}},\"type\":\"barpolar\"}],\"pie\":[{\"automargin\":true,\"type\":\"pie\"}]},\"layout\":{\"autotypenumbers\":\"strict\",\"colorway\":[\"#636efa\",\"#EF553B\",\"#00cc96\",\"#ab63fa\",\"#FFA15A\",\"#19d3f3\",\"#FF6692\",\"#B6E880\",\"#FF97FF\",\"#FECB52\"],\"font\":{\"color\":\"#2a3f5f\"},\"hovermode\":\"closest\",\"hoverlabel\":{\"align\":\"left\"},\"paper_bgcolor\":\"white\",\"plot_bgcolor\":\"#E5ECF6\",\"polar\":{\"bgcolor\":\"#E5ECF6\",\"angularaxis\":{\"gridcolor\":\"white\",\"linecolor\":\"white\",\"ticks\":\"\"},\"radialaxis\":{\"gridcolor\":\"white\",\"linecolor\":\"white\",\"ticks\":\"\"}},\"ternary\":{\"bgcolor\":\"#E5ECF6\",\"aaxis\":{\"gridcolor\":\"white\",\"linecolor\":\"white\",\"ticks\":\"\"},\"baxis\":{\"gridcolor\":\"white\",\"linecolor\":\"white\",\"ticks\":\"\"},\"caxis\":{\"gridcolor\":\"white\",\"linecolor\":\"white\",\"ticks\":\"\"}},\"coloraxis\":{\"colorbar\":{\"outlinewidth\":0,\"ticks\":\"\"}},\"colorscale\":{\"sequential\":[[0.0,\"#0d0887\"],[0.1111111111111111,\"#46039f\"],[0.2222222222222222,\"#7201a8\"],[0.3333333333333333,\"#9c179e\"],[0.4444444444444444,\"#bd3786\"],[0.5555555555555556,\"#d8576b\"],[0.6666666666666666,\"#ed7953\"],[0.7777777777777778,\"#fb9f3a\"],[0.8888888888888888,\"#fdca26\"],[1.0,\"#f0f921\"]],\"sequentialminus\":[[0.0,\"#0d0887\"],[0.1111111111111111,\"#46039f\"],[0.2222222222222222,\"#7201a8\"],[0.3333333333333333,\"#9c179e\"],[0.4444444444444444,\"#bd3786\"],[0.5555555555555556,\"#d8576b\"],[0.6666666666666666,\"#ed7953\"],[0.7777777777777778,\"#fb9f3a\"],[0.8888888888888888,\"#fdca26\"],[1.0,\"#f0f921\"]],\"diverging\":[[0,\"#8e0152\"],[0.1,\"#c51b7d\"],[0.2,\"#de77ae\"],[0.3,\"#f1b6da\"],[0.4,\"#fde0ef\"],[0.5,\"#f7f7f7\"],[0.6,\"#e6f5d0\"],[0.7,\"#b8e186\"],[0.8,\"#7fbc41\"],[0.9,\"#4d9221\"],[1,\"#276419\"]]},\"xaxis\":{\"gridcolor\":\"white\",\"linecolor\":\"white\",\"ticks\":\"\",\"title\":{\"standoff\":15},\"zerolinecolor\":\"white\",\"automargin\":true,\"zerolinewidth\":2},\"yaxis\":{\"gridcolor\":\"white\",\"linecolor\":\"white\",\"ticks\":\"\",\"title\":{\"standoff\":15},\"zerolinecolor\":\"white\",\"automargin\":true,\"zerolinewidth\":2},\"scene\":{\"xaxis\":{\"backgroundcolor\":\"#E5ECF6\",\"gridcolor\":\"white\",\"linecolor\":\"white\",\"showbackground\":true,\"ticks\":\"\",\"zerolinecolor\":\"white\",\"gridwidth\":2},\"yaxis\":{\"backgroundcolor\":\"#E5ECF6\",\"gridcolor\":\"white\",\"linecolor\":\"white\",\"showbackground\":true,\"ticks\":\"\",\"zerolinecolor\":\"white\",\"gridwidth\":2},\"zaxis\":{\"backgroundcolor\":\"#E5ECF6\",\"gridcolor\":\"white\",\"linecolor\":\"white\",\"showbackground\":true,\"ticks\":\"\",\"zerolinecolor\":\"white\",\"gridwidth\":2}},\"shapedefaults\":{\"line\":{\"color\":\"#2a3f5f\"}},\"annotationdefaults\":{\"arrowcolor\":\"#2a3f5f\",\"arrowhead\":0,\"arrowwidth\":1},\"geo\":{\"bgcolor\":\"white\",\"landcolor\":\"#E5ECF6\",\"subunitcolor\":\"white\",\"showland\":true,\"showlakes\":true,\"lakecolor\":\"white\"},\"title\":{\"x\":0.05},\"mapbox\":{\"style\":\"light\"}}},\"xaxis\":{\"anchor\":\"y\",\"domain\":[0.0,1.0],\"title\":{\"text\":\"Value [$]\"}},\"yaxis\":{\"anchor\":\"x\",\"domain\":[0.0,1.0]},\"legend\":{\"tracegroupgap\":0},\"title\":{\"text\":\"Distribution of Non-home, Non-Financial Assets\"},\"boxmode\":\"group\"},                        {\"responsive\": true}                    ).then(function(){\n",
       "                            \n",
       "var gd = document.getElementById('abd1e516-7d1d-45d1-b011-2054ed4b861d');\n",
       "var x = new MutationObserver(function (mutations, observer) {{\n",
       "        var display = window.getComputedStyle(gd).display;\n",
       "        if (!display || display === 'none') {{\n",
       "            console.log([gd, 'removed!']);\n",
       "            Plotly.purge(gd);\n",
       "            observer.disconnect();\n",
       "        }}\n",
       "}});\n",
       "\n",
       "// Listen for the removal of the full notebook cells\n",
       "var notebookContainer = gd.closest('#notebook-container');\n",
       "if (notebookContainer) {{\n",
       "    x.observe(notebookContainer, {childList: true});\n",
       "}}\n",
       "\n",
       "// Listen for the clearing of the current output cell\n",
       "var outputEl = gd.closest('.output');\n",
       "if (outputEl) {{\n",
       "    x.observe(outputEl, {childList: true});\n",
       "}}\n",
       "\n",
       "                        })                };                });            </script>        </div>"
      ]
     },
     "metadata": {},
     "output_type": "display_data"
    }
   ],
   "source": [
    "# Distribution of NFIN feature\n",
    "fig = px.box(\n",
    "    data_frame=df_fear,\n",
    "    x=\"NFIN\",\n",
    "    title=\"Distribution of Non-home, Non-Financial Assets\"\n",
    ")\n",
    "fig.update_layout(xaxis_title=\"Value [$]\")\n",
    "fig.show()"
   ]
  },
  {
   "cell_type": "markdown",
   "id": "aec83b13",
   "metadata": {},
   "source": [
    "* Observation: Clearly it can be observed that outliers are present and it making the variance so high."
   ]
  },
  {
   "cell_type": "markdown",
   "id": "0e52584f",
   "metadata": {},
   "source": [
    "**Solution: Because of the outliers the variance is soo high so we will use `Trimmed Variance.`**"
   ]
  },
  {
   "cell_type": "code",
   "execution_count": 41,
   "id": "70327957",
   "metadata": {},
   "outputs": [
    {
     "data": {
      "text/plain": [
       "NH_MORT     1.518084e+09\n",
       "MRTHEL      1.565874e+09\n",
       "PLOAN1      1.834723e+09\n",
       "KGTOTAL     2.401795e+09\n",
       "HOMEEQ      2.729247e+09\n",
       "DEBT        3.656484e+09\n",
       "HOUSES      1.115749e+10\n",
       "NETWORTH    1.170923e+10\n",
       "NFIN        2.039453e+10\n",
       "ASSET       2.857839e+10\n",
       "dtype: float64"
      ]
     },
     "execution_count": 41,
     "metadata": {},
     "output_type": "execute_result"
    }
   ],
   "source": [
    "# Calculate trimmed variance\n",
    "top_ten_trim_var = df_fear.apply(trimmed_var, limits=(0.1, 0.1)).sort_values().tail(10)\n",
    "top_ten_trim_var"
   ]
  },
  {
   "cell_type": "code",
   "execution_count": 42,
   "id": "e423c2d0",
   "metadata": {},
   "outputs": [
    {
     "data": {
      "application/vnd.plotly.v1+json": {
       "config": {
        "plotlyServerURL": "https://plot.ly"
       },
       "data": [
        {
         "alignmentgroup": "True",
         "hovertemplate": "x=%{x}<br>y=%{y}<extra></extra>",
         "legendgroup": "",
         "marker": {
          "color": "#636efa",
          "pattern": {
           "shape": ""
          }
         },
         "name": "",
         "offsetgroup": "",
         "orientation": "h",
         "showlegend": false,
         "textposition": "auto",
         "type": "bar",
         "x": [
          1518084217.2140782,
          1565874321.71642,
          1834722947.599411,
          2401795054.338476,
          2729246529.081005,
          3656484339.753174,
          11157487424.614773,
          11709226943.049805,
          20394526254.45721,
          28578393419.071423
         ],
         "xaxis": "x",
         "y": [
          "NH_MORT",
          "MRTHEL",
          "PLOAN1",
          "KGTOTAL",
          "HOMEEQ",
          "DEBT",
          "HOUSES",
          "NETWORTH",
          "NFIN",
          "ASSET"
         ],
         "yaxis": "y"
        }
       ],
       "layout": {
        "barmode": "relative",
        "legend": {
         "tracegroupgap": 0
        },
        "template": {
         "data": {
          "bar": [
           {
            "error_x": {
             "color": "#2a3f5f"
            },
            "error_y": {
             "color": "#2a3f5f"
            },
            "marker": {
             "line": {
              "color": "#E5ECF6",
              "width": 0.5
             },
             "pattern": {
              "fillmode": "overlay",
              "size": 10,
              "solidity": 0.2
             }
            },
            "type": "bar"
           }
          ],
          "barpolar": [
           {
            "marker": {
             "line": {
              "color": "#E5ECF6",
              "width": 0.5
             },
             "pattern": {
              "fillmode": "overlay",
              "size": 10,
              "solidity": 0.2
             }
            },
            "type": "barpolar"
           }
          ],
          "carpet": [
           {
            "aaxis": {
             "endlinecolor": "#2a3f5f",
             "gridcolor": "white",
             "linecolor": "white",
             "minorgridcolor": "white",
             "startlinecolor": "#2a3f5f"
            },
            "baxis": {
             "endlinecolor": "#2a3f5f",
             "gridcolor": "white",
             "linecolor": "white",
             "minorgridcolor": "white",
             "startlinecolor": "#2a3f5f"
            },
            "type": "carpet"
           }
          ],
          "choropleth": [
           {
            "colorbar": {
             "outlinewidth": 0,
             "ticks": ""
            },
            "type": "choropleth"
           }
          ],
          "contour": [
           {
            "colorbar": {
             "outlinewidth": 0,
             "ticks": ""
            },
            "colorscale": [
             [
              0,
              "#0d0887"
             ],
             [
              0.1111111111111111,
              "#46039f"
             ],
             [
              0.2222222222222222,
              "#7201a8"
             ],
             [
              0.3333333333333333,
              "#9c179e"
             ],
             [
              0.4444444444444444,
              "#bd3786"
             ],
             [
              0.5555555555555556,
              "#d8576b"
             ],
             [
              0.6666666666666666,
              "#ed7953"
             ],
             [
              0.7777777777777778,
              "#fb9f3a"
             ],
             [
              0.8888888888888888,
              "#fdca26"
             ],
             [
              1,
              "#f0f921"
             ]
            ],
            "type": "contour"
           }
          ],
          "contourcarpet": [
           {
            "colorbar": {
             "outlinewidth": 0,
             "ticks": ""
            },
            "type": "contourcarpet"
           }
          ],
          "heatmap": [
           {
            "colorbar": {
             "outlinewidth": 0,
             "ticks": ""
            },
            "colorscale": [
             [
              0,
              "#0d0887"
             ],
             [
              0.1111111111111111,
              "#46039f"
             ],
             [
              0.2222222222222222,
              "#7201a8"
             ],
             [
              0.3333333333333333,
              "#9c179e"
             ],
             [
              0.4444444444444444,
              "#bd3786"
             ],
             [
              0.5555555555555556,
              "#d8576b"
             ],
             [
              0.6666666666666666,
              "#ed7953"
             ],
             [
              0.7777777777777778,
              "#fb9f3a"
             ],
             [
              0.8888888888888888,
              "#fdca26"
             ],
             [
              1,
              "#f0f921"
             ]
            ],
            "type": "heatmap"
           }
          ],
          "heatmapgl": [
           {
            "colorbar": {
             "outlinewidth": 0,
             "ticks": ""
            },
            "colorscale": [
             [
              0,
              "#0d0887"
             ],
             [
              0.1111111111111111,
              "#46039f"
             ],
             [
              0.2222222222222222,
              "#7201a8"
             ],
             [
              0.3333333333333333,
              "#9c179e"
             ],
             [
              0.4444444444444444,
              "#bd3786"
             ],
             [
              0.5555555555555556,
              "#d8576b"
             ],
             [
              0.6666666666666666,
              "#ed7953"
             ],
             [
              0.7777777777777778,
              "#fb9f3a"
             ],
             [
              0.8888888888888888,
              "#fdca26"
             ],
             [
              1,
              "#f0f921"
             ]
            ],
            "type": "heatmapgl"
           }
          ],
          "histogram": [
           {
            "marker": {
             "pattern": {
              "fillmode": "overlay",
              "size": 10,
              "solidity": 0.2
             }
            },
            "type": "histogram"
           }
          ],
          "histogram2d": [
           {
            "colorbar": {
             "outlinewidth": 0,
             "ticks": ""
            },
            "colorscale": [
             [
              0,
              "#0d0887"
             ],
             [
              0.1111111111111111,
              "#46039f"
             ],
             [
              0.2222222222222222,
              "#7201a8"
             ],
             [
              0.3333333333333333,
              "#9c179e"
             ],
             [
              0.4444444444444444,
              "#bd3786"
             ],
             [
              0.5555555555555556,
              "#d8576b"
             ],
             [
              0.6666666666666666,
              "#ed7953"
             ],
             [
              0.7777777777777778,
              "#fb9f3a"
             ],
             [
              0.8888888888888888,
              "#fdca26"
             ],
             [
              1,
              "#f0f921"
             ]
            ],
            "type": "histogram2d"
           }
          ],
          "histogram2dcontour": [
           {
            "colorbar": {
             "outlinewidth": 0,
             "ticks": ""
            },
            "colorscale": [
             [
              0,
              "#0d0887"
             ],
             [
              0.1111111111111111,
              "#46039f"
             ],
             [
              0.2222222222222222,
              "#7201a8"
             ],
             [
              0.3333333333333333,
              "#9c179e"
             ],
             [
              0.4444444444444444,
              "#bd3786"
             ],
             [
              0.5555555555555556,
              "#d8576b"
             ],
             [
              0.6666666666666666,
              "#ed7953"
             ],
             [
              0.7777777777777778,
              "#fb9f3a"
             ],
             [
              0.8888888888888888,
              "#fdca26"
             ],
             [
              1,
              "#f0f921"
             ]
            ],
            "type": "histogram2dcontour"
           }
          ],
          "mesh3d": [
           {
            "colorbar": {
             "outlinewidth": 0,
             "ticks": ""
            },
            "type": "mesh3d"
           }
          ],
          "parcoords": [
           {
            "line": {
             "colorbar": {
              "outlinewidth": 0,
              "ticks": ""
             }
            },
            "type": "parcoords"
           }
          ],
          "pie": [
           {
            "automargin": true,
            "type": "pie"
           }
          ],
          "scatter": [
           {
            "fillpattern": {
             "fillmode": "overlay",
             "size": 10,
             "solidity": 0.2
            },
            "type": "scatter"
           }
          ],
          "scatter3d": [
           {
            "line": {
             "colorbar": {
              "outlinewidth": 0,
              "ticks": ""
             }
            },
            "marker": {
             "colorbar": {
              "outlinewidth": 0,
              "ticks": ""
             }
            },
            "type": "scatter3d"
           }
          ],
          "scattercarpet": [
           {
            "marker": {
             "colorbar": {
              "outlinewidth": 0,
              "ticks": ""
             }
            },
            "type": "scattercarpet"
           }
          ],
          "scattergeo": [
           {
            "marker": {
             "colorbar": {
              "outlinewidth": 0,
              "ticks": ""
             }
            },
            "type": "scattergeo"
           }
          ],
          "scattergl": [
           {
            "marker": {
             "colorbar": {
              "outlinewidth": 0,
              "ticks": ""
             }
            },
            "type": "scattergl"
           }
          ],
          "scattermapbox": [
           {
            "marker": {
             "colorbar": {
              "outlinewidth": 0,
              "ticks": ""
             }
            },
            "type": "scattermapbox"
           }
          ],
          "scatterpolar": [
           {
            "marker": {
             "colorbar": {
              "outlinewidth": 0,
              "ticks": ""
             }
            },
            "type": "scatterpolar"
           }
          ],
          "scatterpolargl": [
           {
            "marker": {
             "colorbar": {
              "outlinewidth": 0,
              "ticks": ""
             }
            },
            "type": "scatterpolargl"
           }
          ],
          "scatterternary": [
           {
            "marker": {
             "colorbar": {
              "outlinewidth": 0,
              "ticks": ""
             }
            },
            "type": "scatterternary"
           }
          ],
          "surface": [
           {
            "colorbar": {
             "outlinewidth": 0,
             "ticks": ""
            },
            "colorscale": [
             [
              0,
              "#0d0887"
             ],
             [
              0.1111111111111111,
              "#46039f"
             ],
             [
              0.2222222222222222,
              "#7201a8"
             ],
             [
              0.3333333333333333,
              "#9c179e"
             ],
             [
              0.4444444444444444,
              "#bd3786"
             ],
             [
              0.5555555555555556,
              "#d8576b"
             ],
             [
              0.6666666666666666,
              "#ed7953"
             ],
             [
              0.7777777777777778,
              "#fb9f3a"
             ],
             [
              0.8888888888888888,
              "#fdca26"
             ],
             [
              1,
              "#f0f921"
             ]
            ],
            "type": "surface"
           }
          ],
          "table": [
           {
            "cells": {
             "fill": {
              "color": "#EBF0F8"
             },
             "line": {
              "color": "white"
             }
            },
            "header": {
             "fill": {
              "color": "#C8D4E3"
             },
             "line": {
              "color": "white"
             }
            },
            "type": "table"
           }
          ]
         },
         "layout": {
          "annotationdefaults": {
           "arrowcolor": "#2a3f5f",
           "arrowhead": 0,
           "arrowwidth": 1
          },
          "autotypenumbers": "strict",
          "coloraxis": {
           "colorbar": {
            "outlinewidth": 0,
            "ticks": ""
           }
          },
          "colorscale": {
           "diverging": [
            [
             0,
             "#8e0152"
            ],
            [
             0.1,
             "#c51b7d"
            ],
            [
             0.2,
             "#de77ae"
            ],
            [
             0.3,
             "#f1b6da"
            ],
            [
             0.4,
             "#fde0ef"
            ],
            [
             0.5,
             "#f7f7f7"
            ],
            [
             0.6,
             "#e6f5d0"
            ],
            [
             0.7,
             "#b8e186"
            ],
            [
             0.8,
             "#7fbc41"
            ],
            [
             0.9,
             "#4d9221"
            ],
            [
             1,
             "#276419"
            ]
           ],
           "sequential": [
            [
             0,
             "#0d0887"
            ],
            [
             0.1111111111111111,
             "#46039f"
            ],
            [
             0.2222222222222222,
             "#7201a8"
            ],
            [
             0.3333333333333333,
             "#9c179e"
            ],
            [
             0.4444444444444444,
             "#bd3786"
            ],
            [
             0.5555555555555556,
             "#d8576b"
            ],
            [
             0.6666666666666666,
             "#ed7953"
            ],
            [
             0.7777777777777778,
             "#fb9f3a"
            ],
            [
             0.8888888888888888,
             "#fdca26"
            ],
            [
             1,
             "#f0f921"
            ]
           ],
           "sequentialminus": [
            [
             0,
             "#0d0887"
            ],
            [
             0.1111111111111111,
             "#46039f"
            ],
            [
             0.2222222222222222,
             "#7201a8"
            ],
            [
             0.3333333333333333,
             "#9c179e"
            ],
            [
             0.4444444444444444,
             "#bd3786"
            ],
            [
             0.5555555555555556,
             "#d8576b"
            ],
            [
             0.6666666666666666,
             "#ed7953"
            ],
            [
             0.7777777777777778,
             "#fb9f3a"
            ],
            [
             0.8888888888888888,
             "#fdca26"
            ],
            [
             1,
             "#f0f921"
            ]
           ]
          },
          "colorway": [
           "#636efa",
           "#EF553B",
           "#00cc96",
           "#ab63fa",
           "#FFA15A",
           "#19d3f3",
           "#FF6692",
           "#B6E880",
           "#FF97FF",
           "#FECB52"
          ],
          "font": {
           "color": "#2a3f5f"
          },
          "geo": {
           "bgcolor": "white",
           "lakecolor": "white",
           "landcolor": "#E5ECF6",
           "showlakes": true,
           "showland": true,
           "subunitcolor": "white"
          },
          "hoverlabel": {
           "align": "left"
          },
          "hovermode": "closest",
          "mapbox": {
           "style": "light"
          },
          "paper_bgcolor": "white",
          "plot_bgcolor": "#E5ECF6",
          "polar": {
           "angularaxis": {
            "gridcolor": "white",
            "linecolor": "white",
            "ticks": ""
           },
           "bgcolor": "#E5ECF6",
           "radialaxis": {
            "gridcolor": "white",
            "linecolor": "white",
            "ticks": ""
           }
          },
          "scene": {
           "xaxis": {
            "backgroundcolor": "#E5ECF6",
            "gridcolor": "white",
            "gridwidth": 2,
            "linecolor": "white",
            "showbackground": true,
            "ticks": "",
            "zerolinecolor": "white"
           },
           "yaxis": {
            "backgroundcolor": "#E5ECF6",
            "gridcolor": "white",
            "gridwidth": 2,
            "linecolor": "white",
            "showbackground": true,
            "ticks": "",
            "zerolinecolor": "white"
           },
           "zaxis": {
            "backgroundcolor": "#E5ECF6",
            "gridcolor": "white",
            "gridwidth": 2,
            "linecolor": "white",
            "showbackground": true,
            "ticks": "",
            "zerolinecolor": "white"
           }
          },
          "shapedefaults": {
           "line": {
            "color": "#2a3f5f"
           }
          },
          "ternary": {
           "aaxis": {
            "gridcolor": "white",
            "linecolor": "white",
            "ticks": ""
           },
           "baxis": {
            "gridcolor": "white",
            "linecolor": "white",
            "ticks": ""
           },
           "bgcolor": "#E5ECF6",
           "caxis": {
            "gridcolor": "white",
            "linecolor": "white",
            "ticks": ""
           }
          },
          "title": {
           "x": 0.05
          },
          "xaxis": {
           "automargin": true,
           "gridcolor": "white",
           "linecolor": "white",
           "ticks": "",
           "title": {
            "standoff": 15
           },
           "zerolinecolor": "white",
           "zerolinewidth": 2
          },
          "yaxis": {
           "automargin": true,
           "gridcolor": "white",
           "linecolor": "white",
           "ticks": "",
           "title": {
            "standoff": 15
           },
           "zerolinecolor": "white",
           "zerolinewidth": 2
          }
         }
        },
        "title": {
         "text": "High Trimmed Variance Features"
        },
        "xaxis": {
         "anchor": "y",
         "domain": [
          0,
          1
         ],
         "title": {
          "text": "Trimmed Variance"
         }
        },
        "yaxis": {
         "anchor": "x",
         "domain": [
          0,
          1
         ],
         "title": {
          "text": "Features"
         }
        }
       }
      },
      "text/html": [
       "<div>                            <div id=\"bafb6ed5-c4a9-41c1-8ee9-976ef96bda8f\" class=\"plotly-graph-div\" style=\"height:525px; width:100%;\"></div>            <script type=\"text/javascript\">                require([\"plotly\"], function(Plotly) {                    window.PLOTLYENV=window.PLOTLYENV || {};                                    if (document.getElementById(\"bafb6ed5-c4a9-41c1-8ee9-976ef96bda8f\")) {                    Plotly.newPlot(                        \"bafb6ed5-c4a9-41c1-8ee9-976ef96bda8f\",                        [{\"alignmentgroup\":\"True\",\"hovertemplate\":\"x=%{x}<br>y=%{y}<extra></extra>\",\"legendgroup\":\"\",\"marker\":{\"color\":\"#636efa\",\"pattern\":{\"shape\":\"\"}},\"name\":\"\",\"offsetgroup\":\"\",\"orientation\":\"h\",\"showlegend\":false,\"textposition\":\"auto\",\"x\":[1518084217.2140782,1565874321.71642,1834722947.599411,2401795054.338476,2729246529.081005,3656484339.753174,11157487424.614773,11709226943.049805,20394526254.45721,28578393419.071423],\"xaxis\":\"x\",\"y\":[\"NH_MORT\",\"MRTHEL\",\"PLOAN1\",\"KGTOTAL\",\"HOMEEQ\",\"DEBT\",\"HOUSES\",\"NETWORTH\",\"NFIN\",\"ASSET\"],\"yaxis\":\"y\",\"type\":\"bar\"}],                        {\"template\":{\"data\":{\"histogram2dcontour\":[{\"type\":\"histogram2dcontour\",\"colorbar\":{\"outlinewidth\":0,\"ticks\":\"\"},\"colorscale\":[[0.0,\"#0d0887\"],[0.1111111111111111,\"#46039f\"],[0.2222222222222222,\"#7201a8\"],[0.3333333333333333,\"#9c179e\"],[0.4444444444444444,\"#bd3786\"],[0.5555555555555556,\"#d8576b\"],[0.6666666666666666,\"#ed7953\"],[0.7777777777777778,\"#fb9f3a\"],[0.8888888888888888,\"#fdca26\"],[1.0,\"#f0f921\"]]}],\"choropleth\":[{\"type\":\"choropleth\",\"colorbar\":{\"outlinewidth\":0,\"ticks\":\"\"}}],\"histogram2d\":[{\"type\":\"histogram2d\",\"colorbar\":{\"outlinewidth\":0,\"ticks\":\"\"},\"colorscale\":[[0.0,\"#0d0887\"],[0.1111111111111111,\"#46039f\"],[0.2222222222222222,\"#7201a8\"],[0.3333333333333333,\"#9c179e\"],[0.4444444444444444,\"#bd3786\"],[0.5555555555555556,\"#d8576b\"],[0.6666666666666666,\"#ed7953\"],[0.7777777777777778,\"#fb9f3a\"],[0.8888888888888888,\"#fdca26\"],[1.0,\"#f0f921\"]]}],\"heatmap\":[{\"type\":\"heatmap\",\"colorbar\":{\"outlinewidth\":0,\"ticks\":\"\"},\"colorscale\":[[0.0,\"#0d0887\"],[0.1111111111111111,\"#46039f\"],[0.2222222222222222,\"#7201a8\"],[0.3333333333333333,\"#9c179e\"],[0.4444444444444444,\"#bd3786\"],[0.5555555555555556,\"#d8576b\"],[0.6666666666666666,\"#ed7953\"],[0.7777777777777778,\"#fb9f3a\"],[0.8888888888888888,\"#fdca26\"],[1.0,\"#f0f921\"]]}],\"heatmapgl\":[{\"type\":\"heatmapgl\",\"colorbar\":{\"outlinewidth\":0,\"ticks\":\"\"},\"colorscale\":[[0.0,\"#0d0887\"],[0.1111111111111111,\"#46039f\"],[0.2222222222222222,\"#7201a8\"],[0.3333333333333333,\"#9c179e\"],[0.4444444444444444,\"#bd3786\"],[0.5555555555555556,\"#d8576b\"],[0.6666666666666666,\"#ed7953\"],[0.7777777777777778,\"#fb9f3a\"],[0.8888888888888888,\"#fdca26\"],[1.0,\"#f0f921\"]]}],\"contourcarpet\":[{\"type\":\"contourcarpet\",\"colorbar\":{\"outlinewidth\":0,\"ticks\":\"\"}}],\"contour\":[{\"type\":\"contour\",\"colorbar\":{\"outlinewidth\":0,\"ticks\":\"\"},\"colorscale\":[[0.0,\"#0d0887\"],[0.1111111111111111,\"#46039f\"],[0.2222222222222222,\"#7201a8\"],[0.3333333333333333,\"#9c179e\"],[0.4444444444444444,\"#bd3786\"],[0.5555555555555556,\"#d8576b\"],[0.6666666666666666,\"#ed7953\"],[0.7777777777777778,\"#fb9f3a\"],[0.8888888888888888,\"#fdca26\"],[1.0,\"#f0f921\"]]}],\"surface\":[{\"type\":\"surface\",\"colorbar\":{\"outlinewidth\":0,\"ticks\":\"\"},\"colorscale\":[[0.0,\"#0d0887\"],[0.1111111111111111,\"#46039f\"],[0.2222222222222222,\"#7201a8\"],[0.3333333333333333,\"#9c179e\"],[0.4444444444444444,\"#bd3786\"],[0.5555555555555556,\"#d8576b\"],[0.6666666666666666,\"#ed7953\"],[0.7777777777777778,\"#fb9f3a\"],[0.8888888888888888,\"#fdca26\"],[1.0,\"#f0f921\"]]}],\"mesh3d\":[{\"type\":\"mesh3d\",\"colorbar\":{\"outlinewidth\":0,\"ticks\":\"\"}}],\"scatter\":[{\"fillpattern\":{\"fillmode\":\"overlay\",\"size\":10,\"solidity\":0.2},\"type\":\"scatter\"}],\"parcoords\":[{\"type\":\"parcoords\",\"line\":{\"colorbar\":{\"outlinewidth\":0,\"ticks\":\"\"}}}],\"scatterpolargl\":[{\"type\":\"scatterpolargl\",\"marker\":{\"colorbar\":{\"outlinewidth\":0,\"ticks\":\"\"}}}],\"bar\":[{\"error_x\":{\"color\":\"#2a3f5f\"},\"error_y\":{\"color\":\"#2a3f5f\"},\"marker\":{\"line\":{\"color\":\"#E5ECF6\",\"width\":0.5},\"pattern\":{\"fillmode\":\"overlay\",\"size\":10,\"solidity\":0.2}},\"type\":\"bar\"}],\"scattergeo\":[{\"type\":\"scattergeo\",\"marker\":{\"colorbar\":{\"outlinewidth\":0,\"ticks\":\"\"}}}],\"scatterpolar\":[{\"type\":\"scatterpolar\",\"marker\":{\"colorbar\":{\"outlinewidth\":0,\"ticks\":\"\"}}}],\"histogram\":[{\"marker\":{\"pattern\":{\"fillmode\":\"overlay\",\"size\":10,\"solidity\":0.2}},\"type\":\"histogram\"}],\"scattergl\":[{\"type\":\"scattergl\",\"marker\":{\"colorbar\":{\"outlinewidth\":0,\"ticks\":\"\"}}}],\"scatter3d\":[{\"type\":\"scatter3d\",\"line\":{\"colorbar\":{\"outlinewidth\":0,\"ticks\":\"\"}},\"marker\":{\"colorbar\":{\"outlinewidth\":0,\"ticks\":\"\"}}}],\"scattermapbox\":[{\"type\":\"scattermapbox\",\"marker\":{\"colorbar\":{\"outlinewidth\":0,\"ticks\":\"\"}}}],\"scatterternary\":[{\"type\":\"scatterternary\",\"marker\":{\"colorbar\":{\"outlinewidth\":0,\"ticks\":\"\"}}}],\"scattercarpet\":[{\"type\":\"scattercarpet\",\"marker\":{\"colorbar\":{\"outlinewidth\":0,\"ticks\":\"\"}}}],\"carpet\":[{\"aaxis\":{\"endlinecolor\":\"#2a3f5f\",\"gridcolor\":\"white\",\"linecolor\":\"white\",\"minorgridcolor\":\"white\",\"startlinecolor\":\"#2a3f5f\"},\"baxis\":{\"endlinecolor\":\"#2a3f5f\",\"gridcolor\":\"white\",\"linecolor\":\"white\",\"minorgridcolor\":\"white\",\"startlinecolor\":\"#2a3f5f\"},\"type\":\"carpet\"}],\"table\":[{\"cells\":{\"fill\":{\"color\":\"#EBF0F8\"},\"line\":{\"color\":\"white\"}},\"header\":{\"fill\":{\"color\":\"#C8D4E3\"},\"line\":{\"color\":\"white\"}},\"type\":\"table\"}],\"barpolar\":[{\"marker\":{\"line\":{\"color\":\"#E5ECF6\",\"width\":0.5},\"pattern\":{\"fillmode\":\"overlay\",\"size\":10,\"solidity\":0.2}},\"type\":\"barpolar\"}],\"pie\":[{\"automargin\":true,\"type\":\"pie\"}]},\"layout\":{\"autotypenumbers\":\"strict\",\"colorway\":[\"#636efa\",\"#EF553B\",\"#00cc96\",\"#ab63fa\",\"#FFA15A\",\"#19d3f3\",\"#FF6692\",\"#B6E880\",\"#FF97FF\",\"#FECB52\"],\"font\":{\"color\":\"#2a3f5f\"},\"hovermode\":\"closest\",\"hoverlabel\":{\"align\":\"left\"},\"paper_bgcolor\":\"white\",\"plot_bgcolor\":\"#E5ECF6\",\"polar\":{\"bgcolor\":\"#E5ECF6\",\"angularaxis\":{\"gridcolor\":\"white\",\"linecolor\":\"white\",\"ticks\":\"\"},\"radialaxis\":{\"gridcolor\":\"white\",\"linecolor\":\"white\",\"ticks\":\"\"}},\"ternary\":{\"bgcolor\":\"#E5ECF6\",\"aaxis\":{\"gridcolor\":\"white\",\"linecolor\":\"white\",\"ticks\":\"\"},\"baxis\":{\"gridcolor\":\"white\",\"linecolor\":\"white\",\"ticks\":\"\"},\"caxis\":{\"gridcolor\":\"white\",\"linecolor\":\"white\",\"ticks\":\"\"}},\"coloraxis\":{\"colorbar\":{\"outlinewidth\":0,\"ticks\":\"\"}},\"colorscale\":{\"sequential\":[[0.0,\"#0d0887\"],[0.1111111111111111,\"#46039f\"],[0.2222222222222222,\"#7201a8\"],[0.3333333333333333,\"#9c179e\"],[0.4444444444444444,\"#bd3786\"],[0.5555555555555556,\"#d8576b\"],[0.6666666666666666,\"#ed7953\"],[0.7777777777777778,\"#fb9f3a\"],[0.8888888888888888,\"#fdca26\"],[1.0,\"#f0f921\"]],\"sequentialminus\":[[0.0,\"#0d0887\"],[0.1111111111111111,\"#46039f\"],[0.2222222222222222,\"#7201a8\"],[0.3333333333333333,\"#9c179e\"],[0.4444444444444444,\"#bd3786\"],[0.5555555555555556,\"#d8576b\"],[0.6666666666666666,\"#ed7953\"],[0.7777777777777778,\"#fb9f3a\"],[0.8888888888888888,\"#fdca26\"],[1.0,\"#f0f921\"]],\"diverging\":[[0,\"#8e0152\"],[0.1,\"#c51b7d\"],[0.2,\"#de77ae\"],[0.3,\"#f1b6da\"],[0.4,\"#fde0ef\"],[0.5,\"#f7f7f7\"],[0.6,\"#e6f5d0\"],[0.7,\"#b8e186\"],[0.8,\"#7fbc41\"],[0.9,\"#4d9221\"],[1,\"#276419\"]]},\"xaxis\":{\"gridcolor\":\"white\",\"linecolor\":\"white\",\"ticks\":\"\",\"title\":{\"standoff\":15},\"zerolinecolor\":\"white\",\"automargin\":true,\"zerolinewidth\":2},\"yaxis\":{\"gridcolor\":\"white\",\"linecolor\":\"white\",\"ticks\":\"\",\"title\":{\"standoff\":15},\"zerolinecolor\":\"white\",\"automargin\":true,\"zerolinewidth\":2},\"scene\":{\"xaxis\":{\"backgroundcolor\":\"#E5ECF6\",\"gridcolor\":\"white\",\"linecolor\":\"white\",\"showbackground\":true,\"ticks\":\"\",\"zerolinecolor\":\"white\",\"gridwidth\":2},\"yaxis\":{\"backgroundcolor\":\"#E5ECF6\",\"gridcolor\":\"white\",\"linecolor\":\"white\",\"showbackground\":true,\"ticks\":\"\",\"zerolinecolor\":\"white\",\"gridwidth\":2},\"zaxis\":{\"backgroundcolor\":\"#E5ECF6\",\"gridcolor\":\"white\",\"linecolor\":\"white\",\"showbackground\":true,\"ticks\":\"\",\"zerolinecolor\":\"white\",\"gridwidth\":2}},\"shapedefaults\":{\"line\":{\"color\":\"#2a3f5f\"}},\"annotationdefaults\":{\"arrowcolor\":\"#2a3f5f\",\"arrowhead\":0,\"arrowwidth\":1},\"geo\":{\"bgcolor\":\"white\",\"landcolor\":\"#E5ECF6\",\"subunitcolor\":\"white\",\"showland\":true,\"showlakes\":true,\"lakecolor\":\"white\"},\"title\":{\"x\":0.05},\"mapbox\":{\"style\":\"light\"}}},\"xaxis\":{\"anchor\":\"y\",\"domain\":[0.0,1.0],\"title\":{\"text\":\"Trimmed Variance\"}},\"yaxis\":{\"anchor\":\"x\",\"domain\":[0.0,1.0],\"title\":{\"text\":\"Features\"}},\"legend\":{\"tracegroupgap\":0},\"title\":{\"text\":\"High Trimmed Variance Features\"},\"barmode\":\"relative\"},                        {\"responsive\": true}                    ).then(function(){\n",
       "                            \n",
       "var gd = document.getElementById('bafb6ed5-c4a9-41c1-8ee9-976ef96bda8f');\n",
       "var x = new MutationObserver(function (mutations, observer) {{\n",
       "        var display = window.getComputedStyle(gd).display;\n",
       "        if (!display || display === 'none') {{\n",
       "            console.log([gd, 'removed!']);\n",
       "            Plotly.purge(gd);\n",
       "            observer.disconnect();\n",
       "        }}\n",
       "}});\n",
       "\n",
       "// Listen for the removal of the full notebook cells\n",
       "var notebookContainer = gd.closest('#notebook-container');\n",
       "if (notebookContainer) {{\n",
       "    x.observe(notebookContainer, {childList: true});\n",
       "}}\n",
       "\n",
       "// Listen for the clearing of the current output cell\n",
       "var outputEl = gd.closest('.output');\n",
       "if (outputEl) {{\n",
       "    x.observe(outputEl, {childList: true});\n",
       "}}\n",
       "\n",
       "                        })                };                });            </script>        </div>"
      ]
     },
     "metadata": {},
     "output_type": "display_data"
    }
   ],
   "source": [
    "# Creating a bar plot of trimmed variance features\n",
    "fig = px.bar(\n",
    "    x = top_ten_trim_var,\n",
    "    y = top_ten_trim_var.index,\n",
    "    title = \"High Trimmed Variance Features\"\n",
    ")\n",
    "fig.update_layout(xaxis_title=\"Trimmed Variance\", yaxis_title=\"Features\")\n",
    "fig.show()"
   ]
  },
  {
   "cell_type": "markdown",
   "id": "3c00dbd0",
   "metadata": {},
   "source": [
    "* Observation: The value decrease now they are in `Billions`"
   ]
  },
  {
   "cell_type": "markdown",
   "id": "097e10e6",
   "metadata": {},
   "source": [
    "**Generating a list of high_var with the column names of the five features with the highest trimmed variance.**"
   ]
  },
  {
   "cell_type": "code",
   "execution_count": 44,
   "id": "e4b2f8c5",
   "metadata": {},
   "outputs": [
    {
     "data": {
      "text/plain": [
       "['DEBT', 'HOUSES', 'NETWORTH', 'NFIN', 'ASSET']"
      ]
     },
     "execution_count": 44,
     "metadata": {},
     "output_type": "execute_result"
    }
   ],
   "source": [
    "high_var = top_ten_trim_var.tail(5).index.to_list()\n",
    "high_var"
   ]
  },
  {
   "cell_type": "markdown",
   "id": "0555dc02",
   "metadata": {},
   "source": [
    " "
   ]
  },
  {
   "cell_type": "markdown",
   "id": "86da1512",
   "metadata": {},
   "source": [
    "# Model Building"
   ]
  },
  {
   "cell_type": "markdown",
   "id": "50d5b564",
   "metadata": {},
   "source": [
    "## Feature Matrix"
   ]
  },
  {
   "cell_type": "code",
   "execution_count": 45,
   "id": "19754e7c",
   "metadata": {},
   "outputs": [
    {
     "name": "stdout",
     "output_type": "stream",
     "text": [
      "X shape: (3839, 5)\n"
     ]
    },
    {
     "data": {
      "text/html": [
       "<div>\n",
       "<style scoped>\n",
       "    .dataframe tbody tr th:only-of-type {\n",
       "        vertical-align: middle;\n",
       "    }\n",
       "\n",
       "    .dataframe tbody tr th {\n",
       "        vertical-align: top;\n",
       "    }\n",
       "\n",
       "    .dataframe thead th {\n",
       "        text-align: right;\n",
       "    }\n",
       "</style>\n",
       "<table border=\"1\" class=\"dataframe\">\n",
       "  <thead>\n",
       "    <tr style=\"text-align: right;\">\n",
       "      <th></th>\n",
       "      <th>DEBT</th>\n",
       "      <th>HOUSES</th>\n",
       "      <th>NETWORTH</th>\n",
       "      <th>NFIN</th>\n",
       "      <th>ASSET</th>\n",
       "    </tr>\n",
       "  </thead>\n",
       "  <tbody>\n",
       "    <tr>\n",
       "      <th>20</th>\n",
       "      <td>11000</td>\n",
       "      <td>0</td>\n",
       "      <td>4100.0</td>\n",
       "      <td>14000.0</td>\n",
       "      <td>15100.0</td>\n",
       "    </tr>\n",
       "    <tr>\n",
       "      <th>21</th>\n",
       "      <td>10000</td>\n",
       "      <td>0</td>\n",
       "      <td>5500.0</td>\n",
       "      <td>14000.0</td>\n",
       "      <td>15500.0</td>\n",
       "    </tr>\n",
       "    <tr>\n",
       "      <th>22</th>\n",
       "      <td>10000</td>\n",
       "      <td>0</td>\n",
       "      <td>4500.0</td>\n",
       "      <td>13000.0</td>\n",
       "      <td>14500.0</td>\n",
       "    </tr>\n",
       "    <tr>\n",
       "      <th>23</th>\n",
       "      <td>10000</td>\n",
       "      <td>0</td>\n",
       "      <td>5600.0</td>\n",
       "      <td>14000.0</td>\n",
       "      <td>15600.0</td>\n",
       "    </tr>\n",
       "    <tr>\n",
       "      <th>24</th>\n",
       "      <td>11000</td>\n",
       "      <td>0</td>\n",
       "      <td>4500.0</td>\n",
       "      <td>14000.0</td>\n",
       "      <td>15500.0</td>\n",
       "    </tr>\n",
       "  </tbody>\n",
       "</table>\n",
       "</div>"
      ],
      "text/plain": [
       "     DEBT  HOUSES  NETWORTH     NFIN    ASSET\n",
       "20  11000       0    4100.0  14000.0  15100.0\n",
       "21  10000       0    5500.0  14000.0  15500.0\n",
       "22  10000       0    4500.0  13000.0  14500.0\n",
       "23  10000       0    5600.0  14000.0  15600.0\n",
       "24  11000       0    4500.0  14000.0  15500.0"
      ]
     },
     "execution_count": 45,
     "metadata": {},
     "output_type": "execute_result"
    }
   ],
   "source": [
    "# Creating a Feature Matrix\n",
    "X = df_fear[high_var]\n",
    "print(\"X shape:\", X.shape)\n",
    "X.head()"
   ]
  },
  {
   "cell_type": "markdown",
   "id": "a58a5a9c",
   "metadata": {},
   "source": [
    " "
   ]
  },
  {
   "cell_type": "markdown",
   "id": "c5d9642e",
   "metadata": {},
   "source": [
    "## Feature's Pre-processing"
   ]
  },
  {
   "cell_type": "markdown",
   "id": "d92118bd",
   "metadata": {},
   "source": [
    "Lets compare the features and compatibility as `X_summary`"
   ]
  },
  {
   "cell_type": "code",
   "execution_count": 47,
   "id": "b4553df0",
   "metadata": {},
   "outputs": [
    {
     "data": {
      "text/html": [
       "<div>\n",
       "<style scoped>\n",
       "    .dataframe tbody tr th:only-of-type {\n",
       "        vertical-align: middle;\n",
       "    }\n",
       "\n",
       "    .dataframe tbody tr th {\n",
       "        vertical-align: top;\n",
       "    }\n",
       "\n",
       "    .dataframe thead th {\n",
       "        text-align: right;\n",
       "    }\n",
       "</style>\n",
       "<table border=\"1\" class=\"dataframe\">\n",
       "  <thead>\n",
       "    <tr style=\"text-align: right;\">\n",
       "      <th></th>\n",
       "      <th>DEBT</th>\n",
       "      <th>HOUSES</th>\n",
       "      <th>NETWORTH</th>\n",
       "      <th>NFIN</th>\n",
       "      <th>ASSET</th>\n",
       "    </tr>\n",
       "  </thead>\n",
       "  <tbody>\n",
       "    <tr>\n",
       "      <th>mean</th>\n",
       "      <td>116769</td>\n",
       "      <td>153379</td>\n",
       "      <td>1335827</td>\n",
       "      <td>1012787</td>\n",
       "      <td>1452597</td>\n",
       "    </tr>\n",
       "    <tr>\n",
       "      <th>std</th>\n",
       "      <td>416861</td>\n",
       "      <td>523045</td>\n",
       "      <td>12453290</td>\n",
       "      <td>9263960</td>\n",
       "      <td>12646814</td>\n",
       "    </tr>\n",
       "  </tbody>\n",
       "</table>\n",
       "</div>"
      ],
      "text/plain": [
       "        DEBT  HOUSES  NETWORTH     NFIN     ASSET\n",
       "mean  116769  153379   1335827  1012787   1452597\n",
       "std   416861  523045  12453290  9263960  12646814"
      ]
     },
     "execution_count": 47,
     "metadata": {},
     "output_type": "execute_result"
    }
   ],
   "source": [
    "X_summary = X.aggregate([\"mean\", \"std\"]).astype(int)\n",
    "X_summary"
   ]
  },
  {
   "cell_type": "markdown",
   "id": "93dc423c",
   "metadata": {},
   "source": [
    "* In our dataset, features exhibit variations in mean and standard deviation values. `Standardization` addresses this by scaling all features to a common range, ensuring k-means isn't biased towards those with larger scales. This enhances algorithm robustness, convergence, and interpretation of resulting clusters."
   ]
  },
  {
   "cell_type": "code",
   "execution_count": 48,
   "id": "97dfb413",
   "metadata": {},
   "outputs": [
    {
     "name": "stdout",
     "output_type": "stream",
     "text": [
      "X_scaled shape: (3839, 5)\n"
     ]
    },
    {
     "data": {
      "text/html": [
       "<div>\n",
       "<style scoped>\n",
       "    .dataframe tbody tr th:only-of-type {\n",
       "        vertical-align: middle;\n",
       "    }\n",
       "\n",
       "    .dataframe tbody tr th {\n",
       "        vertical-align: top;\n",
       "    }\n",
       "\n",
       "    .dataframe thead th {\n",
       "        text-align: right;\n",
       "    }\n",
       "</style>\n",
       "<table border=\"1\" class=\"dataframe\">\n",
       "  <thead>\n",
       "    <tr style=\"text-align: right;\">\n",
       "      <th></th>\n",
       "      <th>DEBT</th>\n",
       "      <th>HOUSES</th>\n",
       "      <th>NETWORTH</th>\n",
       "      <th>NFIN</th>\n",
       "      <th>ASSET</th>\n",
       "    </tr>\n",
       "  </thead>\n",
       "  <tbody>\n",
       "    <tr>\n",
       "      <th>0</th>\n",
       "      <td>-0.253762</td>\n",
       "      <td>-0.29328</td>\n",
       "      <td>-0.106952</td>\n",
       "      <td>-0.107828</td>\n",
       "      <td>-0.113680</td>\n",
       "    </tr>\n",
       "    <tr>\n",
       "      <th>1</th>\n",
       "      <td>-0.256161</td>\n",
       "      <td>-0.29328</td>\n",
       "      <td>-0.106839</td>\n",
       "      <td>-0.107828</td>\n",
       "      <td>-0.113648</td>\n",
       "    </tr>\n",
       "    <tr>\n",
       "      <th>2</th>\n",
       "      <td>-0.256161</td>\n",
       "      <td>-0.29328</td>\n",
       "      <td>-0.106920</td>\n",
       "      <td>-0.107936</td>\n",
       "      <td>-0.113727</td>\n",
       "    </tr>\n",
       "    <tr>\n",
       "      <th>3</th>\n",
       "      <td>-0.256161</td>\n",
       "      <td>-0.29328</td>\n",
       "      <td>-0.106831</td>\n",
       "      <td>-0.107828</td>\n",
       "      <td>-0.113640</td>\n",
       "    </tr>\n",
       "    <tr>\n",
       "      <th>4</th>\n",
       "      <td>-0.253762</td>\n",
       "      <td>-0.29328</td>\n",
       "      <td>-0.106920</td>\n",
       "      <td>-0.107828</td>\n",
       "      <td>-0.113648</td>\n",
       "    </tr>\n",
       "  </tbody>\n",
       "</table>\n",
       "</div>"
      ],
      "text/plain": [
       "       DEBT   HOUSES  NETWORTH      NFIN     ASSET\n",
       "0 -0.253762 -0.29328 -0.106952 -0.107828 -0.113680\n",
       "1 -0.256161 -0.29328 -0.106839 -0.107828 -0.113648\n",
       "2 -0.256161 -0.29328 -0.106920 -0.107936 -0.113727\n",
       "3 -0.256161 -0.29328 -0.106831 -0.107828 -0.113640\n",
       "4 -0.253762 -0.29328 -0.106920 -0.107828 -0.113648"
      ]
     },
     "execution_count": 48,
     "metadata": {},
     "output_type": "execute_result"
    }
   ],
   "source": [
    "# Standarization of features by using StandardScaler\n",
    "ss = StandardScaler()\n",
    "\n",
    "# Transform `X`\n",
    "X_scaled_data = ss.fit_transform(X)\n",
    "\n",
    "# Put `X_scaled_data` into DataFrame\n",
    "X_scaled = pd.DataFrame(X_scaled_data, columns=X.columns)\n",
    "\n",
    "print(\"X_scaled shape:\", X_scaled.shape)\n",
    "X_scaled.head()"
   ]
  },
  {
   "cell_type": "markdown",
   "id": "ff619aef",
   "metadata": {},
   "source": [
    "The data is `Standarized` now let's see the `X_summary`"
   ]
  },
  {
   "cell_type": "markdown",
   "id": "5f13bea8",
   "metadata": {},
   "source": [
    " "
   ]
  },
  {
   "cell_type": "code",
   "execution_count": 49,
   "id": "3b17bfcc",
   "metadata": {},
   "outputs": [
    {
     "data": {
      "text/html": [
       "<div>\n",
       "<style scoped>\n",
       "    .dataframe tbody tr th:only-of-type {\n",
       "        vertical-align: middle;\n",
       "    }\n",
       "\n",
       "    .dataframe tbody tr th {\n",
       "        vertical-align: top;\n",
       "    }\n",
       "\n",
       "    .dataframe thead th {\n",
       "        text-align: right;\n",
       "    }\n",
       "</style>\n",
       "<table border=\"1\" class=\"dataframe\">\n",
       "  <thead>\n",
       "    <tr style=\"text-align: right;\">\n",
       "      <th></th>\n",
       "      <th>DEBT</th>\n",
       "      <th>HOUSES</th>\n",
       "      <th>NETWORTH</th>\n",
       "      <th>NFIN</th>\n",
       "      <th>ASSET</th>\n",
       "    </tr>\n",
       "  </thead>\n",
       "  <tbody>\n",
       "    <tr>\n",
       "      <th>mean</th>\n",
       "      <td>0</td>\n",
       "      <td>0</td>\n",
       "      <td>0</td>\n",
       "      <td>0</td>\n",
       "      <td>0</td>\n",
       "    </tr>\n",
       "    <tr>\n",
       "      <th>std</th>\n",
       "      <td>1</td>\n",
       "      <td>1</td>\n",
       "      <td>1</td>\n",
       "      <td>1</td>\n",
       "      <td>1</td>\n",
       "    </tr>\n",
       "  </tbody>\n",
       "</table>\n",
       "</div>"
      ],
      "text/plain": [
       "      DEBT  HOUSES  NETWORTH  NFIN  ASSET\n",
       "mean     0       0         0     0      0\n",
       "std      1       1         1     1      1"
      ]
     },
     "execution_count": 49,
     "metadata": {},
     "output_type": "execute_result"
    }
   ],
   "source": [
    "X_scaled_summary = X_scaled.aggregate([\"mean\", \"std\"]).astype(int)\n",
    "X_scaled_summary"
   ]
  },
  {
   "cell_type": "markdown",
   "id": "4e28cbd3",
   "metadata": {},
   "source": [
    "* As we can see the complete data is standarized now and ready to model building."
   ]
  },
  {
   "cell_type": "markdown",
   "id": "872a95b0",
   "metadata": {},
   "source": [
    " "
   ]
  },
  {
   "cell_type": "markdown",
   "id": "59bdb42f",
   "metadata": {},
   "source": [
    "## Hyper-Parameter Tuning"
   ]
  },
  {
   "cell_type": "markdown",
   "id": "6d1d0142",
   "metadata": {},
   "source": [
    "Hyperparameter tuning is a crucial step in optimizing the performance of the k-means clustering algorithm. Silhouette score and inertia are two key metrics used for this purpose. Silhouette score measures the cohesion and separation of clusters, with higher scores indicating better-defined clusters. In contrast, inertia reflects the sum of squared distances between data points and their assigned cluster centers. A lower inertia suggests denser, more compact clusters. By systematically adjusting hyperparameters and observing the impact on these metrics, we can fine-tune the model for optimal clustering results, achieving a balance between silhouette score and inertia for more meaningful and accurate cluster assignments.\n",
    "\n",
    "Now we will train the model at 10 different values of cluster and calculate the `Silhouette Score` and `Inertia`, then we will compare it and find the best value of the clusters."
   ]
  },
  {
   "cell_type": "code",
   "execution_count": 52,
   "id": "13705955",
   "metadata": {},
   "outputs": [
    {
     "name": "stdout",
     "output_type": "stream",
     "text": [
      "Inertia: [9173.195116944944, 4549.582964735445, 3247.028327262952]\n",
      "\n",
      "Silhouette Scores: [0.9812912050202599, 0.9742587024816097, 0.9650724590346714]\n"
     ]
    }
   ],
   "source": [
    "# making list of inertia and silhouette scores\n",
    "n_clusters = range(2, 13)\n",
    "inertia_errors = []\n",
    "silhouette_scores = []\n",
    "\n",
    "# Add `for` loop to train model and calculate inertia, silhouette score.\n",
    "for f in n_clusters:\n",
    "    model = make_pipeline(StandardScaler(), KMeans(n_clusters=f, n_init=10, random_state=42))\n",
    "    model.fit(X)\n",
    "    inertia_errors.append(model.named_steps[\"kmeans\"].inertia_)\n",
    "    silhouette_scores.append(silhouette_score(X, model.named_steps[\"kmeans\"].labels_))\n",
    "print(\"Inertia:\", inertia_errors[:3])\n",
    "print()\n",
    "print(\"Silhouette Scores:\", silhouette_scores[:3])"
   ]
  },
  {
   "cell_type": "markdown",
   "id": "d760ffa3",
   "metadata": {},
   "source": [
    "### Interia"
   ]
  },
  {
   "cell_type": "markdown",
   "id": "2408fb01",
   "metadata": {},
   "source": [
    "In k-means clustering, determining the optimal number of clusters involves analyzing the inertia, which measures within-cluster sum of squares. As clusters increase, inertia decreases; however, identifying an elbow point in the inertia graph signifies the optimal cluster count. This elbow represents a balance between minimizing inertia and preventing over-segmentation, guiding the selection of an efficient and meaningful clustering solution."
   ]
  },
  {
   "cell_type": "code",
   "execution_count": 53,
   "id": "70d9ee9f",
   "metadata": {},
   "outputs": [
    {
     "data": {
      "application/vnd.plotly.v1+json": {
       "config": {
        "plotlyServerURL": "https://plot.ly"
       },
       "data": [
        {
         "hovertemplate": "x=%{x}<br>y=%{y}<extra></extra>",
         "legendgroup": "",
         "line": {
          "color": "#636efa",
          "dash": "solid"
         },
         "marker": {
          "symbol": "circle"
         },
         "mode": "lines",
         "name": "",
         "orientation": "v",
         "showlegend": false,
         "type": "scatter",
         "x": [
          2,
          3,
          4,
          5,
          6,
          7,
          8,
          9,
          10,
          11,
          12
         ],
         "xaxis": "x",
         "y": [
          9173.195116944944,
          4549.582964735445,
          3247.028327262952,
          2255.688743988456,
          1549.5132620070476,
          1210.5618109622249,
          933.7986583417594,
          810.9887037592514,
          687.2708943883239,
          621.2359857965505,
          539.5983133181043
         ],
         "yaxis": "y"
        }
       ],
       "layout": {
        "legend": {
         "tracegroupgap": 0
        },
        "template": {
         "data": {
          "bar": [
           {
            "error_x": {
             "color": "#2a3f5f"
            },
            "error_y": {
             "color": "#2a3f5f"
            },
            "marker": {
             "line": {
              "color": "#E5ECF6",
              "width": 0.5
             },
             "pattern": {
              "fillmode": "overlay",
              "size": 10,
              "solidity": 0.2
             }
            },
            "type": "bar"
           }
          ],
          "barpolar": [
           {
            "marker": {
             "line": {
              "color": "#E5ECF6",
              "width": 0.5
             },
             "pattern": {
              "fillmode": "overlay",
              "size": 10,
              "solidity": 0.2
             }
            },
            "type": "barpolar"
           }
          ],
          "carpet": [
           {
            "aaxis": {
             "endlinecolor": "#2a3f5f",
             "gridcolor": "white",
             "linecolor": "white",
             "minorgridcolor": "white",
             "startlinecolor": "#2a3f5f"
            },
            "baxis": {
             "endlinecolor": "#2a3f5f",
             "gridcolor": "white",
             "linecolor": "white",
             "minorgridcolor": "white",
             "startlinecolor": "#2a3f5f"
            },
            "type": "carpet"
           }
          ],
          "choropleth": [
           {
            "colorbar": {
             "outlinewidth": 0,
             "ticks": ""
            },
            "type": "choropleth"
           }
          ],
          "contour": [
           {
            "colorbar": {
             "outlinewidth": 0,
             "ticks": ""
            },
            "colorscale": [
             [
              0,
              "#0d0887"
             ],
             [
              0.1111111111111111,
              "#46039f"
             ],
             [
              0.2222222222222222,
              "#7201a8"
             ],
             [
              0.3333333333333333,
              "#9c179e"
             ],
             [
              0.4444444444444444,
              "#bd3786"
             ],
             [
              0.5555555555555556,
              "#d8576b"
             ],
             [
              0.6666666666666666,
              "#ed7953"
             ],
             [
              0.7777777777777778,
              "#fb9f3a"
             ],
             [
              0.8888888888888888,
              "#fdca26"
             ],
             [
              1,
              "#f0f921"
             ]
            ],
            "type": "contour"
           }
          ],
          "contourcarpet": [
           {
            "colorbar": {
             "outlinewidth": 0,
             "ticks": ""
            },
            "type": "contourcarpet"
           }
          ],
          "heatmap": [
           {
            "colorbar": {
             "outlinewidth": 0,
             "ticks": ""
            },
            "colorscale": [
             [
              0,
              "#0d0887"
             ],
             [
              0.1111111111111111,
              "#46039f"
             ],
             [
              0.2222222222222222,
              "#7201a8"
             ],
             [
              0.3333333333333333,
              "#9c179e"
             ],
             [
              0.4444444444444444,
              "#bd3786"
             ],
             [
              0.5555555555555556,
              "#d8576b"
             ],
             [
              0.6666666666666666,
              "#ed7953"
             ],
             [
              0.7777777777777778,
              "#fb9f3a"
             ],
             [
              0.8888888888888888,
              "#fdca26"
             ],
             [
              1,
              "#f0f921"
             ]
            ],
            "type": "heatmap"
           }
          ],
          "heatmapgl": [
           {
            "colorbar": {
             "outlinewidth": 0,
             "ticks": ""
            },
            "colorscale": [
             [
              0,
              "#0d0887"
             ],
             [
              0.1111111111111111,
              "#46039f"
             ],
             [
              0.2222222222222222,
              "#7201a8"
             ],
             [
              0.3333333333333333,
              "#9c179e"
             ],
             [
              0.4444444444444444,
              "#bd3786"
             ],
             [
              0.5555555555555556,
              "#d8576b"
             ],
             [
              0.6666666666666666,
              "#ed7953"
             ],
             [
              0.7777777777777778,
              "#fb9f3a"
             ],
             [
              0.8888888888888888,
              "#fdca26"
             ],
             [
              1,
              "#f0f921"
             ]
            ],
            "type": "heatmapgl"
           }
          ],
          "histogram": [
           {
            "marker": {
             "pattern": {
              "fillmode": "overlay",
              "size": 10,
              "solidity": 0.2
             }
            },
            "type": "histogram"
           }
          ],
          "histogram2d": [
           {
            "colorbar": {
             "outlinewidth": 0,
             "ticks": ""
            },
            "colorscale": [
             [
              0,
              "#0d0887"
             ],
             [
              0.1111111111111111,
              "#46039f"
             ],
             [
              0.2222222222222222,
              "#7201a8"
             ],
             [
              0.3333333333333333,
              "#9c179e"
             ],
             [
              0.4444444444444444,
              "#bd3786"
             ],
             [
              0.5555555555555556,
              "#d8576b"
             ],
             [
              0.6666666666666666,
              "#ed7953"
             ],
             [
              0.7777777777777778,
              "#fb9f3a"
             ],
             [
              0.8888888888888888,
              "#fdca26"
             ],
             [
              1,
              "#f0f921"
             ]
            ],
            "type": "histogram2d"
           }
          ],
          "histogram2dcontour": [
           {
            "colorbar": {
             "outlinewidth": 0,
             "ticks": ""
            },
            "colorscale": [
             [
              0,
              "#0d0887"
             ],
             [
              0.1111111111111111,
              "#46039f"
             ],
             [
              0.2222222222222222,
              "#7201a8"
             ],
             [
              0.3333333333333333,
              "#9c179e"
             ],
             [
              0.4444444444444444,
              "#bd3786"
             ],
             [
              0.5555555555555556,
              "#d8576b"
             ],
             [
              0.6666666666666666,
              "#ed7953"
             ],
             [
              0.7777777777777778,
              "#fb9f3a"
             ],
             [
              0.8888888888888888,
              "#fdca26"
             ],
             [
              1,
              "#f0f921"
             ]
            ],
            "type": "histogram2dcontour"
           }
          ],
          "mesh3d": [
           {
            "colorbar": {
             "outlinewidth": 0,
             "ticks": ""
            },
            "type": "mesh3d"
           }
          ],
          "parcoords": [
           {
            "line": {
             "colorbar": {
              "outlinewidth": 0,
              "ticks": ""
             }
            },
            "type": "parcoords"
           }
          ],
          "pie": [
           {
            "automargin": true,
            "type": "pie"
           }
          ],
          "scatter": [
           {
            "fillpattern": {
             "fillmode": "overlay",
             "size": 10,
             "solidity": 0.2
            },
            "type": "scatter"
           }
          ],
          "scatter3d": [
           {
            "line": {
             "colorbar": {
              "outlinewidth": 0,
              "ticks": ""
             }
            },
            "marker": {
             "colorbar": {
              "outlinewidth": 0,
              "ticks": ""
             }
            },
            "type": "scatter3d"
           }
          ],
          "scattercarpet": [
           {
            "marker": {
             "colorbar": {
              "outlinewidth": 0,
              "ticks": ""
             }
            },
            "type": "scattercarpet"
           }
          ],
          "scattergeo": [
           {
            "marker": {
             "colorbar": {
              "outlinewidth": 0,
              "ticks": ""
             }
            },
            "type": "scattergeo"
           }
          ],
          "scattergl": [
           {
            "marker": {
             "colorbar": {
              "outlinewidth": 0,
              "ticks": ""
             }
            },
            "type": "scattergl"
           }
          ],
          "scattermapbox": [
           {
            "marker": {
             "colorbar": {
              "outlinewidth": 0,
              "ticks": ""
             }
            },
            "type": "scattermapbox"
           }
          ],
          "scatterpolar": [
           {
            "marker": {
             "colorbar": {
              "outlinewidth": 0,
              "ticks": ""
             }
            },
            "type": "scatterpolar"
           }
          ],
          "scatterpolargl": [
           {
            "marker": {
             "colorbar": {
              "outlinewidth": 0,
              "ticks": ""
             }
            },
            "type": "scatterpolargl"
           }
          ],
          "scatterternary": [
           {
            "marker": {
             "colorbar": {
              "outlinewidth": 0,
              "ticks": ""
             }
            },
            "type": "scatterternary"
           }
          ],
          "surface": [
           {
            "colorbar": {
             "outlinewidth": 0,
             "ticks": ""
            },
            "colorscale": [
             [
              0,
              "#0d0887"
             ],
             [
              0.1111111111111111,
              "#46039f"
             ],
             [
              0.2222222222222222,
              "#7201a8"
             ],
             [
              0.3333333333333333,
              "#9c179e"
             ],
             [
              0.4444444444444444,
              "#bd3786"
             ],
             [
              0.5555555555555556,
              "#d8576b"
             ],
             [
              0.6666666666666666,
              "#ed7953"
             ],
             [
              0.7777777777777778,
              "#fb9f3a"
             ],
             [
              0.8888888888888888,
              "#fdca26"
             ],
             [
              1,
              "#f0f921"
             ]
            ],
            "type": "surface"
           }
          ],
          "table": [
           {
            "cells": {
             "fill": {
              "color": "#EBF0F8"
             },
             "line": {
              "color": "white"
             }
            },
            "header": {
             "fill": {
              "color": "#C8D4E3"
             },
             "line": {
              "color": "white"
             }
            },
            "type": "table"
           }
          ]
         },
         "layout": {
          "annotationdefaults": {
           "arrowcolor": "#2a3f5f",
           "arrowhead": 0,
           "arrowwidth": 1
          },
          "autotypenumbers": "strict",
          "coloraxis": {
           "colorbar": {
            "outlinewidth": 0,
            "ticks": ""
           }
          },
          "colorscale": {
           "diverging": [
            [
             0,
             "#8e0152"
            ],
            [
             0.1,
             "#c51b7d"
            ],
            [
             0.2,
             "#de77ae"
            ],
            [
             0.3,
             "#f1b6da"
            ],
            [
             0.4,
             "#fde0ef"
            ],
            [
             0.5,
             "#f7f7f7"
            ],
            [
             0.6,
             "#e6f5d0"
            ],
            [
             0.7,
             "#b8e186"
            ],
            [
             0.8,
             "#7fbc41"
            ],
            [
             0.9,
             "#4d9221"
            ],
            [
             1,
             "#276419"
            ]
           ],
           "sequential": [
            [
             0,
             "#0d0887"
            ],
            [
             0.1111111111111111,
             "#46039f"
            ],
            [
             0.2222222222222222,
             "#7201a8"
            ],
            [
             0.3333333333333333,
             "#9c179e"
            ],
            [
             0.4444444444444444,
             "#bd3786"
            ],
            [
             0.5555555555555556,
             "#d8576b"
            ],
            [
             0.6666666666666666,
             "#ed7953"
            ],
            [
             0.7777777777777778,
             "#fb9f3a"
            ],
            [
             0.8888888888888888,
             "#fdca26"
            ],
            [
             1,
             "#f0f921"
            ]
           ],
           "sequentialminus": [
            [
             0,
             "#0d0887"
            ],
            [
             0.1111111111111111,
             "#46039f"
            ],
            [
             0.2222222222222222,
             "#7201a8"
            ],
            [
             0.3333333333333333,
             "#9c179e"
            ],
            [
             0.4444444444444444,
             "#bd3786"
            ],
            [
             0.5555555555555556,
             "#d8576b"
            ],
            [
             0.6666666666666666,
             "#ed7953"
            ],
            [
             0.7777777777777778,
             "#fb9f3a"
            ],
            [
             0.8888888888888888,
             "#fdca26"
            ],
            [
             1,
             "#f0f921"
            ]
           ]
          },
          "colorway": [
           "#636efa",
           "#EF553B",
           "#00cc96",
           "#ab63fa",
           "#FFA15A",
           "#19d3f3",
           "#FF6692",
           "#B6E880",
           "#FF97FF",
           "#FECB52"
          ],
          "font": {
           "color": "#2a3f5f"
          },
          "geo": {
           "bgcolor": "white",
           "lakecolor": "white",
           "landcolor": "#E5ECF6",
           "showlakes": true,
           "showland": true,
           "subunitcolor": "white"
          },
          "hoverlabel": {
           "align": "left"
          },
          "hovermode": "closest",
          "mapbox": {
           "style": "light"
          },
          "paper_bgcolor": "white",
          "plot_bgcolor": "#E5ECF6",
          "polar": {
           "angularaxis": {
            "gridcolor": "white",
            "linecolor": "white",
            "ticks": ""
           },
           "bgcolor": "#E5ECF6",
           "radialaxis": {
            "gridcolor": "white",
            "linecolor": "white",
            "ticks": ""
           }
          },
          "scene": {
           "xaxis": {
            "backgroundcolor": "#E5ECF6",
            "gridcolor": "white",
            "gridwidth": 2,
            "linecolor": "white",
            "showbackground": true,
            "ticks": "",
            "zerolinecolor": "white"
           },
           "yaxis": {
            "backgroundcolor": "#E5ECF6",
            "gridcolor": "white",
            "gridwidth": 2,
            "linecolor": "white",
            "showbackground": true,
            "ticks": "",
            "zerolinecolor": "white"
           },
           "zaxis": {
            "backgroundcolor": "#E5ECF6",
            "gridcolor": "white",
            "gridwidth": 2,
            "linecolor": "white",
            "showbackground": true,
            "ticks": "",
            "zerolinecolor": "white"
           }
          },
          "shapedefaults": {
           "line": {
            "color": "#2a3f5f"
           }
          },
          "ternary": {
           "aaxis": {
            "gridcolor": "white",
            "linecolor": "white",
            "ticks": ""
           },
           "baxis": {
            "gridcolor": "white",
            "linecolor": "white",
            "ticks": ""
           },
           "bgcolor": "#E5ECF6",
           "caxis": {
            "gridcolor": "white",
            "linecolor": "white",
            "ticks": ""
           }
          },
          "title": {
           "x": 0.05
          },
          "xaxis": {
           "automargin": true,
           "gridcolor": "white",
           "linecolor": "white",
           "ticks": "",
           "title": {
            "standoff": 15
           },
           "zerolinecolor": "white",
           "zerolinewidth": 2
          },
          "yaxis": {
           "automargin": true,
           "gridcolor": "white",
           "linecolor": "white",
           "ticks": "",
           "title": {
            "standoff": 15
           },
           "zerolinecolor": "white",
           "zerolinewidth": 2
          }
         }
        },
        "title": {
         "text": "K-Means Model: Inertia vs Number of Clusters"
        },
        "xaxis": {
         "anchor": "y",
         "domain": [
          0,
          1
         ],
         "title": {
          "text": "Number of Clusters (k)"
         }
        },
        "yaxis": {
         "anchor": "x",
         "domain": [
          0,
          1
         ],
         "title": {
          "text": "Inertia"
         }
        }
       }
      },
      "text/html": [
       "<div>                            <div id=\"f3055e3d-1960-4128-8cc9-4fa2da45d0c9\" class=\"plotly-graph-div\" style=\"height:525px; width:100%;\"></div>            <script type=\"text/javascript\">                require([\"plotly\"], function(Plotly) {                    window.PLOTLYENV=window.PLOTLYENV || {};                                    if (document.getElementById(\"f3055e3d-1960-4128-8cc9-4fa2da45d0c9\")) {                    Plotly.newPlot(                        \"f3055e3d-1960-4128-8cc9-4fa2da45d0c9\",                        [{\"hovertemplate\":\"x=%{x}<br>y=%{y}<extra></extra>\",\"legendgroup\":\"\",\"line\":{\"color\":\"#636efa\",\"dash\":\"solid\"},\"marker\":{\"symbol\":\"circle\"},\"mode\":\"lines\",\"name\":\"\",\"orientation\":\"v\",\"showlegend\":false,\"x\":[2,3,4,5,6,7,8,9,10,11,12],\"xaxis\":\"x\",\"y\":[9173.195116944944,4549.582964735445,3247.028327262952,2255.688743988456,1549.5132620070476,1210.5618109622249,933.7986583417594,810.9887037592514,687.2708943883239,621.2359857965505,539.5983133181043],\"yaxis\":\"y\",\"type\":\"scatter\"}],                        {\"template\":{\"data\":{\"histogram2dcontour\":[{\"type\":\"histogram2dcontour\",\"colorbar\":{\"outlinewidth\":0,\"ticks\":\"\"},\"colorscale\":[[0.0,\"#0d0887\"],[0.1111111111111111,\"#46039f\"],[0.2222222222222222,\"#7201a8\"],[0.3333333333333333,\"#9c179e\"],[0.4444444444444444,\"#bd3786\"],[0.5555555555555556,\"#d8576b\"],[0.6666666666666666,\"#ed7953\"],[0.7777777777777778,\"#fb9f3a\"],[0.8888888888888888,\"#fdca26\"],[1.0,\"#f0f921\"]]}],\"choropleth\":[{\"type\":\"choropleth\",\"colorbar\":{\"outlinewidth\":0,\"ticks\":\"\"}}],\"histogram2d\":[{\"type\":\"histogram2d\",\"colorbar\":{\"outlinewidth\":0,\"ticks\":\"\"},\"colorscale\":[[0.0,\"#0d0887\"],[0.1111111111111111,\"#46039f\"],[0.2222222222222222,\"#7201a8\"],[0.3333333333333333,\"#9c179e\"],[0.4444444444444444,\"#bd3786\"],[0.5555555555555556,\"#d8576b\"],[0.6666666666666666,\"#ed7953\"],[0.7777777777777778,\"#fb9f3a\"],[0.8888888888888888,\"#fdca26\"],[1.0,\"#f0f921\"]]}],\"heatmap\":[{\"type\":\"heatmap\",\"colorbar\":{\"outlinewidth\":0,\"ticks\":\"\"},\"colorscale\":[[0.0,\"#0d0887\"],[0.1111111111111111,\"#46039f\"],[0.2222222222222222,\"#7201a8\"],[0.3333333333333333,\"#9c179e\"],[0.4444444444444444,\"#bd3786\"],[0.5555555555555556,\"#d8576b\"],[0.6666666666666666,\"#ed7953\"],[0.7777777777777778,\"#fb9f3a\"],[0.8888888888888888,\"#fdca26\"],[1.0,\"#f0f921\"]]}],\"heatmapgl\":[{\"type\":\"heatmapgl\",\"colorbar\":{\"outlinewidth\":0,\"ticks\":\"\"},\"colorscale\":[[0.0,\"#0d0887\"],[0.1111111111111111,\"#46039f\"],[0.2222222222222222,\"#7201a8\"],[0.3333333333333333,\"#9c179e\"],[0.4444444444444444,\"#bd3786\"],[0.5555555555555556,\"#d8576b\"],[0.6666666666666666,\"#ed7953\"],[0.7777777777777778,\"#fb9f3a\"],[0.8888888888888888,\"#fdca26\"],[1.0,\"#f0f921\"]]}],\"contourcarpet\":[{\"type\":\"contourcarpet\",\"colorbar\":{\"outlinewidth\":0,\"ticks\":\"\"}}],\"contour\":[{\"type\":\"contour\",\"colorbar\":{\"outlinewidth\":0,\"ticks\":\"\"},\"colorscale\":[[0.0,\"#0d0887\"],[0.1111111111111111,\"#46039f\"],[0.2222222222222222,\"#7201a8\"],[0.3333333333333333,\"#9c179e\"],[0.4444444444444444,\"#bd3786\"],[0.5555555555555556,\"#d8576b\"],[0.6666666666666666,\"#ed7953\"],[0.7777777777777778,\"#fb9f3a\"],[0.8888888888888888,\"#fdca26\"],[1.0,\"#f0f921\"]]}],\"surface\":[{\"type\":\"surface\",\"colorbar\":{\"outlinewidth\":0,\"ticks\":\"\"},\"colorscale\":[[0.0,\"#0d0887\"],[0.1111111111111111,\"#46039f\"],[0.2222222222222222,\"#7201a8\"],[0.3333333333333333,\"#9c179e\"],[0.4444444444444444,\"#bd3786\"],[0.5555555555555556,\"#d8576b\"],[0.6666666666666666,\"#ed7953\"],[0.7777777777777778,\"#fb9f3a\"],[0.8888888888888888,\"#fdca26\"],[1.0,\"#f0f921\"]]}],\"mesh3d\":[{\"type\":\"mesh3d\",\"colorbar\":{\"outlinewidth\":0,\"ticks\":\"\"}}],\"scatter\":[{\"fillpattern\":{\"fillmode\":\"overlay\",\"size\":10,\"solidity\":0.2},\"type\":\"scatter\"}],\"parcoords\":[{\"type\":\"parcoords\",\"line\":{\"colorbar\":{\"outlinewidth\":0,\"ticks\":\"\"}}}],\"scatterpolargl\":[{\"type\":\"scatterpolargl\",\"marker\":{\"colorbar\":{\"outlinewidth\":0,\"ticks\":\"\"}}}],\"bar\":[{\"error_x\":{\"color\":\"#2a3f5f\"},\"error_y\":{\"color\":\"#2a3f5f\"},\"marker\":{\"line\":{\"color\":\"#E5ECF6\",\"width\":0.5},\"pattern\":{\"fillmode\":\"overlay\",\"size\":10,\"solidity\":0.2}},\"type\":\"bar\"}],\"scattergeo\":[{\"type\":\"scattergeo\",\"marker\":{\"colorbar\":{\"outlinewidth\":0,\"ticks\":\"\"}}}],\"scatterpolar\":[{\"type\":\"scatterpolar\",\"marker\":{\"colorbar\":{\"outlinewidth\":0,\"ticks\":\"\"}}}],\"histogram\":[{\"marker\":{\"pattern\":{\"fillmode\":\"overlay\",\"size\":10,\"solidity\":0.2}},\"type\":\"histogram\"}],\"scattergl\":[{\"type\":\"scattergl\",\"marker\":{\"colorbar\":{\"outlinewidth\":0,\"ticks\":\"\"}}}],\"scatter3d\":[{\"type\":\"scatter3d\",\"line\":{\"colorbar\":{\"outlinewidth\":0,\"ticks\":\"\"}},\"marker\":{\"colorbar\":{\"outlinewidth\":0,\"ticks\":\"\"}}}],\"scattermapbox\":[{\"type\":\"scattermapbox\",\"marker\":{\"colorbar\":{\"outlinewidth\":0,\"ticks\":\"\"}}}],\"scatterternary\":[{\"type\":\"scatterternary\",\"marker\":{\"colorbar\":{\"outlinewidth\":0,\"ticks\":\"\"}}}],\"scattercarpet\":[{\"type\":\"scattercarpet\",\"marker\":{\"colorbar\":{\"outlinewidth\":0,\"ticks\":\"\"}}}],\"carpet\":[{\"aaxis\":{\"endlinecolor\":\"#2a3f5f\",\"gridcolor\":\"white\",\"linecolor\":\"white\",\"minorgridcolor\":\"white\",\"startlinecolor\":\"#2a3f5f\"},\"baxis\":{\"endlinecolor\":\"#2a3f5f\",\"gridcolor\":\"white\",\"linecolor\":\"white\",\"minorgridcolor\":\"white\",\"startlinecolor\":\"#2a3f5f\"},\"type\":\"carpet\"}],\"table\":[{\"cells\":{\"fill\":{\"color\":\"#EBF0F8\"},\"line\":{\"color\":\"white\"}},\"header\":{\"fill\":{\"color\":\"#C8D4E3\"},\"line\":{\"color\":\"white\"}},\"type\":\"table\"}],\"barpolar\":[{\"marker\":{\"line\":{\"color\":\"#E5ECF6\",\"width\":0.5},\"pattern\":{\"fillmode\":\"overlay\",\"size\":10,\"solidity\":0.2}},\"type\":\"barpolar\"}],\"pie\":[{\"automargin\":true,\"type\":\"pie\"}]},\"layout\":{\"autotypenumbers\":\"strict\",\"colorway\":[\"#636efa\",\"#EF553B\",\"#00cc96\",\"#ab63fa\",\"#FFA15A\",\"#19d3f3\",\"#FF6692\",\"#B6E880\",\"#FF97FF\",\"#FECB52\"],\"font\":{\"color\":\"#2a3f5f\"},\"hovermode\":\"closest\",\"hoverlabel\":{\"align\":\"left\"},\"paper_bgcolor\":\"white\",\"plot_bgcolor\":\"#E5ECF6\",\"polar\":{\"bgcolor\":\"#E5ECF6\",\"angularaxis\":{\"gridcolor\":\"white\",\"linecolor\":\"white\",\"ticks\":\"\"},\"radialaxis\":{\"gridcolor\":\"white\",\"linecolor\":\"white\",\"ticks\":\"\"}},\"ternary\":{\"bgcolor\":\"#E5ECF6\",\"aaxis\":{\"gridcolor\":\"white\",\"linecolor\":\"white\",\"ticks\":\"\"},\"baxis\":{\"gridcolor\":\"white\",\"linecolor\":\"white\",\"ticks\":\"\"},\"caxis\":{\"gridcolor\":\"white\",\"linecolor\":\"white\",\"ticks\":\"\"}},\"coloraxis\":{\"colorbar\":{\"outlinewidth\":0,\"ticks\":\"\"}},\"colorscale\":{\"sequential\":[[0.0,\"#0d0887\"],[0.1111111111111111,\"#46039f\"],[0.2222222222222222,\"#7201a8\"],[0.3333333333333333,\"#9c179e\"],[0.4444444444444444,\"#bd3786\"],[0.5555555555555556,\"#d8576b\"],[0.6666666666666666,\"#ed7953\"],[0.7777777777777778,\"#fb9f3a\"],[0.8888888888888888,\"#fdca26\"],[1.0,\"#f0f921\"]],\"sequentialminus\":[[0.0,\"#0d0887\"],[0.1111111111111111,\"#46039f\"],[0.2222222222222222,\"#7201a8\"],[0.3333333333333333,\"#9c179e\"],[0.4444444444444444,\"#bd3786\"],[0.5555555555555556,\"#d8576b\"],[0.6666666666666666,\"#ed7953\"],[0.7777777777777778,\"#fb9f3a\"],[0.8888888888888888,\"#fdca26\"],[1.0,\"#f0f921\"]],\"diverging\":[[0,\"#8e0152\"],[0.1,\"#c51b7d\"],[0.2,\"#de77ae\"],[0.3,\"#f1b6da\"],[0.4,\"#fde0ef\"],[0.5,\"#f7f7f7\"],[0.6,\"#e6f5d0\"],[0.7,\"#b8e186\"],[0.8,\"#7fbc41\"],[0.9,\"#4d9221\"],[1,\"#276419\"]]},\"xaxis\":{\"gridcolor\":\"white\",\"linecolor\":\"white\",\"ticks\":\"\",\"title\":{\"standoff\":15},\"zerolinecolor\":\"white\",\"automargin\":true,\"zerolinewidth\":2},\"yaxis\":{\"gridcolor\":\"white\",\"linecolor\":\"white\",\"ticks\":\"\",\"title\":{\"standoff\":15},\"zerolinecolor\":\"white\",\"automargin\":true,\"zerolinewidth\":2},\"scene\":{\"xaxis\":{\"backgroundcolor\":\"#E5ECF6\",\"gridcolor\":\"white\",\"linecolor\":\"white\",\"showbackground\":true,\"ticks\":\"\",\"zerolinecolor\":\"white\",\"gridwidth\":2},\"yaxis\":{\"backgroundcolor\":\"#E5ECF6\",\"gridcolor\":\"white\",\"linecolor\":\"white\",\"showbackground\":true,\"ticks\":\"\",\"zerolinecolor\":\"white\",\"gridwidth\":2},\"zaxis\":{\"backgroundcolor\":\"#E5ECF6\",\"gridcolor\":\"white\",\"linecolor\":\"white\",\"showbackground\":true,\"ticks\":\"\",\"zerolinecolor\":\"white\",\"gridwidth\":2}},\"shapedefaults\":{\"line\":{\"color\":\"#2a3f5f\"}},\"annotationdefaults\":{\"arrowcolor\":\"#2a3f5f\",\"arrowhead\":0,\"arrowwidth\":1},\"geo\":{\"bgcolor\":\"white\",\"landcolor\":\"#E5ECF6\",\"subunitcolor\":\"white\",\"showland\":true,\"showlakes\":true,\"lakecolor\":\"white\"},\"title\":{\"x\":0.05},\"mapbox\":{\"style\":\"light\"}}},\"xaxis\":{\"anchor\":\"y\",\"domain\":[0.0,1.0],\"title\":{\"text\":\"Number of Clusters (k)\"}},\"yaxis\":{\"anchor\":\"x\",\"domain\":[0.0,1.0],\"title\":{\"text\":\"Inertia\"}},\"legend\":{\"tracegroupgap\":0},\"title\":{\"text\":\"K-Means Model: Inertia vs Number of Clusters\"}},                        {\"responsive\": true}                    ).then(function(){\n",
       "                            \n",
       "var gd = document.getElementById('f3055e3d-1960-4128-8cc9-4fa2da45d0c9');\n",
       "var x = new MutationObserver(function (mutations, observer) {{\n",
       "        var display = window.getComputedStyle(gd).display;\n",
       "        if (!display || display === 'none') {{\n",
       "            console.log([gd, 'removed!']);\n",
       "            Plotly.purge(gd);\n",
       "            observer.disconnect();\n",
       "        }}\n",
       "}});\n",
       "\n",
       "// Listen for the removal of the full notebook cells\n",
       "var notebookContainer = gd.closest('#notebook-container');\n",
       "if (notebookContainer) {{\n",
       "    x.observe(notebookContainer, {childList: true});\n",
       "}}\n",
       "\n",
       "// Listen for the clearing of the current output cell\n",
       "var outputEl = gd.closest('.output');\n",
       "if (outputEl) {{\n",
       "    x.observe(outputEl, {childList: true});\n",
       "}}\n",
       "\n",
       "                        })                };                });            </script>        </div>"
      ]
     },
     "metadata": {},
     "output_type": "display_data"
    }
   ],
   "source": [
    "# Create line plot of `inertia_errors` vs `n_clusters`\n",
    "fig = px.line(\n",
    "    x=n_clusters, y=inertia_errors, title=\"K-Means Model: Inertia vs Number of Clusters\"\n",
    ")\n",
    "fig.update_layout(xaxis_title=\"Number of Clusters (k)\", yaxis_title=\"Inertia\")\n",
    "fig.show()"
   ]
  },
  {
   "cell_type": "markdown",
   "id": "40ba64bc",
   "metadata": {},
   "source": [
    "* Observation: The best value according to interia curve is 4 or 5 numbers of clusters"
   ]
  },
  {
   "cell_type": "markdown",
   "id": "9ab1a5d3",
   "metadata": {},
   "source": [
    "### Silhouette Score"
   ]
  },
  {
   "cell_type": "markdown",
   "id": "edea5f93",
   "metadata": {},
   "source": [
    "Silhouette score is another key metric for assessing clustering performance. It quantifies how well-separated clusters are, with values ranging from -1 to 1. A higher silhouette score indicates better-defined clusters. By systematically varying the number of clusters and observing the corresponding silhouette scores, we can identify the optimal number of clusters that maximizes cohesion within clusters and separation between them. "
   ]
  },
  {
   "cell_type": "code",
   "execution_count": 54,
   "id": "69b56f21",
   "metadata": {},
   "outputs": [
    {
     "data": {
      "application/vnd.plotly.v1+json": {
       "config": {
        "plotlyServerURL": "https://plot.ly"
       },
       "data": [
        {
         "hovertemplate": "x=%{x}<br>y=%{y}<extra></extra>",
         "legendgroup": "",
         "line": {
          "color": "#636efa",
          "dash": "solid"
         },
         "marker": {
          "symbol": "circle"
         },
         "mode": "lines",
         "name": "",
         "orientation": "v",
         "showlegend": false,
         "type": "scatter",
         "x": [
          2,
          3,
          4,
          5,
          6,
          7,
          8,
          9,
          10,
          11,
          12
         ],
         "xaxis": "x",
         "y": [
          0.9812912050202599,
          0.9742587024816097,
          0.9650724590346714,
          0.7959620784540374,
          0.7862165697767951,
          0.7777575341275564,
          0.6797140870784876,
          0.6690820014665312,
          0.5938296475907151,
          0.5927484351110817,
          0.5748959402763847
         ],
         "yaxis": "y"
        }
       ],
       "layout": {
        "legend": {
         "tracegroupgap": 0
        },
        "template": {
         "data": {
          "bar": [
           {
            "error_x": {
             "color": "#2a3f5f"
            },
            "error_y": {
             "color": "#2a3f5f"
            },
            "marker": {
             "line": {
              "color": "#E5ECF6",
              "width": 0.5
             },
             "pattern": {
              "fillmode": "overlay",
              "size": 10,
              "solidity": 0.2
             }
            },
            "type": "bar"
           }
          ],
          "barpolar": [
           {
            "marker": {
             "line": {
              "color": "#E5ECF6",
              "width": 0.5
             },
             "pattern": {
              "fillmode": "overlay",
              "size": 10,
              "solidity": 0.2
             }
            },
            "type": "barpolar"
           }
          ],
          "carpet": [
           {
            "aaxis": {
             "endlinecolor": "#2a3f5f",
             "gridcolor": "white",
             "linecolor": "white",
             "minorgridcolor": "white",
             "startlinecolor": "#2a3f5f"
            },
            "baxis": {
             "endlinecolor": "#2a3f5f",
             "gridcolor": "white",
             "linecolor": "white",
             "minorgridcolor": "white",
             "startlinecolor": "#2a3f5f"
            },
            "type": "carpet"
           }
          ],
          "choropleth": [
           {
            "colorbar": {
             "outlinewidth": 0,
             "ticks": ""
            },
            "type": "choropleth"
           }
          ],
          "contour": [
           {
            "colorbar": {
             "outlinewidth": 0,
             "ticks": ""
            },
            "colorscale": [
             [
              0,
              "#0d0887"
             ],
             [
              0.1111111111111111,
              "#46039f"
             ],
             [
              0.2222222222222222,
              "#7201a8"
             ],
             [
              0.3333333333333333,
              "#9c179e"
             ],
             [
              0.4444444444444444,
              "#bd3786"
             ],
             [
              0.5555555555555556,
              "#d8576b"
             ],
             [
              0.6666666666666666,
              "#ed7953"
             ],
             [
              0.7777777777777778,
              "#fb9f3a"
             ],
             [
              0.8888888888888888,
              "#fdca26"
             ],
             [
              1,
              "#f0f921"
             ]
            ],
            "type": "contour"
           }
          ],
          "contourcarpet": [
           {
            "colorbar": {
             "outlinewidth": 0,
             "ticks": ""
            },
            "type": "contourcarpet"
           }
          ],
          "heatmap": [
           {
            "colorbar": {
             "outlinewidth": 0,
             "ticks": ""
            },
            "colorscale": [
             [
              0,
              "#0d0887"
             ],
             [
              0.1111111111111111,
              "#46039f"
             ],
             [
              0.2222222222222222,
              "#7201a8"
             ],
             [
              0.3333333333333333,
              "#9c179e"
             ],
             [
              0.4444444444444444,
              "#bd3786"
             ],
             [
              0.5555555555555556,
              "#d8576b"
             ],
             [
              0.6666666666666666,
              "#ed7953"
             ],
             [
              0.7777777777777778,
              "#fb9f3a"
             ],
             [
              0.8888888888888888,
              "#fdca26"
             ],
             [
              1,
              "#f0f921"
             ]
            ],
            "type": "heatmap"
           }
          ],
          "heatmapgl": [
           {
            "colorbar": {
             "outlinewidth": 0,
             "ticks": ""
            },
            "colorscale": [
             [
              0,
              "#0d0887"
             ],
             [
              0.1111111111111111,
              "#46039f"
             ],
             [
              0.2222222222222222,
              "#7201a8"
             ],
             [
              0.3333333333333333,
              "#9c179e"
             ],
             [
              0.4444444444444444,
              "#bd3786"
             ],
             [
              0.5555555555555556,
              "#d8576b"
             ],
             [
              0.6666666666666666,
              "#ed7953"
             ],
             [
              0.7777777777777778,
              "#fb9f3a"
             ],
             [
              0.8888888888888888,
              "#fdca26"
             ],
             [
              1,
              "#f0f921"
             ]
            ],
            "type": "heatmapgl"
           }
          ],
          "histogram": [
           {
            "marker": {
             "pattern": {
              "fillmode": "overlay",
              "size": 10,
              "solidity": 0.2
             }
            },
            "type": "histogram"
           }
          ],
          "histogram2d": [
           {
            "colorbar": {
             "outlinewidth": 0,
             "ticks": ""
            },
            "colorscale": [
             [
              0,
              "#0d0887"
             ],
             [
              0.1111111111111111,
              "#46039f"
             ],
             [
              0.2222222222222222,
              "#7201a8"
             ],
             [
              0.3333333333333333,
              "#9c179e"
             ],
             [
              0.4444444444444444,
              "#bd3786"
             ],
             [
              0.5555555555555556,
              "#d8576b"
             ],
             [
              0.6666666666666666,
              "#ed7953"
             ],
             [
              0.7777777777777778,
              "#fb9f3a"
             ],
             [
              0.8888888888888888,
              "#fdca26"
             ],
             [
              1,
              "#f0f921"
             ]
            ],
            "type": "histogram2d"
           }
          ],
          "histogram2dcontour": [
           {
            "colorbar": {
             "outlinewidth": 0,
             "ticks": ""
            },
            "colorscale": [
             [
              0,
              "#0d0887"
             ],
             [
              0.1111111111111111,
              "#46039f"
             ],
             [
              0.2222222222222222,
              "#7201a8"
             ],
             [
              0.3333333333333333,
              "#9c179e"
             ],
             [
              0.4444444444444444,
              "#bd3786"
             ],
             [
              0.5555555555555556,
              "#d8576b"
             ],
             [
              0.6666666666666666,
              "#ed7953"
             ],
             [
              0.7777777777777778,
              "#fb9f3a"
             ],
             [
              0.8888888888888888,
              "#fdca26"
             ],
             [
              1,
              "#f0f921"
             ]
            ],
            "type": "histogram2dcontour"
           }
          ],
          "mesh3d": [
           {
            "colorbar": {
             "outlinewidth": 0,
             "ticks": ""
            },
            "type": "mesh3d"
           }
          ],
          "parcoords": [
           {
            "line": {
             "colorbar": {
              "outlinewidth": 0,
              "ticks": ""
             }
            },
            "type": "parcoords"
           }
          ],
          "pie": [
           {
            "automargin": true,
            "type": "pie"
           }
          ],
          "scatter": [
           {
            "fillpattern": {
             "fillmode": "overlay",
             "size": 10,
             "solidity": 0.2
            },
            "type": "scatter"
           }
          ],
          "scatter3d": [
           {
            "line": {
             "colorbar": {
              "outlinewidth": 0,
              "ticks": ""
             }
            },
            "marker": {
             "colorbar": {
              "outlinewidth": 0,
              "ticks": ""
             }
            },
            "type": "scatter3d"
           }
          ],
          "scattercarpet": [
           {
            "marker": {
             "colorbar": {
              "outlinewidth": 0,
              "ticks": ""
             }
            },
            "type": "scattercarpet"
           }
          ],
          "scattergeo": [
           {
            "marker": {
             "colorbar": {
              "outlinewidth": 0,
              "ticks": ""
             }
            },
            "type": "scattergeo"
           }
          ],
          "scattergl": [
           {
            "marker": {
             "colorbar": {
              "outlinewidth": 0,
              "ticks": ""
             }
            },
            "type": "scattergl"
           }
          ],
          "scattermapbox": [
           {
            "marker": {
             "colorbar": {
              "outlinewidth": 0,
              "ticks": ""
             }
            },
            "type": "scattermapbox"
           }
          ],
          "scatterpolar": [
           {
            "marker": {
             "colorbar": {
              "outlinewidth": 0,
              "ticks": ""
             }
            },
            "type": "scatterpolar"
           }
          ],
          "scatterpolargl": [
           {
            "marker": {
             "colorbar": {
              "outlinewidth": 0,
              "ticks": ""
             }
            },
            "type": "scatterpolargl"
           }
          ],
          "scatterternary": [
           {
            "marker": {
             "colorbar": {
              "outlinewidth": 0,
              "ticks": ""
             }
            },
            "type": "scatterternary"
           }
          ],
          "surface": [
           {
            "colorbar": {
             "outlinewidth": 0,
             "ticks": ""
            },
            "colorscale": [
             [
              0,
              "#0d0887"
             ],
             [
              0.1111111111111111,
              "#46039f"
             ],
             [
              0.2222222222222222,
              "#7201a8"
             ],
             [
              0.3333333333333333,
              "#9c179e"
             ],
             [
              0.4444444444444444,
              "#bd3786"
             ],
             [
              0.5555555555555556,
              "#d8576b"
             ],
             [
              0.6666666666666666,
              "#ed7953"
             ],
             [
              0.7777777777777778,
              "#fb9f3a"
             ],
             [
              0.8888888888888888,
              "#fdca26"
             ],
             [
              1,
              "#f0f921"
             ]
            ],
            "type": "surface"
           }
          ],
          "table": [
           {
            "cells": {
             "fill": {
              "color": "#EBF0F8"
             },
             "line": {
              "color": "white"
             }
            },
            "header": {
             "fill": {
              "color": "#C8D4E3"
             },
             "line": {
              "color": "white"
             }
            },
            "type": "table"
           }
          ]
         },
         "layout": {
          "annotationdefaults": {
           "arrowcolor": "#2a3f5f",
           "arrowhead": 0,
           "arrowwidth": 1
          },
          "autotypenumbers": "strict",
          "coloraxis": {
           "colorbar": {
            "outlinewidth": 0,
            "ticks": ""
           }
          },
          "colorscale": {
           "diverging": [
            [
             0,
             "#8e0152"
            ],
            [
             0.1,
             "#c51b7d"
            ],
            [
             0.2,
             "#de77ae"
            ],
            [
             0.3,
             "#f1b6da"
            ],
            [
             0.4,
             "#fde0ef"
            ],
            [
             0.5,
             "#f7f7f7"
            ],
            [
             0.6,
             "#e6f5d0"
            ],
            [
             0.7,
             "#b8e186"
            ],
            [
             0.8,
             "#7fbc41"
            ],
            [
             0.9,
             "#4d9221"
            ],
            [
             1,
             "#276419"
            ]
           ],
           "sequential": [
            [
             0,
             "#0d0887"
            ],
            [
             0.1111111111111111,
             "#46039f"
            ],
            [
             0.2222222222222222,
             "#7201a8"
            ],
            [
             0.3333333333333333,
             "#9c179e"
            ],
            [
             0.4444444444444444,
             "#bd3786"
            ],
            [
             0.5555555555555556,
             "#d8576b"
            ],
            [
             0.6666666666666666,
             "#ed7953"
            ],
            [
             0.7777777777777778,
             "#fb9f3a"
            ],
            [
             0.8888888888888888,
             "#fdca26"
            ],
            [
             1,
             "#f0f921"
            ]
           ],
           "sequentialminus": [
            [
             0,
             "#0d0887"
            ],
            [
             0.1111111111111111,
             "#46039f"
            ],
            [
             0.2222222222222222,
             "#7201a8"
            ],
            [
             0.3333333333333333,
             "#9c179e"
            ],
            [
             0.4444444444444444,
             "#bd3786"
            ],
            [
             0.5555555555555556,
             "#d8576b"
            ],
            [
             0.6666666666666666,
             "#ed7953"
            ],
            [
             0.7777777777777778,
             "#fb9f3a"
            ],
            [
             0.8888888888888888,
             "#fdca26"
            ],
            [
             1,
             "#f0f921"
            ]
           ]
          },
          "colorway": [
           "#636efa",
           "#EF553B",
           "#00cc96",
           "#ab63fa",
           "#FFA15A",
           "#19d3f3",
           "#FF6692",
           "#B6E880",
           "#FF97FF",
           "#FECB52"
          ],
          "font": {
           "color": "#2a3f5f"
          },
          "geo": {
           "bgcolor": "white",
           "lakecolor": "white",
           "landcolor": "#E5ECF6",
           "showlakes": true,
           "showland": true,
           "subunitcolor": "white"
          },
          "hoverlabel": {
           "align": "left"
          },
          "hovermode": "closest",
          "mapbox": {
           "style": "light"
          },
          "paper_bgcolor": "white",
          "plot_bgcolor": "#E5ECF6",
          "polar": {
           "angularaxis": {
            "gridcolor": "white",
            "linecolor": "white",
            "ticks": ""
           },
           "bgcolor": "#E5ECF6",
           "radialaxis": {
            "gridcolor": "white",
            "linecolor": "white",
            "ticks": ""
           }
          },
          "scene": {
           "xaxis": {
            "backgroundcolor": "#E5ECF6",
            "gridcolor": "white",
            "gridwidth": 2,
            "linecolor": "white",
            "showbackground": true,
            "ticks": "",
            "zerolinecolor": "white"
           },
           "yaxis": {
            "backgroundcolor": "#E5ECF6",
            "gridcolor": "white",
            "gridwidth": 2,
            "linecolor": "white",
            "showbackground": true,
            "ticks": "",
            "zerolinecolor": "white"
           },
           "zaxis": {
            "backgroundcolor": "#E5ECF6",
            "gridcolor": "white",
            "gridwidth": 2,
            "linecolor": "white",
            "showbackground": true,
            "ticks": "",
            "zerolinecolor": "white"
           }
          },
          "shapedefaults": {
           "line": {
            "color": "#2a3f5f"
           }
          },
          "ternary": {
           "aaxis": {
            "gridcolor": "white",
            "linecolor": "white",
            "ticks": ""
           },
           "baxis": {
            "gridcolor": "white",
            "linecolor": "white",
            "ticks": ""
           },
           "bgcolor": "#E5ECF6",
           "caxis": {
            "gridcolor": "white",
            "linecolor": "white",
            "ticks": ""
           }
          },
          "title": {
           "x": 0.05
          },
          "xaxis": {
           "automargin": true,
           "gridcolor": "white",
           "linecolor": "white",
           "ticks": "",
           "title": {
            "standoff": 15
           },
           "zerolinecolor": "white",
           "zerolinewidth": 2
          },
          "yaxis": {
           "automargin": true,
           "gridcolor": "white",
           "linecolor": "white",
           "ticks": "",
           "title": {
            "standoff": 15
           },
           "zerolinecolor": "white",
           "zerolinewidth": 2
          }
         }
        },
        "title": {
         "text": "K-Means Model: Silhouette Score vs Number of Clusters"
        },
        "xaxis": {
         "anchor": "y",
         "domain": [
          0,
          1
         ],
         "title": {
          "text": "Number of Clusters (k)"
         }
        },
        "yaxis": {
         "anchor": "x",
         "domain": [
          0,
          1
         ],
         "title": {
          "text": "Silhouette Score"
         }
        }
       }
      },
      "text/html": [
       "<div>                            <div id=\"77ab51d1-0862-44ba-8f80-995376b5b218\" class=\"plotly-graph-div\" style=\"height:525px; width:100%;\"></div>            <script type=\"text/javascript\">                require([\"plotly\"], function(Plotly) {                    window.PLOTLYENV=window.PLOTLYENV || {};                                    if (document.getElementById(\"77ab51d1-0862-44ba-8f80-995376b5b218\")) {                    Plotly.newPlot(                        \"77ab51d1-0862-44ba-8f80-995376b5b218\",                        [{\"hovertemplate\":\"x=%{x}<br>y=%{y}<extra></extra>\",\"legendgroup\":\"\",\"line\":{\"color\":\"#636efa\",\"dash\":\"solid\"},\"marker\":{\"symbol\":\"circle\"},\"mode\":\"lines\",\"name\":\"\",\"orientation\":\"v\",\"showlegend\":false,\"x\":[2,3,4,5,6,7,8,9,10,11,12],\"xaxis\":\"x\",\"y\":[0.9812912050202599,0.9742587024816097,0.9650724590346714,0.7959620784540374,0.7862165697767951,0.7777575341275564,0.6797140870784876,0.6690820014665312,0.5938296475907151,0.5927484351110817,0.5748959402763847],\"yaxis\":\"y\",\"type\":\"scatter\"}],                        {\"template\":{\"data\":{\"histogram2dcontour\":[{\"type\":\"histogram2dcontour\",\"colorbar\":{\"outlinewidth\":0,\"ticks\":\"\"},\"colorscale\":[[0.0,\"#0d0887\"],[0.1111111111111111,\"#46039f\"],[0.2222222222222222,\"#7201a8\"],[0.3333333333333333,\"#9c179e\"],[0.4444444444444444,\"#bd3786\"],[0.5555555555555556,\"#d8576b\"],[0.6666666666666666,\"#ed7953\"],[0.7777777777777778,\"#fb9f3a\"],[0.8888888888888888,\"#fdca26\"],[1.0,\"#f0f921\"]]}],\"choropleth\":[{\"type\":\"choropleth\",\"colorbar\":{\"outlinewidth\":0,\"ticks\":\"\"}}],\"histogram2d\":[{\"type\":\"histogram2d\",\"colorbar\":{\"outlinewidth\":0,\"ticks\":\"\"},\"colorscale\":[[0.0,\"#0d0887\"],[0.1111111111111111,\"#46039f\"],[0.2222222222222222,\"#7201a8\"],[0.3333333333333333,\"#9c179e\"],[0.4444444444444444,\"#bd3786\"],[0.5555555555555556,\"#d8576b\"],[0.6666666666666666,\"#ed7953\"],[0.7777777777777778,\"#fb9f3a\"],[0.8888888888888888,\"#fdca26\"],[1.0,\"#f0f921\"]]}],\"heatmap\":[{\"type\":\"heatmap\",\"colorbar\":{\"outlinewidth\":0,\"ticks\":\"\"},\"colorscale\":[[0.0,\"#0d0887\"],[0.1111111111111111,\"#46039f\"],[0.2222222222222222,\"#7201a8\"],[0.3333333333333333,\"#9c179e\"],[0.4444444444444444,\"#bd3786\"],[0.5555555555555556,\"#d8576b\"],[0.6666666666666666,\"#ed7953\"],[0.7777777777777778,\"#fb9f3a\"],[0.8888888888888888,\"#fdca26\"],[1.0,\"#f0f921\"]]}],\"heatmapgl\":[{\"type\":\"heatmapgl\",\"colorbar\":{\"outlinewidth\":0,\"ticks\":\"\"},\"colorscale\":[[0.0,\"#0d0887\"],[0.1111111111111111,\"#46039f\"],[0.2222222222222222,\"#7201a8\"],[0.3333333333333333,\"#9c179e\"],[0.4444444444444444,\"#bd3786\"],[0.5555555555555556,\"#d8576b\"],[0.6666666666666666,\"#ed7953\"],[0.7777777777777778,\"#fb9f3a\"],[0.8888888888888888,\"#fdca26\"],[1.0,\"#f0f921\"]]}],\"contourcarpet\":[{\"type\":\"contourcarpet\",\"colorbar\":{\"outlinewidth\":0,\"ticks\":\"\"}}],\"contour\":[{\"type\":\"contour\",\"colorbar\":{\"outlinewidth\":0,\"ticks\":\"\"},\"colorscale\":[[0.0,\"#0d0887\"],[0.1111111111111111,\"#46039f\"],[0.2222222222222222,\"#7201a8\"],[0.3333333333333333,\"#9c179e\"],[0.4444444444444444,\"#bd3786\"],[0.5555555555555556,\"#d8576b\"],[0.6666666666666666,\"#ed7953\"],[0.7777777777777778,\"#fb9f3a\"],[0.8888888888888888,\"#fdca26\"],[1.0,\"#f0f921\"]]}],\"surface\":[{\"type\":\"surface\",\"colorbar\":{\"outlinewidth\":0,\"ticks\":\"\"},\"colorscale\":[[0.0,\"#0d0887\"],[0.1111111111111111,\"#46039f\"],[0.2222222222222222,\"#7201a8\"],[0.3333333333333333,\"#9c179e\"],[0.4444444444444444,\"#bd3786\"],[0.5555555555555556,\"#d8576b\"],[0.6666666666666666,\"#ed7953\"],[0.7777777777777778,\"#fb9f3a\"],[0.8888888888888888,\"#fdca26\"],[1.0,\"#f0f921\"]]}],\"mesh3d\":[{\"type\":\"mesh3d\",\"colorbar\":{\"outlinewidth\":0,\"ticks\":\"\"}}],\"scatter\":[{\"fillpattern\":{\"fillmode\":\"overlay\",\"size\":10,\"solidity\":0.2},\"type\":\"scatter\"}],\"parcoords\":[{\"type\":\"parcoords\",\"line\":{\"colorbar\":{\"outlinewidth\":0,\"ticks\":\"\"}}}],\"scatterpolargl\":[{\"type\":\"scatterpolargl\",\"marker\":{\"colorbar\":{\"outlinewidth\":0,\"ticks\":\"\"}}}],\"bar\":[{\"error_x\":{\"color\":\"#2a3f5f\"},\"error_y\":{\"color\":\"#2a3f5f\"},\"marker\":{\"line\":{\"color\":\"#E5ECF6\",\"width\":0.5},\"pattern\":{\"fillmode\":\"overlay\",\"size\":10,\"solidity\":0.2}},\"type\":\"bar\"}],\"scattergeo\":[{\"type\":\"scattergeo\",\"marker\":{\"colorbar\":{\"outlinewidth\":0,\"ticks\":\"\"}}}],\"scatterpolar\":[{\"type\":\"scatterpolar\",\"marker\":{\"colorbar\":{\"outlinewidth\":0,\"ticks\":\"\"}}}],\"histogram\":[{\"marker\":{\"pattern\":{\"fillmode\":\"overlay\",\"size\":10,\"solidity\":0.2}},\"type\":\"histogram\"}],\"scattergl\":[{\"type\":\"scattergl\",\"marker\":{\"colorbar\":{\"outlinewidth\":0,\"ticks\":\"\"}}}],\"scatter3d\":[{\"type\":\"scatter3d\",\"line\":{\"colorbar\":{\"outlinewidth\":0,\"ticks\":\"\"}},\"marker\":{\"colorbar\":{\"outlinewidth\":0,\"ticks\":\"\"}}}],\"scattermapbox\":[{\"type\":\"scattermapbox\",\"marker\":{\"colorbar\":{\"outlinewidth\":0,\"ticks\":\"\"}}}],\"scatterternary\":[{\"type\":\"scatterternary\",\"marker\":{\"colorbar\":{\"outlinewidth\":0,\"ticks\":\"\"}}}],\"scattercarpet\":[{\"type\":\"scattercarpet\",\"marker\":{\"colorbar\":{\"outlinewidth\":0,\"ticks\":\"\"}}}],\"carpet\":[{\"aaxis\":{\"endlinecolor\":\"#2a3f5f\",\"gridcolor\":\"white\",\"linecolor\":\"white\",\"minorgridcolor\":\"white\",\"startlinecolor\":\"#2a3f5f\"},\"baxis\":{\"endlinecolor\":\"#2a3f5f\",\"gridcolor\":\"white\",\"linecolor\":\"white\",\"minorgridcolor\":\"white\",\"startlinecolor\":\"#2a3f5f\"},\"type\":\"carpet\"}],\"table\":[{\"cells\":{\"fill\":{\"color\":\"#EBF0F8\"},\"line\":{\"color\":\"white\"}},\"header\":{\"fill\":{\"color\":\"#C8D4E3\"},\"line\":{\"color\":\"white\"}},\"type\":\"table\"}],\"barpolar\":[{\"marker\":{\"line\":{\"color\":\"#E5ECF6\",\"width\":0.5},\"pattern\":{\"fillmode\":\"overlay\",\"size\":10,\"solidity\":0.2}},\"type\":\"barpolar\"}],\"pie\":[{\"automargin\":true,\"type\":\"pie\"}]},\"layout\":{\"autotypenumbers\":\"strict\",\"colorway\":[\"#636efa\",\"#EF553B\",\"#00cc96\",\"#ab63fa\",\"#FFA15A\",\"#19d3f3\",\"#FF6692\",\"#B6E880\",\"#FF97FF\",\"#FECB52\"],\"font\":{\"color\":\"#2a3f5f\"},\"hovermode\":\"closest\",\"hoverlabel\":{\"align\":\"left\"},\"paper_bgcolor\":\"white\",\"plot_bgcolor\":\"#E5ECF6\",\"polar\":{\"bgcolor\":\"#E5ECF6\",\"angularaxis\":{\"gridcolor\":\"white\",\"linecolor\":\"white\",\"ticks\":\"\"},\"radialaxis\":{\"gridcolor\":\"white\",\"linecolor\":\"white\",\"ticks\":\"\"}},\"ternary\":{\"bgcolor\":\"#E5ECF6\",\"aaxis\":{\"gridcolor\":\"white\",\"linecolor\":\"white\",\"ticks\":\"\"},\"baxis\":{\"gridcolor\":\"white\",\"linecolor\":\"white\",\"ticks\":\"\"},\"caxis\":{\"gridcolor\":\"white\",\"linecolor\":\"white\",\"ticks\":\"\"}},\"coloraxis\":{\"colorbar\":{\"outlinewidth\":0,\"ticks\":\"\"}},\"colorscale\":{\"sequential\":[[0.0,\"#0d0887\"],[0.1111111111111111,\"#46039f\"],[0.2222222222222222,\"#7201a8\"],[0.3333333333333333,\"#9c179e\"],[0.4444444444444444,\"#bd3786\"],[0.5555555555555556,\"#d8576b\"],[0.6666666666666666,\"#ed7953\"],[0.7777777777777778,\"#fb9f3a\"],[0.8888888888888888,\"#fdca26\"],[1.0,\"#f0f921\"]],\"sequentialminus\":[[0.0,\"#0d0887\"],[0.1111111111111111,\"#46039f\"],[0.2222222222222222,\"#7201a8\"],[0.3333333333333333,\"#9c179e\"],[0.4444444444444444,\"#bd3786\"],[0.5555555555555556,\"#d8576b\"],[0.6666666666666666,\"#ed7953\"],[0.7777777777777778,\"#fb9f3a\"],[0.8888888888888888,\"#fdca26\"],[1.0,\"#f0f921\"]],\"diverging\":[[0,\"#8e0152\"],[0.1,\"#c51b7d\"],[0.2,\"#de77ae\"],[0.3,\"#f1b6da\"],[0.4,\"#fde0ef\"],[0.5,\"#f7f7f7\"],[0.6,\"#e6f5d0\"],[0.7,\"#b8e186\"],[0.8,\"#7fbc41\"],[0.9,\"#4d9221\"],[1,\"#276419\"]]},\"xaxis\":{\"gridcolor\":\"white\",\"linecolor\":\"white\",\"ticks\":\"\",\"title\":{\"standoff\":15},\"zerolinecolor\":\"white\",\"automargin\":true,\"zerolinewidth\":2},\"yaxis\":{\"gridcolor\":\"white\",\"linecolor\":\"white\",\"ticks\":\"\",\"title\":{\"standoff\":15},\"zerolinecolor\":\"white\",\"automargin\":true,\"zerolinewidth\":2},\"scene\":{\"xaxis\":{\"backgroundcolor\":\"#E5ECF6\",\"gridcolor\":\"white\",\"linecolor\":\"white\",\"showbackground\":true,\"ticks\":\"\",\"zerolinecolor\":\"white\",\"gridwidth\":2},\"yaxis\":{\"backgroundcolor\":\"#E5ECF6\",\"gridcolor\":\"white\",\"linecolor\":\"white\",\"showbackground\":true,\"ticks\":\"\",\"zerolinecolor\":\"white\",\"gridwidth\":2},\"zaxis\":{\"backgroundcolor\":\"#E5ECF6\",\"gridcolor\":\"white\",\"linecolor\":\"white\",\"showbackground\":true,\"ticks\":\"\",\"zerolinecolor\":\"white\",\"gridwidth\":2}},\"shapedefaults\":{\"line\":{\"color\":\"#2a3f5f\"}},\"annotationdefaults\":{\"arrowcolor\":\"#2a3f5f\",\"arrowhead\":0,\"arrowwidth\":1},\"geo\":{\"bgcolor\":\"white\",\"landcolor\":\"#E5ECF6\",\"subunitcolor\":\"white\",\"showland\":true,\"showlakes\":true,\"lakecolor\":\"white\"},\"title\":{\"x\":0.05},\"mapbox\":{\"style\":\"light\"}}},\"xaxis\":{\"anchor\":\"y\",\"domain\":[0.0,1.0],\"title\":{\"text\":\"Number of Clusters (k)\"}},\"yaxis\":{\"anchor\":\"x\",\"domain\":[0.0,1.0],\"title\":{\"text\":\"Silhouette Score\"}},\"legend\":{\"tracegroupgap\":0},\"title\":{\"text\":\"K-Means Model: Silhouette Score vs Number of Clusters\"}},                        {\"responsive\": true}                    ).then(function(){\n",
       "                            \n",
       "var gd = document.getElementById('77ab51d1-0862-44ba-8f80-995376b5b218');\n",
       "var x = new MutationObserver(function (mutations, observer) {{\n",
       "        var display = window.getComputedStyle(gd).display;\n",
       "        if (!display || display === 'none') {{\n",
       "            console.log([gd, 'removed!']);\n",
       "            Plotly.purge(gd);\n",
       "            observer.disconnect();\n",
       "        }}\n",
       "}});\n",
       "\n",
       "// Listen for the removal of the full notebook cells\n",
       "var notebookContainer = gd.closest('#notebook-container');\n",
       "if (notebookContainer) {{\n",
       "    x.observe(notebookContainer, {childList: true});\n",
       "}}\n",
       "\n",
       "// Listen for the clearing of the current output cell\n",
       "var outputEl = gd.closest('.output');\n",
       "if (outputEl) {{\n",
       "    x.observe(outputEl, {childList: true});\n",
       "}}\n",
       "\n",
       "                        })                };                });            </script>        </div>"
      ]
     },
     "metadata": {},
     "output_type": "display_data"
    }
   ],
   "source": [
    "# Create a line plot of `silhouette_scores` vs `n_clusters`\n",
    "fig = px.line(\n",
    "    x=n_clusters, y=silhouette_scores, title=\"K-Means Model: Silhouette Score vs Number of Clusters\"\n",
    ")\n",
    "fig.update_layout(xaxis_title=\"Number of Clusters (k)\", yaxis_title=\"Silhouette Score\")\n",
    "\n",
    "fig.show()"
   ]
  },
  {
   "cell_type": "markdown",
   "id": "2ac7e1f5",
   "metadata": {},
   "source": [
    "* Observation: Its showing that the best choice will be 4 for our `k-Means model`. "
   ]
  },
  {
   "cell_type": "markdown",
   "id": "981aaa6b",
   "metadata": {},
   "source": [
    "### Final Model"
   ]
  },
  {
   "cell_type": "code",
   "execution_count": 56,
   "id": "9cc89e18",
   "metadata": {},
   "outputs": [
    {
     "data": {
      "text/html": [
       "<style>#sk-container-id-2 {color: black;background-color: white;}#sk-container-id-2 pre{padding: 0;}#sk-container-id-2 div.sk-toggleable {background-color: white;}#sk-container-id-2 label.sk-toggleable__label {cursor: pointer;display: block;width: 100%;margin-bottom: 0;padding: 0.3em;box-sizing: border-box;text-align: center;}#sk-container-id-2 label.sk-toggleable__label-arrow:before {content: \"▸\";float: left;margin-right: 0.25em;color: #696969;}#sk-container-id-2 label.sk-toggleable__label-arrow:hover:before {color: black;}#sk-container-id-2 div.sk-estimator:hover label.sk-toggleable__label-arrow:before {color: black;}#sk-container-id-2 div.sk-toggleable__content {max-height: 0;max-width: 0;overflow: hidden;text-align: left;background-color: #f0f8ff;}#sk-container-id-2 div.sk-toggleable__content pre {margin: 0.2em;color: black;border-radius: 0.25em;background-color: #f0f8ff;}#sk-container-id-2 input.sk-toggleable__control:checked~div.sk-toggleable__content {max-height: 200px;max-width: 100%;overflow: auto;}#sk-container-id-2 input.sk-toggleable__control:checked~label.sk-toggleable__label-arrow:before {content: \"▾\";}#sk-container-id-2 div.sk-estimator input.sk-toggleable__control:checked~label.sk-toggleable__label {background-color: #d4ebff;}#sk-container-id-2 div.sk-label input.sk-toggleable__control:checked~label.sk-toggleable__label {background-color: #d4ebff;}#sk-container-id-2 input.sk-hidden--visually {border: 0;clip: rect(1px 1px 1px 1px);clip: rect(1px, 1px, 1px, 1px);height: 1px;margin: -1px;overflow: hidden;padding: 0;position: absolute;width: 1px;}#sk-container-id-2 div.sk-estimator {font-family: monospace;background-color: #f0f8ff;border: 1px dotted black;border-radius: 0.25em;box-sizing: border-box;margin-bottom: 0.5em;}#sk-container-id-2 div.sk-estimator:hover {background-color: #d4ebff;}#sk-container-id-2 div.sk-parallel-item::after {content: \"\";width: 100%;border-bottom: 1px solid gray;flex-grow: 1;}#sk-container-id-2 div.sk-label:hover label.sk-toggleable__label {background-color: #d4ebff;}#sk-container-id-2 div.sk-serial::before {content: \"\";position: absolute;border-left: 1px solid gray;box-sizing: border-box;top: 0;bottom: 0;left: 50%;z-index: 0;}#sk-container-id-2 div.sk-serial {display: flex;flex-direction: column;align-items: center;background-color: white;padding-right: 0.2em;padding-left: 0.2em;position: relative;}#sk-container-id-2 div.sk-item {position: relative;z-index: 1;}#sk-container-id-2 div.sk-parallel {display: flex;align-items: stretch;justify-content: center;background-color: white;position: relative;}#sk-container-id-2 div.sk-item::before, #sk-container-id-2 div.sk-parallel-item::before {content: \"\";position: absolute;border-left: 1px solid gray;box-sizing: border-box;top: 0;bottom: 0;left: 50%;z-index: -1;}#sk-container-id-2 div.sk-parallel-item {display: flex;flex-direction: column;z-index: 1;position: relative;background-color: white;}#sk-container-id-2 div.sk-parallel-item:first-child::after {align-self: flex-end;width: 50%;}#sk-container-id-2 div.sk-parallel-item:last-child::after {align-self: flex-start;width: 50%;}#sk-container-id-2 div.sk-parallel-item:only-child::after {width: 0;}#sk-container-id-2 div.sk-dashed-wrapped {border: 1px dashed gray;margin: 0 0.4em 0.5em 0.4em;box-sizing: border-box;padding-bottom: 0.4em;background-color: white;}#sk-container-id-2 div.sk-label label {font-family: monospace;font-weight: bold;display: inline-block;line-height: 1.2em;}#sk-container-id-2 div.sk-label-container {text-align: center;}#sk-container-id-2 div.sk-container {/* jupyter's `normalize.less` sets `[hidden] { display: none; }` but bootstrap.min.css set `[hidden] { display: none !important; }` so we also need the `!important` here to be able to override the default hidden behavior on the sphinx rendered scikit-learn.org. See: https://github.com/scikit-learn/scikit-learn/issues/21755 */display: inline-block !important;position: relative;}#sk-container-id-2 div.sk-text-repr-fallback {display: none;}</style><div id=\"sk-container-id-2\" class=\"sk-top-container\"><div class=\"sk-text-repr-fallback\"><pre>Pipeline(steps=[(&#x27;standardscaler&#x27;, StandardScaler()),\n",
       "                (&#x27;kmeans&#x27;, KMeans(n_clusters=4, n_init=10, random_state=42))])</pre><b>In a Jupyter environment, please rerun this cell to show the HTML representation or trust the notebook. <br />On GitHub, the HTML representation is unable to render, please try loading this page with nbviewer.org.</b></div><div class=\"sk-container\" hidden><div class=\"sk-item sk-dashed-wrapped\"><div class=\"sk-label-container\"><div class=\"sk-label sk-toggleable\"><input class=\"sk-toggleable__control sk-hidden--visually\" id=\"sk-estimator-id-4\" type=\"checkbox\" ><label for=\"sk-estimator-id-4\" class=\"sk-toggleable__label sk-toggleable__label-arrow\">Pipeline</label><div class=\"sk-toggleable__content\"><pre>Pipeline(steps=[(&#x27;standardscaler&#x27;, StandardScaler()),\n",
       "                (&#x27;kmeans&#x27;, KMeans(n_clusters=4, n_init=10, random_state=42))])</pre></div></div></div><div class=\"sk-serial\"><div class=\"sk-item\"><div class=\"sk-estimator sk-toggleable\"><input class=\"sk-toggleable__control sk-hidden--visually\" id=\"sk-estimator-id-5\" type=\"checkbox\" ><label for=\"sk-estimator-id-5\" class=\"sk-toggleable__label sk-toggleable__label-arrow\">StandardScaler</label><div class=\"sk-toggleable__content\"><pre>StandardScaler()</pre></div></div></div><div class=\"sk-item\"><div class=\"sk-estimator sk-toggleable\"><input class=\"sk-toggleable__control sk-hidden--visually\" id=\"sk-estimator-id-6\" type=\"checkbox\" ><label for=\"sk-estimator-id-6\" class=\"sk-toggleable__label sk-toggleable__label-arrow\">KMeans</label><div class=\"sk-toggleable__content\"><pre>KMeans(n_clusters=4, n_init=10, random_state=42)</pre></div></div></div></div></div></div></div>"
      ],
      "text/plain": [
       "Pipeline(steps=[('standardscaler', StandardScaler()),\n",
       "                ('kmeans', KMeans(n_clusters=4, n_init=10, random_state=42))])"
      ]
     },
     "execution_count": 56,
     "metadata": {},
     "output_type": "execute_result"
    }
   ],
   "source": [
    "# creating k-means model in pipeline with standardscaler\n",
    "final_model = make_pipeline(\n",
    "    StandardScaler(),\n",
    "    KMeans(n_clusters=4, n_init=10, random_state=42)\n",
    ")\n",
    "final_model.fit(X)"
   ]
  },
  {
   "cell_type": "markdown",
   "id": "cc353a89",
   "metadata": {},
   "source": [
    " "
   ]
  },
  {
   "cell_type": "markdown",
   "id": "2138a1ea",
   "metadata": {},
   "source": [
    "# Communication"
   ]
  },
  {
   "cell_type": "markdown",
   "id": "4e55cda7",
   "metadata": {},
   "source": [
    "Extracting the labels that your `final_model` created during training and assign them to the variable `labels`."
   ]
  },
  {
   "cell_type": "code",
   "execution_count": 57,
   "id": "53e5f5d4",
   "metadata": {},
   "outputs": [
    {
     "name": "stdout",
     "output_type": "stream",
     "text": [
      "[0 0 0 0 0]\n"
     ]
    }
   ],
   "source": [
    "labels = final_model.named_steps[\"kmeans\"].labels_\n",
    "print(labels[:5])"
   ]
  },
  {
   "cell_type": "markdown",
   "id": "f43dbac2",
   "metadata": {},
   "source": [
    "We are going to observe this in a visualization so making its dataframe"
   ]
  },
  {
   "cell_type": "code",
   "execution_count": 58,
   "id": "11deaf04",
   "metadata": {},
   "outputs": [
    {
     "data": {
      "text/html": [
       "<div>\n",
       "<style scoped>\n",
       "    .dataframe tbody tr th:only-of-type {\n",
       "        vertical-align: middle;\n",
       "    }\n",
       "\n",
       "    .dataframe tbody tr th {\n",
       "        vertical-align: top;\n",
       "    }\n",
       "\n",
       "    .dataframe thead th {\n",
       "        text-align: right;\n",
       "    }\n",
       "</style>\n",
       "<table border=\"1\" class=\"dataframe\">\n",
       "  <thead>\n",
       "    <tr style=\"text-align: right;\">\n",
       "      <th></th>\n",
       "      <th>DEBT</th>\n",
       "      <th>HOUSES</th>\n",
       "      <th>NETWORTH</th>\n",
       "      <th>NFIN</th>\n",
       "      <th>ASSET</th>\n",
       "    </tr>\n",
       "  </thead>\n",
       "  <tbody>\n",
       "    <tr>\n",
       "      <th>0</th>\n",
       "      <td>8.156108e+04</td>\n",
       "      <td>1.087994e+05</td>\n",
       "      <td>3.543054e+05</td>\n",
       "      <td>2.864714e+05</td>\n",
       "      <td>4.358664e+05</td>\n",
       "    </tr>\n",
       "    <tr>\n",
       "      <th>1</th>\n",
       "      <td>6.421700e+06</td>\n",
       "      <td>2.993000e+06</td>\n",
       "      <td>1.037628e+08</td>\n",
       "      <td>7.432762e+07</td>\n",
       "      <td>1.101845e+08</td>\n",
       "    </tr>\n",
       "    <tr>\n",
       "      <th>2</th>\n",
       "      <td>0.000000e+00</td>\n",
       "      <td>5.710000e+05</td>\n",
       "      <td>2.887856e+08</td>\n",
       "      <td>2.161110e+08</td>\n",
       "      <td>2.887856e+08</td>\n",
       "    </tr>\n",
       "    <tr>\n",
       "      <th>3</th>\n",
       "      <td>1.885878e+06</td>\n",
       "      <td>3.608500e+06</td>\n",
       "      <td>3.264984e+07</td>\n",
       "      <td>2.450632e+07</td>\n",
       "      <td>3.453571e+07</td>\n",
       "    </tr>\n",
       "  </tbody>\n",
       "</table>\n",
       "</div>"
      ],
      "text/plain": [
       "           DEBT        HOUSES      NETWORTH          NFIN         ASSET\n",
       "0  8.156108e+04  1.087994e+05  3.543054e+05  2.864714e+05  4.358664e+05\n",
       "1  6.421700e+06  2.993000e+06  1.037628e+08  7.432762e+07  1.101845e+08\n",
       "2  0.000000e+00  5.710000e+05  2.887856e+08  2.161110e+08  2.887856e+08\n",
       "3  1.885878e+06  3.608500e+06  3.264984e+07  2.450632e+07  3.453571e+07"
      ]
     },
     "execution_count": 58,
     "metadata": {},
     "output_type": "execute_result"
    }
   ],
   "source": [
    "# Create a DataFrame xgb \n",
    "xgb = X.groupby(labels).mean()\n",
    "xgb"
   ]
  },
  {
   "cell_type": "code",
   "execution_count": 59,
   "id": "39f26a80",
   "metadata": {},
   "outputs": [
    {
     "data": {
      "application/vnd.plotly.v1+json": {
       "config": {
        "plotlyServerURL": "https://plot.ly"
       },
       "data": [
        {
         "alignmentgroup": "True",
         "hovertemplate": "variable=DEBT<br>index=%{x}<br>value=%{y}<extra></extra>",
         "legendgroup": "DEBT",
         "marker": {
          "color": "#636efa",
          "pattern": {
           "shape": ""
          }
         },
         "name": "DEBT",
         "offsetgroup": "DEBT",
         "orientation": "v",
         "showlegend": true,
         "textposition": "auto",
         "type": "bar",
         "x": [
          0,
          1,
          2,
          3
         ],
         "xaxis": "x",
         "y": [
          81561.08350951374,
          6421700,
          0,
          1885877.5
         ],
         "yaxis": "y"
        },
        {
         "alignmentgroup": "True",
         "hovertemplate": "variable=HOUSES<br>index=%{x}<br>value=%{y}<extra></extra>",
         "legendgroup": "HOUSES",
         "marker": {
          "color": "#EF553B",
          "pattern": {
           "shape": ""
          }
         },
         "name": "HOUSES",
         "offsetgroup": "HOUSES",
         "orientation": "v",
         "showlegend": true,
         "textposition": "auto",
         "type": "bar",
         "x": [
          0,
          1,
          2,
          3
         ],
         "xaxis": "x",
         "y": [
          108799.41860465116,
          2993000,
          571000,
          3608500
         ],
         "yaxis": "y"
        },
        {
         "alignmentgroup": "True",
         "hovertemplate": "variable=NETWORTH<br>index=%{x}<br>value=%{y}<extra></extra>",
         "legendgroup": "NETWORTH",
         "marker": {
          "color": "#00cc96",
          "pattern": {
           "shape": ""
          }
         },
         "name": "NETWORTH",
         "offsetgroup": "NETWORTH",
         "orientation": "v",
         "showlegend": true,
         "textposition": "auto",
         "type": "bar",
         "x": [
          0,
          1,
          2,
          3
         ],
         "xaxis": "x",
         "y": [
          354305.3587737843,
          103762830,
          288785600,
          32649836.25
         ],
         "yaxis": "y"
        },
        {
         "alignmentgroup": "True",
         "hovertemplate": "variable=NFIN<br>index=%{x}<br>value=%{y}<extra></extra>",
         "legendgroup": "NFIN",
         "marker": {
          "color": "#ab63fa",
          "pattern": {
           "shape": ""
          }
         },
         "name": "NFIN",
         "offsetgroup": "NFIN",
         "orientation": "v",
         "showlegend": true,
         "textposition": "auto",
         "type": "bar",
         "x": [
          0,
          1,
          2,
          3
         ],
         "xaxis": "x",
         "y": [
          286471.43990486255,
          74327620,
          216111000,
          24506322.5
         ],
         "yaxis": "y"
        },
        {
         "alignmentgroup": "True",
         "hovertemplate": "variable=ASSET<br>index=%{x}<br>value=%{y}<extra></extra>",
         "legendgroup": "ASSET",
         "marker": {
          "color": "#FFA15A",
          "pattern": {
           "shape": ""
          }
         },
         "name": "ASSET",
         "offsetgroup": "ASSET",
         "orientation": "v",
         "showlegend": true,
         "textposition": "auto",
         "type": "bar",
         "x": [
          0,
          1,
          2,
          3
         ],
         "xaxis": "x",
         "y": [
          435866.44228329806,
          110184530,
          288785600,
          34535713.75
         ],
         "yaxis": "y"
        }
       ],
       "layout": {
        "barmode": "group",
        "legend": {
         "title": {
          "text": "variable"
         },
         "tracegroupgap": 0
        },
        "template": {
         "data": {
          "bar": [
           {
            "error_x": {
             "color": "#2a3f5f"
            },
            "error_y": {
             "color": "#2a3f5f"
            },
            "marker": {
             "line": {
              "color": "#E5ECF6",
              "width": 0.5
             },
             "pattern": {
              "fillmode": "overlay",
              "size": 10,
              "solidity": 0.2
             }
            },
            "type": "bar"
           }
          ],
          "barpolar": [
           {
            "marker": {
             "line": {
              "color": "#E5ECF6",
              "width": 0.5
             },
             "pattern": {
              "fillmode": "overlay",
              "size": 10,
              "solidity": 0.2
             }
            },
            "type": "barpolar"
           }
          ],
          "carpet": [
           {
            "aaxis": {
             "endlinecolor": "#2a3f5f",
             "gridcolor": "white",
             "linecolor": "white",
             "minorgridcolor": "white",
             "startlinecolor": "#2a3f5f"
            },
            "baxis": {
             "endlinecolor": "#2a3f5f",
             "gridcolor": "white",
             "linecolor": "white",
             "minorgridcolor": "white",
             "startlinecolor": "#2a3f5f"
            },
            "type": "carpet"
           }
          ],
          "choropleth": [
           {
            "colorbar": {
             "outlinewidth": 0,
             "ticks": ""
            },
            "type": "choropleth"
           }
          ],
          "contour": [
           {
            "colorbar": {
             "outlinewidth": 0,
             "ticks": ""
            },
            "colorscale": [
             [
              0,
              "#0d0887"
             ],
             [
              0.1111111111111111,
              "#46039f"
             ],
             [
              0.2222222222222222,
              "#7201a8"
             ],
             [
              0.3333333333333333,
              "#9c179e"
             ],
             [
              0.4444444444444444,
              "#bd3786"
             ],
             [
              0.5555555555555556,
              "#d8576b"
             ],
             [
              0.6666666666666666,
              "#ed7953"
             ],
             [
              0.7777777777777778,
              "#fb9f3a"
             ],
             [
              0.8888888888888888,
              "#fdca26"
             ],
             [
              1,
              "#f0f921"
             ]
            ],
            "type": "contour"
           }
          ],
          "contourcarpet": [
           {
            "colorbar": {
             "outlinewidth": 0,
             "ticks": ""
            },
            "type": "contourcarpet"
           }
          ],
          "heatmap": [
           {
            "colorbar": {
             "outlinewidth": 0,
             "ticks": ""
            },
            "colorscale": [
             [
              0,
              "#0d0887"
             ],
             [
              0.1111111111111111,
              "#46039f"
             ],
             [
              0.2222222222222222,
              "#7201a8"
             ],
             [
              0.3333333333333333,
              "#9c179e"
             ],
             [
              0.4444444444444444,
              "#bd3786"
             ],
             [
              0.5555555555555556,
              "#d8576b"
             ],
             [
              0.6666666666666666,
              "#ed7953"
             ],
             [
              0.7777777777777778,
              "#fb9f3a"
             ],
             [
              0.8888888888888888,
              "#fdca26"
             ],
             [
              1,
              "#f0f921"
             ]
            ],
            "type": "heatmap"
           }
          ],
          "heatmapgl": [
           {
            "colorbar": {
             "outlinewidth": 0,
             "ticks": ""
            },
            "colorscale": [
             [
              0,
              "#0d0887"
             ],
             [
              0.1111111111111111,
              "#46039f"
             ],
             [
              0.2222222222222222,
              "#7201a8"
             ],
             [
              0.3333333333333333,
              "#9c179e"
             ],
             [
              0.4444444444444444,
              "#bd3786"
             ],
             [
              0.5555555555555556,
              "#d8576b"
             ],
             [
              0.6666666666666666,
              "#ed7953"
             ],
             [
              0.7777777777777778,
              "#fb9f3a"
             ],
             [
              0.8888888888888888,
              "#fdca26"
             ],
             [
              1,
              "#f0f921"
             ]
            ],
            "type": "heatmapgl"
           }
          ],
          "histogram": [
           {
            "marker": {
             "pattern": {
              "fillmode": "overlay",
              "size": 10,
              "solidity": 0.2
             }
            },
            "type": "histogram"
           }
          ],
          "histogram2d": [
           {
            "colorbar": {
             "outlinewidth": 0,
             "ticks": ""
            },
            "colorscale": [
             [
              0,
              "#0d0887"
             ],
             [
              0.1111111111111111,
              "#46039f"
             ],
             [
              0.2222222222222222,
              "#7201a8"
             ],
             [
              0.3333333333333333,
              "#9c179e"
             ],
             [
              0.4444444444444444,
              "#bd3786"
             ],
             [
              0.5555555555555556,
              "#d8576b"
             ],
             [
              0.6666666666666666,
              "#ed7953"
             ],
             [
              0.7777777777777778,
              "#fb9f3a"
             ],
             [
              0.8888888888888888,
              "#fdca26"
             ],
             [
              1,
              "#f0f921"
             ]
            ],
            "type": "histogram2d"
           }
          ],
          "histogram2dcontour": [
           {
            "colorbar": {
             "outlinewidth": 0,
             "ticks": ""
            },
            "colorscale": [
             [
              0,
              "#0d0887"
             ],
             [
              0.1111111111111111,
              "#46039f"
             ],
             [
              0.2222222222222222,
              "#7201a8"
             ],
             [
              0.3333333333333333,
              "#9c179e"
             ],
             [
              0.4444444444444444,
              "#bd3786"
             ],
             [
              0.5555555555555556,
              "#d8576b"
             ],
             [
              0.6666666666666666,
              "#ed7953"
             ],
             [
              0.7777777777777778,
              "#fb9f3a"
             ],
             [
              0.8888888888888888,
              "#fdca26"
             ],
             [
              1,
              "#f0f921"
             ]
            ],
            "type": "histogram2dcontour"
           }
          ],
          "mesh3d": [
           {
            "colorbar": {
             "outlinewidth": 0,
             "ticks": ""
            },
            "type": "mesh3d"
           }
          ],
          "parcoords": [
           {
            "line": {
             "colorbar": {
              "outlinewidth": 0,
              "ticks": ""
             }
            },
            "type": "parcoords"
           }
          ],
          "pie": [
           {
            "automargin": true,
            "type": "pie"
           }
          ],
          "scatter": [
           {
            "fillpattern": {
             "fillmode": "overlay",
             "size": 10,
             "solidity": 0.2
            },
            "type": "scatter"
           }
          ],
          "scatter3d": [
           {
            "line": {
             "colorbar": {
              "outlinewidth": 0,
              "ticks": ""
             }
            },
            "marker": {
             "colorbar": {
              "outlinewidth": 0,
              "ticks": ""
             }
            },
            "type": "scatter3d"
           }
          ],
          "scattercarpet": [
           {
            "marker": {
             "colorbar": {
              "outlinewidth": 0,
              "ticks": ""
             }
            },
            "type": "scattercarpet"
           }
          ],
          "scattergeo": [
           {
            "marker": {
             "colorbar": {
              "outlinewidth": 0,
              "ticks": ""
             }
            },
            "type": "scattergeo"
           }
          ],
          "scattergl": [
           {
            "marker": {
             "colorbar": {
              "outlinewidth": 0,
              "ticks": ""
             }
            },
            "type": "scattergl"
           }
          ],
          "scattermapbox": [
           {
            "marker": {
             "colorbar": {
              "outlinewidth": 0,
              "ticks": ""
             }
            },
            "type": "scattermapbox"
           }
          ],
          "scatterpolar": [
           {
            "marker": {
             "colorbar": {
              "outlinewidth": 0,
              "ticks": ""
             }
            },
            "type": "scatterpolar"
           }
          ],
          "scatterpolargl": [
           {
            "marker": {
             "colorbar": {
              "outlinewidth": 0,
              "ticks": ""
             }
            },
            "type": "scatterpolargl"
           }
          ],
          "scatterternary": [
           {
            "marker": {
             "colorbar": {
              "outlinewidth": 0,
              "ticks": ""
             }
            },
            "type": "scatterternary"
           }
          ],
          "surface": [
           {
            "colorbar": {
             "outlinewidth": 0,
             "ticks": ""
            },
            "colorscale": [
             [
              0,
              "#0d0887"
             ],
             [
              0.1111111111111111,
              "#46039f"
             ],
             [
              0.2222222222222222,
              "#7201a8"
             ],
             [
              0.3333333333333333,
              "#9c179e"
             ],
             [
              0.4444444444444444,
              "#bd3786"
             ],
             [
              0.5555555555555556,
              "#d8576b"
             ],
             [
              0.6666666666666666,
              "#ed7953"
             ],
             [
              0.7777777777777778,
              "#fb9f3a"
             ],
             [
              0.8888888888888888,
              "#fdca26"
             ],
             [
              1,
              "#f0f921"
             ]
            ],
            "type": "surface"
           }
          ],
          "table": [
           {
            "cells": {
             "fill": {
              "color": "#EBF0F8"
             },
             "line": {
              "color": "white"
             }
            },
            "header": {
             "fill": {
              "color": "#C8D4E3"
             },
             "line": {
              "color": "white"
             }
            },
            "type": "table"
           }
          ]
         },
         "layout": {
          "annotationdefaults": {
           "arrowcolor": "#2a3f5f",
           "arrowhead": 0,
           "arrowwidth": 1
          },
          "autotypenumbers": "strict",
          "coloraxis": {
           "colorbar": {
            "outlinewidth": 0,
            "ticks": ""
           }
          },
          "colorscale": {
           "diverging": [
            [
             0,
             "#8e0152"
            ],
            [
             0.1,
             "#c51b7d"
            ],
            [
             0.2,
             "#de77ae"
            ],
            [
             0.3,
             "#f1b6da"
            ],
            [
             0.4,
             "#fde0ef"
            ],
            [
             0.5,
             "#f7f7f7"
            ],
            [
             0.6,
             "#e6f5d0"
            ],
            [
             0.7,
             "#b8e186"
            ],
            [
             0.8,
             "#7fbc41"
            ],
            [
             0.9,
             "#4d9221"
            ],
            [
             1,
             "#276419"
            ]
           ],
           "sequential": [
            [
             0,
             "#0d0887"
            ],
            [
             0.1111111111111111,
             "#46039f"
            ],
            [
             0.2222222222222222,
             "#7201a8"
            ],
            [
             0.3333333333333333,
             "#9c179e"
            ],
            [
             0.4444444444444444,
             "#bd3786"
            ],
            [
             0.5555555555555556,
             "#d8576b"
            ],
            [
             0.6666666666666666,
             "#ed7953"
            ],
            [
             0.7777777777777778,
             "#fb9f3a"
            ],
            [
             0.8888888888888888,
             "#fdca26"
            ],
            [
             1,
             "#f0f921"
            ]
           ],
           "sequentialminus": [
            [
             0,
             "#0d0887"
            ],
            [
             0.1111111111111111,
             "#46039f"
            ],
            [
             0.2222222222222222,
             "#7201a8"
            ],
            [
             0.3333333333333333,
             "#9c179e"
            ],
            [
             0.4444444444444444,
             "#bd3786"
            ],
            [
             0.5555555555555556,
             "#d8576b"
            ],
            [
             0.6666666666666666,
             "#ed7953"
            ],
            [
             0.7777777777777778,
             "#fb9f3a"
            ],
            [
             0.8888888888888888,
             "#fdca26"
            ],
            [
             1,
             "#f0f921"
            ]
           ]
          },
          "colorway": [
           "#636efa",
           "#EF553B",
           "#00cc96",
           "#ab63fa",
           "#FFA15A",
           "#19d3f3",
           "#FF6692",
           "#B6E880",
           "#FF97FF",
           "#FECB52"
          ],
          "font": {
           "color": "#2a3f5f"
          },
          "geo": {
           "bgcolor": "white",
           "lakecolor": "white",
           "landcolor": "#E5ECF6",
           "showlakes": true,
           "showland": true,
           "subunitcolor": "white"
          },
          "hoverlabel": {
           "align": "left"
          },
          "hovermode": "closest",
          "mapbox": {
           "style": "light"
          },
          "paper_bgcolor": "white",
          "plot_bgcolor": "#E5ECF6",
          "polar": {
           "angularaxis": {
            "gridcolor": "white",
            "linecolor": "white",
            "ticks": ""
           },
           "bgcolor": "#E5ECF6",
           "radialaxis": {
            "gridcolor": "white",
            "linecolor": "white",
            "ticks": ""
           }
          },
          "scene": {
           "xaxis": {
            "backgroundcolor": "#E5ECF6",
            "gridcolor": "white",
            "gridwidth": 2,
            "linecolor": "white",
            "showbackground": true,
            "ticks": "",
            "zerolinecolor": "white"
           },
           "yaxis": {
            "backgroundcolor": "#E5ECF6",
            "gridcolor": "white",
            "gridwidth": 2,
            "linecolor": "white",
            "showbackground": true,
            "ticks": "",
            "zerolinecolor": "white"
           },
           "zaxis": {
            "backgroundcolor": "#E5ECF6",
            "gridcolor": "white",
            "gridwidth": 2,
            "linecolor": "white",
            "showbackground": true,
            "ticks": "",
            "zerolinecolor": "white"
           }
          },
          "shapedefaults": {
           "line": {
            "color": "#2a3f5f"
           }
          },
          "ternary": {
           "aaxis": {
            "gridcolor": "white",
            "linecolor": "white",
            "ticks": ""
           },
           "baxis": {
            "gridcolor": "white",
            "linecolor": "white",
            "ticks": ""
           },
           "bgcolor": "#E5ECF6",
           "caxis": {
            "gridcolor": "white",
            "linecolor": "white",
            "ticks": ""
           }
          },
          "title": {
           "x": 0.05
          },
          "xaxis": {
           "automargin": true,
           "gridcolor": "white",
           "linecolor": "white",
           "ticks": "",
           "title": {
            "standoff": 15
           },
           "zerolinecolor": "white",
           "zerolinewidth": 2
          },
          "yaxis": {
           "automargin": true,
           "gridcolor": "white",
           "linecolor": "white",
           "ticks": "",
           "title": {
            "standoff": 15
           },
           "zerolinecolor": "white",
           "zerolinewidth": 2
          }
         }
        },
        "title": {
         "text": "Mean Household Finances by Cluster"
        },
        "xaxis": {
         "anchor": "y",
         "domain": [
          0,
          1
         ],
         "title": {
          "text": "Cluster"
         }
        },
        "yaxis": {
         "anchor": "x",
         "domain": [
          0,
          1
         ],
         "title": {
          "text": "Value [$1]"
         }
        }
       }
      },
      "text/html": [
       "<div>                            <div id=\"05cae33a-70ca-4741-be2f-deea43d240f2\" class=\"plotly-graph-div\" style=\"height:525px; width:100%;\"></div>            <script type=\"text/javascript\">                require([\"plotly\"], function(Plotly) {                    window.PLOTLYENV=window.PLOTLYENV || {};                                    if (document.getElementById(\"05cae33a-70ca-4741-be2f-deea43d240f2\")) {                    Plotly.newPlot(                        \"05cae33a-70ca-4741-be2f-deea43d240f2\",                        [{\"alignmentgroup\":\"True\",\"hovertemplate\":\"variable=DEBT<br>index=%{x}<br>value=%{y}<extra></extra>\",\"legendgroup\":\"DEBT\",\"marker\":{\"color\":\"#636efa\",\"pattern\":{\"shape\":\"\"}},\"name\":\"DEBT\",\"offsetgroup\":\"DEBT\",\"orientation\":\"v\",\"showlegend\":true,\"textposition\":\"auto\",\"x\":[0,1,2,3],\"xaxis\":\"x\",\"y\":[81561.08350951374,6421700.0,0.0,1885877.5],\"yaxis\":\"y\",\"type\":\"bar\"},{\"alignmentgroup\":\"True\",\"hovertemplate\":\"variable=HOUSES<br>index=%{x}<br>value=%{y}<extra></extra>\",\"legendgroup\":\"HOUSES\",\"marker\":{\"color\":\"#EF553B\",\"pattern\":{\"shape\":\"\"}},\"name\":\"HOUSES\",\"offsetgroup\":\"HOUSES\",\"orientation\":\"v\",\"showlegend\":true,\"textposition\":\"auto\",\"x\":[0,1,2,3],\"xaxis\":\"x\",\"y\":[108799.41860465116,2993000.0,571000.0,3608500.0],\"yaxis\":\"y\",\"type\":\"bar\"},{\"alignmentgroup\":\"True\",\"hovertemplate\":\"variable=NETWORTH<br>index=%{x}<br>value=%{y}<extra></extra>\",\"legendgroup\":\"NETWORTH\",\"marker\":{\"color\":\"#00cc96\",\"pattern\":{\"shape\":\"\"}},\"name\":\"NETWORTH\",\"offsetgroup\":\"NETWORTH\",\"orientation\":\"v\",\"showlegend\":true,\"textposition\":\"auto\",\"x\":[0,1,2,3],\"xaxis\":\"x\",\"y\":[354305.3587737843,103762830.0,288785600.0,32649836.25],\"yaxis\":\"y\",\"type\":\"bar\"},{\"alignmentgroup\":\"True\",\"hovertemplate\":\"variable=NFIN<br>index=%{x}<br>value=%{y}<extra></extra>\",\"legendgroup\":\"NFIN\",\"marker\":{\"color\":\"#ab63fa\",\"pattern\":{\"shape\":\"\"}},\"name\":\"NFIN\",\"offsetgroup\":\"NFIN\",\"orientation\":\"v\",\"showlegend\":true,\"textposition\":\"auto\",\"x\":[0,1,2,3],\"xaxis\":\"x\",\"y\":[286471.43990486255,74327620.0,216111000.0,24506322.5],\"yaxis\":\"y\",\"type\":\"bar\"},{\"alignmentgroup\":\"True\",\"hovertemplate\":\"variable=ASSET<br>index=%{x}<br>value=%{y}<extra></extra>\",\"legendgroup\":\"ASSET\",\"marker\":{\"color\":\"#FFA15A\",\"pattern\":{\"shape\":\"\"}},\"name\":\"ASSET\",\"offsetgroup\":\"ASSET\",\"orientation\":\"v\",\"showlegend\":true,\"textposition\":\"auto\",\"x\":[0,1,2,3],\"xaxis\":\"x\",\"y\":[435866.44228329806,110184530.0,288785600.0,34535713.75],\"yaxis\":\"y\",\"type\":\"bar\"}],                        {\"template\":{\"data\":{\"histogram2dcontour\":[{\"type\":\"histogram2dcontour\",\"colorbar\":{\"outlinewidth\":0,\"ticks\":\"\"},\"colorscale\":[[0.0,\"#0d0887\"],[0.1111111111111111,\"#46039f\"],[0.2222222222222222,\"#7201a8\"],[0.3333333333333333,\"#9c179e\"],[0.4444444444444444,\"#bd3786\"],[0.5555555555555556,\"#d8576b\"],[0.6666666666666666,\"#ed7953\"],[0.7777777777777778,\"#fb9f3a\"],[0.8888888888888888,\"#fdca26\"],[1.0,\"#f0f921\"]]}],\"choropleth\":[{\"type\":\"choropleth\",\"colorbar\":{\"outlinewidth\":0,\"ticks\":\"\"}}],\"histogram2d\":[{\"type\":\"histogram2d\",\"colorbar\":{\"outlinewidth\":0,\"ticks\":\"\"},\"colorscale\":[[0.0,\"#0d0887\"],[0.1111111111111111,\"#46039f\"],[0.2222222222222222,\"#7201a8\"],[0.3333333333333333,\"#9c179e\"],[0.4444444444444444,\"#bd3786\"],[0.5555555555555556,\"#d8576b\"],[0.6666666666666666,\"#ed7953\"],[0.7777777777777778,\"#fb9f3a\"],[0.8888888888888888,\"#fdca26\"],[1.0,\"#f0f921\"]]}],\"heatmap\":[{\"type\":\"heatmap\",\"colorbar\":{\"outlinewidth\":0,\"ticks\":\"\"},\"colorscale\":[[0.0,\"#0d0887\"],[0.1111111111111111,\"#46039f\"],[0.2222222222222222,\"#7201a8\"],[0.3333333333333333,\"#9c179e\"],[0.4444444444444444,\"#bd3786\"],[0.5555555555555556,\"#d8576b\"],[0.6666666666666666,\"#ed7953\"],[0.7777777777777778,\"#fb9f3a\"],[0.8888888888888888,\"#fdca26\"],[1.0,\"#f0f921\"]]}],\"heatmapgl\":[{\"type\":\"heatmapgl\",\"colorbar\":{\"outlinewidth\":0,\"ticks\":\"\"},\"colorscale\":[[0.0,\"#0d0887\"],[0.1111111111111111,\"#46039f\"],[0.2222222222222222,\"#7201a8\"],[0.3333333333333333,\"#9c179e\"],[0.4444444444444444,\"#bd3786\"],[0.5555555555555556,\"#d8576b\"],[0.6666666666666666,\"#ed7953\"],[0.7777777777777778,\"#fb9f3a\"],[0.8888888888888888,\"#fdca26\"],[1.0,\"#f0f921\"]]}],\"contourcarpet\":[{\"type\":\"contourcarpet\",\"colorbar\":{\"outlinewidth\":0,\"ticks\":\"\"}}],\"contour\":[{\"type\":\"contour\",\"colorbar\":{\"outlinewidth\":0,\"ticks\":\"\"},\"colorscale\":[[0.0,\"#0d0887\"],[0.1111111111111111,\"#46039f\"],[0.2222222222222222,\"#7201a8\"],[0.3333333333333333,\"#9c179e\"],[0.4444444444444444,\"#bd3786\"],[0.5555555555555556,\"#d8576b\"],[0.6666666666666666,\"#ed7953\"],[0.7777777777777778,\"#fb9f3a\"],[0.8888888888888888,\"#fdca26\"],[1.0,\"#f0f921\"]]}],\"surface\":[{\"type\":\"surface\",\"colorbar\":{\"outlinewidth\":0,\"ticks\":\"\"},\"colorscale\":[[0.0,\"#0d0887\"],[0.1111111111111111,\"#46039f\"],[0.2222222222222222,\"#7201a8\"],[0.3333333333333333,\"#9c179e\"],[0.4444444444444444,\"#bd3786\"],[0.5555555555555556,\"#d8576b\"],[0.6666666666666666,\"#ed7953\"],[0.7777777777777778,\"#fb9f3a\"],[0.8888888888888888,\"#fdca26\"],[1.0,\"#f0f921\"]]}],\"mesh3d\":[{\"type\":\"mesh3d\",\"colorbar\":{\"outlinewidth\":0,\"ticks\":\"\"}}],\"scatter\":[{\"fillpattern\":{\"fillmode\":\"overlay\",\"size\":10,\"solidity\":0.2},\"type\":\"scatter\"}],\"parcoords\":[{\"type\":\"parcoords\",\"line\":{\"colorbar\":{\"outlinewidth\":0,\"ticks\":\"\"}}}],\"scatterpolargl\":[{\"type\":\"scatterpolargl\",\"marker\":{\"colorbar\":{\"outlinewidth\":0,\"ticks\":\"\"}}}],\"bar\":[{\"error_x\":{\"color\":\"#2a3f5f\"},\"error_y\":{\"color\":\"#2a3f5f\"},\"marker\":{\"line\":{\"color\":\"#E5ECF6\",\"width\":0.5},\"pattern\":{\"fillmode\":\"overlay\",\"size\":10,\"solidity\":0.2}},\"type\":\"bar\"}],\"scattergeo\":[{\"type\":\"scattergeo\",\"marker\":{\"colorbar\":{\"outlinewidth\":0,\"ticks\":\"\"}}}],\"scatterpolar\":[{\"type\":\"scatterpolar\",\"marker\":{\"colorbar\":{\"outlinewidth\":0,\"ticks\":\"\"}}}],\"histogram\":[{\"marker\":{\"pattern\":{\"fillmode\":\"overlay\",\"size\":10,\"solidity\":0.2}},\"type\":\"histogram\"}],\"scattergl\":[{\"type\":\"scattergl\",\"marker\":{\"colorbar\":{\"outlinewidth\":0,\"ticks\":\"\"}}}],\"scatter3d\":[{\"type\":\"scatter3d\",\"line\":{\"colorbar\":{\"outlinewidth\":0,\"ticks\":\"\"}},\"marker\":{\"colorbar\":{\"outlinewidth\":0,\"ticks\":\"\"}}}],\"scattermapbox\":[{\"type\":\"scattermapbox\",\"marker\":{\"colorbar\":{\"outlinewidth\":0,\"ticks\":\"\"}}}],\"scatterternary\":[{\"type\":\"scatterternary\",\"marker\":{\"colorbar\":{\"outlinewidth\":0,\"ticks\":\"\"}}}],\"scattercarpet\":[{\"type\":\"scattercarpet\",\"marker\":{\"colorbar\":{\"outlinewidth\":0,\"ticks\":\"\"}}}],\"carpet\":[{\"aaxis\":{\"endlinecolor\":\"#2a3f5f\",\"gridcolor\":\"white\",\"linecolor\":\"white\",\"minorgridcolor\":\"white\",\"startlinecolor\":\"#2a3f5f\"},\"baxis\":{\"endlinecolor\":\"#2a3f5f\",\"gridcolor\":\"white\",\"linecolor\":\"white\",\"minorgridcolor\":\"white\",\"startlinecolor\":\"#2a3f5f\"},\"type\":\"carpet\"}],\"table\":[{\"cells\":{\"fill\":{\"color\":\"#EBF0F8\"},\"line\":{\"color\":\"white\"}},\"header\":{\"fill\":{\"color\":\"#C8D4E3\"},\"line\":{\"color\":\"white\"}},\"type\":\"table\"}],\"barpolar\":[{\"marker\":{\"line\":{\"color\":\"#E5ECF6\",\"width\":0.5},\"pattern\":{\"fillmode\":\"overlay\",\"size\":10,\"solidity\":0.2}},\"type\":\"barpolar\"}],\"pie\":[{\"automargin\":true,\"type\":\"pie\"}]},\"layout\":{\"autotypenumbers\":\"strict\",\"colorway\":[\"#636efa\",\"#EF553B\",\"#00cc96\",\"#ab63fa\",\"#FFA15A\",\"#19d3f3\",\"#FF6692\",\"#B6E880\",\"#FF97FF\",\"#FECB52\"],\"font\":{\"color\":\"#2a3f5f\"},\"hovermode\":\"closest\",\"hoverlabel\":{\"align\":\"left\"},\"paper_bgcolor\":\"white\",\"plot_bgcolor\":\"#E5ECF6\",\"polar\":{\"bgcolor\":\"#E5ECF6\",\"angularaxis\":{\"gridcolor\":\"white\",\"linecolor\":\"white\",\"ticks\":\"\"},\"radialaxis\":{\"gridcolor\":\"white\",\"linecolor\":\"white\",\"ticks\":\"\"}},\"ternary\":{\"bgcolor\":\"#E5ECF6\",\"aaxis\":{\"gridcolor\":\"white\",\"linecolor\":\"white\",\"ticks\":\"\"},\"baxis\":{\"gridcolor\":\"white\",\"linecolor\":\"white\",\"ticks\":\"\"},\"caxis\":{\"gridcolor\":\"white\",\"linecolor\":\"white\",\"ticks\":\"\"}},\"coloraxis\":{\"colorbar\":{\"outlinewidth\":0,\"ticks\":\"\"}},\"colorscale\":{\"sequential\":[[0.0,\"#0d0887\"],[0.1111111111111111,\"#46039f\"],[0.2222222222222222,\"#7201a8\"],[0.3333333333333333,\"#9c179e\"],[0.4444444444444444,\"#bd3786\"],[0.5555555555555556,\"#d8576b\"],[0.6666666666666666,\"#ed7953\"],[0.7777777777777778,\"#fb9f3a\"],[0.8888888888888888,\"#fdca26\"],[1.0,\"#f0f921\"]],\"sequentialminus\":[[0.0,\"#0d0887\"],[0.1111111111111111,\"#46039f\"],[0.2222222222222222,\"#7201a8\"],[0.3333333333333333,\"#9c179e\"],[0.4444444444444444,\"#bd3786\"],[0.5555555555555556,\"#d8576b\"],[0.6666666666666666,\"#ed7953\"],[0.7777777777777778,\"#fb9f3a\"],[0.8888888888888888,\"#fdca26\"],[1.0,\"#f0f921\"]],\"diverging\":[[0,\"#8e0152\"],[0.1,\"#c51b7d\"],[0.2,\"#de77ae\"],[0.3,\"#f1b6da\"],[0.4,\"#fde0ef\"],[0.5,\"#f7f7f7\"],[0.6,\"#e6f5d0\"],[0.7,\"#b8e186\"],[0.8,\"#7fbc41\"],[0.9,\"#4d9221\"],[1,\"#276419\"]]},\"xaxis\":{\"gridcolor\":\"white\",\"linecolor\":\"white\",\"ticks\":\"\",\"title\":{\"standoff\":15},\"zerolinecolor\":\"white\",\"automargin\":true,\"zerolinewidth\":2},\"yaxis\":{\"gridcolor\":\"white\",\"linecolor\":\"white\",\"ticks\":\"\",\"title\":{\"standoff\":15},\"zerolinecolor\":\"white\",\"automargin\":true,\"zerolinewidth\":2},\"scene\":{\"xaxis\":{\"backgroundcolor\":\"#E5ECF6\",\"gridcolor\":\"white\",\"linecolor\":\"white\",\"showbackground\":true,\"ticks\":\"\",\"zerolinecolor\":\"white\",\"gridwidth\":2},\"yaxis\":{\"backgroundcolor\":\"#E5ECF6\",\"gridcolor\":\"white\",\"linecolor\":\"white\",\"showbackground\":true,\"ticks\":\"\",\"zerolinecolor\":\"white\",\"gridwidth\":2},\"zaxis\":{\"backgroundcolor\":\"#E5ECF6\",\"gridcolor\":\"white\",\"linecolor\":\"white\",\"showbackground\":true,\"ticks\":\"\",\"zerolinecolor\":\"white\",\"gridwidth\":2}},\"shapedefaults\":{\"line\":{\"color\":\"#2a3f5f\"}},\"annotationdefaults\":{\"arrowcolor\":\"#2a3f5f\",\"arrowhead\":0,\"arrowwidth\":1},\"geo\":{\"bgcolor\":\"white\",\"landcolor\":\"#E5ECF6\",\"subunitcolor\":\"white\",\"showland\":true,\"showlakes\":true,\"lakecolor\":\"white\"},\"title\":{\"x\":0.05},\"mapbox\":{\"style\":\"light\"}}},\"xaxis\":{\"anchor\":\"y\",\"domain\":[0.0,1.0],\"title\":{\"text\":\"Cluster\"}},\"yaxis\":{\"anchor\":\"x\",\"domain\":[0.0,1.0],\"title\":{\"text\":\"Value [$1]\"}},\"legend\":{\"title\":{\"text\":\"variable\"},\"tracegroupgap\":0},\"title\":{\"text\":\"Mean Household Finances by Cluster\"},\"barmode\":\"group\"},                        {\"responsive\": true}                    ).then(function(){\n",
       "                            \n",
       "var gd = document.getElementById('05cae33a-70ca-4741-be2f-deea43d240f2');\n",
       "var x = new MutationObserver(function (mutations, observer) {{\n",
       "        var display = window.getComputedStyle(gd).display;\n",
       "        if (!display || display === 'none') {{\n",
       "            console.log([gd, 'removed!']);\n",
       "            Plotly.purge(gd);\n",
       "            observer.disconnect();\n",
       "        }}\n",
       "}});\n",
       "\n",
       "// Listen for the removal of the full notebook cells\n",
       "var notebookContainer = gd.closest('#notebook-container');\n",
       "if (notebookContainer) {{\n",
       "    x.observe(notebookContainer, {childList: true});\n",
       "}}\n",
       "\n",
       "// Listen for the clearing of the current output cell\n",
       "var outputEl = gd.closest('.output');\n",
       "if (outputEl) {{\n",
       "    x.observe(outputEl, {childList: true});\n",
       "}}\n",
       "\n",
       "                        })                };                });            </script>        </div>"
      ]
     },
     "metadata": {},
     "output_type": "display_data"
    }
   ],
   "source": [
    "# let's make a bar chart and see how our clusters differ.\n",
    "fig = px.bar(\n",
    "    xgb,\n",
    "    barmode=\"group\",\n",
    "    title=\"Mean Household Finances by Cluster\"\n",
    ")\n",
    "fig.update_layout(xaxis_title=\"Cluster\", yaxis_title=\"Value [$1]\")\n",
    "fig.show()"
   ]
  },
  {
   "cell_type": "markdown",
   "id": "89244fb8",
   "metadata": {},
   "source": [
    "* Observations: \n",
    "1. In every group, networth and Asset have almost similar values. \n",
    "2. Group 1 have higher value than their house price.\n",
    "3. In group 2, there is no 'debt' and having high assets and networth"
   ]
  },
  {
   "cell_type": "markdown",
   "id": "a129b14d",
   "metadata": {},
   "source": [
    "### Principal Component Analysis (PCA)"
   ]
  },
  {
   "cell_type": "markdown",
   "id": "476b2f80",
   "metadata": {},
   "source": [
    "Principal Component Analysis (PCA) is a `dimensionality reduction technique` that aims to capture the most significant variance in the data by transforming the original features into a new set of uncorrelated variables called principal components. In the context of clustering or K-means, PCA helps in reducing the number of features while retaining the essential information, which can enhance the efficiency and effectiveness of the clustering algorithm."
   ]
  },
  {
   "cell_type": "code",
   "execution_count": 60,
   "id": "06307672",
   "metadata": {},
   "outputs": [
    {
     "name": "stdout",
     "output_type": "stream",
     "text": [
      "X_pca shape: (3839, 2)\n"
     ]
    },
    {
     "data": {
      "text/html": [
       "<div>\n",
       "<style scoped>\n",
       "    .dataframe tbody tr th:only-of-type {\n",
       "        vertical-align: middle;\n",
       "    }\n",
       "\n",
       "    .dataframe tbody tr th {\n",
       "        vertical-align: top;\n",
       "    }\n",
       "\n",
       "    .dataframe thead th {\n",
       "        text-align: right;\n",
       "    }\n",
       "</style>\n",
       "<table border=\"1\" class=\"dataframe\">\n",
       "  <thead>\n",
       "    <tr style=\"text-align: right;\">\n",
       "      <th></th>\n",
       "      <th>PC1</th>\n",
       "      <th>PC2</th>\n",
       "    </tr>\n",
       "  </thead>\n",
       "  <tbody>\n",
       "    <tr>\n",
       "      <th>0</th>\n",
       "      <td>-2.200776e+06</td>\n",
       "      <td>-52203.388420</td>\n",
       "    </tr>\n",
       "    <tr>\n",
       "      <th>1</th>\n",
       "      <td>-2.199661e+06</td>\n",
       "      <td>-51758.270585</td>\n",
       "    </tr>\n",
       "    <tr>\n",
       "      <th>2</th>\n",
       "      <td>-2.201377e+06</td>\n",
       "      <td>-51523.670199</td>\n",
       "    </tr>\n",
       "    <tr>\n",
       "      <th>3</th>\n",
       "      <td>-2.199536e+06</td>\n",
       "      <td>-51694.929756</td>\n",
       "    </tr>\n",
       "    <tr>\n",
       "      <th>4</th>\n",
       "      <td>-2.200274e+06</td>\n",
       "      <td>-51950.025101</td>\n",
       "    </tr>\n",
       "  </tbody>\n",
       "</table>\n",
       "</div>"
      ],
      "text/plain": [
       "            PC1           PC2\n",
       "0 -2.200776e+06 -52203.388420\n",
       "1 -2.199661e+06 -51758.270585\n",
       "2 -2.201377e+06 -51523.670199\n",
       "3 -2.199536e+06 -51694.929756\n",
       "4 -2.200274e+06 -51950.025101"
      ]
     },
     "execution_count": 60,
     "metadata": {},
     "output_type": "execute_result"
    }
   ],
   "source": [
    "# Instantiate transformer\n",
    "pca = PCA(n_components=2, random_state=420)\n",
    "# Transform `X`\n",
    "X_t = pca.fit_transform(X)\n",
    "\n",
    "# Put `X_t` into DataFrame\n",
    "X_pca = pd.DataFrame(X_t, columns=[\"PC1\", \"PC2\"])\n",
    "\n",
    "print(\"X_pca shape:\", X_pca.shape)\n",
    "X_pca.head()"
   ]
  },
  {
   "cell_type": "code",
   "execution_count": 61,
   "id": "ba0987e2",
   "metadata": {},
   "outputs": [
    {
     "data": {
      "application/vnd.plotly.v1+json": {
       "config": {
        "plotlyServerURL": "https://plot.ly"
       },
       "data": [
        {
         "hovertemplate": "color=0<br>PC1=%{x}<br>PC2=%{y}<extra></extra>",
         "legendgroup": "0",
         "marker": {
          "color": "#636efa",
          "symbol": "circle"
         },
         "mode": "markers",
         "name": "0",
         "showlegend": true,
         "type": "scattergl",
         "x": [
          -2200775.9541859264,
          -2199661.1848588763,
          -2201377.023149908,
          -2199535.717115927,
          -2200274.0832134862,
          -2039687.7006604932,
          -2046318.1801600999,
          -2044933.2238499883,
          -2047678.565115657,
          -2047378.3280524556,
          -2205247.655116919,
          -2204381.9276905092,
          -2201775.268424465,
          -2203469.0829543974,
          -2200771.526480801,
          -2219672.448657535,
          -2219208.2180085904,
          -2219647.3551089433,
          -2219296.0454286607,
          -2219509.340591689,
          -1337522.708320901,
          -1339851.4449665486,
          -1339851.4449665486,
          -1338135.6066755056,
          -1339851.4449665486,
          -2206563.762820316,
          -2199173.111394536,
          -2205362.676016586,
          -2205178.545413186,
          -2201416.247947187,
          -2182406.282299945,
          -2183660.9597295253,
          -2182828.8016149653,
          -2183159.088757693,
          -2182155.346814029,
          -1977918.174825089,
          -1834884.947853021,
          -1911420.271057373,
          -1922712.3679235887,
          -2008030.433134998,
          -2208562.496162494,
          -2208317.3368206522,
          -2207643.176340773,
          -2208390.9123333897,
          -2208390.9123333897,
          -2252292.1823829478,
          -2252292.1823829478,
          -2252292.1823829478,
          -2252292.1823829478,
          -2252292.1823829478,
          -2207242.1163792396,
          -2210429.4649250344,
          -2212393.627731806,
          -2202320.1093809586,
          -2200616.8178642117,
          -2174816.5398885333,
          -2174816.5398885333,
          -2174816.5398885333,
          -2174988.123717638,
          -2174816.5398885333,
          -1644418.4791271891,
          -1644418.4791271891,
          -1644418.4791271891,
          -1642702.6408361462,
          -1646134.3174182319,
          -2246092.889207641,
          -2243028.397434618,
          -2241189.7023708033,
          -2243641.2957892222,
          -2247931.584271455,
          -1621244.8848275696,
          -1646982.459193212,
          -1660880.749350659,
          -1648698.297484255,
          -1634971.5911559123,
          -2265924.613889911,
          -2264230.7993599786,
          -2265297.275175121,
          -2264858.1380747682,
          -2260843.170300114,
          -2017028.2849342597,
          -2016409.421982729,
          -2015610.499438835,
          -2015861.4349247508,
          -2016735.6381144198,
          -2104370.5480429,
          -2103580.053569061,
          -2101550.9545146995,
          -2101108.773567588,
          -2101807.216594819,
          -2219373.219660325,
          -2219373.219660325,
          -2219373.219660325,
          -2219373.219660325,
          -2219373.219660325,
          -2212611.909396446,
          -2212611.909396446,
          -2212611.909396446,
          -2212611.909396446,
          -2212611.909396446,
          -1366802.5034531103,
          -1362383.3756038884,
          -1368530.5462703933,
          -1367349.812542329,
          -1370313.5145732386,
          23180798.45410177,
          7338230.300330072,
          4475857.536020588,
          7134514.111048237,
          20279870.550924476,
          -1844818.6697297345,
          -1815387.7915239225,
          -1825607.4155616818,
          -1807677.1413260505,
          -1787455.1746367326,
          -2219310.485788846,
          -2219310.485788846,
          -2219310.485788846,
          -2219310.485788846,
          -2219310.485788846,
          -2269731.213854441,
          -2266650.9461009656,
          -2266910.501419509,
          -2271484.5434310576,
          -2267368.4540475938,
          -2156489.579043651,
          -2154773.740752608,
          -2154773.740752608,
          -2154773.740752608,
          -2156489.579043651,
          -2117842.50463233,
          -2117842.50463233,
          -2117842.50463233,
          -2117842.50463233,
          -2119558.342923373,
          -2225102.176812292,
          -2222331.7419980317,
          -2227596.2488508592,
          -2232990.2544718813,
          -2231371.0930911535,
          -2209351.149161094,
          -2207463.727040947,
          -2211238.5712812413,
          -2203048.6635703817,
          -2209397.26524724,
          -2327778.3640621346,
          -2328615.928152472,
          -2324459.426733267,
          -2334265.3139974326,
          -2333278.900485991,
          -2218858.8019141974,
          -2218683.1470740563,
          -2218833.7083656057,
          -2219084.6438515214,
          -2219134.8309487044,
          -2212731.637422441,
          -2213589.556567962,
          -2212388.469764232,
          -2214275.8918843796,
          -2206211.451916478,
          -2236693.694483323,
          -2236693.694483323,
          -2236693.694483323,
          -2236693.694483323,
          -2236693.694483323,
          -2199997.1274870215,
          -2205157.189134446,
          -2211505.7908113045,
          -2208747.90277134,
          -2211162.6231530956,
          -2216942.8923055073,
          -2219853.544013133,
          -2219737.2654395443,
          -2220962.8681774586,
          -2221422.3144092555,
          -2185419.240294604,
          -2185419.240294604,
          -2185407.948197738,
          -2183529.00184085,
          -2185207.199809005,
          -2219185.018045888,
          -2219197.564820184,
          -2219197.564820184,
          -2219197.564820184,
          -2219197.564820184,
          -2196261.6680923062,
          -2194545.8298012638,
          -2194797.1181266517,
          -2197021.6620520167,
          -2196414.892680958,
          -1112552.6781440915,
          -1110460.4366241747,
          -1111879.223343155,
          -1110836.8398530483,
          -1110665.2560239444,
          -2192215.569967229,
          -2192282.5672807833,
          -2193582.345003351,
          -2193496.6442217696,
          -2190493.1811871883,
          -2207975.3300017873,
          -2216382.9376278976,
          -2208146.9138308917,
          -2214152.347849542,
          -2214495.51550775,
          -2199304.9863368273,
          -2197422.9701924585,
          -2199681.3895657016,
          -2199509.8057365967,
          -2199133.402507723,
          -1625270.0111310394,
          -1525897.2465847176,
          -1669424.4878996408,
          -1596622.2036068372,
          -1546967.8836461827,
          -1498385.1748597391,
          -1486127.2077676454,
          -1553546.0267741613,
          -1491153.251377254,
          -1533320.381072206,
          -2191782.6482115528,
          -2188978.310344257,
          -2186613.0434605,
          -2177050.4651168063,
          -2179380.4278659723,
          -2216926.5986726447,
          -2216932.8720597923,
          -2216926.5986726447,
          -2216945.418834088,
          -2216939.1454469403,
          -2219059.5503029297,
          -2219059.5503029297,
          -2219059.5503029297,
          -2219059.5503029297,
          -2219059.5503029297,
          -2231865.1082916916,
          -2175047.825282091,
          -2217655.2067493587,
          -2241680.2908272273,
          -2175248.573670824,
          -2219185.018045888,
          -2219185.018045888,
          -2219185.018045888,
          -2219185.018045888,
          -2219185.018045888,
          -1970499.2650083678,
          -2005794.7284836397,
          -2003465.991837992,
          -1967189.059689802,
          -2001873.0103197207,
          -1535277.439417309,
          -1516848.7497221173,
          -1536344.7692802423,
          -1522983.86225171,
          -1526971.9462476042,
          -1564993.4804973244,
          -1560825.7716860129,
          -1566341.8568774553,
          -1559599.9749768034,
          -1558987.0766221988,
          -2210072.7222852325,
          -2210072.7222852325,
          -2210072.7222852325,
          -2210072.7222852325,
          -2210072.7222852325,
          -2218570.226105394,
          -2218570.226105394,
          -2216060.871246235,
          -2218570.226105394,
          -2218570.226105394,
          -2219106.3997782054,
          -2219106.3997782054,
          -2219106.3997782054,
          -2219106.3997782054,
          -2219106.3997782054,
          -2165638.9211137267,
          -2163301.1500836723,
          -2157655.1016505645,
          -2165057.698485084,
          -2146191.4209552445,
          -2173414.697166332,
          -2173249.386724375,
          -2173414.697166332,
          -2173243.113337227,
          -2173243.113337227,
          -2211446.352302951,
          -2211446.352302951,
          -2211446.352302951,
          -2211446.352302951,
          -2211446.352302951,
          -2223055.5822186917,
          -2223055.5822186917,
          -2223055.5822186917,
          -2223055.5822186917,
          -2223055.5822186917,
          -2196384.7531918804,
          -2197494.110919068,
          -2198119.556047968,
          -2198088.0447086273,
          -2198113.1382572185,
          -2249481.4395436677,
          -2245910.581300105,
          -2255793.652273413,
          -2234425.310388713,
          -2247261.8457522723,
          24659783.10766754,
          24750479.127443228,
          24521558.365038242,
          24614638.271930136,
          24538398.966015883,
          -2213441.984582654,
          -2211738.5486623053,
          -2211732.2752751573,
          -2212841.4885987435,
          -2212829.0862280494,
          -1781267.658017768,
          -1781096.0741886634,
          -1781267.658017768,
          -1781096.0741886634,
          -1781096.0741886634,
          -1398475.975193033,
          -1398469.846209487,
          -1398475.975193033,
          -1398475.975193033,
          -1398475.975193033,
          -2218181.2761022244,
          -2218181.2761022244,
          -2218181.2761022244,
          -2218181.2761022244,
          -2218181.2761022244,
          -2239519.073895867,
          -2230224.2572784433,
          -2238228.200179419,
          -2230469.416620285,
          -2240499.711263235,
          -2109435.040088971,
          -2059516.526985269,
          -2126523.746679845,
          -2060233.5867060188,
          -2108611.2496771575,
          -2145259.743928736,
          -2150434.7407840136,
          -2153884.738687531,
          -2136634.7491699415,
          -2140084.7470734594,
          -2190933.402549566,
          -2193765.2817550437,
          -2189892.9193827566,
          -2191252.121399314,
          -2191106.16931767,
          -1861848.2457546066,
          -1860720.5959126893,
          -1871177.6026277088,
          -1863074.0424638162,
          -1857043.8985396868,
          -2206894.974124985,
          -2206833.6842895243,
          -2206723.390295881,
          -2206723.390295881,
          -2206723.390295881,
          -2105372.392400564,
          -2078451.1808855147,
          -2094911.907808749,
          -2094458.330348211,
          -2091055.5344864957,
          -2212821.2703299,
          -2212986.725175458,
          -2212815.141346354,
          -2212815.141346354,
          -2212992.8541590045,
          -2202081.130616763,
          -2201958.550945842,
          -2202142.4204522236,
          -2202081.130616763,
          -2202265.0001231446,
          -1749811.1817623365,
          -1749811.1817623365,
          -1749982.7655914407,
          -1749811.1817623365,
          -1749982.7655914407,
          -2149797.175076098,
          -2151519.2867542887,
          -2147763.4214385874,
          -2151519.2867542887,
          -2159978.4216135903,
          -2201707.1599442875,
          -2199629.0677877786,
          -1986356.470848904,
          -1983944.0662331656,
          -2019547.6612920214,
          -1978615.378942825,
          -1996884.208969224,
          -2239467.3837630525,
          -2237923.1293011135,
          -2242041.1411996162,
          -2242727.4765160335,
          -2242555.892686929,
          -2220080.491290286,
          -2220080.491290286,
          -2220080.491290286,
          -2220080.491290286,
          -2220080.491290286,
          -1314535.6252947594,
          -1308513.1736327773,
          -1312612.8990400217,
          -1314620.3829273486,
          -1311900.802692642,
          -719415.6979186172,
          -750717.3917774097,
          -746011.1914297813,
          -743682.4547841336,
          -754886.8788246434,
          -2213233.6638557664,
          -2213294.9536912264,
          -2213466.537520331,
          -2213294.9536912264,
          -2213233.6638557664,
          -2194944.7920399904,
          -2194944.7920399904,
          -2193228.9537489475,
          -2194944.7920399904,
          -2194944.7920399904,
          116714.50535494905,
          134237.21069476873,
          112966.9448693836,
          117936.74692986182,
          89625.41512765505,
          -1722652.32834558,
          -1718717.4420779408,
          -1715450.9432395631,
          -1718608.069926278,
          -1717742.300659342,
          -1895413.3851749443,
          -1896166.191632692,
          -1895398.9448147595,
          -1895915.2561467763,
          -1895116.333602882,
          27769837.92403905,
          27763317.73853309,
          27769837.92403905,
          27801237.764765136,
          27794374.411600962,
          -1758345.167743465,
          -1768103.496321154,
          -1758152.719045628,
          -1748054.0097735315,
          -1764490.284101023,
          -2048542.3869785476,
          -2063565.7595923545,
          -1955983.3633368064,
          -2078179.8129124392,
          -2088466.8882906204,
          -2044091.6667107583,
          -2059384.8763392265,
          -2027171.2130644892,
          -2065088.8273069574,
          -1988689.732335785,
          -2241560.300145331,
          -2241560.300145331,
          -2241437.72047441,
          -2241560.300145331,
          -2241560.300145331,
          -2203433.2088213293,
          -2203249.078217929,
          -2203249.078217929,
          -2203236.531443633,
          -2203433.2088213293,
          -1975412.0800313456,
          -1975412.0800313456,
          -1975240.4962022412,
          -1973696.2417403029,
          -1975240.4962022412,
          -2218984.269657155,
          -2218984.269657155,
          -2218984.269657155,
          -2218984.269657155,
          -2218984.269657155,
          -2052786.158522763,
          -2052786.158522763,
          -2055176.185003871,
          -2054563.2866492663,
          -2053399.0568773677,
          -2201714.6104969024,
          -2201714.6104969024,
          -2202155.925022403,
          -2201702.0637226067,
          -2201714.6104969024,
          -2191856.1109293913,
          -2217100.220812532,
          -2217043.615924599,
          -2202065.114195132,
          -2217096.149801495,
          -2217553.9373874343,
          -2217553.9373874343,
          -2217553.9373874343,
          -2217553.9373874343,
          -2217553.9373874343,
          -765534.3232260561,
          -731212.0153681937,
          -748973.5208774336,
          -785147.0705734061,
          -759392.7929057135,
          -1996809.2290022245,
          -1948422.589194817,
          -1948594.173023921,
          -1965409.388276141,
          -2001270.4085589359,
          -2170982.0463454733,
          -2170914.483122865,
          -2170804.1891292213,
          -2170749.172680909,
          -2170798.1768390923,
          -2131257.2206139504,
          -2126354.033777113,
          -2140450.6959330207,
          -2136160.4074507877,
          -2131870.1189685552,
          1529928.9796195154,
          1436659.3292920538,
          1438086.5917742932,
          1438853.8385922264,
          1502326.0761687658,
          -2118886.6910151006,
          -2117170.852724058,
          -2117170.852724058,
          -2117170.852724058,
          -2117170.852724058,
          -2219059.5503029297,
          -2219059.5503029297,
          -2219059.5503029297,
          -2219059.5503029297,
          -2219059.5503029297,
          -2132009.664296348,
          -2132622.562650952,
          -2132622.562650952,
          -2134338.4009419954,
          -2132622.562650952,
          2031643.2167436029,
          2031814.8005727073,
          2031643.2167436029,
          2033359.0550346458,
          2031643.2167436029,
          -2201816.7051273906,
          -2200444.0344945565,
          -2191864.843039342,
          -2196669.190254262,
          -2201988.288956495,
          -2175504.922669828,
          -2175504.922669828,
          -2173789.0843787855,
          -2175504.922669828,
          -2173789.0843787855,
          -2174160.7097116555,
          -2170790.3229650306,
          -2172506.161256073,
          -2172506.161256073,
          -2172512.290239619,
          -875463.3493329873,
          -875463.3493329873,
          -875463.3493329873,
          -875463.3493329873,
          -873747.5110419445,
          -1107390.2541468625,
          -1162746.622339912,
          -1301049.7154024648,
          -1055848.1053397348,
          -1378651.5144219596,
          -2093625.096430846,
          -2127639.1366593805,
          -2130531.5650232835,
          -2106571.720359756,
          -2088637.512744322,
          -2224753.72885668,
          -2222608.584615563,
          -2227389.1917814794,
          -2222486.004944642,
          -2222486.004944642,
          -2211329.582107905,
          -2211329.582107905,
          -2211329.582107905,
          -2211329.582107905,
          -2211329.582107905,
          -2121773.194737012,
          -2121790.353119923,
          -2120018.236249978,
          -2119405.337895373,
          -2121121.176186416,
          -2190829.3081373903,
          -2197592.0194828236,
          -2190954.775880348,
          -2191205.711366264,
          -2196952.1339937383,
          -2050637.1868941854,
          -1890903.5216815455,
          -2061825.0258920577,
          -1959130.6795045277,
          -1881942.428375345,
          -2187724.0829094932,
          -2188251.047429917,
          -2174668.2488412703,
          -2186213.0640182206,
          -2197851.5998376827,
          -2170978.6123517975,
          -2170978.6123517975,
          -2170059.2648198903,
          -2173123.479491064,
          -2172204.131959157,
          -2120624.4496324523,
          -2124333.8587851455,
          -2124421.686205216,
          -2126146.685156975,
          -2120611.9028581567,
          -2209312.5076146508,
          -2209484.091443755,
          -2209312.5076146508,
          -2209484.091443755,
          -2209312.5076146508,
          -2219886.607135777,
          -2219715.023306673,
          -2219886.607135777,
          -2219886.607135777,
          -2219886.607135777,
          -2222527.078275844,
          -2222527.078275844,
          -2222527.078275844,
          -2222527.078275844,
          -2222527.078275844,
          -2188525.1763387653,
          -2188525.1763387653,
          -2186809.3380477224,
          -2188525.1763387653,
          -2186809.3380477224,
          -2227629.1959954435,
          -2227457.612166339,
          -2227629.1959954435,
          -2227457.612166339,
          -2227629.1959954435,
          -2198783.1601678105,
          -2197079.8686510636,
          -2198783.1601678105,
          -2198783.1601678105,
          -2198783.1601678105,
          943920.0800263298,
          -323178.6561060515,
          -372738.4145744434,
          -454292.4474971138,
          704402.1587195946,
          459184.98925499275,
          515176.27939095354,
          466858.22726297786,
          465362.00710274704,
          500468.1043896921,
          -931560.5008341951,
          -917096.653869225,
          -930407.4483321721,
          -922981.3093789808,
          -925800.0876064616,
          -2218181.2761022244,
          -2218181.2761022244,
          -2218181.2761022244,
          -2218181.2761022244,
          -2218181.2761022244,
          977787.2660996877,
          974109.8759720599,
          976561.4693904783,
          973006.9360356214,
          973006.9360356214,
          -2130991.385857957,
          -2130991.385857957,
          -2132707.224149,
          -2130378.4875033526,
          -2132707.224149,
          -1883523.203248978,
          -1880581.845350576,
          -1881684.7852870147,
          -1882052.524299777,
          -1882175.103970698,
          -2228006.8311719242,
          -2228006.8311719242,
          -2228006.8311719242,
          -2228006.8311719242,
          -2228019.3779462203,
          -2216573.0463030394,
          -2216585.593077335,
          -2216573.0463030394,
          -2216573.0463030394,
          -2216573.0463030394,
          -2206126.7465057755,
          -2206298.33033488,
          -2206126.7465057755,
          -2206126.7465057755,
          -2206126.7465057755,
          -1319364.6335629716,
          -1326227.9867271434,
          -1326227.9867271434,
          -1319303.3437275114,
          -1326227.9867271434,
          -2200970.104391849,
          -2201869.857417389,
          -2202066.2736980654,
          -2202911.7846202166,
          -2201931.1472528493,
          -2138637.4288145215,
          -2140594.0943393502,
          -2148127.955705654,
          -2149418.66371149,
          -2149421.2746816766,
          -2186535.08635789,
          -2186572.726680778,
          -2186748.381520919,
          -2186710.741198031,
          -2186723.2879723273,
          -2203625.4814468035,
          -2203453.897617699,
          -2203453.897617699,
          -2203466.4443919943,
          -2203453.897617699,
          -1877301.7476607864,
          -1953949.290185903,
          -1893064.1938880605,
          -1965184.2795721865,
          -1927558.88517749,
          -2218808.614817014,
          -2219109.737400113,
          -2219222.658368775,
          -2219373.219660325,
          -2218758.427719831,
          -2179318.555290562,
          -2179318.555290562,
          -2179318.555290562,
          -2179318.555290562,
          -2179318.555290562,
          -1923352.2309987554,
          -1922739.3326441508,
          -1922739.3326441508,
          -1923352.2309987554,
          -1922739.3326441508,
          -2219185.018045888,
          -2219172.4712715917,
          -2219197.564820184,
          -2219172.4712715917,
          -2219185.018045888,
          -610970.3742311861,
          -610970.3742311861,
          -610970.3742311861,
          -609254.5359401435,
          -610970.3742311861,
          -1926810.2447038947,
          -1938814.9837576486,
          -1953043.8947990083,
          -1940003.234979879,
          -1937779.351799477,
          -2222948.791557568,
          -2222948.791557568,
          -2222948.791557568,
          -2222948.791557568,
          -2222955.064944716,
          -2181498.2315434557,
          -2181498.2315434557,
          -2181498.2315434557,
          -2181498.2315434557,
          -2181498.2315434557,
          -2219140.671125047,
          -2219140.671125047,
          -2219140.671125047,
          -2219140.671125047,
          -2219140.671125047,
          -2218493.69078219,
          -2218318.0359420488,
          -2218405.863362119,
          -2218180.0214247946,
          -2218556.424653669,
          -2225075.6128803147,
          -2225075.6128803147,
          -2225075.6128803147,
          -2225075.6128803147,
          -2225075.6128803147,
          -2215634.660355897,
          -1776325.976173953,
          -2215463.076526793,
          -2215463.076526793,
          -2215463.076526793,
          -2219434.6988543742,
          -2219434.6988543742,
          -2219434.6988543742,
          -2219434.6988543742,
          -2219434.6988543742,
          -2223509.6366112605,
          -2223509.6366112605,
          -2223509.6366112605,
          -2223509.6366112605,
          -2223509.6366112605,
          -2094127.0263108658,
          -2097012.7843988987,
          -2101027.752173553,
          -2101563.1924572354,
          -2121559.8470528102,
          -833966.0581513171,
          -843060.0010938441,
          -847349.5968214513,
          -845976.9261886169,
          -833966.0581513171,
          -2240725.0235862117,
          -2240725.0235862117,
          -2240725.0235862117,
          -2240725.0235862117,
          -2240725.0235862117,
          -1845156.5525290703,
          -1847414.9719023134,
          -1845407.488014986,
          -1843691.6497239438,
          -1843817.1174669014,
          -2030170.7925608107,
          -2030342.376389915,
          -2030170.7925608107,
          -2030183.3393351065,
          -2028467.5010440636,
          -2019547.615308812,
          -2013715.9646305146,
          -1743243.4441291383,
          -1899192.4507944027,
          -1799285.5462730483,
          -2080053.6828216217,
          -2085446.911240293,
          -2085446.911240293,
          -2082505.276240041,
          -2086672.7079495022,
          -2219435.9535318036,
          -2219435.9535318036,
          -2219435.9535318036,
          -2219435.9535318036,
          -2219435.9535318036,
          -2214049.600187129,
          -2211251.6695191665,
          -2214187.6147043826,
          -2213196.419535015,
          -2214200.1614786787,
          -2186507.1660035755,
          -2186507.1660035755,
          -2184797.4566960786,
          -2184184.558341474,
          -2186513.2949871216,
          -2097611.4348677625,
          -2099327.273158805,
          -2114769.8177781906,
          -2095895.5965767195,
          -2095895.5965767195,
          -2218440.4262543805,
          -2218427.879480085,
          -2218427.879480085,
          -2218440.4262543805,
          -2218427.879480085,
          -2212166.698837945,
          -2211995.1150088403,
          -2211995.1150088403,
          -2212166.698837945,
          -2212166.698837945,
          -2215044.5825282754,
          -2218118.5422307453,
          -2216989.3325441233,
          -2217993.0744877877,
          -2218043.2615849706,
          -2149342.622921526,
          -2149342.622921526,
          -2149281.3330860655,
          -2149342.622921526,
          -2147626.784630483,
          -1359266.6237474433,
          -1370664.5934301382,
          -1372993.330075786,
          -1367232.9168480528,
          -1376425.0066578717,
          -2186291.8027096745,
          -2170694.292046517,
          -2175360.6247441834,
          -2174774.663622133,
          -2191171.4305703687,
          -2222075.651854261,
          -2221101.143470439,
          -2221223.72314136,
          -2220727.2754741306,
          -2221101.143470439,
          -2203371.221695826,
          -2202268.281759388,
          -2203984.1200504308,
          -2202268.281759388,
          -2203365.0927122794,
          -2147621.080380632,
          -2147771.641672182,
          -2148005.9593727645,
          -2147834.3755436605,
          -2148005.9593727645,
          -2206303.1575823133,
          -2208448.3018234298,
          -2208938.620507113,
          -2205316.3912313995,
          -2205567.6795567875,
          -2061047.0053973412,
          -2062934.4275174881,
          -2062946.9742917842,
          -2062162.4921080754,
          -2060459.2005913286,
          -2206110.3989798576,
          -2205791.4030282595,
          -2205129.7616124903,
          -2203548.4838576103,
          -2207397.4855245277,
          -2219260.2986916625,
          -2219247.751917367,
          -2219366.946273177,
          -2219348.126111733,
          -2219360.6728860294,
          -2205105.4217702793,
          -2199789.660479899,
          -2199584.8410801296,
          -2201671.6766242683,
          -2202951.641023237,
          -2217759.241964807,
          -2220823.73373783,
          -2220823.73373783,
          -2214688.6212082375,
          -2220823.73373783,
          -2213257.6810066197,
          -2213257.6810066197,
          -2213257.6810066197,
          -2213257.6810066197,
          -2213257.6810066197,
          -2219435.9535318036,
          -2219435.9535318036,
          -2219435.9535318036,
          -2219435.9535318036,
          -2219435.9535318036,
          -2203463.909853256,
          -2203470.183240404,
          -2205979.5380995627,
          -2203457.6364661083,
          -2207861.554243932,
          -2164211.387850001,
          -2164161.200752818,
          -2145199.152131276,
          -2155791.2334495955,
          -2142064.527121253,
          -2219937.650168183,
          -2219937.650168183,
          -2219937.650168183,
          -2219937.650168183,
          -2219937.650168183,
          -2204655.4360812046,
          -2204404.500595289,
          -2206411.9844826157,
          -2205408.2425389523,
          -2204780.9038241627,
          -1122397.4763350615,
          -1120054.2993292287,
          -1118006.105331533,
          -1119637.1859899866,
          -1119511.7182470283,
          4825335.08305862,
          4795222.824748712,
          4847277.497716077,
          4832221.368561123,
          4911114.309131492,
          420165.4603230261,
          228699.99966722616,
          -95366.58450065514,
          244205.93341969379,
          -52243.30590230885,
          -2209794.7198910518,
          -2211510.5581820942,
          -2209794.7198910518,
          -2209794.7198910518,
          -2209794.7198910518,
          -2219434.6988543742,
          -2219434.6988543742,
          -2219434.6988543742,
          -2219434.6988543742,
          -2219434.6988543742,
          -2216064.2274029898,
          -2210459.890303806,
          -2213232.7274231766,
          -2215102.1967932503,
          -2215905.1903481814,
          -1866704.3982751316,
          -1760085.4507388906,
          -1773549.6353818018,
          -1749147.4272025554,
          -1877950.8588471278,
          -2183551.5776802725,
          -2211091.7472595433,
          -2195019.329386629,
          -2211217.215002501,
          -2188620.4744957737,
          -1809178.1369500393,
          -1815184.2637233154,
          -1816839.3663825984,
          -1812671.6575712864,
          -1817145.5384580507,
          -2202792.322108688,
          -2202792.322108688,
          -2202792.322108688,
          -2202792.322108688,
          -2202792.322108688,
          -2126604.9505713987,
          -2114823.5295076473,
          -2139166.6141470843,
          -2132039.865051739,
          -2135486.976270102,
          -2181583.790700164,
          -2184329.131965833,
          -2186044.9702568757,
          -2180382.703896434,
          -2166484.4137389874,
          -2212951.8737762794,
          -2212265.5384598626,
          -2211579.2031434453,
          -2210378.116339715,
          -2212608.706118071,
          -2173710.3664894034,
          -2138364.0976939206,
          -2185378.0668684943,
          -2162900.5852558333,
          -2150031.7980730124,
          -2216360.549793315,
          -2216360.549793315,
          -2216360.549793315,
          -2216360.549793315,
          -2216360.549793315,
          -2157620.1304867305,
          -2155726.5516728526,
          -1950419.4981242002,
          -1957187.372673185,
          -1969415.178399542,
          -1942100.7686111154,
          -1944878.7009297912,
          -2169641.084637678,
          -2169592.341576514,
          -2169653.6314119743,
          -2169812.6684667827,
          -2169653.6314119743,
          -614301.9202300314,
          -642742.3877711187,
          -636635.1784765472,
          -612209.6787101147,
          -627601.5009835745,
          -1678901.6603542303,
          -1680156.33778381,
          -1758886.5200297514,
          -1680156.33778381,
          -1662113.2404149352,
          -2200565.1176454434,
          -2200577.664419739,
          -2200565.1176454434,
          -2200558.8442582954,
          -2198861.826128696,
          -2197559.6388001707,
          -2208920.8900019596,
          -2196028.50132106,
          -2202707.1536732996,
          -2201664.9493686208,
          -2218018.263422785,
          -2218018.263422785,
          -2218018.263422785,
          -2218018.263422785,
          -2218018.263422785,
          -2218083.5652049594,
          -2218083.5652049594,
          -2218083.5652049594,
          -2218083.5652049594,
          -2218083.5652049594,
          -1827205.3080243224,
          -1827211.437007868,
          -1827211.437007868,
          -1827205.3080243224,
          -1827205.3080243224,
          -2195860.937958482,
          -2197307.888013535,
          -2196680.549298746,
          -2196990.1476451037,
          -2197470.9960793806,
          -2180441.339047216,
          -2180269.755218112,
          -2180441.339047216,
          -2180269.755218112,
          -2178725.500756173,
          -2217679.4051303924,
          -2219122.2841744088,
          -2211280.5502395364,
          -2215546.4535001074,
          -2218896.4422370847,
          -2219059.5503029297,
          -2219059.5503029297,
          -2219059.5503029297,
          -2219059.5503029297,
          -2219059.5503029297,
          -2211277.2439717664,
          -2211277.2439717664,
          -2211277.2439717664,
          -2211277.2439717664,
          -2211277.2439717664,
          -2236313.1814704575,
          -2236313.1814704575,
          -2236313.1814704575,
          -2236141.597641353,
          -2236313.1814704575,
          -2215124.2199520958,
          -2214511.321597491,
          -2214498.774823195,
          -2216840.0582431387,
          -2214511.321597491,
          -1970441.0245716253,
          -1968725.1862805823,
          -1970441.0245716253,
          -1968112.287925977,
          -1970441.0245716253,
          -2164375.9570706342,
          -2167613.3030547365,
          -2164842.8682404766,
          -2163009.4154213457,
          -2164869.686020392,
          -2215615.113666386,
          -2209497.6144042416,
          -2217237.530108729,
          -2211573.608307122,
          -2213750.970890516,
          -2182250.879003537,
          -2182255.490612151,
          -2194118.206590405,
          -2180404.047036358,
          -2181380.4130837196,
          -1374980.6547639065,
          -1747580.4283438537,
          -1650980.4870453489,
          -1461230.6023518571,
          -1692380.4618875647,
          -2196177.686201045,
          -2196365.887815482,
          -2193520.839837817,
          -2185992.77526034,
          -2196064.765232383,
          -2115911.79927063,
          -2115740.2154415254,
          -2115740.2154415254,
          -2115740.2154415254,
          -2115911.79927063,
          -2187238.6441157656,
          -2189126.066235913,
          -2189126.066235913,
          -2189126.066235913,
          -2187238.6441157656,
          -2227379.3861259283,
          -2222752.7517236588,
          -2227728.6827676827,
          -2214853.7666013152,
          -2227728.6827676827,
          -2204462.3922252674,
          -2195711.616940949,
          -2202047.6718435115,
          -2202060.218617807,
          -2199817.0820651557,
          -1973465.7687539908,
          -1973465.7687539908,
          -1975175.4780614877,
          -1974568.708690429,
          -1974550.0329325874,
          -2243202.4188801516,
          -2246270.7932113595,
          -2240555.5944400155,
          -2262146.9449543227,
          -2237716.0455045747,
          -2207391.0502078403,
          -2207391.0502078403,
          -2207516.517950798,
          -2207391.0502078403,
          -2207391.0502078403,
          -576272.234461879,
          74190.79062069368,
          -892941.5715278479,
          -624296.2131440624,
          387150.99143593694,
          -2223234.6686529233,
          -2223173.378817463,
          -2223173.378817463,
          -2223234.6686529233,
          -2223234.6686529233,
          -2301886.6418229295,
          -2300061.660467579,
          -2322689.879424938,
          -2308949.2408130476,
          -2303186.275141895,
          -2179020.899939157,
          -2207298.3830231866,
          -2199612.173753235,
          -2205607.6382807354,
          -2206083.239502384,
          -2204804.644725804,
          -2212209.809391351,
          -2212084.341648393,
          -2212518.5049940147,
          -2212405.5840253523,
          -2212420.7577746664,
          15881457.351073753,
          15881457.351073753,
          15881457.351073753,
          15879741.512782712,
          15881457.351073753,
          -191252.9800946363,
          -1672885.2591051226,
          -1463184.0816509654,
          -201786.39855251333,
          -1267334.5240644093,
          -2211058.461786951,
          -2211058.461786951,
          -2211058.461786951,
          -2211058.461786951,
          -2211058.461786951,
          -1466246.1507049615,
          -1465461.6685212527,
          -1466074.5668758573,
          -1467349.0906414,
          -1469334.6596288385,
          -2212300.642344162,
          -2210419.493611162,
          -2212821.6672186223,
          -2213673.312976996,
          -2212643.8100023703,
          -2236992.0243807915,
          -2237368.427609666,
          -2236577.9808290303,
          -2237481.3485783273,
          -2236590.527603326,
          -2165708.1782187643,
          -2163820.7560986173,
          -2163882.045934078,
          -2163820.7560986173,
          -2165536.5943896603,
          197234.88004910265,
          172141.33145751187,
          110662.13740811424,
          -31116.41213437439,
          113344.77658949421,
          -2203488.6498685493,
          -2203488.6498685493,
          -2203488.6498685493,
          -2203488.6498685493,
          -2203488.6498685493,
          253312.78489010432,
          255022.62689584945,
          253919.40985756108,
          253306.51150295645,
          256248.42360505895,
          -2219434.6988543742,
          -2219434.6988543742,
          -2219434.6988543742,
          -2219434.6988543742,
          -2219434.6988543742,
          -2184267.16772844,
          -2185125.225424886,
          -2186779.7738804687,
          -2186301.713163877,
          -2183225.240525612,
          -1848503.3530554292,
          -1850219.1913464724,
          -1848503.3530554292,
          -1849606.2929918675,
          -1849606.2929918675,
          -2169081.5542561477,
          -2191091.110630761,
          -2181053.691194124,
          -2194849.013935953,
          -2194855.1429194994,
          -2213178.0097260224,
          -2213006.425896918,
          -2212945.136061458,
          -2213178.0097260224,
          -2213190.556500318,
          -1141887.9532898683,
          -1333938.1903532422,
          -1204678.9934899705,
          -1339861.7032420228,
          -1148829.5188727106,
          -1834316.8545212976,
          -1850634.6251563262,
          -1797554.3540579209,
          -1855151.4729601808,
          -1891669.6244144894,
          -1693744.1228757207,
          -1675556.2369906665,
          -1686359.8892406903,
          -1667663.3808518692,
          -1685679.6829078193,
          -1912935.5129967958,
          -1912874.2231613356,
          -1912935.5129967958,
          -1912929.239609648,
          -1912916.6928353524,
          -1440806.155435288,
          -1439090.3171442451,
          -1439090.3171442451,
          -1440806.155435288,
          -1440806.155435288,
          -1626384.6145578446,
          -1620731.4253262188,
          -1621738.0497203036,
          -1652044.8509372242,
          -1656528.4826869564,
          -2140558.3520198003,
          -2147300.233920452,
          -2173588.0473008184,
          -2143610.297018528,
          -2154285.058348143,
          -2214352.1941884067,
          -2214352.1941884067,
          -2214352.1941884067,
          -2214352.1941884067,
          -2214352.1941884067,
          -2349095.8346919646,
          -2352445.823428942,
          -2351369.870626984,
          -2346370.5646422217,
          -2352681.1423530807,
          -1514777.3535231552,
          -1515013.8486488864,
          -1513855.7582418947,
          -1517217.117551576,
          -1517257.827661944,
          -1445432.934466249,
          -1448644.908685973,
          -1448905.3211587036,
          -1445266.7566129228,
          -1438742.4339791094,
          5281435.6311540855,
          5701823.863484877,
          5009875.090095335,
          5686368.772091196,
          4632084.580109443,
          -1516678.559926347,
          -1512281.7829470406,
          -1513523.9136023244,
          -1513523.9136023244,
          -1513536.46037662,
          -1733113.5033571015,
          -1734004.324332103,
          -1733853.763040553,
          -1733841.2162662572,
          -1733816.122717666,
          -2014094.1584395748,
          -1984204.5714163613,
          -1986368.7074684727,
          -1964069.1888385636,
          -1951376.0181221766,
          -2098593.030288033,
          -2136254.3757129745,
          -2142490.122537985,
          -2132640.9047157853,
          -2142540.309635168,
          -2179623.7732135546,
          -2174667.3975087167,
          -2195035.150826201,
          -2196961.214492791,
          -2169262.741457896,
          -2221159.571043674,
          -2220503.797514432,
          -2220699.8972777203,
          -2220932.826362655,
          -2220583.446590346,
          822889.2857014122,
          822889.2857014122,
          822889.2857014122,
          821173.4474103693,
          822889.2857014122,
          -2177345.3323968947,
          -2179067.444075085,
          -2177351.6057840427,
          -2179061.1706879376,
          -2179061.1706879376,
          -2146756.8778436533,
          -2138006.1025593346,
          -2148524.1912834276,
          -2143668.368919776,
          -2141437.77914142,
          -2204428.8087429195,
          -2204943.560230232,
          -2204771.976401128,
          -2199452.877698895,
          -2193447.443680245,
          -2200375.1994218216,
          -2200375.1994218216,
          -2200375.1994218216,
          -2200375.1994218216,
          -2200375.1994218216,
          -1881216.3822058074,
          -1896114.098623805,
          -1818449.82682985,
          -1795531.4884587054,
          -1867836.7391485635,
          -1941678.433354539,
          -1941506.8495254351,
          -1938370.1559514862,
          -1937281.6563752329,
          -1942300.3660935515,
          -1492637.8049040106,
          -1542393.1427224842,
          -1558328.222840356,
          -1482941.7252239794,
          -1542282.57162699,
          -2146912.78500968,
          -2146912.78500968,
          -2145196.946718637,
          -2146912.78500968,
          -2146912.78500968,
          -2146427.7379458235,
          -2148143.5762368664,
          -2148143.5762368664,
          -2148143.5762368664,
          -2146427.7379458235,
          -1502397.6933833815,
          -1501598.7708394874,
          -1500983.9788989935,
          -1501572.6760673402,
          -1504442.8175935964,
          -2091409.8007280387,
          -2091409.8007280387,
          -2093113.0922447857,
          -2091397.253953743,
          -2093125.6390190814,
          -2240042.6547320294,
          -2233392.8643552577,
          -2240481.791832382,
          -2240531.9789295653,
          -2239911.0580055253,
          -1763711.366265512,
          -1732950.5193087643,
          -1677747.8678842664,
          -1723732.3340842144,
          -1792880.6172132406,
          -1841942.7992609593,
          -1881617.775151417,
          -1774667.8401423574,
          -1948892.734270018,
          -1819517.8128880921,
          -2212579.1529603265,
          -2212972.173974533,
          -2213034.9078460117,
          -2213034.9078460117,
          -2213034.9078460117,
          -2217679.4051303924,
          -2216675.6631867285,
          -2217804.87287335,
          -2218055.8083592663,
          -2218055.8083592663,
          -1740631.2745491955,
          -1738915.4362581526,
          -1738915.4362581526,
          -1738915.4362581526,
          -1738915.4362581526,
          -2207731.6655036276,
          -2205402.9288579803,
          -2205402.9288579803,
          -2207118.7671490232,
          -2205402.9288579803,
          -1722782.2387065205,
          -1839322.2834215928,
          -1763574.1476203443,
          -1728303.017129363,
          -1714431.8127171698,
          -2197079.3605744257,
          -2195175.3206689456,
          -2201637.177055652,
          -2195899.963790621,
          -2196778.237991327,
          850239.0254347353,
          824624.3078418641,
          806460.4391076639,
          825114.3494236977,
          829893.2939785124,
          -2191156.0300536593,
          -2191688.9745203154,
          -2190083.4579331013,
          -2191492.8470468414,
          -2190543.1316990545,
          -2219435.9535318036,
          -2219435.9535318036,
          -2219435.9535318036,
          -2219435.9535318036,
          -2219435.9535318036,
          7056221.142698609,
          7329219.735392963,
          7355000.481417787,
          7090992.571379308,
          7483928.916426358,
          -2181974.020903755,
          -2181974.020903755,
          -2181974.020903755,
          -2182035.310739215,
          -2181974.020903755,
          -1872344.9241871105,
          -1862599.7017979708,
          -1851472.848320923,
          -1869918.871979722,
          -1849758.1184372813,
          -2226206.8010269594,
          -2226035.217197855,
          -2226206.8010269594,
          -2226035.217197855,
          -2226206.8010269594,
          -2129512.685033147,
          -2129512.685033147,
          -2129512.685033147,
          -2129512.685033147,
          -2129512.685033147,
          -2218369.477716661,
          -2218356.9309423654,
          -2218356.9309423654,
          -2218356.9309423654,
          -2218369.477716661,
          -2129147.4774268423,
          -2127431.6391358,
          -2127431.6391358,
          -2129147.4774268423,
          -2127431.6391358,
          -2109362.2402944504,
          -2105912.2423909325,
          -2095562.2486803785,
          -2107637.2413426912,
          -2102462.244487414,
          -2186415.02459071,
          -2186415.02459071,
          -2186415.02459071,
          -2186415.02459071,
          -2186415.02459071,
          -1948391.0716740708,
          -1946503.6495539234,
          -1946675.233383028,
          -1951651.1644270518,
          -1947704.7363576537,
          -2215153.0221404633,
          -2215085.315838246,
          -2222218.0413279566,
          -2217841.110684613,
          -2211755.4482191214,
          -2219115.0639943164,
          -2219115.0639943164,
          -2219115.0639943164,
          -2219115.0639943164,
          -2219115.0639943164,
          -2153969.0685180835,
          -2153574.603467859,
          -2154330.6508371155,
          -2152892.103901154,
          -2153403.0196387544,
          -1298726.5701967299,
          -1298726.5701967299,
          -1298726.5701967299,
          -1298726.5701967299,
          -1298726.5701967299,
          -2204421.460185062,
          -2210083.7265455034,
          -2204936.211672375,
          -2200646.615944768,
          -2203906.7086977493,
          -2219434.6988543742,
          -2219434.6988543742,
          -2219434.6988543742,
          -2219434.6988543742,
          -2219434.6988543742,
          -1813007.4825290474,
          -1823068.3356556627,
          -1812941.8249189733,
          -1817344.187059486,
          -1802476.59621028,
          -2077184.9089782785,
          -2075738.8013836315,
          -2072797.3049343047,
          -2070787.3031432363,
          -2073924.9547762221,
          -2319022.364214373,
          -2320258.864013916,
          -2320273.2544721738,
          -2319794.299623786,
          -2321497.2074974207,
          -1983283.4463880914,
          -1983344.7362235521,
          -1983344.7362235521,
          -1983406.0260590126,
          -1981457.314103405,
          -1920437.5115033826,
          -1920376.221667922,
          -1920376.221667922,
          -1920082.058167897,
          -1920204.6378388177,
          -2217208.5319157625,
          -2217245.305817039,
          -2217591.0641281824,
          -2216982.1123640314,
          -2216825.9997033426,
          362704.55764018686,
          462081.87607951474,
          434557.3230620206,
          694902.8896997761,
          351483.23686366976,
          -2209369.653374797,
          -2209185.7838684157,
          -2208809.380639542,
          -2206492.559502875,
          -2210408.692505588,
          -2149446.707226056,
          -2148343.767289618,
          -2149201.6864351397,
          -2159055.401655896,
          -2156310.0603902275,
          -1389212.8828171545,
          -1383027.3507995126,
          -1377002.98190552,
          -1374576.1404431625,
          -1388806.4149592218,
          -1656766.75153689,
          -459146.80891841516,
          -989502.7514548559,
          -1212004.8487132543,
          -1350966.7277501693,
          -2219285.392240254,
          -2219348.126111733,
          -2218934.082559972,
          -2219323.0325631415,
          -2219097.1906258175,
          -2207159.7096484024,
          -2207159.7096484024,
          -2207159.7096484024,
          -2207159.7096484024,
          -2207159.7096484024,
          -1871660.931492976,
          -1871832.5153220799,
          -1871660.931492976,
          -1871660.931492976,
          -1871832.5153220799,
          -2214542.711556443,
          -2216048.324471939,
          -2215671.921243065,
          -2215044.5825282754,
          -2215295.518014191,
          -1780123.198338822,
          -2154691.1973469444,
          -2154691.1973469444,
          -2154691.1973469444,
          -2154691.1973469444,
          -2154691.1973469444,
          -2180479.329653676,
          -2180356.4728809046,
          -2180479.329653676,
          -2180479.329653676,
          -2182195.167944719,
          -2218959.1761085633,
          -2218959.1761085633,
          -2218959.1761085633,
          -2218959.1761085633,
          -2218959.1761085633,
          -1459160.8420194665,
          -1457445.0037284237,
          -1459160.8420194665,
          -1457445.0037284237,
          -1459160.8420194665,
          -1572402.1763896944,
          -1572448.2924758412,
          -1567555.050500481,
          -1567555.050500481,
          -1568809.7279300601,
          -2021747.6747718141,
          -2022056.8303057095,
          -2021081.2516981184,
          -2021996.2634780172,
          -2021442.0279838548,
          -1141413.081603437,
          -1160274.7560306124,
          -1136780.3182176212,
          -1156843.0794485265,
          -1135064.4799265782,
          -2152513.392611213,
          -2152513.392611213,
          -2152513.392611213,
          -2152513.392611213,
          -2152341.8087821086,
          -2174476.730148242,
          -2172147.993502594,
          -2172760.891857199,
          -2172147.993502594,
          -2172147.993502594,
          -2089866.66817711,
          -2104847.612556467,
          -2082154.0176128359,
          -2106003.937442106,
          -2119769.729453347,
          -2117653.344761218,
          -2112173.474181437,
          -2113889.31247248,
          -2115785.768977034,
          -2116579.2855451503,
          -2166599.6136016105,
          -2165247.631765146,
          -2165699.3156397943,
          -2168155.413614289,
          -2169011.6640538843,
          -2211613.056294554,
          -2211441.47246545,
          -2211441.47246545,
          -2211441.47246545,
          -2211613.056294554,
          -2229688.6690186486,
          -2229688.6690186486,
          -2229682.5400351025,
          -2229682.5400351025,
          -2229682.5400351025,
          -1753883.9938482214,
          -1758322.2143270257,
          -1747030.1174608096,
          -1753883.9938482214,
          -1737573.1872636876,
          -2189600.053046456,
          -2189600.053046456,
          -2189600.053046456,
          -2189600.053046456,
          -2189600.053046456,
          -754818.6439599703,
          -755505.0901171278,
          -755443.8002816669,
          -756608.0300535656,
          -755566.3799525879,
          -2220507.5618260014,
          -2220507.5618260014,
          -2220507.5618260014,
          -2220507.5618260014,
          -2220507.5618260014,
          -2215408.438982853,
          -2215414.7123700012,
          -2215408.438982853,
          -2215408.438982853,
          -2215414.7123700012,
          -1726083.8609342813,
          -1730251.2926437422,
          -1724612.3506795291,
          -1725341.9768233588,
          -1733805.8259985994,
          -820971.7806122302,
          -863381.2126967596,
          -791334.9616037053,
          -761299.9832295671,
          -775276.1610025722,
          -2205976.2036569878,
          -2205976.2036569878,
          -2205976.2036569878,
          -2205804.619827883,
          -2205798.4908443373,
          -2157291.388323172,
          -2158835.6427851105,
          -2159007.226614215,
          -2159001.0976306684,
          -2159007.226614215,
          -1448893.891567178,
          -1454212.9902694111,
          -1455585.6609022454,
          -1449237.0592253867,
          -1456786.747705975,
          -1423560.9978866938,
          -1423560.9978866938,
          -1424780.6656123574,
          -1423732.5817157982,
          -1423701.936798068,
          -2212387.614734746,
          -2212289.5509980097,
          -2212448.904570207,
          -2212326.3248992856,
          -2212510.1944056675,
          -2169508.4688041816,
          -2168889.1526588267,
          -2167033.4062646413,
          -2169453.3079522667,
          -2170833.453124804,
          -1725369.8286197502,
          -1732233.1817839216,
          -1732233.1817839216,
          -1750077.9000107674,
          -1735664.8583660072,
          -1493196.5058154017,
          -1502184.067222228,
          -1497879.5224152145,
          -1501728.3123365429,
          -1057387.4847919093,
          -2208018.3889226294,
          -2208018.3889226294,
          -2208143.8566655875,
          -2208018.3889226294,
          -2208143.8566655875,
          -2219435.9535318036,
          -2219435.9535318036,
          -2219435.9535318036,
          -2219435.9535318036,
          -2219435.9535318036,
          -1324756.9788173125,
          -1329157.02309432,
          -1324192.8235238728,
          -1325308.587336457,
          -1320969.8328949094,
          -2190137.703255978,
          -2187802.693223183,
          -2190137.703255978,
          -2190137.703255978,
          -2187808.9666103306,
          -2221992.017159325,
          -2221985.743772177,
          -2221992.017159325,
          -2221992.017159325,
          -2221985.743772177,
          -2165949.226818948,
          -2166562.1251735524,
          -2165949.226818948,
          -2165949.226818948,
          -2166549.578399257,
          -2224276.4064971623,
          -2224276.4064971623,
          -2223586.3339108936,
          -2223259.3480679905,
          -2223645.3105505086,
          -2144197.8061878434,
          -2143952.6468460015,
          -2151245.860163947,
          -2144320.385858764,
          -2144136.516352383,
          -2190643.527022469,
          -2191898.2044520485,
          -2190643.527022469,
          -2190643.527022469,
          -2191898.2044520485,
          -2080449.1686731298,
          -2080780.1732001551,
          -2079051.7881348166,
          -2081328.3956057194,
          -2079603.3966539605,
          -2175102.249690771,
          -2176943.5557247717,
          -2177556.4540793765,
          -2175840.6157883336,
          -2176943.5557247717,
          -2104264.7126249587,
          -2139206.9235747154,
          -2152418.8784157457,
          -2132515.1542396485,
          -2122220.1244933917,
          -1571760.0672806185,
          -1537669.6125290142,
          -1566792.945741038,
          -1564289.7304568414,
          -1570508.1258973344,
          -2155016.696180624,
          -2153300.8578895815,
          -2153300.8578895815,
          -2153300.8578895815,
          -2150972.1212439337,
          -2099460.323935186,
          -2099460.323935186,
          -2097744.485644143,
          -2099460.323935186,
          -2098847.4255805817,
          -2176537.4393851086,
          -2178265.8244504477,
          -2178253.277676152,
          -2178259.6954669016,
          -2177162.8845140096,
          -2212264.4121601973,
          -2212264.4121601973,
          -2212435.9959893017,
          -2212264.4121601973,
          -2212264.4121601973,
          -2123812.642449421,
          -2123990.6440692744,
          -2124266.503749217,
          -2122103.2219491275,
          -2124260.374765671,
          -1900003.0256113466,
          -1911882.2969221429,
          -1909112.5505630304,
          -1919002.7145557762,
          -1918387.2052309848,
          -1677626.8594540788,
          -1681852.0526042806,
          -1684513.1449565813,
          -1677626.8594540788,
          -1689199.4989682466,
          -1208803.8681608508,
          -1182996.3544775855,
          -1267643.7376711941,
          -1314561.877026896,
          -1171233.7015232258,
          4004259.501045863,
          3996441.8594360263,
          4008817.049902717,
          4022637.140405371,
          3997986.1138979653,
          -2172099.407789358,
          -2161258.9947977904,
          -2170669.075519637,
          -2171773.191657667,
          -2170581.2480995664,
          -2165628.410921595,
          -2167961.822133409,
          -2164188.312857856,
          -2167893.2480855878,
          -2162538.8452487644,
          -2216633.016483231,
          -2216571.7266477705,
          -2216571.7266477705,
          -2216633.016483231,
          -2216633.016483231,
          -2181349.379278134,
          -2181349.379278134,
          -2181349.379278134,
          -2181349.379278134,
          -2181349.379278134,
          -1976329.6840707476,
          -1974325.2699709015,
          -1975702.345355958,
          -1974599.4054195199,
          -1974850.3409054356,
          -2032304.2709089722,
          -2059744.2630081915,
          -2045457.3407693962,
          -2062516.6276617122,
          -2046092.592257143,
          -2220382.268418496,
          -2221068.603734913,
          -2222441.2743677474,
          -2214548.41822895,
          -2215406.337374471,
          -2246030.818360404,
          -2246043.3651347,
          -2245968.0844889255,
          -2246718.9973607836,
          -2245980.631263221,
          -2195266.049753839,
          -2194726.9763036375,
          -2194788.266139098,
          -2194935.0846423525,
          -2195130.9233086226,
          -1605660.1339163892,
          -1606273.0322709938,
          -1604557.1939799509,
          -1603331.3972707412,
          -1603821.438852575,
          -1907651.2555849117,
          -1953599.932561085,
          -1901684.0884157245,
          -1959998.1471292574,
          -1958909.8489172333,
          -2201289.9804882314,
          -2201302.527262527,
          -2201474.111091631,
          -2201340.1675854144,
          -2201264.8869396397,
          -314063.36956388754,
          638226.8819648856,
          638226.8819648856,
          -363822.6800041296,
          -257269.12213036962,
          -2194971.4749005167,
          -2194971.4749005167,
          -2209041.348887068,
          -2201834.828064688,
          -2201834.828064688,
          -1927912.8119599908,
          -1927912.8119599908,
          -1926135.6838334876,
          -1926135.6838334876,
          -1926135.6838334876,
          -2212300.022757792,
          -2212300.022757792,
          -2212471.6065868963,
          -2212293.893774246,
          -2212465.4776033503,
          446769.2052779567,
          447934.1617015765,
          447751.92468406574,
          446920.9427710981,
          446005.028247505,
          -2219519.638202408,
          -2219519.638202408,
          -2219519.638202408,
          -2219519.638202408,
          -2219519.638202408,
          -2218996.8164314507,
          -2218996.8164314507,
          -2218996.8164314507,
          -2218996.8164314507,
          -2218996.8164314507,
          -2020665.9206647442,
          -2020176.2627260229,
          -2022021.306029875,
          -2019034.506265105,
          -2019084.6933622886,
          -1395263.3574724158,
          -1393547.519181373,
          -1393541.3901978268,
          -1393547.519181373,
          -1393541.3901978268,
          -2218593.5514846477,
          -2218719.0192276062,
          -2218969.9547135215,
          -2218719.0192276062,
          -2218905.7768060244,
          -2208880.068500353,
          -2208804.7878545783,
          -2208829.88140317,
          -2208666.7733373246,
          -2208829.88140317,
          -2145870.338232374,
          -2130649.0000846013,
          -2123194.6495707864,
          -2144127.244316898,
          -2126951.023729888,
          -2227891.0627533114,
          -2227891.0627533114,
          -2227891.0627533114,
          -2227891.0627533114,
          -2227891.0627533114,
          -2207569.865716045,
          -2214604.8027093206,
          -2215291.1380257374,
          -2212717.3805891736,
          -2210315.206981714,
          -2227344.7837909143,
          -2229624.7933802283,
          -2229686.0832156893,
          -2226793.17527177,
          -2228018.971980979,
          -2175410.097419613,
          -2176171.7133818045,
          -2175707.148991675,
          -2185244.633786777,
          -2185839.4044132717,
          527720.0438404973,
          -251068.03947691916,
          160548.44956142877,
          526629.3618711513,
          -170117.1906206036,
          -2219021.909980043,
          -2219034.4567543385,
          -2219034.4567543385,
          -2219034.4567543385,
          -2219034.4567543385,
          -2221699.150590996,
          -2221699.150590996,
          -2221699.150590996,
          -2221699.150590996,
          -2221699.150590996,
          -1832491.0857715425,
          -1872187.6861879854,
          -1821162.2448468227,
          -1462485.3196537187,
          -1875764.050247224,
          -2064070.7144171374,
          -1973709.423553226,
          -1973746.1974545026,
          -2017782.4594505222,
          -1973703.2945696802,
          -2158910.428928688,
          -2158922.9757029843,
          -2158922.9757029843,
          -2158910.428928688,
          -2158910.428928688,
          -2223815.4425695385,
          -2223987.0263986425,
          -2223815.4425695385,
          -2223815.4425695385,
          -2223815.4425695385,
          -2219310.485788846,
          -2219310.485788846,
          -2219310.485788846,
          -2219310.485788846,
          -2219310.485788846,
          -2070232.0826740982,
          -1998781.4883099745,
          -2059035.7292403167,
          -2045988.1790561664,
          -2044758.960203004,
          -2224080.6305391686,
          -2224080.6305391686,
          -2224093.177313464,
          -2224080.6305391686,
          -2223480.2789588594,
          -2204648.7661074754,
          -2202932.9278164324,
          -2202932.9278164324,
          -2202932.9278164324,
          -2202932.9278164324,
          -2125067.5237681605,
          -2123351.685477117,
          -2125067.5237681605,
          -2125067.5237681605,
          -2123351.685477117,
          -2219059.5503029297,
          -2219059.5503029297,
          -2219059.5503029297,
          -2219059.5503029297,
          -2219059.5503029297,
          -2214261.394884859,
          -2213844.6517139133,
          -2214077.5253784778,
          -2214016.2355430173,
          -2214077.5253784778,
          -2260459.229377791,
          -2261312.4100299054,
          -2259806.7971144095,
          -2260352.437392675,
          -2261387.69067568,
          -2199499.132335967,
          -2208936.2429367024,
          -2207857.7358038933,
          -2212367.919518788,
          -2208825.9489430585,
          -2172363.506174776,
          -2173466.446111214,
          -2172363.506174776,
          -2172363.506174776,
          -2172363.506174776,
          -259668.8678903954,
          -356947.7383318079,
          -299215.59453082626,
          -355902.3827602531,
          -338679.8752248113,
          -2220015.318896641,
          -2220015.318896641,
          -2220027.8656709366,
          -2220002.7721223454,
          -2220015.318896641,
          -2201257.8783747493,
          -2202274.5008338937,
          -2201853.3164836145,
          -2204450.83250403,
          -2203843.848844424,
          -1138939.709971803,
          -1107221.7148451558,
          -1096765.2820215733,
          -1164100.8769496225,
          -1136004.463555598,
          -2219034.4567543385,
          -2219034.4567543385,
          -2219034.4567543385,
          -2219034.4567543385,
          -2219034.4567543385,
          -2219434.6988543742,
          -2219434.6988543742,
          -2219434.6988543742,
          -2219434.6988543742,
          -2219434.6988543742,
          -2205880.610072288,
          -2207590.319379785,
          -2205810.303181245,
          -2207651.6092152456,
          -2205941.8999077487,
          -1444872.5421923113,
          -1473354.449899418,
          -1436561.5818187366,
          -1376190.2687854278,
          -1489915.4619142164,
          -2008098.8994925383,
          -2008062.1255912618,
          -2008074.3835583536,
          -2009359.994712867,
          -2009316.803020841,
          -2219407.0728114336,
          -2219407.0728114336,
          -2219407.0728114336,
          -2219407.0728114336,
          -2219407.0728114336,
          -2163270.58342318,
          -2166212.218423432,
          -2166212.218423432,
          -2166825.1167780366,
          -2167438.0151326414,
          -2119611.957493298,
          -2123791.1206763363,
          -2127927.408684737,
          -2120622.76870525,
          -2145119.7063147286,
          -1327455.0596274526,
          -1320591.7064632813,
          -1322307.5447543238,
          -1322307.5447543238,
          -1327455.0596274526,
          -2252136.197786796,
          -2252130.0688032503,
          -2252136.197786796,
          -2252004.601060292,
          -2252136.197786796,
          -1371222.7584002512,
          -1361670.2392053078,
          -1362539.7231051903,
          -1342143.3404768202,
          -1355396.85205741,
          -1746774.4140224278,
          -1732209.8350035113,
          -1735491.6110390099,
          -1739379.4987940597,
          -1739061.179592256,
          -2198277.892627193,
          -2193259.182908875,
          -2190749.8280497156,
          -2189495.1506201364,
          -2194513.860338454,
          -1897214.9515036154,
          -1897282.370322622,
          -1897343.6601580824,
          -1895505.2421961187,
          -1897833.9788417662,
          -2178367.5595341497,
          -2158292.251528949,
          -2165155.6046931203,
          -2170646.287224457,
          -2149713.0600737347,
          -2219310.485788846,
          -2219310.485788846,
          -2219310.485788846,
          -2219310.485788846,
          -2219310.485788846,
          -1828795.403643942,
          -1828795.403643942,
          -1828669.9359009843,
          -1830511.241934985,
          -1829046.339129858,
          -1870978.2253071882,
          -1870978.2253071882,
          -1870978.2253071882,
          -1870978.2253071882,
          -1870978.2253071882,
          -1406697.5626781918,
          -1626929.4612910012,
          -1545411.7322498055,
          -1696589.9255716568,
          -1460763.9358291884,
          -2165036.127434026,
          -2175686.8716127877,
          -2166936.0963284685,
          -2169681.437594137,
          -2156812.650411316,
          4184081.117648566,
          4184081.117648566,
          4184081.117648566,
          4184081.117648566,
          4184081.117648566,
          -2197817.0761001864,
          -2197817.0761001864,
          -2197994.7889128365,
          -2197988.6599292904,
          -2197988.6599292904,
          -2197419.090164289,
          -2196512.2894066777,
          -2194171.0059867343,
          -2201047.737230753,
          -2197125.1877612825,
          -2203094.6373560983,
          -2202855.6347079873,
          -2203033.3475206373,
          -2203088.5083725518,
          -2202861.763691533,
          -2139524.612935141,
          -2119826.177290742,
          -2131243.7418999155,
          -2117693.2256604563,
          -2142535.838766132,
          -2230097.576854047,
          -2230036.287018586,
          -2230036.287018586,
          -2230207.8708476904,
          -2230207.8708476904,
          -2199056.3371372814,
          -2199056.3371372814,
          -2199056.3371372814,
          -2199056.3371372814,
          -2198884.753308177,
          -2208044.232285293,
          -2208044.232285293,
          -2208044.232285293,
          -2208044.232285293,
          -2208044.232285293,
          -2192013.4474274227,
          -2192025.994201719,
          -2192013.4474274227,
          -2191400.5490728184,
          -2191952.157591962,
          -1698179.0069550872,
          -1473710.312896974,
          -1579510.0986509605,
          -1349406.7745115228,
          -1455445.9713835176,
          -2209986.3688009386,
          -2210024.0091238264,
          -2209898.541380868,
          -2210195.5929529304,
          -2210346.1542444797,
          -1604422.7374454816,
          -1791571.9679419217,
          -1713010.5913630135,
          -1916092.408060673,
          -1886678.8290766536,
          -2225470.531124363,
          -2225470.531124363,
          -2225102.7921116007,
          -2225470.531124363,
          -2225464.4021408176,
          -2157553.8170070294,
          -2159269.655298072,
          -2157553.8170070294,
          -2159269.655298072,
          -2157553.8170070294,
          -2207391.0502078403,
          -2207391.0502078403,
          -2207391.0502078403,
          -2207391.0502078403,
          -2207391.0502078403,
          -2204455.1289455276,
          -2205778.7677099933,
          -2207719.9066460365,
          -2203627.882427921,
          -2203033.4264443247,
          -1984776.7426487107,
          -1984654.1629777898,
          -1983171.198351312,
          -1984887.0366423547,
          -1984041.2646231856,
          -1826658.3278818533,
          -1826658.3278818533,
          -1826658.3278818533,
          -1826658.3278818533,
          -1826829.9117109575,
          -2031542.677416531,
          -2030848.225029003,
          -2031185.0943491007,
          -2030868.4892264656,
          -2029835.2739329517,
          198815.81569009784,
          198815.81569009784,
          198815.81569009784,
          197099.97739905515,
          198815.81569009784,
          -2191351.065032478,
          -2192795.61278242,
          -2187552.1284671472,
          -2181843.7460205597,
          -2192275.789060515,
          -2079177.774930881,
          -2079355.4877435314,
          -2079177.774930881,
          -2077633.5204689421,
          -2077461.9366398382,
          -2208760.1158044506,
          -2208944.2464078506,
          -2209802.1655533724,
          -2204985.2715641563,
          -2208588.531975346,
          -2085582.390492401,
          -2083866.5522013588,
          -2083866.5522013588,
          -2085582.390492401,
          -2084969.4921377965,
          -2235819.335493049,
          -2233343.5863728514,
          -2233870.6235374412,
          -2228698.675860684,
          -2231750.3277527294,
          -2194491.8355832314,
          -2196391.8204825055,
          -2192591.850683957,
          -2193878.6601267764,
          -2194920.5873296047,
          -2171790.9926041393,
          -2168964.7112630443,
          -2170962.2380182464,
          -2174578.045203732,
          -2173448.1680347403,
          -2206577.492978557,
          -2222034.216167283,
          -2225606.1202341495,
          -2190648.604669952,
          -2203315.1872580484,
          -1522844.7514125374,
          -1508088.5421095693,
          -1522158.4160961204,
          -1504656.8655274836,
          -1534340.8679625245,
          -2219193.232712128,
          -2219131.9428766677,
          -2219242.2645804966,
          -2219291.296448865,
          -2219254.811354792,
          -2203880.821684941,
          -2202336.5672230027,
          -2201478.6480774814,
          -2204052.405514045,
          -2203366.0701976283,
          -1270175.3761123617,
          -1269533.5970373866,
          -1274552.306755705,
          -1280212.795548998,
          -1270788.2744669663,
          -173233.4541431467,
          29849.748063763844,
          -653669.5611443918,
          -511376.4542513562,
          1160587.1818609915,
          -2199531.373210429,
          -2199531.373210429,
          -2199531.373210429,
          -2199531.373210429,
          -2199359.7893813243,
          -2204754.239709064,
          -2204760.3686926095,
          -2204797.142593886,
          -2204797.142593886,
          -2204741.9817419713,
          -1939001.3755981605,
          -1934197.0283832403,
          -1928534.7620227993,
          -1932487.4634793454,
          -1928877.9296810078,
          -2283915.532515922,
          -2281711.0874116407,
          -2282458.3948271647,
          -2286762.3970178617,
          -2282208.9033772675,
          -2169112.1916233436,
          -2169283.775452448,
          -2169283.775452448,
          -2170999.613743491,
          -2169283.775452448,
          -2218930.4107118812,
          -2218930.4107118812,
          -2218930.4107118812,
          -2218930.4107118812,
          -2218930.4107118812,
          -1573257.4071842947,
          -1572154.4672478568,
          -1572031.6104750854,
          -1573257.4071842947,
          -1573870.3055388995,
          -1831601.6658034488,
          -1815117.938846512,
          -1822049.6317869397,
          -1832334.4509471974,
          -1826051.9866704845,
          -2190423.073537002,
          -2192634.834207782,
          -2187484.049506936,
          -2184827.8251416003,
          -2187365.447780607,
          -2218557.679331098,
          -2218557.679331098,
          -2218557.679331098,
          -2218557.679331098,
          -2218557.679331098,
          -2133472.923677329,
          -2141307.4698837227,
          -2138381.384128234,
          -2124532.243242474,
          -2131242.3338989737,
          -2210363.0617427537,
          -2206416.6336733545,
          -2208475.639622606,
          -2207617.7204770846,
          -2195263.684781576,
          -1649560.9290174579,
          -1641716.1071803682,
          -1647232.1923718103,
          -1651522.4808540435,
          -1642819.0471168065,
          -2211656.173823163,
          -2211827.757652267,
          -2211827.757652267,
          -2211827.757652267,
          -2211827.757652267,
          5700107.226497626,
          5714005.5166550735,
          5754156.132665477,
          5726702.7200087905,
          5721555.205135661,
          -1267669.4161160062,
          -1303702.0202279056,
          -1336989.283074137,
          -1307133.6968099913,
          -1223057.6205488925,
          -2219546.980914577,
          -2219546.980914577,
          -2219546.980914577,
          -2219546.980914577,
          -2219546.980914577,
          -2219435.9535318036,
          -2219435.9535318036,
          -2219435.9535318036,
          -2219435.9535318036,
          -2219435.9535318036,
          -2219293.3821315593,
          -2219293.3821315593,
          -2219293.3821315593,
          -2219293.3821315593,
          -2219293.3821315593,
          -2131349.6842031833,
          -2120025.151482301,
          -2121569.4059442384,
          -2127918.0076210974,
          -2123067.544320031,
          -2198372.7303241654,
          -2200207.9073746195,
          -2198427.8911760794,
          -2199180.697633827,
          -2200607.9601160665,
          14679396.956527984,
          6646041.033637499,
          6225391.739021699,
          8299394.2157559395,
          7855825.065860355,
          -2245414.685098884,
          -2245414.685098884,
          -2245408.5561153386,
          -2245414.685098884,
          -2245408.5561153386,
          -2274086.495033218,
          -2274086.495033218,
          -2274086.495033218,
          -2274086.495033218,
          -2274073.9482589224,
          -2164509.544640857,
          -2164503.4156573107,
          -2164503.4156573107,
          -2164503.4156573107,
          -2164503.4156573107,
          -2201426.747457311,
          -2203474.9414550066,
          -2205984.2963141655,
          -2193437.52201837,
          -2209748.3286029045,
          -1898597.0570502086,
          -1898768.6408793132,
          -1898768.6408793132,
          -1898768.6408793132,
          -1898597.0570502086,
          -1532407.0195333632,
          -1532407.0195333632,
          -1532407.0195333632,
          -1534122.8578244061,
          -1530691.1812423202,
          2598193.2180343266,
          2560552.8951469394,
          2560552.8951469394,
          2463481.572207852,
          2510365.7979637585,
          -2077580.1889488383,
          -2073908.2950060065,
          -2074234.3042813046,
          -2075950.1425723475,
          -2077580.1889488383,
          -2211946.415662693,
          -2211632.746305297,
          -2211971.509211284,
          -2211607.6527567063,
          -2211774.831833588,
          -1335789.7594171662,
          -1337505.597708209,
          -1337505.597708209,
          -1335789.7594171662,
          -1337505.597708209,
          -2229951.7235945617,
          -2230319.4626073237,
          -2229767.85408818,
          -2229767.85408818,
          -2229767.85408818,
          -2166707.0507893795,
          -2169947.6808495102,
          -2170046.998294923,
          -2167852.844042947,
          -2165891.984960987,
          -458709.18324962765,
          -458709.18324962765,
          -458709.18324962765,
          -458709.18324962765,
          -456993.3449585848,
          -2184806.7282825024,
          -2184806.7282825024,
          -2172259.953986707,
          -2177794.9750370425,
          -2184806.7282825024,
          -2300505.9111572625,
          -2299828.257280753,
          -2300348.932074963,
          -2300030.738512708,
          -2299867.630446863,
          -2178755.970695867,
          -2178755.970695867,
          -2178584.3868667632,
          -2178755.970695867,
          -2178768.5174701633,
          -2219484.247043098,
          -2219484.247043098,
          -2219484.247043098,
          -2219484.247043098,
          -2219484.247043098,
          -2218896.4422370847,
          -2218896.4422370847,
          -2218896.4422370847,
          -2218896.4422370847,
          -2218896.4422370847,
          -2239059.8796566697,
          -2239059.8796566697,
          -2239231.463485774,
          -2239231.463485774,
          -2239231.463485774,
          -2210658.729311873,
          -2211688.232286499,
          -2204996.4629514315,
          -2210315.561653665,
          -2198647.8612745735,
          -2180257.1788591403,
          -1775489.4708814349,
          -1774836.0373944975,
          -1770632.8680054063,
          -1772013.0131779434,
          -1773108.6535527147,
          -1865599.7908303833,
          -1866089.8324122168,
          -1875061.6113365984,
          -1857204.4688815505,
          -1852976.0244384788,
          -2210635.057962797,
          -2210463.474133693,
          -2210463.474133693,
          -2210463.474133693,
          -2210463.474133693,
          -2253116.4920146433,
          -2253103.9452403476,
          -2253116.4920146433,
          -2253116.4920146433,
          -2253103.9452403476,
          -2164468.2866725107,
          -2173413.270323802,
          -2174308.8833380905,
          -2172757.4794657356,
          -2170789.6575517217,
          -1876766.0487602751,
          -1890061.941083199,
          -1889761.9096966465,
          -1880552.3633771269,
          -1847106.7562307133,
          -2173114.728158148,
          -2176294.4178075427,
          -2187938.101035781,
          -2169424.791256224,
          -2189034.767585071,
          -1938514.9868788857,
          -1937902.088524281,
          -1938514.9868788857,
          -1937902.088524281,
          -1939617.926815324,
          -2029599.9084457746,
          -2122958.9137929333,
          -2134807.335597404,
          -2097687.7831012146,
          -2138409.9626333737,
          -2034338.5788965314,
          -2071633.8575979953,
          -2098131.716118204,
          -2048588.644709074,
          -2148113.1941856174,
          1750740.8176194692,
          1828190.3369402664,
          1755238.4278111414,
          2206334.084092643,
          1670540.5948456277,
          -2224876.3085276005,
          -2224876.3085276005,
          -2224876.3085276005,
          -2224876.3085276005,
          -2224876.3085276005,
          -2191978.7640847005,
          -2191978.7640847005,
          -2191978.7640847005,
          -2191978.7640847005,
          -2191978.7640847005,
          -1559692.1046003404,
          -1559863.6884294446,
          -1559520.520771236,
          -1558086.5603029418,
          -1559630.8147648799,
          -2220121.145011531,
          -2220121.145011531,
          -2220121.145011531,
          -2220115.016027985,
          -2220121.145011531,
          -2068539.0257150722,
          -2072973.953932655,
          -2081035.1044169362,
          -2060407.8202755859,
          -2067836.4530391868,
          1607144.032578942,
          1605428.194287899,
          1605428.194287899,
          1605428.194287899,
          1605428.194287899,
          -2089608.2497423943,
          -2079833.2294975505,
          -2077782.6993115582,
          -2078406.968238867,
          -2087178.3232482767,
          -1588129.8640681433,
          -1586012.528999635,
          -1587504.4189392426,
          -1584458.6225728458,
          -2219410.8599832123,
          -2218883.8954627886,
          -2219348.126111733,
          -2219285.392240254,
          -2219423.406757508,
          -1256434.3013296705,
          -1258481.298703495,
          -1256740.7505069731,
          -1256802.0403424334,
          -1256434.3013296705,
          -2168517.3272236343,
          -2165085.6506415484,
          -2165085.6506415484,
          -2165085.6506415484,
          -2165085.6506415484,
          -2218808.614817014,
          -2218808.614817014,
          -2218808.614817014,
          -2218808.614817014,
          -2218808.614817014,
          -2217181.0617816406,
          -2217181.0617816406,
          -2217181.0617816406,
          -2217242.351617101,
          -2217181.0617816406,
          -2039602.034923892,
          -2037886.1966328488,
          -2037886.1966328488,
          -2039602.034923892,
          -2039602.034923892,
          -2142177.4271312947,
          -2142177.4271312947,
          -2142177.4271312947,
          -2142177.4271312947,
          -2142177.4271312947,
          -2152042.9725008635,
          -2152042.9725008635,
          -2152042.9725008635,
          -2152042.9725008635,
          -2152655.870855468,
          -2219310.485788846,
          -2219310.485788846,
          -2219310.485788846,
          -2219310.485788846,
          -2219310.485788846,
          -1561924.817650215,
          -1561924.817650215,
          -1560208.9793591718,
          -1558954.3019295926,
          -1558954.3019295926,
          -1748723.4461109682,
          -1765979.975888689,
          -1764264.1375976463,
          -1744188.829592445,
          -1763063.0507939162,
          -1800907.1383037327,
          -1749526.7197694622,
          -1855416.158426706,
          -1691273.9134168138,
          -1779483.4197421009,
          -2201186.4391021584,
          -2200591.899988007,
          -2200205.801734791,
          -2200647.0331297363,
          -2200745.152286843,
          -1795410.6280734106,
          -1795410.6280734106,
          -1795398.0812991147,
          -1795398.0812991147,
          -1795410.6280734106,
          -2122246.994968355,
          -2122234.737001263,
          -2122253.123951901,
          -2122228.608017717,
          -2122259.2529354477,
          -2218592.4315819484,
          -2218592.4315819484,
          -2218592.4315819484,
          -2218592.4315819484,
          -2218592.4315819484,
          -2109445.9454530245,
          -2101373.747341576,
          -2100353.9708504574,
          -2096542.984432614,
          -2095689.009334588,
          -2212363.5975838928,
          -2212964.2102612206,
          -2212535.181412997,
          -2212535.181412997,
          -2212964.2102612206,
          -2219059.5503029297,
          -2219059.5503029297,
          -2219059.5503029297,
          -2219059.5503029297,
          -2219059.5503029297,
          -2083980.9782343959,
          -2085223.10888968,
          -2081107.7669206588,
          -2081722.5588611532,
          -2083604.5750055222,
          -1422744.1774226744,
          -1418626.1655241717,
          -1411248.0608726873,
          -1425832.6863465516,
          -1416052.4080876075,
          -2205781.1243205694,
          -2205781.1243205694,
          -2205609.540491465,
          -2205781.1243205694,
          -2205781.1243205694,
          -1817423.4710408286,
          -1835253.5482246692,
          -1829188.625532586,
          -1820239.478249806,
          -1801242.954479264,
          -1734579.9369933468,
          -1734579.9369933468,
          -1734579.9369933468,
          -1734579.9369933468,
          -1734579.9369933468,
          -2171759.900771581,
          -2167311.2679891656,
          -2130763.912389953,
          -2175571.3089370253,
          -2137491.8620070578,
          -2051576.9639797779,
          -2082692.9642333505,
          -2064123.7382755736,
          -2089217.286867164,
          -2082191.0932615187,
          -2085028.5181906456,
          -2085028.5181906456,
          -2085034.791577794,
          -2085028.5181906456,
          -2085034.791577794,
          -2227162.9002942843,
          -2227338.5551344254,
          -2227401.2890059045,
          -2225858.035767522,
          -2226836.6841625934,
          -2218532.5857825065,
          -2218532.5857825065,
          -2218532.5857825065,
          -2218532.5857825065,
          -2218532.5857825065,
          -1819508.8431069283,
          -1836679.5116946336,
          -1814025.192302831,
          -1824040.5715534154,
          -1814223.052619527,
          -1499871.2632466508,
          -1494115.4695446843,
          -1493505.4365853767,
          -1493946.3705612202,
          -1493986.6550829227,
          -2196666.0147581776,
          -2196659.3081602245,
          -2196703.6550810654,
          -2195056.1020306395,
          -2196691.1083067693,
          -2176336.44570389,
          -2176336.44570389,
          -2176336.44570389,
          -2176336.44570389,
          -2176336.44570389,
          -2203317.131841176,
          -2203329.678615472,
          -2203488.71567028,
          -2203317.131841176,
          -2203329.678615472,
          -930388.79999299,
          -968346.4774811016,
          -971485.3612220048,
          -868756.2060802015,
          -901840.440222036,
          4032303.9473815565,
          3814170.6928482275,
          3898234.0806300566,
          3802085.0794138955,
          4302853.111309274,
          -2197021.140316391,
          -2197634.0386709957,
          -2197082.4301518514,
          -2195244.0121898875,
          -2194876.2731771246,
          -2219310.485788846,
          -2219310.485788846,
          -2219310.485788846,
          -2219310.485788846,
          -2219310.485788846,
          -462243.4668019392,
          -526720.6508082027,
          -494727.0795959877,
          -468985.3487025908,
          -516791.42036175635,
          -573546.1304157509,
          -892751.6728984184,
          -664438.3667875646,
          -676169.1923913455,
          -1204069.2307865066,
          -2219435.9535318036,
          -2219435.9535318036,
          -2219435.9535318036,
          -2219435.9535318036,
          -2219435.9535318036,
          -2199003.277383045,
          -2199003.277383045,
          -2197287.4390920023,
          -2198941.9875475843,
          -2197287.4390920023,
          -2195310.7734753564,
          -2195059.83798944,
          -2195323.320249652,
          -2196775.676280483,
          -2197014.0649921033,
          -2219575.6654759333,
          -2219575.6654759333,
          -2219569.5364923873,
          -2219575.6654759333,
          -2219569.5364923873,
          -2173363.43314439,
          -2169944.3033366003,
          -2171660.141627643,
          -2171715.1580759557,
          -2169938.0299494523,
          -2115097.6581358598,
          -2132500.9101611217,
          -2125227.3409609767,
          -2098653.2442000797,
          -2101000.30216716,
          -997631.7615417747,
          -921917.9004169401,
          -922438.0172455274,
          -925693.8172801082,
          -935884.6361118951,
          -947048.8653339358,
          -946877.2815048315,
          -948593.1197958742,
          -949909.0870609143,
          -947490.1798594359,
          -1809327.0972149277,
          -1808714.0544567208,
          -1808731.3572432334,
          -1809350.384581384,
          -1809149.2399986752,
          -2212524.315703651,
          -2212524.315703651,
          -2212585.605539112,
          -2212585.605539112,
          -2212585.605539112,
          -1550950.174837031,
          -1548560.148355923,
          -1548560.148355923,
          -1557804.0512244427,
          -1549173.0467105275,
          -1966716.031024068,
          -1947299.576353135,
          -1916384.5364077128,
          -1931701.300501575,
          -2015383.7640401092,
          -2185123.0483919485,
          -2185061.758556488,
          -2185061.758556488,
          -2185123.0483919485,
          -2185123.0483919485,
          -2218244.0099737034,
          -2217553.9373874343,
          -2218244.0099737034,
          -2218305.4891677527,
          -2218244.0099737034,
          -2195488.3890012265,
          -2197210.3562758155,
          -2195494.5179847726,
          -2197204.2272922695,
          -2197210.3562758155,
          -2292124.44371049,
          -2292001.864039569,
          -2292737.342065095,
          -2292308.3132168716,
          -2291388.965684965,
          -1980326.0802727721,
          -1979687.8990109866,
          -1979689.3430470054,
          -1981534.311497967,
          -1981061.5582982972,
          -2176990.940658845,
          -2175639.676206678,
          -2176252.574561282,
          -2175152.245595031,
          -2176378.04230424,
          -2213792.4094773466,
          -2213792.4094773466,
          -2213792.4094773466,
          -2214405.307831951,
          -2213792.4094773466,
          -2111467.2714108843,
          -2111454.7246365882,
          -2111638.8552399883,
          -2111454.7246365882,
          -2111461.142427338,
          -2219717.418448056,
          -2219723.691835204,
          -2219717.418448056,
          -2219711.1450609085,
          -2219717.418448056,
          -2210612.2590622623,
          -2210294.518693831,
          -2210708.5622455915,
          -2210336.230027755,
          -2210583.094502634,
          -1709422.4482677728,
          -1707582.367694707,
          -1698565.1130068623,
          -1720628.0682633794,
          -1707550.2356814668,
          -1890150.1681805323,
          -1885860.4339020008,
          -1889188.1948656535,
          -1888373.0400540293,
          -1891437.5318270528,
          -1828614.0606434054,
          -1843830.2386681398,
          -1836934.9187812302,
          -1846926.2221317207,
          -1837390.6736669163,
          -2153519.080362653,
          -2170557.120026744,
          -2170698.618044264,
          -2161114.6602594806,
          -2162358.525737504,
          -2158413.3338792697,
          -2158303.0398856257,
          -2158915.9382402305,
          -2158303.0398856257,
          -2158915.9382402305,
          -2213392.0687395227,
          -2213638.672117383,
          -2213552.288733331,
          -2213465.9053492793,
          -2213651.2188916793,
          -2158284.47524224,
          -2159619.773176558,
          -2170638.510937748,
          -2126724.8009024644,
          -2165490.9960646196,
          -2221132.248083462,
          -2212209.888970039,
          -2207062.3740969105,
          -2207062.3740969105,
          -2220102.7451088363,
          -2210643.233213499,
          -2199667.997134371,
          -2208946.070680298,
          -2202076.588532581,
          -2211488.605584725,
          -2194140.053962368,
          -2195566.315221051,
          -2195382.184617651,
          -2197904.0862511066,
          -2195566.315221051,
          -2219222.658368775,
          -2219285.392240254,
          -2219260.2986916625,
          -2219285.392240254,
          -2219172.4712715917,
          -2149803.8418259844,
          -2149051.035368237,
          -2149552.9063400687,
          -2149929.3095689425,
          -2149176.5031111953,
          -2219971.6776547446,
          -2219971.6776547446,
          -2219971.6776547446,
          -2219971.6776547446,
          -2219971.6776547446,
          -2214162.970915717,
          -2214162.970915717,
          -2214162.970915717,
          -2214162.970915717,
          -2214162.970915717,
          -2219359.4182085996,
          -2219346.871434304,
          -2219045.7488512043,
          -2219296.6843371205,
          -2219171.2165941624,
          -2210556.1343302024,
          -2210610.20398557,
          -2211429.6268729814,
          -2210855.363327412,
          -2211050.3355720704,
          -2195046.185904384,
          -2195046.185904384,
          -2195046.185904384,
          -2195107.4757398446,
          -2196762.024195427,
          -2167308.232072896,
          -2165592.393781853,
          -2164979.495427249,
          -2164979.495427249,
          -2165592.393781853,
          -2216136.151892009,
          -2216788.5841553905,
          -2216863.8648011656,
          -2216424.7277008127,
          -2214417.2438134854,
          -2219435.9535318036,
          -2219435.9535318036,
          -2219435.9535318036,
          -2219435.9535318036,
          -2219435.9535318036,
          -2201449.4835178526,
          -2201436.936743557,
          -2201436.936743557,
          -2201436.936743557,
          -2201436.936743557,
          -1458269.9803005327,
          -1457485.4981168238,
          -1457657.0819459278,
          -1456382.5581803857,
          -1457657.0819459278,
          -1921515.4134398291,
          -1922140.8585687296,
          -1869612.4779656045,
          -1934060.9330581948,
          -1980497.7994043634,
          -2208380.642788096,
          -2208895.3942754082,
          -2208895.3942754082,
          -2206321.6368388445,
          -2200487.786649299,
          -2190276.654287989,
          -2191882.1985853873,
          -2190105.070458884,
          -2190166.3602943444,
          -2190166.3602943444,
          -2213109.0351374624,
          -2213109.0351374624,
          -2212937.451308358,
          -2213109.0351374624,
          -2212937.451308358,
          -2147381.4956546864,
          -2149038.9824480484,
          -2147258.888273581,
          -2142727.2859308776,
          -2137196.7599020735,
          -2204840.3053438202,
          -2204297.1885927664,
          -2201224.482153503,
          -2200813.2626415105,
          -2202069.7159738033,
          60355202.51707254,
          60354589.61871794,
          60365420.55472269,
          60367749.29136834,
          60367749.29136834,
          -2074664.8466214521,
          -2097951.6597144483,
          -2101502.3968401584,
          -2057312.6577703673,
          -2101075.8065141016,
          -2221555.7794493935,
          -2224744.294929356,
          -2224558.9813869563,
          -2222126.705373055,
          -2222186.5511724968,
          -2213859.167339842,
          -2215575.005630885,
          -2213859.167339842,
          -2214962.10727628,
          -2215575.005630885,
          -1572958.8514449329,
          -1566142.883214835,
          -1554389.625487156,
          -1567397.5606444145,
          -1556105.4637781987,
          -2175436.8893767754,
          -2197914.3709894363,
          -2181270.739566321,
          -2135972.6086827903,
          -2190879.433996161,
          -1855192.4302381987,
          -2204023.0334032783,
          -2199390.2700174623,
          -2207626.293814468,
          -2204880.952548799,
          -2204366.2010614867,
          -1631647.2897167508,
          -1631647.2897167508,
          -1631647.2897167508,
          -1631647.2897167508,
          -1631647.2897167508,
          -998849.2715155628,
          -996520.5348699152,
          -994804.6965788723,
          -998849.2715155628,
          -996459.2450344547,
          -2219466.951289006,
          -2219473.0802725526,
          -2219466.951289006,
          -2219473.0802725526,
          -2219473.0802725526,
          -2262046.411341282,
          -2262046.411341282,
          -2262046.411341282,
          -2262046.411341282,
          -2262046.411341282,
          -1787719.1313462765,
          -1788180.2922077395,
          -1788119.0023722795,
          -1788131.5491465754,
          -1787731.6781205726,
          -2219071.5194628183,
          -2219146.800108593,
          -2219171.8936571847,
          -2219103.0308021596,
          -2219090.484027864,
          -2202523.7014970696,
          -2204131.0235716724,
          -2207838.7291882657,
          -2196481.6283790884,
          -2199958.75356495,
          8389902.7432489,
          8382835.839532886,
          8388648.065819321,
          8389902.7432489,
          8391618.581539944,
          -1890295.9909420633,
          -1890295.9909420633,
          -1890295.9909420633,
          -1890295.9909420633,
          -1890295.9909420633,
          -1738814.3789108698,
          -1749289.804953219,
          -1736125.0988158216,
          -1732120.2092631522,
          -1731781.9272611742,
          -410940.0795764082,
          -410940.0795764082,
          -409052.65745626116,
          -357610.88284349977,
          -409052.65745626116,
          -2070895.255570117,
          -2102256.0623260597,
          -2081539.4443778116,
          -2104313.89769719,
          -2044913.7187726367,
          -1902113.4278599764,
          -1844670.9009689263,
          -1989032.674320259,
          -1834670.8791534035,
          -1846593.5164516366,
          -2317646.865098438,
          -2295300.716716158,
          -2345548.7347968374,
          -2310059.6619345113,
          -2299277.8728338424,
          -2154330.4503374184,
          -2154330.4503374184,
          -2154330.4503374184,
          -2153717.5519828135,
          -2152001.7136917706,
          -2184122.7120744386,
          -2178334.6871843175,
          -2184349.9980477816,
          -2181872.8775357315,
          -2180953.8932246575,
          -2192243.8701451714,
          -2192066.157332521,
          -2192072.286316067,
          -2192090.673266705,
          -2192225.4831945333,
          -1923440.452284763,
          -1881560.2894035743,
          -1873755.2432697609,
          -1950721.6729622998,
          -1945633.1337321794,
          -2203428.0934222178,
          -2203428.0934222178,
          -2203428.0934222178,
          -2203428.0934222178,
          -2203428.0934222178,
          -1706945.2703012459,
          -1706945.2703012459,
          -1705229.432010203,
          -1705229.432010203,
          -1706945.2703012459,
          -2208765.188039043,
          -2200613.2543922565,
          -2211226.024506945,
          -2201362.3235801524,
          -2209564.778065308,
          -1758038.4526550686,
          -1753062.5216110444,
          -1758038.4526550686,
          -1731271.3753148003,
          -1753234.1054401486,
          -2222744.3499692394,
          -2228873.333515286,
          -2228873.333515286,
          -2226360.4502614075,
          -2230712.028579101,
          -2217516.2970645465,
          -2218545.1325568026,
          -2219360.6728860294,
          -2219323.0325631415,
          -2219197.564820184,
          -2100819.583450478,
          -2097255.8894349053,
          -2093980.8774789027,
          -2093980.8774789027,
          -2093980.8774789027,
          -2211706.143078076,
          -2215311.138312007,
          -2213548.172119845,
          -2214551.914063509,
          -2213792.9786222153,
          -2200479.8870196594,
          -2174898.9078164217,
          -2200605.3547626175,
          -2200605.3547626175,
          -2200605.3547626175,
          -2197128.8302873117,
          -2197741.7286419165,
          -2197741.7286419165,
          -2198354.626996521,
          -2198354.626996521,
          -1862987.7599857694,
          -1864703.5982768124,
          -1862987.7599857694,
          -1864703.5982768124,
          -1862987.7599857694,
          -1828506.4635298434,
          -1817427.1168903795,
          -1823481.9776674514,
          -1842096.679388692,
          -1832928.8699366502,
          -2227108.186254025,
          -2227065.2833692026,
          -2227102.057270479,
          -2227108.186254025,
          -2227065.2833692026,
          -1908207.4430521398,
          -1908207.4430521398,
          -1908207.4430521398,
          -1908207.4430521398,
          -1908207.4430521398,
          -1937024.6996051818,
          -1936853.1157760776,
          -1936853.1157760776,
          -1937024.6996051818,
          -1936853.1157760776,
          -2083993.292674678,
          -2084618.4489963746,
          -2084600.062045736,
          -2081964.8762227863,
          -2082890.3527382396,
          -2027514.7107565633,
          -1972733.7242524019,
          -1969466.991562955,
          -2001915.7555146853,
          -1910669.8520251787,
          -2236409.22600764,
          -2236409.22600764,
          -2236409.22600764,
          -2236409.22600764,
          -2236409.22600764,
          -1688382.1812380028,
          -1683824.6323811482,
          -1688382.1812380028,
          -1690098.0195290458,
          -1688814.4613790964,
          -1351667.1070437036,
          -1329484.0660329182,
          -20666.63477629804,
          -1240381.946162211,
          -947955.0670668044,
          -1480216.1633954104,
          -1513243.6812512816,
          -1537478.7124889095,
          -1539018.8959398114,
          -1527321.6972599067,
          -2229385.5675443285,
          -2198771.4382625874,
          -2229874.8917418644,
          -2229925.078839048,
          -2223864.9868541784,
          -2224392.5067571113,
          -2224392.5067571113,
          -2224392.5067571113,
          -2224564.0905862157,
          -2224392.5067571113,
          -1892086.6975373898,
          -1933661.020627179,
          -1875990.9478758387,
          -1928585.595161972,
          -1886762.7134291376,
          -2198389.0928780977,
          -2195631.3273842265,
          -2196734.2673206646,
          -2197776.194523493,
          -2197776.194523493,
          -2106359.914441681,
          -2106347.3676673854,
          -2106359.914441681,
          -2106366.332232431,
          -2106366.332232431,
          -2202010.32646164,
          -2202022.873235936,
          -2202010.32646164,
          -2202022.873235936,
          -2202022.873235936,
          -2219433.4441769444,
          -2219433.4441769444,
          -2219433.4441769444,
          -2219433.4441769444,
          -2219433.4441769444,
          -2170603.295677695,
          -2170431.7118485905,
          -2170603.295677695,
          -2170603.295677695,
          -2170603.295677695,
          -2223726.2420140365,
          -2223726.2420140365,
          -2223726.2420140365,
          -2223726.2420140365,
          -2223726.2420140365,
          -2094808.794371178,
          -2096185.3900328889,
          -2129993.395769662,
          -2146062.5133516616,
          -2107412.0703171548,
          -1349302.7120988495,
          -1356166.065263021,
          -1366804.2626674867,
          -1369378.0201040509,
          -1354450.226971978,
          -2024227.4457756833,
          -2022336.5915529593,
          -2023043.517354864,
          -2023001.649066474,
          -2022075.096389311,
          35750624.392939076,
          35141501.79961886,
          35458931.88346178,
          35438341.823969275,
          35834700.46920017,
          -1825942.229238208,
          -1820796.4785624389,
          -1799444.938014705,
          -1814366.6021632317,
          -1835011.7393771056,
          -2207391.8499238384,
          -2206877.098436526,
          -2198469.4908104157,
          -2209794.0235312986,
          -2207906.6014111512,
          -1806001.123434549,
          -1806001.123434549,
          -1806001.123434549,
          -1804726.5996690064,
          -1804285.2851435062,
          -2149644.6365387784,
          -2150711.112353921,
          -2145592.028441237,
          -2151024.781711316,
          -2145704.949409899,
          -2163254.012367175,
          -2163254.012367175,
          -2165141.434487322,
          -2163425.5961962794,
          -2163254.012367175,
          -1861189.3859685904,
          -1886819.2066065995,
          -1869768.5774238044,
          -1865392.9979600892,
          -1872084.7672951561,
          -2184504.7082770383,
          -2181368.0147030894,
          -2188756.171177424,
          -2189821.202956548,
          -2183500.9663333744,
          5096248.267304425,
          5173866.684109252,
          5110510.879891265,
          5096076.68347532,
          5160065.232383877,
          -2187792.7847610777,
          -2187792.7847610777,
          -2187792.7847610777,
          -2186009.5276510282,
          -2187731.4949256172,
          -1665370.6400841253,
          -1665182.4384696884,
          -1664470.3421223091,
          -1664445.2485737177,
          -1664395.0614765347,
          -2226516.6937248483,
          -2226516.6937248483,
          -2226516.6937248483,
          -2226516.6937248483,
          -2226516.6937248483,
          -1343888.4183069398,
          -1341968.7618396832,
          -1344139.353792856,
          -1348269.9124656543,
          -1343712.7634667987,
          -2219768.0097509366,
          -2248013.2392593017,
          -2221964.4652561354,
          -2216515.543563399,
          -2221907.7818293483,
          -2223189.7141777608,
          -2223189.7141777608,
          -2223189.7141777608,
          -2223189.7141777608,
          -2223189.7141777608,
          -2181658.658000706,
          -2181658.658000706,
          -2181229.629152483,
          -2182884.4547099154,
          -2182884.4547099154,
          -2206966.124800428,
          -2208008.0520032556,
          -2207885.4723323346,
          -2206966.124800428,
          -2208008.0520032556,
          -1623064.5301690912,
          -1623064.5301690912,
          -1623064.5301690912,
          -1622451.6318144863,
          -1622451.6318144863,
          -2210873.701858404,
          -2209157.863567361,
          -2209157.863567361,
          -2207442.025276318,
          -2207442.025276318,
          -2161003.4482395626,
          -2157460.9234601324,
          -2158502.85066296,
          -2159422.1981948675,
          -2158380.2709920397,
          -2219435.9535318036,
          -2219435.9535318036,
          -2219435.9535318036,
          -2219435.9535318036,
          -2219435.9535318036,
          -2216444.951807536,
          -2216616.53563664,
          -2216616.53563664,
          -2216444.951807536,
          -2216616.53563664,
          -1897103.3658299134,
          -1891955.0196512344,
          -1909545.2024283886,
          -1890165.3447504353,
          -1890704.4064952836,
          -1956422.9688101588,
          -1952505.305442389,
          -1961413.515192404,
          -1963910.3232772674,
          -1962655.645847688,
          -2147974.5511963805,
          -2152370.3020011676,
          -2151283.696010804,
          -2145471.4697243692,
          -2143107.5789712034,
          -2219122.2841744088,
          -2219385.7664346206,
          -2219310.485788846,
          -2219417.13337036,
          -2219385.7664346206,
          -2219488.8039260884,
          -2219582.904733307,
          -2219582.904733307,
          -2219551.537797568,
          -2219438.6168289054,
          -2218218.9164251112,
          -2218206.369650816,
          -2218206.369650816,
          -2218218.9164251112,
          -2218218.9164251112,
          -2189434.5586400134,
          -2185670.5263512745,
          -2033980.0251151081,
          -2151709.478120038,
          -2192235.5590954567,
          -2189060.690733935,
          -2189079.077684574,
          -2189201.657355495,
          -2189177.1414213106,
          -2189158.7544706725,
          -2221353.0925278477,
          -2216572.4853619314,
          -2218411.1804257454,
          -2216817.6447037733,
          -2218472.470261206,
          -2204481.991474728,
          -2207585.308829599,
          -2207066.626979662,
          -2204969.161985324,
          -2213196.767078516,
          -2179394.427172071,
          -2176942.833753652,
          -2177997.0466337567,
          -2176942.833753652,
          -2177384.1482791523,
          -2227892.6961479187,
          -2231815.2456173887,
          -2226176.580755026,
          -2228137.8554897606,
          -2232428.1439719936,
          -2175047.5373006742,
          -2175723.169526757,
          -2175104.142188607,
          -2175735.7163010533,
          -2176880.820765239,
          -2309849.8797636363,
          -2311090.4056402347,
          -2307853.3378719194,
          -2309076.5039621578,
          -2304823.147475883,
          -2220904.0855430863,
          -2220910.214526633,
          -2220904.0855430863,
          -2220910.214526633,
          -2220904.0855430863,
          -2214527.5655173142,
          -2214527.5655173142,
          -2214527.5655173142,
          -2214527.5655173142,
          -2214527.5655173142,
          -2085908.392349293,
          -2082144.3600605547,
          -2088417.747208452,
          -2083399.037490134,
          -2090927.1020676112,
          -2196458.6281032376,
          -2197073.4200437316,
          -2197035.7797208447,
          -2196195.1458430258,
          -2196320.613585984,
          -2031541.4506173874,
          -2026231.0953027848,
          -2066296.0154167407,
          -2062855.129472212,
          -2005403.4499717646,
          -2249942.8567447844,
          -2246564.695614366,
          -2246878.364971761,
          -2242912.39903533,
          -2234419.649490935,
          -1738890.339173305,
          -1792264.317027619,
          -1746179.1159394206,
          -1805760.9557085154,
          -1742820.912536203,
          -2224129.2782139266,
          -2224129.2782139266,
          -2224129.2782139266,
          -2224129.2782139266,
          -2224129.2782139266,
          -2219517.1057080585,
          -2219604.933128129,
          -2219579.8395795375,
          -2219529.6524823545,
          -2219623.753289573,
          -2219433.4441769444,
          -2219433.4441769444,
          -2179843.7685899884,
          -2179905.0584254493,
          -2180517.9567800537,
          -2179292.1600708445,
          -2179773.461698945,
          -2230611.5604125513,
          -2230611.5604125513,
          -2230611.5604125513,
          -2230611.5604125513,
          -2230611.5604125513,
          -452345.16456905357,
          -456764.1617057532,
          -460760.286687961,
          -491583.20603804936,
          -459822.5244952309,
          -1956657.401507541,
          -1966294.8659878452,
          -1958515.8659244522,
          -1963158.1724138963,
          -1969597.7374151207,
          -1992997.8480757477,
          -1992997.8480757477,
          -1992985.301301452,
          -1992997.8480757477,
          -1992985.301301452,
          -2202105.986792271,
          -2197130.0557482466,
          -2194384.7144825784,
          -2201934.4029631666,
          -2202963.9059377923,
          -2150967.6111823563,
          -2149251.772891314,
          -2150967.6111823563,
          -2149251.772891314,
          -2149251.772891314,
          -2158983.2697997466,
          -2161177.140191459,
          -2182948.8633821453,
          -2172723.242331072,
          -2176986.0758041614,
          -2191217.563955864,
          -2190590.225241075,
          -2191343.0316988225,
          -2190088.354269243,
          -2190590.225241075,
          -2182800.770512521,
          -2182800.770512521,
          -2184516.6088035638,
          -2184516.6088035638,
          -2182800.770512521,
          -2198103.8057067115,
          -2194054.427339851,
          -2196971.3524346235,
          -2200746.196674918,
          -2203096.8951336467,
          -1492331.8844438184,
          377137.4856297018,
          -1590196.7239510224,
          -1182426.559337671,
          -1910139.4684938062,
          -2209790.904496891,
          -2209790.904496891,
          -2209790.904496891,
          -2209790.904496891,
          -2209790.904496891,
          -2181147.2824498448,
          -2181147.2824498448,
          -2182863.1207408872,
          -2181147.2824498448,
          -2182863.1207408872,
          -2176314.3558259658,
          -2179425.955851323,
          -2176198.097445451,
          -2186090.8968150583,
          -2168999.318787146,
          -1001615.9797402732,
          -843517.2999465443,
          -932856.8203072856,
          -690923.6212702459,
          -581722.8689981095,
          4102326.673348736,
          4101100.876639526,
          4100610.8350576926,
          4101223.733412297,
          4102326.673348736,
          -2049031.0046354744,
          -2069730.9920565826,
          -2047293.4589094196,
          -2069718.445282287,
          -2069718.445282287,
          -1226777.3173833138,
          184940.48433098418,
          -1261436.5037780588,
          -1622783.6034969673,
          -1573906.3484822102,
          -2470270.9849704215,
          -2475269.2560575297,
          -2467666.3577361642,
          -2469287.654275807,
          -2481525.889739628,
          -2219435.9535318036,
          -2219435.9535318036,
          -2219435.9535318036,
          -2219435.9535318036,
          -2219435.9535318036
         ],
         "xaxis": "x",
         "y": [
          -52203.38841978027,
          -51758.27058518793,
          -51523.67019944874,
          -51694.92975554627,
          -51950.025101171006,
          -66356.63653417196,
          -65422.519578180625,
          -65529.21349340717,
          -65153.85287622,
          -65291.34707253418,
          -50198.78250625968,
          -49761.7307816809,
          -49546.61127691446,
          -50401.71247717698,
          -49039.8846397216,
          -47508.16449680849,
          -47273.80342710691,
          -47495.49633087871,
          -47318.14200786137,
          -47425.821418264764,
          -200379.8146760316,
          -200336.96880626577,
          -200336.96880626577,
          -200571.56919200788,
          -200336.96880626577,
          -48493.64312819374,
          -49496.09070391952,
          -48657.86339821346,
          -48674.98935382264,
          -49197.444285419835,
          -45324.76358749099,
          -45958.1718839821,
          -45427.98520821509,
          -45704.80856538546,
          -45198.08192819291,
          -4914.786758551104,
          67293.75904141787,
          28655.852955469465,
          22955.178287050854,
          -20116.5858743341,
          -48048.88000273198,
          -47972.17819634174,
          -47838.399531815005,
          -48072.34004130636,
          -48072.34004130636,
          -57622.21320686421,
          -57622.21320686421,
          -57622.21320686421,
          -57622.21320686421,
          -57622.21320686421,
          -57612.66855996185,
          -59381.30507351457,
          -60019.909451092935,
          -56069.131307704,
          -56310.06577641077,
          -17580.308856313983,
          -17580.308856313983,
          -17580.308856313983,
          -17556.84881773977,
          -17580.308856313983,
          -130467.87512597245,
          -130467.87512597245,
          -130467.87512597245,
          -130702.47551171458,
          -130233.27474023042,
          -55822.13057999989,
          -54863.35800011815,
          -54288.09445218922,
          -55055.112516094654,
          -56397.39412792908,
          -71224.40764207646,
          -67705.40185594634,
          -65805.13873143608,
          -67470.80147020434,
          -69347.60455614032,
          -61798.20600461835,
          -60943.1048043557,
          -61481.50185637284,
          -61259.80895260122,
          -59232.90240383007,
          -102204.03568217944,
          -101781.52841681597,
          -101488.28430714464,
          -101614.96596644289,
          -101946.21457390359,
          -55828.891123824185,
          -55582.777294537154,
          -55021.472660735206,
          -54798.76112824848,
          -55092.013586863744,
          -47474.76205495491,
          -47474.76205495491,
          -47474.76205495491,
          -47474.76205495491,
          -47474.76205495491,
          -46813.448675222804,
          -46813.448675222804,
          -46813.448675222804,
          -46813.448675222804,
          -46813.448675222804,
          -158279.60045196957,
          -156078.07361490614,
          -160302.21841564967,
          -158619.43882088584,
          -160086.21203401973,
          11967937.777672756,
          3965429.77885948,
          2579813.682096132,
          3887088.7580286693,
          10545433.816859566,
          -2614.75217615098,
          -1502.7149600536434,
          -14070.993182526461,
          -3713.961941724387,
          -2808.6980534275763,
          -47443.091640130464,
          -47443.091640130464,
          -47443.091640130464,
          -47443.091640130464,
          -47443.091640130464,
          -72171.60668769335,
          -70460.55836831052,
          -71226.47965058209,
          -71083.37291958368,
          -70586.28754386156,
          -39101.03479664613,
          -39335.63518238821,
          -39335.63518238821,
          -39335.63518238821,
          -39101.03479664613,
          -42099.70480659893,
          -42099.70480659893,
          -42099.70480659893,
          -42099.70480659893,
          -41865.10442085696,
          -59124.88112900075,
          -59487.573580258024,
          -58952.916369799124,
          -58219.43820005166,
          -58436.7955211668,
          -47919.34444270049,
          -48177.40486701664,
          -47661.28401838416,
          -48700.56500172262,
          -47832.54357447724,
          -114840.60206694731,
          -114162.61587366134,
          -114289.4297596347,
          -113712.17803503195,
          -113355.3909565621,
          -47215.064653393696,
          -47126.38749188496,
          -47202.39648746385,
          -47329.07814676208,
          -47354.41447862173,
          -48415.03989120847,
          -48297.739698337544,
          -48461.959968357056,
          -48203.899544040716,
          -49306.521357028076,
          -52689.000482227835,
          -52689.000482227835,
          -52689.000482227835,
          -52689.000482227835,
          -52689.000482227835,
          -49802.00297952052,
          -49104.53590525963,
          -48236.51447801422,
          -48605.541012236325,
          -48283.43455516259,
          -51122.36636714493,
          -50720.37866990121,
          -50762.34611123597,
          -50605.796021855545,
          -50516.90850337237,
          -58017.55694674494,
          -58017.55694674494,
          -58011.85627207659,
          -58164.1135792747,
          -57910.51094463806,
          -47379.75081048136,
          -47386.08489344616,
          -47386.08489344616,
          -47386.08489344616,
          -47386.08489344616,
          -56453.55132289997,
          -56688.151708641686,
          -56766.77106019214,
          -56691.32692271059,
          -56501.489951893906,
          -244482.00542981207,
          -244526.58332660672,
          -244252.10214978983,
          -244716.60581555395,
          -244740.06585412822,
          -55410.79866460997,
          -54659.12913456888,
          -55069.39719740662,
          -55735.66379627553,
          -54870.71897839367,
          -53539.545975515124,
          -52390.00408537928,
          -53516.085936940995,
          -52694.98458684394,
          -52648.06450969561,
          -47361.026112664294,
          -46410.913667928005,
          -47551.04860161165,
          -47574.508640185944,
          -47384.486151238576,
          -147862.0417334904,
          -150250.80609011592,
          -146569.9234949839,
          -148362.57895853554,
          -150216.87236595672,
          -127156.51350870146,
          -123321.42318917475,
          -144414.4199465717,
          -125665.32325065642,
          -138086.5209193525,
          -47247.425490754824,
          -48033.330410484145,
          -44967.86082649584,
          -46194.82211842785,
          -46930.7468325342,
          -46239.61587679755,
          -46242.78291828007,
          -46239.61587679755,
          -46249.11700124486,
          -46245.94995976259,
          -47316.409980832315,
          -47316.409980832315,
          -47316.409980832315,
          -47316.409980832315,
          -47316.409980832315,
          -61221.87400923961,
          -68864.25895644707,
          -62853.56540470414,
          -58471.20679018652,
          -68965.60428388577,
          -47379.75081048136,
          -47379.75081048136,
          -47379.75081048136,
          -47379.75081048136,
          -47379.75081048136,
          18800.02340259079,
          28585.815105199137,
          28542.969235433367,
          21378.52384981457,
          27498.504916020513,
          -121840.25104294198,
          -119314.54747553171,
          -124642.74559826331,
          -121234.0101804547,
          -117236.04347222563,
          -157228.84019685612,
          -155924.9094882169,
          -157650.70013200393,
          -155541.40045626418,
          -155349.64594028768,
          -42650.09606542576,
          -42650.09606542576,
          -42650.09606542576,
          -42650.09606542576,
          -42650.09606542576,
          -47069.380745200804,
          -47069.380745200804,
          -45802.56415221878,
          -47069.380745200804,
          -47069.380745200804,
          -47210.635800160846,
          -47210.635800160846,
          -47210.635800160846,
          -47210.635800160846,
          -47210.635800160846,
          -29264.311765877545,
          -27974.035134321373,
          -25123.697800111997,
          -28860.80674940869,
          -19446.483170267562,
          -58220.674434734305,
          -58247.30151479109,
          -58220.674434734305,
          -58244.134473308564,
          -58244.134473308564,
          -47475.419923928894,
          -47475.419923928894,
          -47475.419923928894,
          -47475.419923928894,
          -47475.419923928894,
          -48157.16103656097,
          -48157.16103656097,
          -48157.16103656097,
          -48157.16103656097,
          -48157.16103656097,
          -51832.853245360086,
          -51410.91488144687,
          -51609.00348038817,
          -51591.91877665332,
          -51604.5869425831,
          -53185.276002485974,
          -50911.93424323466,
          -55665.960520975146,
          -45584.37644459433,
          -51358.78410483629,
          11245850.239855262,
          11291648.005695414,
          11177170.017582783,
          11224171.259186272,
          11184526.932739506,
          -54769.9807116393,
          -55009.665684023574,
          -55006.49864254112,
          -54583.310782305125,
          -54578.22619566288,
          91707.61885444353,
          91684.1588158694,
          91707.61885444353,
          91684.1588158694,
          91684.1588158694,
          19484.094409383877,
          19486.01195454369,
          19484.094409383877,
          19484.094409383877,
          19484.094409383877,
          -46873.024173288715,
          -46873.024173288715,
          -46873.024173288715,
          -46873.024173288715,
          -46873.024173288715,
          -76132.20038521654,
          -71663.38104360002,
          -75492.28480305774,
          -71740.08284999071,
          -76439.0076107788,
          -6703.596586585484,
          18608.920556997982,
          -15330.617584792319,
          18129.262278693954,
          -6281.833262474009,
          -49486.13483362831,
          -49347.971872780945,
          -49255.863232216056,
          -49716.406435040524,
          -49624.297794475635,
          -49182.46773286639,
          -50070.87258932252,
          -48868.980018933566,
          -48513.16604334379,
          -49246.15496792144,
          -110605.7019718853,
          -110484.32757163141,
          -109605.68652829221,
          -110989.21100383795,
          -111262.58305196273,
          -48139.75958290626,
          -48120.58413130855,
          -48163.2196214804,
          -48163.2196214804,
          -48163.2196214804,
          -37045.17114272188,
          -39957.878243123894,
          -38478.15104090772,
          -38131.50850486695,
          -38850.608540889196,
          -48218.94722095344,
          -48193.5696372195,
          -48217.02967579372,
          -48217.02967579372,
          -48195.487182379315,
          -52413.58577740825,
          -52375.23487421307,
          -52432.76122900595,
          -52413.58577740825,
          -52471.11213220112,
          -99550.8839683414,
          -99550.8839683414,
          -99527.42392976726,
          -99550.8839683414,
          -99527.42392976726,
          -56096.004758844094,
          -55864.571414584556,
          -54086.1291158983,
          -55864.571414584556,
          -57958.357919699956,
          -47032.58557262566,
          -41360.04255847596,
          -77833.7511998063,
          -75103.25013752673,
          -94119.27252774022,
          -72954.36277105362,
          -83054.42118451519,
          -59096.40996216909,
          -59307.55030933675,
          -58744.50938355602,
          -58650.66922925901,
          -58674.12926783338,
          -47614.14908870435,
          -47614.14908870435,
          -47614.14908870435,
          -47614.14908870435,
          -47614.14908870435,
          -183753.08358685256,
          -180712.72376369583,
          -181681.5991412867,
          -182695.05241567225,
          -182422.9261642214,
          4786.258079751765,
          9341.579770529317,
          8422.564058752801,
          8379.718188987155,
          9911.658707882403,
          -49731.413724371734,
          -49750.58917596935,
          -49727.129137394986,
          -49750.58917596935,
          -49731.413724371734,
          -46982.18276203722,
          -46982.18276203722,
          -47216.78314777941,
          -46982.18276203722,
          -46982.18276203722,
          486120.0446886445,
          491773.7865349024,
          494684.7488632628,
          494002.4901994515,
          497873.3965641944,
          -107607.26865599805,
          -107759.93013299556,
          -107432.24029026987,
          -107964.36520719889,
          -107295.73986120739,
          -90070.11431678377,
          -90450.1592946782,
          -89945.16468451466,
          -90323.47763538013,
          -90030.23352570889,
          -2495133.568930543,
          -2494242.0874647256,
          -2495133.568930543,
          -2499426.7559896233,
          -2498488.3544466547,
          -43631.69945112381,
          -47892.9146765725,
          -43575.34609825969,
          -38488.90427473429,
          -46786.55295876589,
          22068.575887533876,
          15545.546826785363,
          64761.123478063244,
          11649.925499413675,
          4981.364792957281,
          -55693.98142963656,
          -61152.44789552688,
          -46015.78295132315,
          -64092.4968090261,
          -27762.654938922144,
          -62877.92894207784,
          -62877.92894207784,
          -62839.57803888273,
          -62877.92894207784,
          -62877.92894207784,
          -49114.86189083559,
          -49131.98784644514,
          -49131.98784644514,
          -49125.653763480266,
          -49114.86189083559,
          -68759.69464478346,
          -68759.69464478346,
          -68783.15468335767,
          -68994.2950305255,
          -68783.15468335767,
          -47278.40548304282,
          -47278.40548304282,
          -47278.40548304282,
          -47278.40548304282,
          -47278.40548304282,
          -68274.09142330979,
          -68274.09142330979,
          -68250.4210051418,
          -68058.66648916539,
          -68465.84593928611,
          -56093.79507714755,
          -56093.79507714755,
          -56309.00963169809,
          -56087.46099418266,
          -56093.79507714755,
          -36283.27537858859,
          -49027.45030398666,
          -48997.69743432179,
          -41327.081711942315,
          -48915.31310390378,
          -46556.32002504305,
          -46556.32002504305,
          -46556.32002504305,
          -46556.32002504305,
          -46556.32002504305,
          155164.10661600294,
          165902.3595106778,
          160347.812630329,
          149027.9621047601,
          157087.98585873126,
          -62397.52132517894,
          -69013.25220310339,
          -68989.79216452927,
          -66690.70838425757,
          -61787.56032224977,
          -28158.31330050531,
          -28135.970807425398,
          -28178.60629759707,
          -28162.597887481967,
          -28100.78694571243,
          -55062.921177838485,
          -53528.88505002765,
          -57939.23891748343,
          -56596.95730564917,
          -55254.6756938148,
          524088.2147333542,
          478103.01172415126,
          477722.7274302165,
          478227.72204038,
          510153.2322105534,
          -55931.5040104701,
          -56166.10439621201,
          -56166.10439621201,
          -56166.10439621201,
          -56166.10439621201,
          -47316.409980832315,
          -47316.409980832315,
          -47316.409980832315,
          -47316.409980832315,
          -47316.409980832315,
          -60924.50692405593,
          -61116.26144003235,
          -61116.26144003235,
          -60881.66105429035,
          -61116.26144003235,
          1100498.5728148045,
          1100475.1127762308,
          1100498.5728148045,
          1100263.9724290627,
          1100498.5728148045,
          -48736.40959676601,
          -48924.08990535978,
          -50097.09183406984,
          -49440.2107539921,
          -48712.94955819188,
          -61822.992724399955,
          -61822.992724399955,
          -62057.59311014214,
          -61822.992724399955,
          -62057.59311014214,
          -60052.27350445187,
          -60540.64972753356,
          -60306.04934179148,
          -60306.04934179148,
          -60307.96688695129,
          119692.76798715346,
          119692.76798715346,
          119692.76798715346,
          119692.76798715346,
          119458.16760141151,
          513896.0088760846,
          485950.0348349038,
          416129.43831270543,
          539916.4216959331,
          376953.1351747401,
          -91916.95179843355,
          -85932.60971560463,
          -87524.07693142517,
          -89526.32102672358,
          -92675.60711510421,
          -49049.74712650463,
          -48378.60632058734,
          -49874.291545202694,
          -48340.255417392254,
          -48340.255417392254,
          -43404.61890386644,
          -43404.61890386644,
          -43404.61890386644,
          -43404.61890386644,
          -43404.61890386644,
          -80445.54222554223,
          -80443.19622168467,
          -80961.04527384244,
          -80769.2907578661,
          -80534.69037212414,
          -33064.72330978566,
          -36478.794027872114,
          -33128.06413943478,
          -33254.745798733,
          -36155.7557966618,
          11947.112531014101,
          86532.15683778816,
          9491.449173739136,
          62326.15079337557,
          77963.87284971724,
          -44544.21763913572,
          -44810.24912366189,
          -29290.970165140752,
          -44992.30055239909,
          -43272.21256334071,
          -65516.912248531524,
          -65516.912248531524,
          -65229.28047456708,
          -65416.54002397308,
          -65128.90825000843,
          -51761.349898795175,
          -51690.11980041043,
          -51734.45838116473,
          -51688.4040608824,
          -51755.01581583013,
          -48890.57474565747,
          -48867.11470708311,
          -48890.57474565747,
          -48867.11470708311,
          -48890.57474565747,
          -51622.71368039522,
          -51646.17371896943,
          -51622.71368039522,
          -51622.71368039522,
          -51622.71368039522,
          -48184.501383813054,
          -48184.501383813054,
          -48184.501383813054,
          -48184.501383813054,
          -48184.501383813054,
          -54072.274229794544,
          -54072.274229794544,
          -54306.87461553648,
          -54072.274229794544,
          -54306.87461553648,
          -51916.309940207575,
          -51939.7699787818,
          -51916.309940207575,
          -51939.7699787818,
          -51916.309940207575,
          -50289.966683859115,
          -50530.901152566024,
          -50289.966683859115,
          -50289.966683859115,
          -50289.966683859115,
          1528703.4638059344,
          889024.4251797175,
          864004.7974683245,
          822833.2581964125,
          1407785.82000581,
          -68098.33394102122,
          -59220.587302751475,
          -66391.92912842575,
          -68942.89532969237,
          -59965.13053380493,
          -146802.48303116308,
          -143820.10251507297,
          -144204.59675274792,
          -147975.48495987305,
          -147314.5296724127,
          -46873.024173288715,
          -46873.024173288715,
          -46873.024173288715,
          -46873.024173288715,
          -46873.024173288715,
          -186528.43425520058,
          -187678.96135105853,
          -186911.94328715318,
          -187252.6064493403,
          -187252.6064493403,
          -52022.32021470896,
          -52022.32021470896,
          -51787.719828966896,
          -51830.56569873255,
          -51787.719828966896,
          -36753.13984004457,
          -37375.74422430975,
          -36949.389322591334,
          -37064.44203217718,
          -37102.79293537238,
          -47244.6092097371,
          -47244.6092097371,
          -47244.6092097371,
          -47244.6092097371,
          -47250.94329270207,
          -50810.417021154564,
          -50816.75110411954,
          -50810.417021154564,
          -50810.417021154564,
          -50810.417021154564,
          -49367.06242296041,
          -49343.602384386184,
          -49367.06242296041,
          -49367.06242296041,
          -49367.06242296041,
          -46540.78463526795,
          -45602.38309229997,
          -45602.38309229997,
          -46521.60918367036,
          -45602.38309229997,
          -51682.98707275013,
          -51236.41750321694,
          -51300.27794097469,
          -51562.40018037665,
          -51255.59295481455,
          -64682.86643748502,
          -64487.482968452845,
          -67599.06496820506,
          -68007.7660657609,
          -67261.24296173887,
          -51898.96908134883,
          -51917.97133024364,
          -52006.64849175238,
          -51987.646242857736,
          -51993.98032582261,
          -49322.01033539227,
          -49345.470373966404,
          -49345.470373966404,
          -49351.80445693145,
          -49345.470373966404,
          -150530.6033257777,
          -150779.727306842,
          -153769.0388286729,
          -149391.6567562506,
          -144287.17809848321,
          -47189.72832153407,
          -47341.7463126921,
          -47398.75305937602,
          -47474.76205495491,
          -47164.39198967434,
          -31838.155829268962,
          -31838.155829268962,
          -31838.155829268962,
          -31838.155829268962,
          -31838.155829268962,
          -59314.36556328077,
          -59122.61104730444,
          -59122.61104730444,
          -59314.36556328077,
          -59122.61104730444,
          -47379.75081048136,
          -47373.416727516385,
          -47386.08489344616,
          -47373.416727516385,
          -47379.75081048136,
          -32206.110728679374,
          -32206.110728679374,
          -32206.110728679374,
          -32440.711114421425,
          -32206.110728679374,
          -77178.89297030753,
          -75534.77272495357,
          -73581.2554403301,
          -75361.7193793239,
          -75673.61541123914,
          -48562.12152386684,
          -48562.12152386684,
          -48562.12152386684,
          -48562.12152386684,
          -48565.28856534935,
          -50254.946472716474,
          -50254.946472716474,
          -50254.946472716474,
          -50254.946472716474,
          -50254.946472716474,
          -47353.83303113602,
          -47353.83303113602,
          -47353.83303113602,
          -47353.83303113602,
          -47353.83303113602,
          -47030.74283911472,
          -46942.06567760613,
          -46986.404258360424,
          -46872.390764992204,
          -47062.413253939325,
          -49176.948393911596,
          -49176.948393911596,
          -49176.948393911596,
          -49176.948393911596,
          -49176.948393911596,
          -48588.13032325158,
          173081.313410009,
          -48611.590361825816,
          -48611.590361825816,
          -48611.590361825816,
          -47505.79906148316,
          -47505.79906148316,
          -47505.79906148316,
          -47505.79906148316,
          -47505.79906148316,
          -46974.46959757677,
          -46974.46959757677,
          -46974.46959757677,
          -46974.46959757677,
          -46974.46959757677,
          -56750.24208370031,
          -58207.08116562929,
          -60233.98771440044,
          -60394.216081808656,
          -66657.76399960769,
          -211544.80881464045,
          -210301.42677020785,
          -209714.9258058529,
          -209902.6061144465,
          -211544.80881464045,
          -53324.017651469716,
          -53324.017651469716,
          -53324.017651469716,
          -53324.017651469716,
          -53324.017651469716,
          -85878.94383499003,
          -87019.07876867357,
          -86005.62549428814,
          -86240.22588002998,
          -86303.56670967927,
          -78415.54889697183,
          -78392.0888583977,
          -78415.54889697183,
          -78421.8829799369,
          -78656.48336567883,
          -80247.57171468399,
          -72314.56675054996,
          58132.755237398436,
          -25991.355947892873,
          25547.398908456813,
          -60281.17836047745,
          -61197.105070593534,
          -61197.105070593534,
          -61048.196424382986,
          -61580.61410254608,
          -47506.43246977958,
          -47506.43246977958,
          -47506.43246977958,
          -47506.43246977958,
          -47506.43246977958,
          -44551.87977922486,
          -43139.37927805014,
          -44621.55469183893,
          -44121.16213761104,
          -44627.88877480375,
          -52609.930132131485,
          -52609.930132131485,
          -52846.448063033386,
          -52654.69354705698,
          -52611.847677291276,
          -64163.05985746205,
          -63928.45947172007,
          -61817.05600004192,
          -64397.660243203965,
          -64397.660243203965,
          -46968.555025871,
          -46962.22094290611,
          -46962.22094290611,
          -46968.555025871,
          -46962.22094290611,
          -48460.083675071524,
          -48483.54371364565,
          -48483.54371364565,
          -48460.083675071524,
          -48460.083675071524,
          -45289.50343206132,
          -46841.353758464036,
          -46271.28629162223,
          -46778.01292881492,
          -46803.34926067455,
          -46289.39568790948,
          -46289.39568790948,
          -46270.22023631188,
          -46289.39568790948,
          -46523.99607365141,
          -22760.735315401584,
          -20926.778099231276,
          -20883.932229465623,
          -21395.978870715266,
          -20414.73145798152,
          -53838.19712477704,
          -56091.531918077046,
          -55364.97592538553,
          -55509.48874340151,
          -53219.32054248877,
          -48214.27888433331,
          -47909.38920393104,
          -47947.74010712613,
          -47792.41894918547,
          -47909.38920393104,
          -48990.284126780556,
          -49416.639028498685,
          -49182.03864275682,
          -49416.639028498685,
          -48988.36658162084,
          -50745.891474910895,
          -50821.900470489876,
          -50830.11084674022,
          -50853.570885314366,
          -50830.11084674022,
          -51102.26752658263,
          -51773.408332499916,
          -51926.81194528087,
          -50793.54275586075,
          -50872.16210741105,
          -65172.83046829611,
          -64914.770043979865,
          -64921.104126944774,
          -64752.809649542745,
          -64993.744118249626,
          -49200.76825670453,
          -49098.55691575159,
          -48893.96103114246,
          -48399.23437992337,
          -49603.45274025484,
          -47417.75530827084,
          -47411.42122530578,
          -47471.59501347246,
          -47462.093889025135,
          -47468.4279719901,
          -47888.44160844544,
          -45314.92763140684,
          -45101.445103885366,
          -46265.040076143545,
          -47219.482326214435,
          -55106.24235054865,
          -56065.01493043025,
          -56065.01493043025,
          -54145.55222550716,
          -56065.01493043025,
          -48350.360450154345,
          -48350.360450154345,
          -48350.360450154345,
          -48350.360450154345,
          -48350.360450154345,
          -47506.43246977958,
          -47506.43246977958,
          -47506.43246977958,
          -47506.43246977958,
          -47506.43246977958,
          -39443.14485544954,
          -39446.31189693207,
          -40713.12848991411,
          -39439.97781396701,
          -41663.24093465057,
          -54743.15553931807,
          -54717.819207458364,
          -57254.08486986614,
          -55886.363346489125,
          -57763.16643242508,
          -51168.66787416669,
          -51168.66787416669,
          -51168.66787416669,
          -51168.66787416669,
          -51168.66787416669,
          -45062.978518164615,
          -44936.296858866626,
          -45949.75013325203,
          -45443.02349605925,
          -45126.31934781373,
          -86607.94259669028,
          -86525.83883418683,
          -84391.01355897199,
          -85214.44434441025,
          -85151.1035147611,
          2134260.0503714937,
          2119058.2512557106,
          2145219.745927816,
          2137618.846369924,
          2176463.8058506455,
          179266.80537560044,
          -136540.06361459836,
          -185361.618556392,
          -44721.723900513156,
          -230476.1723090009,
          -60485.24583408427,
          -60250.645448342395,
          -60485.24583408427,
          -60485.24583408427,
          -60485.24583408427,
          -47505.79906148316,
          -47505.79906148316,
          -47505.79906148316,
          -47505.79906148316,
          -47505.79906148316,
          -49419.219204508554,
          -46700.02131927691,
          -48099.853654521976,
          -49043.63201629339,
          -49449.01332604757,
          -20281.21640620108,
          28325.617092331107,
          30699.92470826773,
          40290.09204851213,
          -35126.15337120941,
          -34124.17763219568,
          -48027.489740172045,
          -39913.529462123144,
          -48090.83056982117,
          -36683.14715001925,
          -83357.10202551346,
          -84464.78325160596,
          -85754.0334752178,
          -84450.1027665786,
          -85078.39770273019,
          -49782.05621147717,
          -49782.05621147717,
          -49782.05621147717,
          -49782.05621147717,
          -49782.05621147717,
          -67883.63422541962,
          -61935.93032136956,
          -64153.13035256531,
          -66341.76277375607,
          -62472.00032632064,
          -51213.14613440937,
          -50837.785517222,
          -50603.185131480044,
          -51377.36640442859,
          -53277.62952893889,
          -50557.16072866296,
          -50651.0008829598,
          -50744.841037256396,
          -50909.06130727611,
          -50604.08080581154,
          -41925.47664466042,
          -46758.24459094571,
          -40330.19402161481,
          -43403.459074835155,
          -45162.96196790009,
          -45942.0871801499,
          -45942.0871801499,
          -45942.0871801499,
          -45942.0871801499,
          -45942.0871801499,
          -55866.16986752138,
          -56045.16144363035,
          -74733.19405244401,
          -77067.4030662681,
          -81663.82012912225,
          -72780.8851978215,
          -71771.268062707,
          -70050.40033002694,
          -70037.55896139423,
          -70056.73441299183,
          -70026.94029145273,
          -70056.73441299183,
          450246.69620798284,
          436989.6998784674,
          438972.0285304436,
          450202.11831118807,
          443532.5682651786,
          -101425.58323420392,
          -102058.99153069487,
          -90892.01954188173,
          -102058.99153069487,
          -104123.48129773077,
          -50065.21382797017,
          -50071.54791093514,
          -50065.21382797017,
          -50062.046786487816,
          -50306.14829667733,
          -52233.49170656068,
          -50542.331825526926,
          -54840.157538522864,
          -51529.690549334584,
          -50432.19484169902,
          -46484.81429973981,
          -46484.81429973981,
          -46484.81429973981,
          -46484.81429973981,
          -46484.81429973981,
          -46794.28114298444,
          -46794.28114298444,
          -46794.28114298444,
          -46794.28114298444,
          -46794.28114298444,
          -100514.80066662104,
          -100516.71821178084,
          -100516.71821178084,
          -100514.80066662104,
          -100514.80066662104,
          -49797.87955566552,
          -50638.43629671315,
          -50321.732148467556,
          -50367.94702250752,
          -50720.77937525685,
          -52697.32386805522,
          -52720.78390662926,
          -52697.32386805522,
          -52720.78390662926,
          -52931.92425379711,
          -46619.66085469217,
          -47348.080395656674,
          -43389.27854258835,
          -45542.86675065756,
          -47234.06690228853,
          -47316.409980832315,
          -47316.409980832315,
          -47316.409980832315,
          -47316.409980832315,
          -47316.409980832315,
          -43002.86253544548,
          -43002.86253544548,
          -43002.86253544548,
          -43002.86253544548,
          -43002.86253544548,
          -58461.56236825316,
          -58461.56236825316,
          -58461.56236825316,
          -58485.02240682729,
          -58461.56236825316,
          -61463.12775222622,
          -61271.37323624999,
          -61265.039153284924,
          -61228.52736648419,
          -61271.37323624999,
          -101142.1887626211,
          -101376.78914836302,
          -101142.1887626211,
          -101185.0346323867,
          -101142.1887626211,
          -52712.32292542681,
          -52146.19336430946,
          -52508.885815566995,
          -52901.92077918034,
          -52741.411843857415,
          -42047.74110117986,
          -38900.56788113423,
          -42796.202107256584,
          -39995.67142325206,
          -41047.82200623864,
          -52727.00073949046,
          -52718.320652668124,
          -51100.399028673266,
          -52983.536197574314,
          -52837.96684939639,
          -70659.26081342694,
          -60711.52763241817,
          -63290.56956823526,
          -68356.54479930445,
          -62185.265881456515,
          -68261.5441284423,
          -68356.55537291593,
          -68021.08829181605,
          -64220.63851287043,
          -68204.5373817581,
          -54573.65357241815,
          -54597.1136109923,
          -54597.1136109923,
          -54597.1136109923,
          -54573.65357241815,
          -53493.335985975944,
          -53235.27556165962,
          -53235.27556165962,
          -53235.27556165962,
          -53493.335985975944,
          -51666.364913379904,
          -52301.703500043084,
          -51621.36238139113,
          -53378.94772929651,
          -51621.36238139113,
          -43910.16829175271,
          -45106.6302590369,
          -44232.27474882652,
          -44238.60883179149,
          -44537.2552502911,
          -103589.53739185791,
          -103589.53739185791,
          -103353.01946095606,
          -103163.18249013959,
          -103154.9308620148,
          -54927.678643469546,
          -55817.815526954844,
          -53391.44092894609,
          -60291.13945003604,
          -52334.440670277916,
          -41425.71282346624,
          -41425.71282346624,
          -41489.05365311534,
          -41425.71282346624,
          -41425.71282346624,
          -103263.3277075778,
          -275824.8547513722,
          -217415.70528131793,
          -125967.2588696826,
          -129238.8191017827,
          -48694.67706053624,
          -48675.50160893877,
          -48675.50160893877,
          -48694.67706053624,
          -48694.67706053624,
          -91688.95117044877,
          -90361.00363823603,
          -96671.56633025175,
          -94684.47018084418,
          -92097.96973696403,
          -26985.735690501682,
          -51946.610326846145,
          -49284.80277059529,
          -52193.87887851771,
          -51450.819828554224,
          -51788.49756876352,
          -45739.43922405267,
          -45676.09839440356,
          -45905.86972359724,
          -45848.862976913,
          -45954.839296734055,
          -134270.98168194262,
          -134270.98168194262,
          -134270.98168194262,
          -134036.38129620033,
          -134270.98168194262,
          -335935.55896006175,
          -133793.86223998514,
          -163059.07465817296,
          -334648.30422194296,
          -188967.79875912223,
          -47995.53079283465,
          -47995.53079283465,
          -47995.53079283465,
          -47995.53079283465,
          -47995.53079283465,
          -126048.31503293496,
          -125880.02055553297,
          -126071.77507150918,
          -125621.9601312168,
          -125626.03433859946,
          -48417.62138760257,
          -48678.84885340134,
          -48350.40831336241,
          -48229.94107900913,
          -48370.70131045402,
          -52510.16175192685,
          -52700.18424087397,
          -52301.137014084685,
          -52757.19098755827,
          -52307.471097049645,
          -59683.31314241435,
          -59941.37356673047,
          -59960.549018328165,
          -59941.37356673047,
          -59706.773180988566,
          7787.724902872628,
          -4880.441026946452,
          -35917.44755500333,
          -107492.5850584814,
          -33151.23537479174,
          -49339.48269640752,
          -49339.48269640752,
          -49339.48269640752,
          -49339.48269640752,
          -49339.48269640752,
          354279.7500033163,
          354813.49560656765,
          354468.33747781016,
          354276.58296183386,
          355197.0046385201,
          -47505.79906148316,
          -47505.79906148316,
          -47505.79906148316,
          -47505.79906148316,
          -47505.79906148316,
          -72748.34072187115,
          -73016.79704423802,
          -72763.02120689847,
          -72613.45268443684,
          -72422.35804471132,
          -107835.88914843577,
          -107601.28876269372,
          -107835.88914843577,
          -107409.53424671738,
          -107409.53424671738,
          -37025.53433432788,
          -47234.8098569323,
          -42167.54348500467,
          -49133.11720124539,
          -49135.03474640513,
          -52119.941251835815,
          -52143.40129041018,
          -52124.22583881246,
          -52119.941251835815,
          -52126.275334800775,
          -112125.99721580274,
          -106880.85313652761,
          -112144.78470068697,
          -101191.26917831434,
          -111899.60218719185,
          -91895.31647133661,
          -98916.76879149424,
          -82129.1558950191,
          -99507.9252433708,
          -110538.16487267638,
          3700.2516903122014,
          1213.4876014468746,
          2693.38757678133,
          134.3258270337336,
          2597.6298773248122,
          -92178.81423606123,
          -92159.63878446356,
          -92178.81423606123,
          -92175.6471945788,
          -92169.31311161391,
          -142800.6691945878,
          -143035.26958032977,
          -143035.26958032977,
          -142800.6691945878,
          -142800.6691945878,
          -43130.45310438823,
          -39065.60881816146,
          -43756.90665463033,
          -56214.129871863,
          -57479.31999755929,
          -64482.99582635049,
          -66592.29550209026,
          -60234.46896883814,
          -65435.434323267385,
          -62606.19274041453,
          -43080.93817250728,
          -43080.93817250728,
          -43080.93817250728,
          -43080.93817250728,
          -43080.93817250728,
          -95523.12628683745,
          -97214.32643846826,
          -97771.96505542065,
          -96584.26680296486,
          -96232.30426286702,
          -108646.88364929834,
          -108648.61567632748,
          -107828.64894494723,
          -108542.42897691256,
          -109663.80097774194,
          -103121.24210420562,
          -104742.76734322251,
          -103773.41333355093,
          -101936.5292737273,
          -98642.80613197428,
          353977.29739072395,
          290882.40674088453,
          393014.5367721278,
          292987.47612959787,
          443253.618342973,
          -130497.16236788641,
          -129488.40619922071,
          -130115.48041274685,
          -130115.48041274685,
          -130121.81449571176,
          -81655.50077853825,
          -82105.22066904686,
          -82029.21167346802,
          -82022.87759050302,
          -82010.20942457317,
          -72584.63057426662,
          -73082.52028564712,
          -73258.15886913659,
          -73920.20586245733,
          -74114.42802164868,
          4472.890398516301,
          -14429.889462059127,
          -17577.928695619255,
          -12605.67356816535,
          -17603.26502747889,
          -49168.68663910743,
          -42923.73397776273,
          -48912.94290512016,
          -47683.652177847085,
          -37223.0465643315,
          -54159.42833741959,
          -54031.4023083726,
          -54015.612450437286,
          -54165.63046955582,
          -53979.17909240192,
          -329634.6101272412,
          -329634.6101272412,
          -329634.6101272412,
          -329400.0097414992,
          -329634.6101272412,
          -81490.01482677588,
          -81258.58148251631,
          -81493.18186825834,
          -81255.41444103382,
          -81255.41444103382,
          -52751.130263046536,
          -53947.59223033065,
          -52509.49186573208,
          -53173.41095738208,
          -53478.39145884665,
          -49397.31412786263,
          -49326.93401214014,
          -49350.394050714356,
          -50077.65524651457,
          -50898.75659661149,
          -48341.63788204861,
          -48341.63788204861,
          -48341.63788204861,
          -48341.63788204861,
          -48341.63788204861,
          -60366.71272478036,
          -66645.62805940011,
          -27363.002196208028,
          -14910.517123983893,
          -53470.97480842874,
          -81929.28242326982,
          -81952.74246184395,
          -80369.22172061657,
          -80920.52625460409,
          -83454.15944056789,
          -87438.09774103232,
          -103699.09107541955,
          -107913.1954603286,
          -84327.38999523905,
          -102970.21353511568,
          -38540.16390666251,
          -38540.16390666251,
          -38774.76429240459,
          -38540.16390666251,
          -38540.16390666251,
          -38169.64299754686,
          -37935.04261180474,
          -37935.04261180474,
          -37935.04261180474,
          -38169.64299754686,
          -94896.48479872097,
          -94603.24068904959,
          -94292.87062376918,
          -95580.80507497149,
          -95928.94032200123,
          -79262.9099057594,
          -79262.9099057594,
          -79021.97543705245,
          -79256.57582279453,
          -79028.3095200175,
          -53809.032373660295,
          -50451.9684022584,
          -54030.725277432335,
          -54056.061609291966,
          -53743.773998851466,
          -87185.41043745246,
          -96075.64646685829,
          -98938.88976312701,
          -92651.59942524113,
          -83197.20387983836,
          -42888.325733938065,
          -41829.07636744175,
          -44684.444224953615,
          -40032.95787642626,
          -43487.03189761007,
          -47451.52102076487,
          -47760.01479275994,
          -47791.68520758461,
          -47791.68520758461,
          -47791.68520758461,
          -46619.66085469217,
          -46112.93421749954,
          -46683.001684341296,
          -46809.6833436396,
          -46809.6833436396,
          -100100.17409833452,
          -100334.7744840764,
          -100334.7744840764,
          -100334.7744840764,
          -100334.7744840764,
          -53101.44417204408,
          -53144.29004180978,
          -53144.29004180978,
          -52909.68965606759,
          -53144.29004180978,
          -91547.34487165348,
          -132382.60813255972,
          -110090.76570899907,
          -91345.08832673501,
          -87352.1157550073,
          -54269.85075564051,
          -54409.439896908894,
          -53268.347699063794,
          -53674.44695693879,
          -54117.832764482635,
          244685.20379442445,
          249014.07351422566,
          250119.78432887362,
          248395.96409653092,
          245262.57113829185,
          -54087.82072833637,
          -53483.1341267599,
          -53752.250325377645,
          -53421.772681647475,
          -53896.06621236002,
          -47506.43246977958,
          -47506.43246977958,
          -47506.43246977958,
          -47506.43246977958,
          -47506.43246977958,
          -1336704.470461569,
          -1286663.0055882572,
          -1175802.5137762313,
          -1388954.9363718077,
          -1130613.124214107,
          -53360.10175939075,
          -53360.10175939075,
          -53360.10175939075,
          -53379.277210988635,
          -53360.10175939075,
          -1324.1527405330976,
          2110.500578728578,
          -3819.696382945367,
          -3419.4030700269864,
          -7140.348890590263,
          -55943.330826838086,
          -55966.790865412455,
          -55943.330826838086,
          -55966.790865412455,
          -55943.330826838086,
          -42377.48194509734,
          -42377.48194509734,
          -42377.48194509734,
          -42377.48194509734,
          -42377.48194509734,
          -46968.03541776244,
          -46961.70133479746,
          -46961.70133479746,
          -46961.70133479746,
          -46968.03541776244,
          -63040.906960050444,
          -63275.50734579242,
          -63275.50734579242,
          -63040.906960050444,
          -63275.50734579242,
          -50363.54458603575,
          -50455.65322660061,
          -50731.97914829531,
          -50409.59890631801,
          -50547.761867165565,
          -50627.455382647066,
          -50627.455382647066,
          -50627.455382647066,
          -50627.455382647066,
          -50627.455382647066,
          -55693.15898694682,
          -55951.21941126306,
          -55927.7593726889,
          -55247.418254037075,
          -55786.99914124355,
          -38049.3528685672,
          -38485.8105679947,
          -40910.082364950824,
          -38818.10295950167,
          -37275.40669654577,
          -47285.605579522125,
          -47285.605579522125,
          -47285.605579522125,
          -47285.605579522125,
          -47285.605579522125,
          -53586.27477229186,
          -53265.28603706976,
          -53622.258633670135,
          -52931.323982386464,
          -53288.74607564401,
          -74777.6817772486,
          -74777.6817772486,
          -74777.6817772486,
          -74777.6817772486,
          -74777.6817772486,
          -50522.94372482033,
          -49748.76245187177,
          -50452.56360909762,
          -51039.06457345258,
          -50593.323840542806,
          -47505.79906148316,
          -47505.79906148316,
          -47505.79906148316,
          -47505.79906148316,
          -47505.79906148316,
          -120348.32451172426,
          -121957.64753514035,
          -122367.01295025446,
          -120605.5968764678,
          -122272.78161538669,
          -52221.33646453231,
          -52694.6114433991,
          -52931.459312426356,
          -53151.16883354729,
          -53052.8337126801,
          -82019.41693481161,
          -82085.6608816666,
          -82415.59413269437,
          -82181.37732924918,
          -82475.50399658438,
          -77915.87952016787,
          -77935.05497176577,
          -77935.05497176577,
          -77954.23042336335,
          -78193.11539608179,
          -59184.903347435655,
          -59165.72789583808,
          -59165.72789583808,
          -59150.837031217125,
          -59189.187934412315,
          -46327.82295414686,
          -46339.328225105426,
          -46519.7629882537,
          -46208.81147548767,
          -46135.88292003971,
          -384838.12787675246,
          -335021.7033596167,
          -347816.31163269357,
          -216384.09011082014,
          -389872.890492664,
          -42189.2668333137,
          -42131.74047852065,
          -41941.71798957353,
          -40807.39753074582,
          -42490.259584019615,
          -46936.825099630565,
          -47363.180001348876,
          -47245.87980847791,
          -45623.062939475385,
          -45998.42355666256,
          -41742.36391311097,
          -38696.81231445823,
          -41992.00021203058,
          -45436.17075687998,
          -44208.96542449054,
          24752.346985092445,
          -50400.47409880172,
          509063.1560848789,
          -35937.60171618782,
          -17034.43950523831,
          -47430.42347420061,
          -47462.093889025135,
          -47253.06915118318,
          -47449.425723095264,
          -47335.41222972714,
          -48897.003878406234,
          -48897.003878406234,
          -48897.003878406234,
          -48897.003878406234,
          -48897.003878406234,
          -72633.7748479517,
          -72610.3148093773,
          -72633.7748479517,
          -72633.7748479517,
          -72610.3148093773,
          -45036.14011346486,
          -45796.23006925396,
          -45606.20758030667,
          -45289.50343206132,
          -45416.18509135933,
          174275.14846356385,
          -57117.094974258966,
          -57117.094974258966,
          -57117.094974258966,
          -57117.094974258966,
          -57117.094974258966,
          -56899.32993813166,
          -56089.46600446063,
          -56899.32993813166,
          -56899.32993813166,
          -56664.72955238959,
          -47265.73731711296,
          -47265.73731711296,
          -47265.73731711296,
          -47265.73731711296,
          -47265.73731711296,
          -91502.08293074321,
          -91736.68331648513,
          -91502.08293074321,
          -91736.68331648513,
          -91502.08293074321,
          -100407.31753607042,
          -100320.51666784711,
          -97850.22431153234,
          -97850.22431153234,
          -98483.63260802336,
          -108182.4891647846,
          -107225.9765237459,
          -107834.28780441752,
          -108416.89148636062,
          -108144.67018512585,
          -73602.70253695163,
          -71015.76421082464,
          -74236.12357845498,
          -71484.96498230865,
          -74470.72396419701,
          -28362.315978491082,
          -28362.315978491082,
          -28362.315978491082,
          -28362.315978491082,
          -28385.77601706546,
          -61718.08429500519,
          -61760.93016477076,
          -61952.68468074727,
          -61760.93016477076,
          -61760.93016477076,
          -58334.182700653866,
          -52323.71791310083,
          -48937.623538331594,
          -52923.9464943902,
          -51538.69030940594,
          -35341.86552301227,
          -33676.24101928122,
          -33441.6406335394,
          -34516.70271054495,
          -36018.119689268904,
          -51655.6235779604,
          -52073.91236968465,
          -52301.93935642136,
          -52441.04986560903,
          -53974.137259157396,
          -50526.61218754287,
          -50550.0722261171,
          -50550.0722261171,
          -50550.0722261171,
          -50526.61218754287,
          -53679.423102017055,
          -53679.423102017055,
          -53677.505556857264,
          -53677.505556857264,
          -53677.505556857264,
          -14313.985348560991,
          -16425.140205607735,
          -10724.465537189206,
          -14313.985348560991,
          -6079.677494178534,
          -65461.20015308365,
          -65461.20015308365,
          -65461.20015308365,
          -65461.20015308365,
          -65461.20015308365,
          -285409.06191413704,
          -285623.8269720307,
          -285604.65152043296,
          -285197.4720703123,
          -285643.00242362823,
          -56038.35481632415,
          -56038.35481632415,
          -56038.35481632415,
          -56038.35481632415,
          -56038.35481632415,
          -45473.19183804357,
          -45476.35887952591,
          -45473.19183804357,
          -45473.19183804357,
          -45476.35887952591,
          -111310.40291347714,
          -111842.8205916405,
          -109307.16601418232,
          -110306.86691866994,
          -112183.48375382743,
          -43171.98982122402,
          -63260.88017348274,
          -50226.61048197544,
          -53777.76531501072,
          -24506.404587796922,
          -47625.43246054976,
          -47625.43246054976,
          -47625.43246054976,
          -47648.89249912398,
          -47646.97495396416,
          -43872.01735977863,
          -43660.87701261084,
          -43637.416974036634,
          -43635.49942887692,
          -43637.416974036634,
          -95214.07720017432,
          -94486.81600437411,
          -94299.13569578038,
          -95167.15712302586,
          -94134.91542576099,
          -116607.44573967112,
          -116607.44573967112,
          -116989.03722646413,
          -116583.98570109697,
          -116574.39797529812,
          -48772.430764896126,
          -48741.75004233984,
          -48791.60621649359,
          -48753.25531329841,
          -48810.7816680912,
          -32851.86423009108,
          -32655.693176309327,
          -32702.003100133297,
          -32834.60632365316,
          -33531.355449793235,
          -135164.069473969,
          -134225.66793100117,
          -134225.66793100117,
          -131785.82391928424,
          -133756.4671595171,
          -142137.24939617064,
          -146784.58999912872,
          -145602.23209401648,
          -146444.42581230908,
          -207225.1011710862,
          -41742.41697171206,
          -41742.41697171206,
          -41805.757801360945,
          -41742.41697171206,
          -41805.757801360945,
          -47506.43246977958,
          -47506.43246977958,
          -47506.43246977958,
          -47506.43246977958,
          -47506.43246977958,
          -148487.67030291384,
          -149090.45570450273,
          -148308.7571555703,
          -148660.24936729265,
          -148076.63941730122,
          -54538.53979632261,
          -54578.21862460563,
          -54538.53979632261,
          -54538.53979632261,
          -54581.38566608815,
          -62313.026534480596,
          -62309.85949299817,
          -62313.026534480596,
          -62313.026534480596,
          -62309.85949299817,
          -55191.911955449505,
          -55383.66647142591,
          -55191.911955449505,
          -55191.911955449505,
          -55377.332388460956,
          -49008.798182765815,
          -49008.798182765815,
          -48660.42361969589,
          -48642.42337849716,
          -48823.15258624038,
          -61357.46310307963,
          -61280.76129668899,
          -62791.127006331786,
          -61395.81400627493,
          -61338.28765148205,
          -41417.97374326057,
          -42051.38203975126,
          -41417.97374326057,
          -41417.97374326057,
          -42051.38203975126,
          -70321.30453550644,
          -69732.98923935083,
          -69961.25554212787,
          -70087.78028622427,
          -70133.83460650667,
          -60636.54786689244,
          -60465.28831079959,
          -60657.04282677588,
          -60891.643212518065,
          -60465.28831079959,
          -81015.5414314928,
          -76521.62231559388,
          -74715.1993453806,
          -77436.5638199879,
          -78844.1661344398,
          268031.3109724412,
          276104.64702126954,
          267786.85048819124,
          266848.927577304,
          267232.27199971373,
          -70238.64613888819,
          -70473.24652463001,
          -70473.24652463001,
          -70473.24652463001,
          -70516.0923943957,
          -63156.263845099274,
          -63156.263845099274,
          -63390.86423084109,
          -63156.263845099274,
          -62964.50932912277,
          -64804.263263405686,
          -64575.996960628596,
          -64569.66287766381,
          -64574.079415468885,
          -65002.3518623468,
          -49462.26306157109,
          -49462.26306157109,
          -49438.80302299688,
          -49462.26306157109,
          -49462.26306157109,
          -75819.87908936448,
          -75800.83558859535,
          -76041.4277268799,
          -76058.89601291156,
          -76039.51018172009,
          -112119.63377576723,
          -110412.17270076423,
          -111088.46834950274,
          -109602.37036225412,
          -110157.1389502998,
          -19781.11397341826,
          -20813.33018065824,
          -23139.90997184948,
          -19781.11397341826,
          -23304.11749685644,
          -68411.2564466044,
          -68713.2491006349,
          -67199.04164934598,
          -65908.65492457159,
          -70131.71567750812,
          1711161.76429332,
          1708205.8631580328,
          1714563.4061615167,
          1710822.5954907492,
          1707994.722810865,
          -50204.64213038751,
          -44731.99444870558,
          -49482.55667238777,
          -50039.95597329961,
          -49438.218091633324,
          -53463.103682990775,
          -54638.74412181847,
          -53834.5549013153,
          -54607.65515447959,
          -53005.37148039787,
          -46016.44984518441,
          -45997.27439358654,
          -45997.27439358654,
          -46016.44984518441,
          -46016.44984518441,
          -50248.23544223922,
          -50248.23544223922,
          -50248.23544223922,
          -50248.23544223922,
          -50248.23544223922,
          -50007.31176225144,
          -50096.228239800555,
          -49690.60761400608,
          -50116.96251572439,
          -50243.644175022506,
          -183573.228602799,
          -182492.93586449916,
          -178881.95526990484,
          -180830.9836091993,
          -184083.82110569198,
          -52566.141900884635,
          -52472.30174658753,
          -52284.6214379941,
          -53363.78321240756,
          -53246.48301953635,
          -59305.263224473674,
          -59311.59730743857,
          -59273.59280964908,
          -59535.0222382395,
          -59279.926892614065,
          -50966.27472489461,
          -51569.043781311055,
          -51588.21923290869,
          -50862.72728626744,
          -50921.58973873447,
          -109665.2217755544,
          -109856.97629153065,
          -110091.57667727274,
          -109708.06764532009,
          -109089.95822762548,
          -49237.79515133532,
          -72044.96001788288,
          -48674.07018426046,
          -75780.95533391953,
          -77923.34823660637,
          -41648.123675359086,
          -41654.45775832414,
          -41630.997719749925,
          -41673.460007218964,
          -41635.45550942931,
          -89759.97295677042,
          -219963.1870435837,
          -219963.1870435837,
          -82956.56177025226,
          -97525.24572483082,
          -51409.29369326807,
          -51409.29369326807,
          -49485.57053018366,
          -50470.89215030018,
          -50470.89215030018,
          -85012.26846856196,
          -85012.26846856196,
          -85227.69340270628,
          -85227.69340270628,
          -85227.69340270628,
          -51857.976714091696,
          -51857.976714091696,
          -51834.51667551756,
          -51856.05916893196,
          -51832.599130357754,
          -144321.38455584075,
          -143850.93038940843,
          -143715.18888449483,
          -143261.62135763146,
          -143724.00941406985,
          -47525.14771578343,
          -47525.14771578343,
          -47525.14771578343,
          -47525.14771578343,
          -47525.14771578343,
          -47284.73956600779,
          -47284.73956600779,
          -47284.73956600779,
          -47284.73956600779,
          -47284.73956600779,
          -65176.909875929305,
          -65259.958157581845,
          -65530.913318855724,
          -64683.55660777499,
          -64708.892939634636,
          -149274.57216411686,
          -149509.17254985866,
          -149507.25500469888,
          -149509.17254985866,
          -149507.25500469888,
          -45942.21138337943,
          -46005.55221302855,
          -46132.23387232655,
          -46005.55221302855,
          -46088.06849427514,
          -48880.661278824475,
          -48842.65678103505,
          -48855.324946964836,
          -48772.98186842106,
          -48855.324946964836,
          -14001.155297987492,
          -9168.39469160237,
          -5853.863272859397,
          -13128.09503153117,
          -5100.535879604978,
          -50127.65486379934,
          -50127.65486379934,
          -50127.65486379934,
          -50127.65486379934,
          -50127.65486379934,
          -49733.448558547985,
          -48771.58697700574,
          -48677.746822708905,
          -49029.647401322145,
          -49358.08794136087,
          -54489.28742003381,
          -55279.765522513604,
          -55298.94097411108,
          -54316.708355655195,
          -54700.217387607925,
          -60845.803264354305,
          -60789.96760784707,
          -60885.68405542929,
          -59646.05459756743,
          -59065.66114514945,
          -514437.5524674493,
          -390122.81619452394,
          -448798.9742188254,
          -514007.3624754115,
          -401053.15706641,
          -47297.40773193764,
          -47303.741814902445,
          -47303.741814902445,
          -47303.741814902445,
          -47303.741814902445,
          -47410.02381273074,
          -47410.02381273074,
          -47410.02381273074,
          -47410.02381273074,
          -47410.02381273074,
          -93363.03408365938,
          -75509.58699076273,
          -85132.66436637017,
          -95521.82691879012,
          -88157.75295372172,
          21299.767483861157,
          66912.83501184899,
          66901.3297408904,
          44770.8397635594,
          66914.75255700879,
          -49042.32468408633,
          -49048.658767051136,
          -49048.658767051136,
          -49042.32468408633,
          -49042.32468408633,
          -55007.218340114676,
          -54983.758301540554,
          -55007.218340114676,
          -55007.218340114676,
          -55007.218340114676,
          -47443.091640130464,
          -47443.091640130464,
          -47443.091640130464,
          -47443.091640130464,
          -47443.091640130464,
          -44570.63846532836,
          -25003.86908340373,
          -47170.38597076431,
          -46084.884055003415,
          -47298.12538035738,
          -48439.32474107511,
          -48439.32474107511,
          -48445.65882403993,
          -48439.32474107511,
          -48253.90430806368,
          -53511.4015762336,
          -53746.00196197562,
          -53746.00196197562,
          -53746.00196197562,
          -53746.00196197562,
          -16378.004437854333,
          -16612.60482359644,
          -16378.004437854333,
          -16378.004437854333,
          -16612.60482359644,
          -47316.409980832315,
          -47316.409980832315,
          -47316.409980832315,
          -47316.409980832315,
          -47316.409980832315,
          -49180.54045953114,
          -49127.29869171478,
          -49123.014104738366,
          -49103.83865314066,
          -49123.014104738366,
          -60153.31097837508,
          -60584.02861998889,
          -59823.938664199704,
          -60098.221776850565,
          -60622.03311777827,
          -50376.61089352906,
          -49086.30877194794,
          -49288.87994516266,
          -48617.10800046388,
          -49128.94426211987,
          -59682.68200363277,
          -59256.327101914445,
          -59682.68200363277,
          -59682.68200363277,
          -59682.68200363277,
          -302552.02045875194,
          -289061.6325217207,
          -298853.1261758219,
          -292431.1359045526,
          -293457.3173037558,
          -47663.60933350327,
          -47663.60933350327,
          -47669.943416468246,
          -47657.27525053847,
          -47663.60933350327,
          -48567.08337239134,
          -48750.06657526519,
          -47326.53488540559,
          -48307.61254185801,
          -48551.59439402698,
          -157726.94235486997,
          -159026.85240516998,
          -158178.93994567948,
          -156564.3295085513,
          -157748.67087971224,
          -47303.741814902445,
          -47303.741814902445,
          -47303.741814902445,
          -47303.741814902445,
          -47303.741814902445,
          -47505.79906148316,
          -47505.79906148316,
          -47505.79906148316,
          -47505.79906148316,
          -47505.79906148316,
          -61234.23655159624,
          -60997.71862069442,
          -61188.15362838478,
          -61016.89407229212,
          -61253.412003193705,
          6881.073738748612,
          -11165.257503425993,
          4658.468607298656,
          -15293.247161737088,
          -15858.284105276567,
          -3097.888142739813,
          -3086.382871781149,
          -3090.2179621006844,
          -3735.7129770360507,
          -3719.791168272223,
          -47256.533205241234,
          -47256.533205241234,
          -47256.533205241234,
          -47256.533205241234,
          -47256.533205241234,
          -65372.34919087476,
          -65521.257837085424,
          -65521.257837085424,
          -65713.01235306184,
          -65904.76686903836,
          -50182.912712939935,
          -49253.29072351889,
          -48387.39722102707,
          -49187.735512492174,
          -55154.83484901964,
          -98726.6398604796,
          -99665.04140344758,
          -99430.4410177056,
          -99430.4410177056,
          -98726.6398604796,
          -57448.16205062973,
          -57446.24450546992,
          -57448.16205062973,
          -57382.9036758208,
          -57448.16205062973,
          79643.52648180332,
          89606.82643409204,
          83366.55685895294,
          98286.86100187036,
          92773.86791654667,
          -131002.06260059876,
          -133018.80980200222,
          -132710.05192937274,
          -131790.5290017845,
          -132770.9348961428,
          -46886.79167114339,
          -44353.1584851793,
          -43086.341892197415,
          -42452.933595706556,
          -44986.5667816704,
          -103625.16387977595,
          -103646.2568765334,
          -103665.43232813095,
          -103861.68181067776,
          -103818.83594091199,
          -56850.88821354787,
          -59595.712726729456,
          -58657.31118376144,
          -57906.589949387024,
          -60768.71465543942,
          -47443.091640130464,
          -47443.091640130464,
          -47443.091640130464,
          -47443.091640130464,
          -47443.091640130464,
          -80809.53074419212,
          -80809.53074419212,
          -80746.18991454314,
          -80574.93035845003,
          -80936.21240349027,
          -63373.24314584551,
          -63373.24314584551,
          -63373.24314584551,
          -63373.24314584551,
          -63373.24314584551,
          -133945.04064284585,
          -102755.8499700753,
          -111074.12305388635,
          -92029.8415243343,
          -127090.8245659334,
          -42991.66517648149,
          -41543.476867845944,
          -42739.93883513012,
          -42364.57821794307,
          -44124.08111100807,
          1611005.96504155,
          1611005.96504155,
          1611005.96504155,
          1611005.96504155,
          1611005.96504155,
          -55862.35513516253,
          -55862.35513516253,
          -55840.8126417482,
          -55838.89509658841,
          -55838.89509658841,
          -49118.928563205016,
          -48837.63087220543,
          -48874.14265900634,
          -50256.61429043029,
          -49029.38538818185,
          -45366.94602130324,
          -45369.31306312018,
          -45347.77056970577,
          -45365.02847614342,
          -45371.2306082799,
          -12227.958025611868,
          -2283.447770703818,
          -8047.4632687716585,
          -1206.6536666693646,
          -13748.137937190066,
          -55048.79782570377,
          -55029.62237410606,
          -55029.62237410606,
          -55006.162335531924,
          -55006.162335531924,
          -45128.78545113736,
          -45128.78545113736,
          -45128.78545113736,
          -45128.78545113736,
          -45152.24548971157,
          -49446.04853681175,
          -49446.04853681175,
          -49446.04853681175,
          -49446.04853681175,
          -49446.04853681175,
          -54861.890054636,
          -54868.224137600715,
          -54861.890054636,
          -54670.135538659655,
          -54842.71460303837,
          -99576.73128181986,
          -128122.78681760821,
          -110372.99881449316,
          -142545.92811341333,
          -128331.89905219882,
          -48534.97530151388,
          -48553.977550408614,
          -48490.63672075948,
          -48530.51751183448,
          -48606.52650741346,
          -158116.2816541744,
          -133354.7035419668,
          -142718.34793473326,
          -115227.25693315311,
          -121453.30077580368,
          -49271.60091755144,
          -49271.60091755144,
          -49156.54820796569,
          -49271.60091755144,
          -49269.68337239173,
          -51147.258244266515,
          -50912.6578585244,
          -51147.258244266515,
          -50912.6578585244,
          -51147.258244266515,
          -41425.71282346624,
          -41425.71282346624,
          -41425.71282346624,
          -41425.71282346624,
          -41425.71282346624,
          -50420.4462113472,
          -50217.4255414754,
          -49964.12806037002,
          -50624.48543306457,
          -50592.78615866254,
          -82229.32663950205,
          -82190.97573630667,
          -82421.29153507212,
          -82186.69114933014,
          -81999.22122033035,
          -102122.07487918834,
          -102122.07487918834,
          -102122.07487918834,
          -102122.07487918834,
          -102098.61484061416,
          -71337.90420207276,
          -71104.9781468245,
          -71157.38283757286,
          -71126.9742344989,
          -70723.02793919809,
          -277394.745685243,
          -277394.745685243,
          -277394.745685243,
          -277160.145299501,
          -277394.745685243,
          -46758.12988583375,
          -45836.16184037875,
          -46271.350016684555,
          -47132.33215785643,
          -46784.63730787016,
          -66467.48040293918,
          -66445.93790952487,
          -66467.48040293918,
          -66678.62075010697,
          -66702.08078868118,
          -48941.95261248527,
          -48924.82665687595,
          -48807.5264640049,
          -49458.07346111776,
          -48965.412651059414,
          -5307.691605214654,
          -5542.291990956485,
          -5542.291990956485,
          -5307.691605214654,
          -5115.937089238159,
          -59252.168500316126,
          -59480.44719539004,
          -59491.053473034735,
          -60418.638358764474,
          -59753.3984843274,
          -53563.6348833558,
          -54158.0738828826,
          -52969.19588382909,
          -52600.36733690368,
          -52926.35001406364,
          -53870.404750006266,
          -54425.067778308454,
          -54112.51030888995,
          -53626.183581796606,
          -53716.27114952251,
          -45625.299423853,
          -53549.10526212621,
          -55243.43120336524,
          -37705.64622172762,
          -43977.18835665376,
          -64109.92862265296,
          -66127.4919400343,
          -64203.76877694999,
          -66596.69271151829,
          -62538.1060381815,
          -47348.60000376563,
          -47329.42455216793,
          -47363.940365043505,
          -47379.28072632168,
          -47370.274448008575,
          -49230.75167748954,
          -49441.89202465728,
          -49559.19221752825,
          -49207.29163891551,
          -49301.13179321211,
          -85826.08866719765,
          -85384.43488668317,
          -87918.06807264697,
          -90893.35503912535,
          -86017.84318317405,
          -138890.29872180792,
          -162523.82457100952,
          -77059.755866425,
          -93483.88666430378,
          -317125.4787749914,
          -47275.29339710501,
          -47275.29339710501,
          -47275.29339710501,
          -47275.29339710501,
          -47298.75343567913,
          -49094.21419364388,
          -49096.13173880368,
          -49107.63700976234,
          -49107.63700976234,
          -49090.37910332459,
          -70819.81317782342,
          -71476.69425790098,
          -72250.87553084953,
          -71714.4616851255,
          -72203.95545370122,
          -79706.0514025696,
          -78828.48389935415,
          -79930.06205481674,
          -80519.65968236719,
          -79815.8753587455,
          -44729.38138919977,
          -44705.92135062556,
          -44705.92135062556,
          -44471.320964883445,
          -44705.92135062556,
          -47267.34888469684,
          -47267.34888469684,
          -47267.34888469684,
          -47267.34888469684,
          -47267.34888469684,
          -120391.35449478554,
          -120817.70939650403,
          -120007.84546283283,
          -120391.35449478554,
          -120583.10901076197,
          -64139.21164008905,
          -67596.38117078246,
          -67352.97211868915,
          -63628.49310028509,
          -65300.477177005734,
          -62597.76370771412,
          -63231.93923205928,
          -61702.331957481576,
          -60902.60426253408,
          -61289.47856288458,
          -47063.04666223584,
          -47063.04666223584,
          -47063.04666223584,
          -47063.04666223584,
          -47063.04666223584,
          -50840.068361789774,
          -50338.27480304227,
          -50548.549393344336,
          -51682.898236729096,
          -51145.04886325445,
          -48558.58544155769,
          -49098.16632876416,
          -48816.64586587385,
          -48933.946058744834,
          -50623.06883608729,
          -93320.33361219252,
          -91637.38883817116,
          -93363.17948195821,
          -94705.46109379253,
          -91211.03393645285,
          -49705.61150544362,
          -49682.15146686948,
          -49682.15146686948,
          -49682.15146686948,
          -49682.15146686948,
          2724045.7622222947,
          2722145.4990977845,
          2716655.850071421,
          2720409.4562432943,
          2721113.25740052,
          -73044.08596141989,
          -68117.47786083768,
          -63566.23037744277,
          -67648.2770893537,
          -79143.69599071205,
          -47444.82366715961,
          -47444.82366715961,
          -47444.82366715961,
          -47444.82366715961,
          -47444.82366715961,
          -47506.43246977958,
          -47506.43246977958,
          -47506.43246977958,
          -47506.43246977958,
          -47506.43246977958,
          -47346.21237444618,
          -47346.21237444618,
          -47346.21237444618,
          -47346.21237444618,
          -47346.21237444618,
          -62960.89112503778,
          -64509.25367093503,
          -64298.11332376727,
          -63430.09189652177,
          -64173.773844822754,
          -56650.16788423497,
          -56476.99078298234,
          -56667.425790672976,
          -57047.470768567604,
          -56667.186474632756,
          5818966.408452491,
          2044135.6798604536,
          1829574.4748750261,
          2897524.412012439,
          2465539.0616547354,
          -53940.7601542883,
          -53940.7601542883,
          -53938.84260912858,
          -53940.7601542883,
          -53938.84260912858,
          -64489.066102730816,
          -64489.066102730816,
          -64489.066102730816,
          -64489.066102730816,
          -64482.732019765856,
          -19651.6222673249,
          -19649.704722165105,
          -19649.704722165105,
          -19649.704722165105,
          -19649.704722165105,
          -46842.38905693246,
          -48977.21433214749,
          -50244.03092512928,
          -43909.947960219695,
          -52144.25581460203,
          -79020.3118200306,
          -78996.85178145645,
          -78996.85178145645,
          -78996.85178145645,
          -79020.3118200306,
          -162254.54941241047,
          -162254.54941241047,
          -162254.54941241047,
          -162019.94902666842,
          -162489.14979815256,
          1155064.975897775,
          1136062.7270030465,
          1136062.7270030465,
          1088158.2968554755,
          1110726.3951434086,
          -92668.55574485468,
          -93170.6005703426,
          -93126.0264970516,
          -92891.42611130959,
          -92668.55574485468,
          -49394.018988938384,
          -49235.666914815694,
          -49406.68715486826,
          -49222.99874888594,
          -49417.479027512774,
          33783.071988964584,
          34017.672374706664,
          34017.672374706664,
          33783.071988964584,
          34017.672374706664,
          -57946.38781260768,
          -58061.44052219344,
          -57888.86145781489,
          -57888.86145781489,
          -57888.86145781489,
          -37814.82584448387,
          -37917.247212315255,
          -37087.90697910625,
          -36863.084133873665,
          -37406.73922846309,
          -276638.3625363047,
          -276638.3625363047,
          -276638.3625363047,
          -276638.3625363047,
          -276872.9629220466,
          -67432.86383033136,
          -67432.86383033136,
          -61098.78086542165,
          -64010.72700225094,
          -67432.86383033136,
          -72528.3681584438,
          -72287.45027912514,
          -72447.94262505964,
          -72403.78956243601,
          -72321.44648389223,
          -50967.52522511386,
          -50967.52522511386,
          -50990.98526368798,
          -50967.52522511386,
          -50973.85930807883,
          -47413.15325233502,
          -47413.15325233502,
          -47413.15325233502,
          -47413.15325233502,
          -47413.15325233502,
          -47234.06690228853,
          -47234.06690228853,
          -47234.06690228853,
          -47234.06690228853,
          -47234.06690228853,
          -59922.316402564495,
          -59922.316402564495,
          -59898.85636399019,
          -59898.85636399019,
          -59898.85636399019,
          -49268.47144190323,
          -49127.71121045804,
          -50042.65271485211,
          -49315.3915190518,
          -50910.67414209728,
          -51945.555498103975,
          62734.84797066,
          62073.98773298351,
          64195.90552622818,
          63499.1564000881,
          62835.9539820581,
          -71314.77002913767,
          -70696.66061144299,
          -70572.19720952878,
          -72545.29831264072,
          -72765.21821335542,
          -49149.828485774706,
          -49173.28852434884,
          -49173.28852434884,
          -49173.28852434884,
          -49173.28852434884,
          -61496.77700872171,
          -61490.44292575664,
          -61496.77700872171,
          -61496.77700872171,
          -61490.44292575664,
          -34509.275835782944,
          -39017.98001182731,
          -38382.24165143322,
          -37583.73895307197,
          -36606.780876099016,
          -116928.39305471543,
          -110748.69245038152,
          -110657.23173019863,
          -115024.884848901,
          -121534.70903002429,
          -62407.9551444548,
          -60315.85946414638,
          -60101.63011531788,
          -61251.093965631844,
          -59672.10817211713,
          -26120.937407399677,
          -25929.182891423625,
          -26120.937407399677,
          -25929.182891423625,
          -25694.582505681436,
          -18102.997739115537,
          -67805.0369082776,
          -70215.55235524345,
          -55977.3902487469,
          -72763.78330548677,
          28426.91886806382,
          -42139.67913196047,
          -19189.73320372623,
          22333.770371861232,
          -36826.60275543152,
          38214.37316780835,
          121145.17322630345,
          83097.8295670804,
          -35653.23807686205,
          40028.086797189666,
          -49088.0980296998,
          -49088.0980296998,
          -49088.0980296998,
          -49088.0980296998,
          -49088.0980296998,
          -49793.74381638269,
          -49793.74381638269,
          -49793.74381638269,
          -49793.74381638269,
          -49793.74381638269,
          -98445.51032693339,
          -98422.05028835934,
          -98468.9703655078,
          -98637.47522250368,
          -98426.33487533589,
          -47720.56411937662,
          -47720.56411937662,
          -47720.56411937662,
          -47718.64657421683,
          -47720.56411937662,
          -72023.21895037778,
          -70118.78362071388,
          -75207.14381576207,
          -70496.82131223881,
          -68244.08031899351,
          789249.8273864589,
          789484.4277722011,
          789484.4277722011,
          789484.4277722011,
          789484.4277722011,
          -32720.662192403506,
          -40788.48343792583,
          -40964.20078369821,
          -40178.535180009014,
          -37879.87666349307,
          -71919.97136996285,
          -71951.88110082764,
          -71721.88277102156,
          -71285.07036248321,
          -47493.76430384973,
          -47227.732819323464,
          -47462.093889025135,
          -47430.42347420061,
          -47500.098386814614,
          307545.07380812074,
          307136.0676339024,
          307449.1965501323,
          307430.02109853475,
          307545.07380812074,
          -58093.9651813182,
          -58563.16595280229,
          -58563.16595280229,
          -58563.16595280229,
          -58563.16595280229,
          -47189.72832153407,
          -47189.72832153407,
          -47189.72832153407,
          -47189.72832153407,
          -47189.72832153407,
          -51892.12844382996,
          -51892.12844382996,
          -51892.12844382996,
          -51911.30389542767,
          -51892.12844382996,
          -59907.88408149653,
          -60142.484467238595,
          -60142.484467238595,
          -59907.88408149653,
          -59907.88408149653,
          -57120.719500872176,
          -57120.719500872176,
          -57120.719500872176,
          -57120.719500872176,
          -57120.719500872176,
          -54845.851617564185,
          -54845.851617564185,
          -54845.851617564185,
          -54845.851617564185,
          -55037.60613354031,
          -47443.091640130464,
          -47443.091640130464,
          -47443.091640130464,
          -47443.091640130464,
          -47443.091640130464,
          -96241.52674023234,
          -96241.52674023234,
          -96476.12712597435,
          -95842.71882948354,
          -95842.71882948354,
          -73360.13623452457,
          -71276.2670088033,
          -71510.86739454542,
          -74255.69190772688,
          -71675.08766456488,
          -49778.87456307242,
          -8663.142023890177,
          -44478.87105785088,
          -62292.686059768064,
          -59243.74776911248,
          -50176.50573316015,
          -49913.35254961558,
          -49869.698507597896,
          -49853.45915300576,
          -50038.442481657316,
          -107141.47946191923,
          -107141.47946191923,
          -107135.14537895426,
          -107135.14537895426,
          -107141.47946191923,
          -51072.443227474505,
          -51068.608137155,
          -51074.36077263432,
          -51066.69059199519,
          -51076.27831779393,
          -47057.05898467688,
          -47057.05898467688,
          -47057.05898467688,
          -47057.05898467688,
          -47057.05898467688,
          -67357.0242557906,
          -62784.17533819745,
          -64239.20447078611,
          -61007.848287110726,
          -61801.79494821623,
          -50153.484039113435,
          -50264.252161722514,
          -50130.0240005393,
          -50130.0240005393,
          -50264.252161722514,
          -47316.409980832315,
          -47316.409980832315,
          -47316.409980832315,
          -47316.409980832315,
          -47316.409980832315,
          20876.32721938414,
          20249.253005858005,
          22326.83221834832,
          22016.462153067783,
          21066.349708331254,
          -99474.30838496776,
          -100037.34931074837,
          -101046.13096943914,
          -99052.02769063212,
          -100389.2498893614,
          -48648.94781885427,
          -48648.94781885427,
          -48672.407857428414,
          -48648.94781885427,
          -48648.94781885427,
          -129404.16594735168,
          -120325.47478322378,
          -126142.23537981547,
          -121028.08035513366,
          -124341.84672557643,
          -100750.85088868423,
          -100750.85088868423,
          -100750.85088868423,
          -100750.85088868423,
          -100750.85088868423,
          -58110.01847969544,
          -58726.31356558961,
          -63723.301781894406,
          -56219.17843981086,
          -61968.70222229053,
          -31244.301256414867,
          -46952.827009390545,
          -37578.384221324435,
          -50246.55015114362,
          -46699.46369079421,
          21524.085660409004,
          21524.085660409004,
          21520.91861892655,
          21524.085660409004,
          21520.91861892655,
          -49654.157465756914,
          -49742.83462726574,
          -49774.50504209034,
          -48995.41283740642,
          -49489.47130866951,
          -47050.378496305966,
          -47050.378496305966,
          -47050.378496305966,
          -47050.378496305966,
          -47050.378496305966,
          -135869.06698203893,
          -133604.04951798593,
          -136501.4901360684,
          -134948.5213823828,
          -136577.84553705313,
          -69609.59315684804,
          -69654.56792915001,
          -69585.25099019437,
          -69771.37654944537,
          -69480.29322221922,
          -52681.978821253695,
          -52675.06329080316,
          -52700.981070148344,
          -52964.171430584145,
          -52694.64698718354,
          -47764.58210918286,
          -47764.58210918286,
          -47764.58210918286,
          -47764.58210918286,
          -47764.58210918286,
          -48288.18161441613,
          -48294.51569738095,
          -48264.721575842006,
          -48288.18161441613,
          -48294.51569738095,
          326833.80222292163,
          334994.37702733616,
          322406.9675506186,
          355013.63358019013,
          332077.1007299983,
          584725.4011073534,
          475822.01998067443,
          518260.3758455686,
          468619.92833353207,
          722409.6018316331,
          -51921.159370607566,
          -52112.91388658384,
          -51940.33482220497,
          -52136.58430475191,
          -52021.531595166074,
          -47443.091640130464,
          -47443.091640130464,
          -47443.091640130464,
          -47443.091640130464,
          -47443.091640130464,
          -215837.02500512547,
          -236781.11311631196,
          -226000.01435187136,
          -217946.32468086528,
          -232903.17692701946,
          -30763.497752408635,
          -27774.67910100347,
          -32272.589664503077,
          11984.201069421473,
          -38223.936438805424,
          -47506.43246977958,
          -47506.43246977958,
          -47506.43246977958,
          -47506.43246977958,
          -47506.43246977958,
          -54521.02363980176,
          -54521.02363980176,
          -54755.62402554396,
          -54501.84818820429,
          -54755.62402554396,
          -49637.795454513725,
          -49511.11379521572,
          -49644.12953747862,
          -49276.513409473526,
          -49396.86098580696,
          -47549.90260015756,
          -47549.90260015756,
          -47547.98505499777,
          -47549.90260015756,
          -47547.98505499777,
          -54723.86073257952,
          -55199.39558702842,
          -54964.79520128638,
          -54980.80361140156,
          -55196.228545546124,
          -54552.432408948276,
          -53691.33703663039,
          -55132.89049807309,
          -55576.27111450056,
          -55910.517375654104,
          -141400.2150373936,
          -125745.88929105047,
          -126415.09219491282,
          -132110.44916534954,
          -122099.04216269583,
          -74007.98655826112,
          -74031.44659683539,
          -73796.8462110933,
          -74449.42995918191,
          -74223.20111281166,
          -101405.82632655217,
          -101212.82231425312,
          -101211.7258067183,
          -101405.39786785438,
          -101426.11932364374,
          -43417.11412933127,
          -43417.11412933127,
          -43436.28958092888,
          -43436.28958092888,
          -43436.28958092888,
          -153293.2783317084,
          -153316.94874987635,
          -153316.94874987635,
          -156882.79814308012,
          -153508.70326585267,
          -54347.345804351775,
          -56432.69196685772,
          -56484.02543152924,
          -55338.812325723215,
          -53391.163931696494,
          -56082.19238615174,
          -56063.01693455404,
          -56063.01693455404,
          -56082.19238615174,
          -56082.19238615174,
          -46904.69458811317,
          -46556.32002504305,
          -46904.69458811317,
          -46935.73159464133,
          -46904.69458811317,
          -56100.82206140144,
          -55868.1392208193,
          -56102.73960656124,
          -55866.22167565958,
          -55868.1392208193,
          -70247.88465627696,
          -70209.53375308137,
          -70439.63917225297,
          -70305.41101106974,
          -70017.77923710515,
          -76439.66344533248,
          -76223.37920849594,
          -76235.87417172285,
          -76814.30476113434,
          -76669.76886450419,
          -54985.10996595115,
          -54538.26010434949,
          -54730.014620325535,
          -54409.84641802209,
          -54793.35544997464,
          -88154.761007612,
          -88154.761007612,
          -88154.761007612,
          -88346.5155235884,
          -88154.761007612,
          -75372.48171657378,
          -75366.14763360897,
          -75349.02167799951,
          -75366.14763360897,
          -75370.56417141405,
          -49897.93317165193,
          -49901.100213134145,
          -49897.93317165193,
          -49894.76613016917,
          -49897.93317165193,
          -48943.28492904428,
          -48672.79565483856,
          -48881.82039268065,
          -48803.935103816184,
          -48818.47956303154,
          -67799.49867284401,
          -63366.66997253622,
          -63072.32123874098,
          -66117.9186615105,
          -64368.906815952665,
          -90576.98882955693,
          -90777.73327867391,
          -91047.44726994987,
          -90792.41376370125,
          -91751.18634358302,
          -91614.65366290441,
          -100398.34850611458,
          -95706.43000636162,
          -100860.49724651256,
          -96046.59419318139,
          -27990.168059740252,
          -32100.264857840346,
          -33690.82998314613,
          -28534.0080438985,
          -31583.76207849459,
          -48372.42856093295,
          -48415.064051104746,
          -48606.818567081,
          -48415.064051104746,
          -48606.818567081,
          -48687.03053282356,
          -48776.22730244102,
          -48744.38368491337,
          -48712.540067385904,
          -48782.56138540591,
          -32016.038897150152,
          -27406.21141488829,
          -30326.91611980769,
          -8157.625742624291,
          -31030.717277033793,
          -50234.593431586465,
          -51454.51543744502,
          -52158.31659467098,
          -52158.31659467098,
          -50375.35366303164,
          -49810.540413841685,
          -51313.90042775025,
          -50053.39242770825,
          -50989.876425516646,
          -49686.90613800574,
          -40460.37620643098,
          -41070.324464347934,
          -41087.4504199571,
          -42360.601095903905,
          -41070.324464347934,
          -47398.75305937602,
          -47430.42347420061,
          -47417.75530827084,
          -47430.42347420061,
          -47373.416727516385,
          -54843.80986917464,
          -54463.764891280014,
          -54717.12820987652,
          -54907.15069882377,
          -54527.10572092914,
          -47541.56693866231,
          -47541.56693866231,
          -47541.56693866231,
          -47541.56693866231,
          -47541.56693866231,
          -48146.89279735656,
          -48146.89279735656,
          -48146.89279735656,
          -48146.89279735656,
          -48146.89279735656,
          -47467.79456369367,
          -47461.460480728616,
          -47309.44248957098,
          -47436.124148868985,
          -47372.78331921986,
          -40187.96991595467,
          -40144.67055141772,
          -40487.75024774033,
          -40221.372357808475,
          -40272.73783233919,
          -56846.622587794925,
          -56846.622587794925,
          -56846.622587794925,
          -56865.79803939263,
          -56612.022202052736,
          -63443.24018182895,
          -63677.840567570755,
          -63486.086051594604,
          -63486.086051594604,
          -63677.840567570755,
          -45840.56865000825,
          -46169.94096418386,
          -46207.94546197311,
          -45986.25255820131,
          -44972.799283815664,
          -47506.43246977958,
          -47506.43246977958,
          -47506.43246977958,
          -47506.43246977958,
          -47506.43246977958,
          -49434.386851515526,
          -49428.05276855074,
          -49428.05276855074,
          -49428.05276855074,
          -49428.05276855074,
          -84691.19125665234,
          -84522.89677925024,
          -84499.4367406761,
          -84949.25168096852,
          -84499.4367406761,
          56054.4784590926,
          55856.38986015131,
          81156.20993298882,
          49721.028902479615,
          26277.95444105283,
          -47649.56037160339,
          -47579.18025588092,
          -47579.18025588092,
          -47931.08083449377,
          -48728.72214601645,
          -51377.71871257344,
          -51185.75381700334,
          -51401.17875114766,
          -51420.35420274527,
          -51420.35420274527,
          -48511.4367573053,
          -48511.4367573053,
          -48534.896795879584,
          -48511.4367573053,
          -48534.896795879584,
          -50892.917858082736,
          -51119.95873343502,
          -50777.415651839874,
          -51256.80644075945,
          -52257.88468236279,
          -53737.52333323825,
          -54305.30649261953,
          -53377.68471945372,
          -53244.21120845886,
          -52868.29392837997,
          -1037596.7406632219,
          -1037788.4951791991,
          -1031219.8118285491,
          -1031262.6576983149,
          -1031262.6576983149,
          -45780.40456151761,
          -57536.462544389695,
          -59329.00802345905,
          -37020.36782104757,
          -59113.64920265219,
          -48111.844816728386,
          -49121.46326303217,
          -49051.44194501217,
          -48247.1121941292,
          -48253.792682499945,
          -55309.79227064044,
          -55075.191884898246,
          -55309.79227064044,
          -54883.43736892224,
          -55075.191884898246,
          32560.640653074774,
          37102.417454955415,
          41935.08344114088,
          36469.009158464345,
          42169.68382688295,
          -58257.698348205005,
          -55184.433294984745,
          -57460.0570366823,
          -63653.5072202712,
          -56146.294876527,
          -76681.17368171352,
          -48619.69816688696,
          -49253.119208390635,
          -48127.037356828914,
          -48502.39797401622,
          -48572.778089738684,
          -15580.15591380945,
          -15580.15591380945,
          -15580.15591380945,
          -15580.15591380945,
          -15580.15591380945,
          -141495.8506530431,
          -141538.69652280875,
          -141773.29690855066,
          -141495.8506530431,
          -141519.52107121103,
          -47467.95788783043,
          -47469.87543299023,
          -47467.95788783043,
          -47469.87543299023,
          -47469.87543299023,
          -60596.89488171511,
          -60596.89488171511,
          -60596.89488171511,
          -60596.89488171511,
          -60596.89488171511,
          -118353.17235858366,
          -117485.16367635068,
          -117465.98822475312,
          -117472.32230771797,
          -118359.50644154857,
          -47317.74607850632,
          -47355.75057629582,
          -47368.418742225585,
          -47334.83078224133,
          -47328.496699276366,
          -46454.068413493136,
          -45944.52096386585,
          -45614.67001761004,
          -46265.934962843654,
          -46370.088357704095,
          3484035.6454679295,
          3479367.1870067506,
          3483402.2371714376,
          3484035.6454679295,
          3483801.0450821877,
          -89470.99875973511,
          -89470.99875973511,
          -89470.99875973511,
          -89470.99875973511,
          -89470.99875973511,
          -96500.76559370357,
          -99224.1749600585,
          -95849.73213562848,
          -94625.6455128879,
          -94305.4403643009,
          -103367.07436626806,
          -103367.07436626806,
          -103625.13479058424,
          -77655.39463445505,
          -103625.13479058424,
          -41354.655312876755,
          -57187.94517999084,
          -46611.758655621,
          -57997.899582008526,
          -24910.601439755235,
          -97694.49336908424,
          -99715.24795820845,
          -97944.16290839933,
          -101272.5605195213,
          -102768.2899414899,
          -89106.09178688015,
          -84525.38584130589,
          -99498.89795702414,
          -89094.77227826812,
          -84226.84658904083,
          -54455.54102284361,
          -54455.54102284361,
          -54455.54102284361,
          -54263.786506867094,
          -54498.386892609284,
          -57036.16402758759,
          -55336.81961304381,
          -57162.672484182774,
          -57123.0310091483,
          -55558.27320077523,
          -49157.55758977902,
          -49179.100083193414,
          -49181.01762835321,
          -49186.77026383246,
          -49151.80495429977,
          -57389.94548859138,
          -57992.3628658693,
          -58161.359003891375,
          -56673.36596348105,
          -56267.1691399275,
          -49301.3339323615,
          -49301.3339323615,
          -49301.3339323615,
          -49301.3339323615,
          -49301.3339323615,
          -106791.40352607914,
          -106791.40352607914,
          -107026.00391182111,
          -107026.00391182111,
          -106791.40352607914,
          -48063.85726071642,
          -48792.06297566566,
          -47654.949935419354,
          -48729.893236193566,
          -47696.94633581998,
          -76543.10564975394,
          -77223.4467684057,
          -76543.10564975394,
          -80202.87166732934,
          -77199.98672983155,
          -48541.273447755324,
          -50458.818607518675,
          -50458.818607518675,
          -49672.62509201563,
          -51034.08215544744,
          -46537.31777614846,
          -47056.71257927094,
          -47468.4279719901,
          -47449.425723095264,
          -47386.08489344616,
          -54237.81044805339,
          -53708.601220406716,
          -54441.20318078075,
          -54441.20318078075,
          -54441.20318078075,
          -49413.57862417771,
          -51343.59763518964,
          -50452.409482297204,
          -50959.13611948993,
          -50577.17359643549,
          -60404.421372530276,
          -47607.84175638389,
          -60467.762202179394,
          -60467.762202179394,
          -60467.762202179394,
          -55160.32574082626,
          -55352.08025680251,
          -55352.08025680251,
          -55543.834772778995,
          -55543.834772778995,
          -83078.66677645824,
          -82844.06639071625,
          -83078.66677645824,
          -82844.06639071625,
          -83078.66677645824,
          -113150.38990079283,
          -107757.14085170545,
          -110566.77686192137,
          -120360.03178569698,
          -115661.18144195148,
          -49906.56560150673,
          -49893.1427853886,
          -49904.64805634701,
          -49906.56560150673,
          -49893.1427853886,
          -123153.08609277439,
          -123153.08609277439,
          -123153.08609277439,
          -123153.08609277439,
          -123153.08609277439,
          -82523.53331817249,
          -82546.99335674675,
          -82546.99335674675,
          -82523.53331817249,
          -82546.99335674675,
          -28594.11416167148,
          -28789.70376796731,
          -28783.951132488186,
          -28730.91974426561,
          -29020.469063389886,
          -66550.77566939402,
          -69179.94891683415,
          -68420.6585413127,
          -67380.94029885872,
          -69728.28445284234,
          -52527.74117067703,
          -52527.74117067703,
          -52527.74117067703,
          -52527.74117067703,
          -52527.74117067703,
          -159728.01178496017,
          -156326.36991676333,
          -159728.01178496017,
          -159493.41139921805,
          -158610.10383818878,
          -85511.58616317563,
          -89371.25511149263,
          -266943.37608127756,
          -98522.77395136943,
          -141260.78623024173,
          -114814.22280902712,
          -110572.17430073608,
          -107395.44831075132,
          -107072.17076350069,
          -108872.72553781737,
          -50137.35177830026,
          -34682.18934392068,
          -50384.381013931605,
          -50409.71734579131,
          -47350.35527373991,
          -53451.952868649634,
          -53451.952868649634,
          -53451.952868649634,
          -53428.492830075505,
          -53451.952868649634,
          -69348.49226435277,
          -82265.32394914559,
          -64970.91414127652,
          -81430.62955059449,
          -68326.33116797169,
          -53023.56179486481,
          -52932.17950344703,
          -52505.82460172883,
          -52831.80727888878,
          -52831.80727888878,
          -88124.16185826583,
          -88117.82777530098,
          -88124.16185826583,
          -88128.578396071,
          -88128.578396071,
          -52071.12709708532,
          -52077.46118005029,
          -52071.12709708532,
          -52077.46118005029,
          -52077.46118005029,
          -47505.165653186465,
          -47505.165653186465,
          -47505.165653186465,
          -47505.165653186465,
          -47505.165653186465,
          -60737.64966317756,
          -60761.109701751695,
          -60737.64966317756,
          -60737.64966317756,
          -60737.64966317756,
          -48848.71408161401,
          -48848.71408161401,
          -48848.71408161401,
          -48848.71408161401,
          -48848.71408161401,
          -40275.96505242438,
          -50546.879724957296,
          -52636.87786018428,
          -55804.23618303652,
          -50814.110607544935,
          -72335.82407486078,
          -71397.42253189275,
          -69942.9001402924,
          -69590.99956167945,
          -71632.02291763481,
          -76599.1536038442,
          -76863.05896908524,
          -76761.02787000615,
          -76215.64457189158,
          -76342.32878019221,
          -5504572.645122189,
          -5421289.508183776,
          -5464690.579546047,
          -5461875.374917147,
          -5516068.064023546,
          -64864.82182616319,
          -65328.31144464989,
          -68917.56504295852,
          -66874.62414184316,
          -63845.22351023435,
          -48911.69260387787,
          -48982.07271960057,
          -50131.61460973644,
          -48583.252063839056,
          -48841.312488155236,
          -89008.5845197163,
          -89008.5845197163,
          -89008.5845197163,
          -89458.399460009,
          -89243.18490545839,
          -52481.50389503863,
          -53019.900947056056,
          -50435.595097372825,
          -53178.25302117869,
          -50492.60184405713,
          -57026.65624991534,
          -57026.65624991534,
          -56768.59582559929,
          -57003.19621134119,
          -57026.65624991534,
          -82164.2083107114,
          -78935.48920256922,
          -80991.2063820014,
          -81856.9679336647,
          -80942.0264292708,
          -60893.23934025665,
          -59309.71859902925,
          -62921.87791605655,
          -63447.78000484698,
          -60386.51270306371,
          999908.4269218516,
          1039203.2013428648,
          1006007.9095010187,
          999931.8869604252,
          1032235.710081464,
          -57738.34007980319,
          -57738.34007980319,
          -57738.34007980319,
          -57951.8474687878,
          -57719.16462820549,
          -62457.62218926869,
          -62362.610944794884,
          -63103.937967729646,
          -63091.26980179979,
          -63065.93346994016,
          -49480.8855905666,
          -49480.8855905666,
          -49480.8855905666,
          -49480.8855905666,
          -49480.8855905666,
          -166868.2882755933,
          -165899.1735819621,
          -166994.9699348914,
          -166438.26309207547,
          -166779.61111408458,
          -53511.416801580795,
          -60956.77346656555,
          -53043.02502370807,
          -53434.129626459406,
          -52966.8272427663,
          -48295.47164557169,
          -48295.47164557169,
          -48295.47164557169,
          -48295.47164557169,
          -48295.47164557169,
          -54214.172815833015,
          -54214.172815833015,
          -54079.94465464956,
          -54597.68184778564,
          -54597.68184778564,
          -49959.72391486195,
          -50285.70659202174,
          -50247.35568882632,
          -49959.72391486195,
          -50285.70659202174,
          -94784.54748514964,
          -94784.54748514964,
          -94784.54748514964,
          -94592.79296917332,
          -94592.79296917332,
          -58064.93464186646,
          -58299.53502760857,
          -58299.53502760857,
          -58534.13541335075,
          -58534.13541335075,
          -43297.51638139741,
          -42266.32658210177,
          -42592.309259261434,
          -42879.94103322612,
          -42553.95835606627,
          -47506.43246977958,
          -47506.43246977958,
          -47506.43246977958,
          -47506.43246977958,
          -47506.43246977958,
          -49166.52142418193,
          -49143.0613856078,
          -49143.0613856078,
          -49166.52142418193,
          -49143.0613856078,
          -73722.80360718023,
          -72112.06567297911,
          -77615.42028150003,
          -72321.1565241585,
          -72487.40150557246,
          -89352.04244283722,
          -86273.43880585095,
          -90770.6377109368,
          -92031.1202209538,
          -91397.71192446281,
          -57101.52581381532,
          -59203.00634371189,
          -59872.92642700361,
          -55837.87626231591,
          -55627.655826060894,
          -47348.080395656674,
          -47481.09613791996,
          -47443.091640130464,
          -47496.931345332094,
          -47481.09613791996,
          -47503.698435054284,
          -47551.20405729109,
          -47551.20405729109,
          -47535.368849878876,
          -47478.36210319486,
          -46892.0264221833,
          -46885.6923392185,
          -46885.6923392185,
          -46892.0264221833,
          -46892.0264221833,
          -45570.441466704906,
          -43670.21657723217,
          32908.84646852442,
          -27626.22374315662,
          -48085.31171981439,
          -44369.82637818866,
          -44375.579013667986,
          -44413.92991686309,
          -44406.25973622402,
          -44400.507100744704,
          -51659.68311381975,
          -50163.997889204475,
          -50739.26143713348,
          -50240.699695594965,
          -50758.43688873093,
          -38540.48916459569,
          -38812.90478051176,
          -39845.31025536706,
          -37490.99898600518,
          -42232.90107454234,
          -54698.802133818506,
          -53931.78406991304,
          -54338.75314044,
          -53931.78406991304,
          -54146.99862446359,
          -50152.01138195643,
          -51379.240284205094,
          -49615.098737222834,
          -50228.713188347094,
          -51570.99480018152,
          -56826.80121526173,
          -57050.22614606255,
          -56856.55408492661,
          -57056.56022902744,
          -56535.00856470473,
          -74151.10712757036,
          -74662.06478443748,
          -73027.87137949071,
          -73644.19497224658,
          -71496.94084714241,
          -47891.092081275754,
          -47893.00962643547,
          -47891.092081275754,
          -47893.00962643547,
          -47891.092081275754,
          -45007.31509669155,
          -45007.31509669155,
          -45007.31509669155,
          -45007.31509669155,
          -45007.31509669155,
          -5750.633157878663,
          -3850.4082684059163,
          -7017.449750860705,
          -4483.816564896895,
          -8284.266343842555,
          -54138.336041679584,
          -54448.706106960126,
          -54429.70385806538,
          -54005.32029941646,
          -54068.661129065666,
          31258.93664284164,
          35040.62348893289,
          13713.526830042149,
          16551.435314362127,
          45555.20121068292,
          -57024.48335598251,
          -55907.358701977915,
          -56065.71077610084,
          -54769.49977204977,
          -52129.27512913544,
          -61952.547812342134,
          -88897.73674506729,
          -65420.40884279993,
          -95630.16181052673,
          -63760.35949788491,
          -48758.03290471291,
          -48758.03290471291,
          -48758.03290471291,
          -48758.03290471291,
          -48758.03290471291,
          -47288.55002547177,
          -47332.88860622605,
          -47320.220440296194,
          -47294.884108436556,
          -47342.38973067354,
          -47505.165653186465,
          -47505.165653186465,
          -42066.89794143776,
          -42086.07339303548,
          -42277.82790901173,
          -41894.318877059064,
          -42020.81501822656,
          -50665.681141792906,
          -50665.681141792906,
          -50665.681141792906,
          -50665.681141792906,
          -50665.681141792906,
          -184401.41097100996,
          -185783.96103119935,
          -187111.3517784127,
          -196680.03407646043,
          -186740.8160659213,
          52267.845777407754,
          48514.319899114096,
          52441.45133735798,
          50097.840640341514,
          45746.0863274083,
          -23975.765298290586,
          -23975.765298290586,
          -23969.431215325534,
          -23975.765298290586,
          -23969.431215325534,
          -49875.89636577377,
          -50556.23748442572,
          -50931.598101612886,
          -49899.356404348,
          -49758.596172902726,
          -67349.49106035489,
          -67584.0914460968,
          -67349.49106035489,
          -67584.0914460968,
          -67584.0914460968,
          -34600.767035643184,
          -34607.495210863985,
          -46699.49890691683,
          -41537.22129051548,
          -42588.439746650096,
          -26201.153670128264,
          -25884.44952188268,
          -26264.494499777385,
          -25631.086203286282,
          -25884.44952188268,
          -52459.08210532991,
          -52459.08210532991,
          -52224.48171958795,
          -52224.48171958795,
          -52459.08210532991,
          -50101.11783409106,
          -50654.774744442264,
          -50255.95408868076,
          -49739.8332400486,
          -49418.43071158198,
          336070.6554797045,
          1279849.017251229,
          286664.8083534098,
          492522.5047129705,
          125145.69274821595,
          -48155.926555097845,
          -48155.926555097845,
          -48155.926555097845,
          -48155.926555097845,
          -48155.926555097845,
          -53260.414041938675,
          -53260.414041938675,
          -53025.81365619672,
          -53260.414041938675,
          -53025.81365619672,
          -44781.216287698095,
          -46352.06886299573,
          -48024.98471385285,
          -43001.77937160192,
          -45491.59084392947,
          -42321.76028628627,
          -73857.96336434499,
          -43180.78147753795,
          -76259.43586716075,
          -91465.61507062548,
          819995.6965494893,
          819612.1875175366,
          820230.2969352313,
          820422.0514512077,
          819995.6965494893,
          -51335.67489724908,
          -50783.0230538599,
          -51375.395134566854,
          -50776.68897089484,
          -50776.68897089484,
          228078.0141335076,
          941931.0194601225,
          216999.04503864737,
          34577.455649252006,
          53821.73420919115,
          -123941.44172136123,
          -127167.1845067702,
          -122514.75143845184,
          -124378.06004582628,
          -129269.18503813246,
          -47506.43246977958,
          -47506.43246977958,
          -47506.43246977958,
          -47506.43246977958,
          -47506.43246977958
         ],
         "yaxis": "y"
        },
        {
         "hovertemplate": "color=2<br>PC1=%{x}<br>PC2=%{y}<extra></extra>",
         "legendgroup": "2",
         "marker": {
          "color": "#EF553B",
          "symbol": "circle"
         },
         "mode": "markers",
         "name": "2",
         "showlegend": true,
         "type": "scattergl",
         "x": [
          451297003.3685412,
          459031483.63893026,
          480340611.5124798,
          439994554.229613,
          468238867.3655185
         ],
         "xaxis": "x",
         "y": [
          -5289984.382290727,
          -9476355.26595479,
          763907.5257051494,
          -3235104.2111308035,
          -5796843.706435755
         ],
         "yaxis": "y"
        },
        {
         "hovertemplate": "color=3<br>PC1=%{x}<br>PC2=%{y}<extra></extra>",
         "legendgroup": "3",
         "marker": {
          "color": "#00cc96",
          "symbol": "circle"
         },
         "mode": "markers",
         "name": "3",
         "showlegend": true,
         "type": "scattergl",
         "x": [
          8960226.540921139,
          8962067.846955141,
          8959975.605435222,
          8960853.879635928,
          8959097.331234517,
          19726403.01010828,
          19732993.15451579,
          19740665.622695114,
          19725148.3326787,
          19725148.3326787,
          82913833.27902798,
          84155991.05173461,
          90136244.7782383,
          85374839.3574755,
          83918793.1811802,
          92814357.3430673,
          92814067.76603493,
          92809617.39842978,
          92812469.92094713,
          92810990.06906262,
          81787672.53770635,
          84225831.83608538,
          79667361.72727464,
          79763664.91060413,
          80781241.68011168,
          57001410.80827548,
          57004842.484857574,
          57003126.64656653,
          57003126.64656653,
          57003126.64656653,
          59095961.37434233,
          52180255.41859357,
          58377224.01985162,
          51676477.43158372,
          59826280.1723529,
          9040443.231864596,
          9046695.072183412,
          9036275.800155133,
          9036888.698509738,
          9040566.088637367
         ],
         "xaxis": "x",
         "y": [
          -1327066.085687213,
          -1327237.3452433061,
          -1327192.7673465111,
          -1326749.3815389674,
          -1327636.1531540554,
          7303400.748913506,
          7304450.285391035,
          7309500.231492675,
          7302767.340617015,
          7302767.340617015,
          -7216126.139334725,
          -7690794.211406252,
          -7958628.448921432,
          -8207957.423872434,
          -7318391.279588029,
          10743073.429968115,
          10743917.97861178,
          10742111.593876597,
          10743331.490392439,
          10741923.913568005,
          -3900021.4845478027,
          -2945452.9069835185,
          -4608264.245287469,
          -4669728.78165113,
          -4189042.4049253454,
          -7797066.906535217,
          -7797536.107306696,
          -7797301.506920955,
          -7797301.506920955,
          -7797301.506920955,
          10764931.163267594,
          10712561.938833946,
          10665101.037216138,
          11418168.49135523,
          10488951.966233205,
          -994617.850300232,
          -991890.4412067976,
          -995150.2679783953,
          -994958.5134624187,
          -993807.9863665614
         ],
         "yaxis": "y"
        },
        {
         "hovertemplate": "color=1<br>PC1=%{x}<br>PC2=%{y}<extra></extra>",
         "legendgroup": "1",
         "marker": {
          "color": "#ab63fa",
          "symbol": "circle"
         },
         "mode": "markers",
         "name": "1",
         "showlegend": true,
         "type": "scattergl",
         "x": [
          154818339.33994615,
          154976226.71921083,
          153894507.74797168,
          157197763.29631102,
          156811197.2715478,
          178700896.1080946,
          167694479.28591633,
          189993553.4776798,
          170391024.89794302,
          179473658.75310877
         ],
         "xaxis": "x",
         "y": [
          2562400.080348846,
          2161105.3568578116,
          2441708.9073957843,
          2445114.083727129,
          2517052.1901724925,
          6198592.294179381,
          9453254.610120285,
          5077300.73766256,
          7046693.679787594,
          5698757.294245318
         ],
         "yaxis": "y"
        }
       ],
       "layout": {
        "legend": {
         "title": {
          "text": "color"
         },
         "tracegroupgap": 0
        },
        "template": {
         "data": {
          "bar": [
           {
            "error_x": {
             "color": "#2a3f5f"
            },
            "error_y": {
             "color": "#2a3f5f"
            },
            "marker": {
             "line": {
              "color": "#E5ECF6",
              "width": 0.5
             },
             "pattern": {
              "fillmode": "overlay",
              "size": 10,
              "solidity": 0.2
             }
            },
            "type": "bar"
           }
          ],
          "barpolar": [
           {
            "marker": {
             "line": {
              "color": "#E5ECF6",
              "width": 0.5
             },
             "pattern": {
              "fillmode": "overlay",
              "size": 10,
              "solidity": 0.2
             }
            },
            "type": "barpolar"
           }
          ],
          "carpet": [
           {
            "aaxis": {
             "endlinecolor": "#2a3f5f",
             "gridcolor": "white",
             "linecolor": "white",
             "minorgridcolor": "white",
             "startlinecolor": "#2a3f5f"
            },
            "baxis": {
             "endlinecolor": "#2a3f5f",
             "gridcolor": "white",
             "linecolor": "white",
             "minorgridcolor": "white",
             "startlinecolor": "#2a3f5f"
            },
            "type": "carpet"
           }
          ],
          "choropleth": [
           {
            "colorbar": {
             "outlinewidth": 0,
             "ticks": ""
            },
            "type": "choropleth"
           }
          ],
          "contour": [
           {
            "colorbar": {
             "outlinewidth": 0,
             "ticks": ""
            },
            "colorscale": [
             [
              0,
              "#0d0887"
             ],
             [
              0.1111111111111111,
              "#46039f"
             ],
             [
              0.2222222222222222,
              "#7201a8"
             ],
             [
              0.3333333333333333,
              "#9c179e"
             ],
             [
              0.4444444444444444,
              "#bd3786"
             ],
             [
              0.5555555555555556,
              "#d8576b"
             ],
             [
              0.6666666666666666,
              "#ed7953"
             ],
             [
              0.7777777777777778,
              "#fb9f3a"
             ],
             [
              0.8888888888888888,
              "#fdca26"
             ],
             [
              1,
              "#f0f921"
             ]
            ],
            "type": "contour"
           }
          ],
          "contourcarpet": [
           {
            "colorbar": {
             "outlinewidth": 0,
             "ticks": ""
            },
            "type": "contourcarpet"
           }
          ],
          "heatmap": [
           {
            "colorbar": {
             "outlinewidth": 0,
             "ticks": ""
            },
            "colorscale": [
             [
              0,
              "#0d0887"
             ],
             [
              0.1111111111111111,
              "#46039f"
             ],
             [
              0.2222222222222222,
              "#7201a8"
             ],
             [
              0.3333333333333333,
              "#9c179e"
             ],
             [
              0.4444444444444444,
              "#bd3786"
             ],
             [
              0.5555555555555556,
              "#d8576b"
             ],
             [
              0.6666666666666666,
              "#ed7953"
             ],
             [
              0.7777777777777778,
              "#fb9f3a"
             ],
             [
              0.8888888888888888,
              "#fdca26"
             ],
             [
              1,
              "#f0f921"
             ]
            ],
            "type": "heatmap"
           }
          ],
          "heatmapgl": [
           {
            "colorbar": {
             "outlinewidth": 0,
             "ticks": ""
            },
            "colorscale": [
             [
              0,
              "#0d0887"
             ],
             [
              0.1111111111111111,
              "#46039f"
             ],
             [
              0.2222222222222222,
              "#7201a8"
             ],
             [
              0.3333333333333333,
              "#9c179e"
             ],
             [
              0.4444444444444444,
              "#bd3786"
             ],
             [
              0.5555555555555556,
              "#d8576b"
             ],
             [
              0.6666666666666666,
              "#ed7953"
             ],
             [
              0.7777777777777778,
              "#fb9f3a"
             ],
             [
              0.8888888888888888,
              "#fdca26"
             ],
             [
              1,
              "#f0f921"
             ]
            ],
            "type": "heatmapgl"
           }
          ],
          "histogram": [
           {
            "marker": {
             "pattern": {
              "fillmode": "overlay",
              "size": 10,
              "solidity": 0.2
             }
            },
            "type": "histogram"
           }
          ],
          "histogram2d": [
           {
            "colorbar": {
             "outlinewidth": 0,
             "ticks": ""
            },
            "colorscale": [
             [
              0,
              "#0d0887"
             ],
             [
              0.1111111111111111,
              "#46039f"
             ],
             [
              0.2222222222222222,
              "#7201a8"
             ],
             [
              0.3333333333333333,
              "#9c179e"
             ],
             [
              0.4444444444444444,
              "#bd3786"
             ],
             [
              0.5555555555555556,
              "#d8576b"
             ],
             [
              0.6666666666666666,
              "#ed7953"
             ],
             [
              0.7777777777777778,
              "#fb9f3a"
             ],
             [
              0.8888888888888888,
              "#fdca26"
             ],
             [
              1,
              "#f0f921"
             ]
            ],
            "type": "histogram2d"
           }
          ],
          "histogram2dcontour": [
           {
            "colorbar": {
             "outlinewidth": 0,
             "ticks": ""
            },
            "colorscale": [
             [
              0,
              "#0d0887"
             ],
             [
              0.1111111111111111,
              "#46039f"
             ],
             [
              0.2222222222222222,
              "#7201a8"
             ],
             [
              0.3333333333333333,
              "#9c179e"
             ],
             [
              0.4444444444444444,
              "#bd3786"
             ],
             [
              0.5555555555555556,
              "#d8576b"
             ],
             [
              0.6666666666666666,
              "#ed7953"
             ],
             [
              0.7777777777777778,
              "#fb9f3a"
             ],
             [
              0.8888888888888888,
              "#fdca26"
             ],
             [
              1,
              "#f0f921"
             ]
            ],
            "type": "histogram2dcontour"
           }
          ],
          "mesh3d": [
           {
            "colorbar": {
             "outlinewidth": 0,
             "ticks": ""
            },
            "type": "mesh3d"
           }
          ],
          "parcoords": [
           {
            "line": {
             "colorbar": {
              "outlinewidth": 0,
              "ticks": ""
             }
            },
            "type": "parcoords"
           }
          ],
          "pie": [
           {
            "automargin": true,
            "type": "pie"
           }
          ],
          "scatter": [
           {
            "fillpattern": {
             "fillmode": "overlay",
             "size": 10,
             "solidity": 0.2
            },
            "type": "scatter"
           }
          ],
          "scatter3d": [
           {
            "line": {
             "colorbar": {
              "outlinewidth": 0,
              "ticks": ""
             }
            },
            "marker": {
             "colorbar": {
              "outlinewidth": 0,
              "ticks": ""
             }
            },
            "type": "scatter3d"
           }
          ],
          "scattercarpet": [
           {
            "marker": {
             "colorbar": {
              "outlinewidth": 0,
              "ticks": ""
             }
            },
            "type": "scattercarpet"
           }
          ],
          "scattergeo": [
           {
            "marker": {
             "colorbar": {
              "outlinewidth": 0,
              "ticks": ""
             }
            },
            "type": "scattergeo"
           }
          ],
          "scattergl": [
           {
            "marker": {
             "colorbar": {
              "outlinewidth": 0,
              "ticks": ""
             }
            },
            "type": "scattergl"
           }
          ],
          "scattermapbox": [
           {
            "marker": {
             "colorbar": {
              "outlinewidth": 0,
              "ticks": ""
             }
            },
            "type": "scattermapbox"
           }
          ],
          "scatterpolar": [
           {
            "marker": {
             "colorbar": {
              "outlinewidth": 0,
              "ticks": ""
             }
            },
            "type": "scatterpolar"
           }
          ],
          "scatterpolargl": [
           {
            "marker": {
             "colorbar": {
              "outlinewidth": 0,
              "ticks": ""
             }
            },
            "type": "scatterpolargl"
           }
          ],
          "scatterternary": [
           {
            "marker": {
             "colorbar": {
              "outlinewidth": 0,
              "ticks": ""
             }
            },
            "type": "scatterternary"
           }
          ],
          "surface": [
           {
            "colorbar": {
             "outlinewidth": 0,
             "ticks": ""
            },
            "colorscale": [
             [
              0,
              "#0d0887"
             ],
             [
              0.1111111111111111,
              "#46039f"
             ],
             [
              0.2222222222222222,
              "#7201a8"
             ],
             [
              0.3333333333333333,
              "#9c179e"
             ],
             [
              0.4444444444444444,
              "#bd3786"
             ],
             [
              0.5555555555555556,
              "#d8576b"
             ],
             [
              0.6666666666666666,
              "#ed7953"
             ],
             [
              0.7777777777777778,
              "#fb9f3a"
             ],
             [
              0.8888888888888888,
              "#fdca26"
             ],
             [
              1,
              "#f0f921"
             ]
            ],
            "type": "surface"
           }
          ],
          "table": [
           {
            "cells": {
             "fill": {
              "color": "#EBF0F8"
             },
             "line": {
              "color": "white"
             }
            },
            "header": {
             "fill": {
              "color": "#C8D4E3"
             },
             "line": {
              "color": "white"
             }
            },
            "type": "table"
           }
          ]
         },
         "layout": {
          "annotationdefaults": {
           "arrowcolor": "#2a3f5f",
           "arrowhead": 0,
           "arrowwidth": 1
          },
          "autotypenumbers": "strict",
          "coloraxis": {
           "colorbar": {
            "outlinewidth": 0,
            "ticks": ""
           }
          },
          "colorscale": {
           "diverging": [
            [
             0,
             "#8e0152"
            ],
            [
             0.1,
             "#c51b7d"
            ],
            [
             0.2,
             "#de77ae"
            ],
            [
             0.3,
             "#f1b6da"
            ],
            [
             0.4,
             "#fde0ef"
            ],
            [
             0.5,
             "#f7f7f7"
            ],
            [
             0.6,
             "#e6f5d0"
            ],
            [
             0.7,
             "#b8e186"
            ],
            [
             0.8,
             "#7fbc41"
            ],
            [
             0.9,
             "#4d9221"
            ],
            [
             1,
             "#276419"
            ]
           ],
           "sequential": [
            [
             0,
             "#0d0887"
            ],
            [
             0.1111111111111111,
             "#46039f"
            ],
            [
             0.2222222222222222,
             "#7201a8"
            ],
            [
             0.3333333333333333,
             "#9c179e"
            ],
            [
             0.4444444444444444,
             "#bd3786"
            ],
            [
             0.5555555555555556,
             "#d8576b"
            ],
            [
             0.6666666666666666,
             "#ed7953"
            ],
            [
             0.7777777777777778,
             "#fb9f3a"
            ],
            [
             0.8888888888888888,
             "#fdca26"
            ],
            [
             1,
             "#f0f921"
            ]
           ],
           "sequentialminus": [
            [
             0,
             "#0d0887"
            ],
            [
             0.1111111111111111,
             "#46039f"
            ],
            [
             0.2222222222222222,
             "#7201a8"
            ],
            [
             0.3333333333333333,
             "#9c179e"
            ],
            [
             0.4444444444444444,
             "#bd3786"
            ],
            [
             0.5555555555555556,
             "#d8576b"
            ],
            [
             0.6666666666666666,
             "#ed7953"
            ],
            [
             0.7777777777777778,
             "#fb9f3a"
            ],
            [
             0.8888888888888888,
             "#fdca26"
            ],
            [
             1,
             "#f0f921"
            ]
           ]
          },
          "colorway": [
           "#636efa",
           "#EF553B",
           "#00cc96",
           "#ab63fa",
           "#FFA15A",
           "#19d3f3",
           "#FF6692",
           "#B6E880",
           "#FF97FF",
           "#FECB52"
          ],
          "font": {
           "color": "#2a3f5f"
          },
          "geo": {
           "bgcolor": "white",
           "lakecolor": "white",
           "landcolor": "#E5ECF6",
           "showlakes": true,
           "showland": true,
           "subunitcolor": "white"
          },
          "hoverlabel": {
           "align": "left"
          },
          "hovermode": "closest",
          "mapbox": {
           "style": "light"
          },
          "paper_bgcolor": "white",
          "plot_bgcolor": "#E5ECF6",
          "polar": {
           "angularaxis": {
            "gridcolor": "white",
            "linecolor": "white",
            "ticks": ""
           },
           "bgcolor": "#E5ECF6",
           "radialaxis": {
            "gridcolor": "white",
            "linecolor": "white",
            "ticks": ""
           }
          },
          "scene": {
           "xaxis": {
            "backgroundcolor": "#E5ECF6",
            "gridcolor": "white",
            "gridwidth": 2,
            "linecolor": "white",
            "showbackground": true,
            "ticks": "",
            "zerolinecolor": "white"
           },
           "yaxis": {
            "backgroundcolor": "#E5ECF6",
            "gridcolor": "white",
            "gridwidth": 2,
            "linecolor": "white",
            "showbackground": true,
            "ticks": "",
            "zerolinecolor": "white"
           },
           "zaxis": {
            "backgroundcolor": "#E5ECF6",
            "gridcolor": "white",
            "gridwidth": 2,
            "linecolor": "white",
            "showbackground": true,
            "ticks": "",
            "zerolinecolor": "white"
           }
          },
          "shapedefaults": {
           "line": {
            "color": "#2a3f5f"
           }
          },
          "ternary": {
           "aaxis": {
            "gridcolor": "white",
            "linecolor": "white",
            "ticks": ""
           },
           "baxis": {
            "gridcolor": "white",
            "linecolor": "white",
            "ticks": ""
           },
           "bgcolor": "#E5ECF6",
           "caxis": {
            "gridcolor": "white",
            "linecolor": "white",
            "ticks": ""
           }
          },
          "title": {
           "x": 0.05
          },
          "xaxis": {
           "automargin": true,
           "gridcolor": "white",
           "linecolor": "white",
           "ticks": "",
           "title": {
            "standoff": 15
           },
           "zerolinecolor": "white",
           "zerolinewidth": 2
          },
          "yaxis": {
           "automargin": true,
           "gridcolor": "white",
           "linecolor": "white",
           "ticks": "",
           "title": {
            "standoff": 15
           },
           "zerolinecolor": "white",
           "zerolinewidth": 2
          }
         }
        },
        "title": {
         "text": "PCA Representation of Clusters"
        },
        "xaxis": {
         "anchor": "y",
         "domain": [
          0,
          1
         ],
         "title": {
          "text": "PC1"
         }
        },
        "yaxis": {
         "anchor": "x",
         "domain": [
          0,
          1
         ],
         "title": {
          "text": "PC2"
         }
        }
       }
      },
      "text/html": [
       "<div>                            <div id=\"feee231d-4be3-4c1f-a85b-b67ef442f7d9\" class=\"plotly-graph-div\" style=\"height:525px; width:100%;\"></div>            <script type=\"text/javascript\">                require([\"plotly\"], function(Plotly) {                    window.PLOTLYENV=window.PLOTLYENV || {};                                    if (document.getElementById(\"feee231d-4be3-4c1f-a85b-b67ef442f7d9\")) {                    Plotly.newPlot(                        \"feee231d-4be3-4c1f-a85b-b67ef442f7d9\",                        [{\"hovertemplate\":\"color=0<br>PC1=%{x}<br>PC2=%{y}<extra></extra>\",\"legendgroup\":\"0\",\"marker\":{\"color\":\"#636efa\",\"symbol\":\"circle\"},\"mode\":\"markers\",\"name\":\"0\",\"showlegend\":true,\"x\":[-2200775.9541859264,-2199661.1848588763,-2201377.023149908,-2199535.717115927,-2200274.0832134862,-2039687.7006604932,-2046318.1801600999,-2044933.2238499883,-2047678.565115657,-2047378.3280524556,-2205247.655116919,-2204381.9276905092,-2201775.268424465,-2203469.0829543974,-2200771.526480801,-2219672.448657535,-2219208.2180085904,-2219647.3551089433,-2219296.0454286607,-2219509.340591689,-1337522.708320901,-1339851.4449665486,-1339851.4449665486,-1338135.6066755056,-1339851.4449665486,-2206563.762820316,-2199173.111394536,-2205362.676016586,-2205178.545413186,-2201416.247947187,-2182406.282299945,-2183660.9597295253,-2182828.8016149653,-2183159.088757693,-2182155.346814029,-1977918.174825089,-1834884.947853021,-1911420.271057373,-1922712.3679235887,-2008030.433134998,-2208562.496162494,-2208317.3368206522,-2207643.176340773,-2208390.9123333897,-2208390.9123333897,-2252292.1823829478,-2252292.1823829478,-2252292.1823829478,-2252292.1823829478,-2252292.1823829478,-2207242.1163792396,-2210429.4649250344,-2212393.627731806,-2202320.1093809586,-2200616.8178642117,-2174816.5398885333,-2174816.5398885333,-2174816.5398885333,-2174988.123717638,-2174816.5398885333,-1644418.4791271891,-1644418.4791271891,-1644418.4791271891,-1642702.6408361462,-1646134.3174182319,-2246092.889207641,-2243028.397434618,-2241189.7023708033,-2243641.2957892222,-2247931.584271455,-1621244.8848275696,-1646982.459193212,-1660880.749350659,-1648698.297484255,-1634971.5911559123,-2265924.613889911,-2264230.7993599786,-2265297.275175121,-2264858.1380747682,-2260843.170300114,-2017028.2849342597,-2016409.421982729,-2015610.499438835,-2015861.4349247508,-2016735.6381144198,-2104370.5480429,-2103580.053569061,-2101550.9545146995,-2101108.773567588,-2101807.216594819,-2219373.219660325,-2219373.219660325,-2219373.219660325,-2219373.219660325,-2219373.219660325,-2212611.909396446,-2212611.909396446,-2212611.909396446,-2212611.909396446,-2212611.909396446,-1366802.5034531103,-1362383.3756038884,-1368530.5462703933,-1367349.812542329,-1370313.5145732386,23180798.45410177,7338230.300330072,4475857.536020588,7134514.111048237,20279870.550924476,-1844818.6697297345,-1815387.7915239225,-1825607.4155616818,-1807677.1413260505,-1787455.1746367326,-2219310.485788846,-2219310.485788846,-2219310.485788846,-2219310.485788846,-2219310.485788846,-2269731.213854441,-2266650.9461009656,-2266910.501419509,-2271484.5434310576,-2267368.4540475938,-2156489.579043651,-2154773.740752608,-2154773.740752608,-2154773.740752608,-2156489.579043651,-2117842.50463233,-2117842.50463233,-2117842.50463233,-2117842.50463233,-2119558.342923373,-2225102.176812292,-2222331.7419980317,-2227596.2488508592,-2232990.2544718813,-2231371.0930911535,-2209351.149161094,-2207463.727040947,-2211238.5712812413,-2203048.6635703817,-2209397.26524724,-2327778.3640621346,-2328615.928152472,-2324459.426733267,-2334265.3139974326,-2333278.900485991,-2218858.8019141974,-2218683.1470740563,-2218833.7083656057,-2219084.6438515214,-2219134.8309487044,-2212731.637422441,-2213589.556567962,-2212388.469764232,-2214275.8918843796,-2206211.451916478,-2236693.694483323,-2236693.694483323,-2236693.694483323,-2236693.694483323,-2236693.694483323,-2199997.1274870215,-2205157.189134446,-2211505.7908113045,-2208747.90277134,-2211162.6231530956,-2216942.8923055073,-2219853.544013133,-2219737.2654395443,-2220962.8681774586,-2221422.3144092555,-2185419.240294604,-2185419.240294604,-2185407.948197738,-2183529.00184085,-2185207.199809005,-2219185.018045888,-2219197.564820184,-2219197.564820184,-2219197.564820184,-2219197.564820184,-2196261.6680923062,-2194545.8298012638,-2194797.1181266517,-2197021.6620520167,-2196414.892680958,-1112552.6781440915,-1110460.4366241747,-1111879.223343155,-1110836.8398530483,-1110665.2560239444,-2192215.569967229,-2192282.5672807833,-2193582.345003351,-2193496.6442217696,-2190493.1811871883,-2207975.3300017873,-2216382.9376278976,-2208146.9138308917,-2214152.347849542,-2214495.51550775,-2199304.9863368273,-2197422.9701924585,-2199681.3895657016,-2199509.8057365967,-2199133.402507723,-1625270.0111310394,-1525897.2465847176,-1669424.4878996408,-1596622.2036068372,-1546967.8836461827,-1498385.1748597391,-1486127.2077676454,-1553546.0267741613,-1491153.251377254,-1533320.381072206,-2191782.6482115528,-2188978.310344257,-2186613.0434605,-2177050.4651168063,-2179380.4278659723,-2216926.5986726447,-2216932.8720597923,-2216926.5986726447,-2216945.418834088,-2216939.1454469403,-2219059.5503029297,-2219059.5503029297,-2219059.5503029297,-2219059.5503029297,-2219059.5503029297,-2231865.1082916916,-2175047.825282091,-2217655.2067493587,-2241680.2908272273,-2175248.573670824,-2219185.018045888,-2219185.018045888,-2219185.018045888,-2219185.018045888,-2219185.018045888,-1970499.2650083678,-2005794.7284836397,-2003465.991837992,-1967189.059689802,-2001873.0103197207,-1535277.439417309,-1516848.7497221173,-1536344.7692802423,-1522983.86225171,-1526971.9462476042,-1564993.4804973244,-1560825.7716860129,-1566341.8568774553,-1559599.9749768034,-1558987.0766221988,-2210072.7222852325,-2210072.7222852325,-2210072.7222852325,-2210072.7222852325,-2210072.7222852325,-2218570.226105394,-2218570.226105394,-2216060.871246235,-2218570.226105394,-2218570.226105394,-2219106.3997782054,-2219106.3997782054,-2219106.3997782054,-2219106.3997782054,-2219106.3997782054,-2165638.9211137267,-2163301.1500836723,-2157655.1016505645,-2165057.698485084,-2146191.4209552445,-2173414.697166332,-2173249.386724375,-2173414.697166332,-2173243.113337227,-2173243.113337227,-2211446.352302951,-2211446.352302951,-2211446.352302951,-2211446.352302951,-2211446.352302951,-2223055.5822186917,-2223055.5822186917,-2223055.5822186917,-2223055.5822186917,-2223055.5822186917,-2196384.7531918804,-2197494.110919068,-2198119.556047968,-2198088.0447086273,-2198113.1382572185,-2249481.4395436677,-2245910.581300105,-2255793.652273413,-2234425.310388713,-2247261.8457522723,24659783.10766754,24750479.127443228,24521558.365038242,24614638.271930136,24538398.966015883,-2213441.984582654,-2211738.5486623053,-2211732.2752751573,-2212841.4885987435,-2212829.0862280494,-1781267.658017768,-1781096.0741886634,-1781267.658017768,-1781096.0741886634,-1781096.0741886634,-1398475.975193033,-1398469.846209487,-1398475.975193033,-1398475.975193033,-1398475.975193033,-2218181.2761022244,-2218181.2761022244,-2218181.2761022244,-2218181.2761022244,-2218181.2761022244,-2239519.073895867,-2230224.2572784433,-2238228.200179419,-2230469.416620285,-2240499.711263235,-2109435.040088971,-2059516.526985269,-2126523.746679845,-2060233.5867060188,-2108611.2496771575,-2145259.743928736,-2150434.7407840136,-2153884.738687531,-2136634.7491699415,-2140084.7470734594,-2190933.402549566,-2193765.2817550437,-2189892.9193827566,-2191252.121399314,-2191106.16931767,-1861848.2457546066,-1860720.5959126893,-1871177.6026277088,-1863074.0424638162,-1857043.8985396868,-2206894.974124985,-2206833.6842895243,-2206723.390295881,-2206723.390295881,-2206723.390295881,-2105372.392400564,-2078451.1808855147,-2094911.907808749,-2094458.330348211,-2091055.5344864957,-2212821.2703299,-2212986.725175458,-2212815.141346354,-2212815.141346354,-2212992.8541590045,-2202081.130616763,-2201958.550945842,-2202142.4204522236,-2202081.130616763,-2202265.0001231446,-1749811.1817623365,-1749811.1817623365,-1749982.7655914407,-1749811.1817623365,-1749982.7655914407,-2149797.175076098,-2151519.2867542887,-2147763.4214385874,-2151519.2867542887,-2159978.4216135903,-2201707.1599442875,-2199629.0677877786,-1986356.470848904,-1983944.0662331656,-2019547.6612920214,-1978615.378942825,-1996884.208969224,-2239467.3837630525,-2237923.1293011135,-2242041.1411996162,-2242727.4765160335,-2242555.892686929,-2220080.491290286,-2220080.491290286,-2220080.491290286,-2220080.491290286,-2220080.491290286,-1314535.6252947594,-1308513.1736327773,-1312612.8990400217,-1314620.3829273486,-1311900.802692642,-719415.6979186172,-750717.3917774097,-746011.1914297813,-743682.4547841336,-754886.8788246434,-2213233.6638557664,-2213294.9536912264,-2213466.537520331,-2213294.9536912264,-2213233.6638557664,-2194944.7920399904,-2194944.7920399904,-2193228.9537489475,-2194944.7920399904,-2194944.7920399904,116714.50535494905,134237.21069476873,112966.9448693836,117936.74692986182,89625.41512765505,-1722652.32834558,-1718717.4420779408,-1715450.9432395631,-1718608.069926278,-1717742.300659342,-1895413.3851749443,-1896166.191632692,-1895398.9448147595,-1895915.2561467763,-1895116.333602882,27769837.92403905,27763317.73853309,27769837.92403905,27801237.764765136,27794374.411600962,-1758345.167743465,-1768103.496321154,-1758152.719045628,-1748054.0097735315,-1764490.284101023,-2048542.3869785476,-2063565.7595923545,-1955983.3633368064,-2078179.8129124392,-2088466.8882906204,-2044091.6667107583,-2059384.8763392265,-2027171.2130644892,-2065088.8273069574,-1988689.732335785,-2241560.300145331,-2241560.300145331,-2241437.72047441,-2241560.300145331,-2241560.300145331,-2203433.2088213293,-2203249.078217929,-2203249.078217929,-2203236.531443633,-2203433.2088213293,-1975412.0800313456,-1975412.0800313456,-1975240.4962022412,-1973696.2417403029,-1975240.4962022412,-2218984.269657155,-2218984.269657155,-2218984.269657155,-2218984.269657155,-2218984.269657155,-2052786.158522763,-2052786.158522763,-2055176.185003871,-2054563.2866492663,-2053399.0568773677,-2201714.6104969024,-2201714.6104969024,-2202155.925022403,-2201702.0637226067,-2201714.6104969024,-2191856.1109293913,-2217100.220812532,-2217043.615924599,-2202065.114195132,-2217096.149801495,-2217553.9373874343,-2217553.9373874343,-2217553.9373874343,-2217553.9373874343,-2217553.9373874343,-765534.3232260561,-731212.0153681937,-748973.5208774336,-785147.0705734061,-759392.7929057135,-1996809.2290022245,-1948422.589194817,-1948594.173023921,-1965409.388276141,-2001270.4085589359,-2170982.0463454733,-2170914.483122865,-2170804.1891292213,-2170749.172680909,-2170798.1768390923,-2131257.2206139504,-2126354.033777113,-2140450.6959330207,-2136160.4074507877,-2131870.1189685552,1529928.9796195154,1436659.3292920538,1438086.5917742932,1438853.8385922264,1502326.0761687658,-2118886.6910151006,-2117170.852724058,-2117170.852724058,-2117170.852724058,-2117170.852724058,-2219059.5503029297,-2219059.5503029297,-2219059.5503029297,-2219059.5503029297,-2219059.5503029297,-2132009.664296348,-2132622.562650952,-2132622.562650952,-2134338.4009419954,-2132622.562650952,2031643.2167436029,2031814.8005727073,2031643.2167436029,2033359.0550346458,2031643.2167436029,-2201816.7051273906,-2200444.0344945565,-2191864.843039342,-2196669.190254262,-2201988.288956495,-2175504.922669828,-2175504.922669828,-2173789.0843787855,-2175504.922669828,-2173789.0843787855,-2174160.7097116555,-2170790.3229650306,-2172506.161256073,-2172506.161256073,-2172512.290239619,-875463.3493329873,-875463.3493329873,-875463.3493329873,-875463.3493329873,-873747.5110419445,-1107390.2541468625,-1162746.622339912,-1301049.7154024648,-1055848.1053397348,-1378651.5144219596,-2093625.096430846,-2127639.1366593805,-2130531.5650232835,-2106571.720359756,-2088637.512744322,-2224753.72885668,-2222608.584615563,-2227389.1917814794,-2222486.004944642,-2222486.004944642,-2211329.582107905,-2211329.582107905,-2211329.582107905,-2211329.582107905,-2211329.582107905,-2121773.194737012,-2121790.353119923,-2120018.236249978,-2119405.337895373,-2121121.176186416,-2190829.3081373903,-2197592.0194828236,-2190954.775880348,-2191205.711366264,-2196952.1339937383,-2050637.1868941854,-1890903.5216815455,-2061825.0258920577,-1959130.6795045277,-1881942.428375345,-2187724.0829094932,-2188251.047429917,-2174668.2488412703,-2186213.0640182206,-2197851.5998376827,-2170978.6123517975,-2170978.6123517975,-2170059.2648198903,-2173123.479491064,-2172204.131959157,-2120624.4496324523,-2124333.8587851455,-2124421.686205216,-2126146.685156975,-2120611.9028581567,-2209312.5076146508,-2209484.091443755,-2209312.5076146508,-2209484.091443755,-2209312.5076146508,-2219886.607135777,-2219715.023306673,-2219886.607135777,-2219886.607135777,-2219886.607135777,-2222527.078275844,-2222527.078275844,-2222527.078275844,-2222527.078275844,-2222527.078275844,-2188525.1763387653,-2188525.1763387653,-2186809.3380477224,-2188525.1763387653,-2186809.3380477224,-2227629.1959954435,-2227457.612166339,-2227629.1959954435,-2227457.612166339,-2227629.1959954435,-2198783.1601678105,-2197079.8686510636,-2198783.1601678105,-2198783.1601678105,-2198783.1601678105,943920.0800263298,-323178.6561060515,-372738.4145744434,-454292.4474971138,704402.1587195946,459184.98925499275,515176.27939095354,466858.22726297786,465362.00710274704,500468.1043896921,-931560.5008341951,-917096.653869225,-930407.4483321721,-922981.3093789808,-925800.0876064616,-2218181.2761022244,-2218181.2761022244,-2218181.2761022244,-2218181.2761022244,-2218181.2761022244,977787.2660996877,974109.8759720599,976561.4693904783,973006.9360356214,973006.9360356214,-2130991.385857957,-2130991.385857957,-2132707.224149,-2130378.4875033526,-2132707.224149,-1883523.203248978,-1880581.845350576,-1881684.7852870147,-1882052.524299777,-1882175.103970698,-2228006.8311719242,-2228006.8311719242,-2228006.8311719242,-2228006.8311719242,-2228019.3779462203,-2216573.0463030394,-2216585.593077335,-2216573.0463030394,-2216573.0463030394,-2216573.0463030394,-2206126.7465057755,-2206298.33033488,-2206126.7465057755,-2206126.7465057755,-2206126.7465057755,-1319364.6335629716,-1326227.9867271434,-1326227.9867271434,-1319303.3437275114,-1326227.9867271434,-2200970.104391849,-2201869.857417389,-2202066.2736980654,-2202911.7846202166,-2201931.1472528493,-2138637.4288145215,-2140594.0943393502,-2148127.955705654,-2149418.66371149,-2149421.2746816766,-2186535.08635789,-2186572.726680778,-2186748.381520919,-2186710.741198031,-2186723.2879723273,-2203625.4814468035,-2203453.897617699,-2203453.897617699,-2203466.4443919943,-2203453.897617699,-1877301.7476607864,-1953949.290185903,-1893064.1938880605,-1965184.2795721865,-1927558.88517749,-2218808.614817014,-2219109.737400113,-2219222.658368775,-2219373.219660325,-2218758.427719831,-2179318.555290562,-2179318.555290562,-2179318.555290562,-2179318.555290562,-2179318.555290562,-1923352.2309987554,-1922739.3326441508,-1922739.3326441508,-1923352.2309987554,-1922739.3326441508,-2219185.018045888,-2219172.4712715917,-2219197.564820184,-2219172.4712715917,-2219185.018045888,-610970.3742311861,-610970.3742311861,-610970.3742311861,-609254.5359401435,-610970.3742311861,-1926810.2447038947,-1938814.9837576486,-1953043.8947990083,-1940003.234979879,-1937779.351799477,-2222948.791557568,-2222948.791557568,-2222948.791557568,-2222948.791557568,-2222955.064944716,-2181498.2315434557,-2181498.2315434557,-2181498.2315434557,-2181498.2315434557,-2181498.2315434557,-2219140.671125047,-2219140.671125047,-2219140.671125047,-2219140.671125047,-2219140.671125047,-2218493.69078219,-2218318.0359420488,-2218405.863362119,-2218180.0214247946,-2218556.424653669,-2225075.6128803147,-2225075.6128803147,-2225075.6128803147,-2225075.6128803147,-2225075.6128803147,-2215634.660355897,-1776325.976173953,-2215463.076526793,-2215463.076526793,-2215463.076526793,-2219434.6988543742,-2219434.6988543742,-2219434.6988543742,-2219434.6988543742,-2219434.6988543742,-2223509.6366112605,-2223509.6366112605,-2223509.6366112605,-2223509.6366112605,-2223509.6366112605,-2094127.0263108658,-2097012.7843988987,-2101027.752173553,-2101563.1924572354,-2121559.8470528102,-833966.0581513171,-843060.0010938441,-847349.5968214513,-845976.9261886169,-833966.0581513171,-2240725.0235862117,-2240725.0235862117,-2240725.0235862117,-2240725.0235862117,-2240725.0235862117,-1845156.5525290703,-1847414.9719023134,-1845407.488014986,-1843691.6497239438,-1843817.1174669014,-2030170.7925608107,-2030342.376389915,-2030170.7925608107,-2030183.3393351065,-2028467.5010440636,-2019547.615308812,-2013715.9646305146,-1743243.4441291383,-1899192.4507944027,-1799285.5462730483,-2080053.6828216217,-2085446.911240293,-2085446.911240293,-2082505.276240041,-2086672.7079495022,-2219435.9535318036,-2219435.9535318036,-2219435.9535318036,-2219435.9535318036,-2219435.9535318036,-2214049.600187129,-2211251.6695191665,-2214187.6147043826,-2213196.419535015,-2214200.1614786787,-2186507.1660035755,-2186507.1660035755,-2184797.4566960786,-2184184.558341474,-2186513.2949871216,-2097611.4348677625,-2099327.273158805,-2114769.8177781906,-2095895.5965767195,-2095895.5965767195,-2218440.4262543805,-2218427.879480085,-2218427.879480085,-2218440.4262543805,-2218427.879480085,-2212166.698837945,-2211995.1150088403,-2211995.1150088403,-2212166.698837945,-2212166.698837945,-2215044.5825282754,-2218118.5422307453,-2216989.3325441233,-2217993.0744877877,-2218043.2615849706,-2149342.622921526,-2149342.622921526,-2149281.3330860655,-2149342.622921526,-2147626.784630483,-1359266.6237474433,-1370664.5934301382,-1372993.330075786,-1367232.9168480528,-1376425.0066578717,-2186291.8027096745,-2170694.292046517,-2175360.6247441834,-2174774.663622133,-2191171.4305703687,-2222075.651854261,-2221101.143470439,-2221223.72314136,-2220727.2754741306,-2221101.143470439,-2203371.221695826,-2202268.281759388,-2203984.1200504308,-2202268.281759388,-2203365.0927122794,-2147621.080380632,-2147771.641672182,-2148005.9593727645,-2147834.3755436605,-2148005.9593727645,-2206303.1575823133,-2208448.3018234298,-2208938.620507113,-2205316.3912313995,-2205567.6795567875,-2061047.0053973412,-2062934.4275174881,-2062946.9742917842,-2062162.4921080754,-2060459.2005913286,-2206110.3989798576,-2205791.4030282595,-2205129.7616124903,-2203548.4838576103,-2207397.4855245277,-2219260.2986916625,-2219247.751917367,-2219366.946273177,-2219348.126111733,-2219360.6728860294,-2205105.4217702793,-2199789.660479899,-2199584.8410801296,-2201671.6766242683,-2202951.641023237,-2217759.241964807,-2220823.73373783,-2220823.73373783,-2214688.6212082375,-2220823.73373783,-2213257.6810066197,-2213257.6810066197,-2213257.6810066197,-2213257.6810066197,-2213257.6810066197,-2219435.9535318036,-2219435.9535318036,-2219435.9535318036,-2219435.9535318036,-2219435.9535318036,-2203463.909853256,-2203470.183240404,-2205979.5380995627,-2203457.6364661083,-2207861.554243932,-2164211.387850001,-2164161.200752818,-2145199.152131276,-2155791.2334495955,-2142064.527121253,-2219937.650168183,-2219937.650168183,-2219937.650168183,-2219937.650168183,-2219937.650168183,-2204655.4360812046,-2204404.500595289,-2206411.9844826157,-2205408.2425389523,-2204780.9038241627,-1122397.4763350615,-1120054.2993292287,-1118006.105331533,-1119637.1859899866,-1119511.7182470283,4825335.08305862,4795222.824748712,4847277.497716077,4832221.368561123,4911114.309131492,420165.4603230261,228699.99966722616,-95366.58450065514,244205.93341969379,-52243.30590230885,-2209794.7198910518,-2211510.5581820942,-2209794.7198910518,-2209794.7198910518,-2209794.7198910518,-2219434.6988543742,-2219434.6988543742,-2219434.6988543742,-2219434.6988543742,-2219434.6988543742,-2216064.2274029898,-2210459.890303806,-2213232.7274231766,-2215102.1967932503,-2215905.1903481814,-1866704.3982751316,-1760085.4507388906,-1773549.6353818018,-1749147.4272025554,-1877950.8588471278,-2183551.5776802725,-2211091.7472595433,-2195019.329386629,-2211217.215002501,-2188620.4744957737,-1809178.1369500393,-1815184.2637233154,-1816839.3663825984,-1812671.6575712864,-1817145.5384580507,-2202792.322108688,-2202792.322108688,-2202792.322108688,-2202792.322108688,-2202792.322108688,-2126604.9505713987,-2114823.5295076473,-2139166.6141470843,-2132039.865051739,-2135486.976270102,-2181583.790700164,-2184329.131965833,-2186044.9702568757,-2180382.703896434,-2166484.4137389874,-2212951.8737762794,-2212265.5384598626,-2211579.2031434453,-2210378.116339715,-2212608.706118071,-2173710.3664894034,-2138364.0976939206,-2185378.0668684943,-2162900.5852558333,-2150031.7980730124,-2216360.549793315,-2216360.549793315,-2216360.549793315,-2216360.549793315,-2216360.549793315,-2157620.1304867305,-2155726.5516728526,-1950419.4981242002,-1957187.372673185,-1969415.178399542,-1942100.7686111154,-1944878.7009297912,-2169641.084637678,-2169592.341576514,-2169653.6314119743,-2169812.6684667827,-2169653.6314119743,-614301.9202300314,-642742.3877711187,-636635.1784765472,-612209.6787101147,-627601.5009835745,-1678901.6603542303,-1680156.33778381,-1758886.5200297514,-1680156.33778381,-1662113.2404149352,-2200565.1176454434,-2200577.664419739,-2200565.1176454434,-2200558.8442582954,-2198861.826128696,-2197559.6388001707,-2208920.8900019596,-2196028.50132106,-2202707.1536732996,-2201664.9493686208,-2218018.263422785,-2218018.263422785,-2218018.263422785,-2218018.263422785,-2218018.263422785,-2218083.5652049594,-2218083.5652049594,-2218083.5652049594,-2218083.5652049594,-2218083.5652049594,-1827205.3080243224,-1827211.437007868,-1827211.437007868,-1827205.3080243224,-1827205.3080243224,-2195860.937958482,-2197307.888013535,-2196680.549298746,-2196990.1476451037,-2197470.9960793806,-2180441.339047216,-2180269.755218112,-2180441.339047216,-2180269.755218112,-2178725.500756173,-2217679.4051303924,-2219122.2841744088,-2211280.5502395364,-2215546.4535001074,-2218896.4422370847,-2219059.5503029297,-2219059.5503029297,-2219059.5503029297,-2219059.5503029297,-2219059.5503029297,-2211277.2439717664,-2211277.2439717664,-2211277.2439717664,-2211277.2439717664,-2211277.2439717664,-2236313.1814704575,-2236313.1814704575,-2236313.1814704575,-2236141.597641353,-2236313.1814704575,-2215124.2199520958,-2214511.321597491,-2214498.774823195,-2216840.0582431387,-2214511.321597491,-1970441.0245716253,-1968725.1862805823,-1970441.0245716253,-1968112.287925977,-1970441.0245716253,-2164375.9570706342,-2167613.3030547365,-2164842.8682404766,-2163009.4154213457,-2164869.686020392,-2215615.113666386,-2209497.6144042416,-2217237.530108729,-2211573.608307122,-2213750.970890516,-2182250.879003537,-2182255.490612151,-2194118.206590405,-2180404.047036358,-2181380.4130837196,-1374980.6547639065,-1747580.4283438537,-1650980.4870453489,-1461230.6023518571,-1692380.4618875647,-2196177.686201045,-2196365.887815482,-2193520.839837817,-2185992.77526034,-2196064.765232383,-2115911.79927063,-2115740.2154415254,-2115740.2154415254,-2115740.2154415254,-2115911.79927063,-2187238.6441157656,-2189126.066235913,-2189126.066235913,-2189126.066235913,-2187238.6441157656,-2227379.3861259283,-2222752.7517236588,-2227728.6827676827,-2214853.7666013152,-2227728.6827676827,-2204462.3922252674,-2195711.616940949,-2202047.6718435115,-2202060.218617807,-2199817.0820651557,-1973465.7687539908,-1973465.7687539908,-1975175.4780614877,-1974568.708690429,-1974550.0329325874,-2243202.4188801516,-2246270.7932113595,-2240555.5944400155,-2262146.9449543227,-2237716.0455045747,-2207391.0502078403,-2207391.0502078403,-2207516.517950798,-2207391.0502078403,-2207391.0502078403,-576272.234461879,74190.79062069368,-892941.5715278479,-624296.2131440624,387150.99143593694,-2223234.6686529233,-2223173.378817463,-2223173.378817463,-2223234.6686529233,-2223234.6686529233,-2301886.6418229295,-2300061.660467579,-2322689.879424938,-2308949.2408130476,-2303186.275141895,-2179020.899939157,-2207298.3830231866,-2199612.173753235,-2205607.6382807354,-2206083.239502384,-2204804.644725804,-2212209.809391351,-2212084.341648393,-2212518.5049940147,-2212405.5840253523,-2212420.7577746664,15881457.351073753,15881457.351073753,15881457.351073753,15879741.512782712,15881457.351073753,-191252.9800946363,-1672885.2591051226,-1463184.0816509654,-201786.39855251333,-1267334.5240644093,-2211058.461786951,-2211058.461786951,-2211058.461786951,-2211058.461786951,-2211058.461786951,-1466246.1507049615,-1465461.6685212527,-1466074.5668758573,-1467349.0906414,-1469334.6596288385,-2212300.642344162,-2210419.493611162,-2212821.6672186223,-2213673.312976996,-2212643.8100023703,-2236992.0243807915,-2237368.427609666,-2236577.9808290303,-2237481.3485783273,-2236590.527603326,-2165708.1782187643,-2163820.7560986173,-2163882.045934078,-2163820.7560986173,-2165536.5943896603,197234.88004910265,172141.33145751187,110662.13740811424,-31116.41213437439,113344.77658949421,-2203488.6498685493,-2203488.6498685493,-2203488.6498685493,-2203488.6498685493,-2203488.6498685493,253312.78489010432,255022.62689584945,253919.40985756108,253306.51150295645,256248.42360505895,-2219434.6988543742,-2219434.6988543742,-2219434.6988543742,-2219434.6988543742,-2219434.6988543742,-2184267.16772844,-2185125.225424886,-2186779.7738804687,-2186301.713163877,-2183225.240525612,-1848503.3530554292,-1850219.1913464724,-1848503.3530554292,-1849606.2929918675,-1849606.2929918675,-2169081.5542561477,-2191091.110630761,-2181053.691194124,-2194849.013935953,-2194855.1429194994,-2213178.0097260224,-2213006.425896918,-2212945.136061458,-2213178.0097260224,-2213190.556500318,-1141887.9532898683,-1333938.1903532422,-1204678.9934899705,-1339861.7032420228,-1148829.5188727106,-1834316.8545212976,-1850634.6251563262,-1797554.3540579209,-1855151.4729601808,-1891669.6244144894,-1693744.1228757207,-1675556.2369906665,-1686359.8892406903,-1667663.3808518692,-1685679.6829078193,-1912935.5129967958,-1912874.2231613356,-1912935.5129967958,-1912929.239609648,-1912916.6928353524,-1440806.155435288,-1439090.3171442451,-1439090.3171442451,-1440806.155435288,-1440806.155435288,-1626384.6145578446,-1620731.4253262188,-1621738.0497203036,-1652044.8509372242,-1656528.4826869564,-2140558.3520198003,-2147300.233920452,-2173588.0473008184,-2143610.297018528,-2154285.058348143,-2214352.1941884067,-2214352.1941884067,-2214352.1941884067,-2214352.1941884067,-2214352.1941884067,-2349095.8346919646,-2352445.823428942,-2351369.870626984,-2346370.5646422217,-2352681.1423530807,-1514777.3535231552,-1515013.8486488864,-1513855.7582418947,-1517217.117551576,-1517257.827661944,-1445432.934466249,-1448644.908685973,-1448905.3211587036,-1445266.7566129228,-1438742.4339791094,5281435.6311540855,5701823.863484877,5009875.090095335,5686368.772091196,4632084.580109443,-1516678.559926347,-1512281.7829470406,-1513523.9136023244,-1513523.9136023244,-1513536.46037662,-1733113.5033571015,-1734004.324332103,-1733853.763040553,-1733841.2162662572,-1733816.122717666,-2014094.1584395748,-1984204.5714163613,-1986368.7074684727,-1964069.1888385636,-1951376.0181221766,-2098593.030288033,-2136254.3757129745,-2142490.122537985,-2132640.9047157853,-2142540.309635168,-2179623.7732135546,-2174667.3975087167,-2195035.150826201,-2196961.214492791,-2169262.741457896,-2221159.571043674,-2220503.797514432,-2220699.8972777203,-2220932.826362655,-2220583.446590346,822889.2857014122,822889.2857014122,822889.2857014122,821173.4474103693,822889.2857014122,-2177345.3323968947,-2179067.444075085,-2177351.6057840427,-2179061.1706879376,-2179061.1706879376,-2146756.8778436533,-2138006.1025593346,-2148524.1912834276,-2143668.368919776,-2141437.77914142,-2204428.8087429195,-2204943.560230232,-2204771.976401128,-2199452.877698895,-2193447.443680245,-2200375.1994218216,-2200375.1994218216,-2200375.1994218216,-2200375.1994218216,-2200375.1994218216,-1881216.3822058074,-1896114.098623805,-1818449.82682985,-1795531.4884587054,-1867836.7391485635,-1941678.433354539,-1941506.8495254351,-1938370.1559514862,-1937281.6563752329,-1942300.3660935515,-1492637.8049040106,-1542393.1427224842,-1558328.222840356,-1482941.7252239794,-1542282.57162699,-2146912.78500968,-2146912.78500968,-2145196.946718637,-2146912.78500968,-2146912.78500968,-2146427.7379458235,-2148143.5762368664,-2148143.5762368664,-2148143.5762368664,-2146427.7379458235,-1502397.6933833815,-1501598.7708394874,-1500983.9788989935,-1501572.6760673402,-1504442.8175935964,-2091409.8007280387,-2091409.8007280387,-2093113.0922447857,-2091397.253953743,-2093125.6390190814,-2240042.6547320294,-2233392.8643552577,-2240481.791832382,-2240531.9789295653,-2239911.0580055253,-1763711.366265512,-1732950.5193087643,-1677747.8678842664,-1723732.3340842144,-1792880.6172132406,-1841942.7992609593,-1881617.775151417,-1774667.8401423574,-1948892.734270018,-1819517.8128880921,-2212579.1529603265,-2212972.173974533,-2213034.9078460117,-2213034.9078460117,-2213034.9078460117,-2217679.4051303924,-2216675.6631867285,-2217804.87287335,-2218055.8083592663,-2218055.8083592663,-1740631.2745491955,-1738915.4362581526,-1738915.4362581526,-1738915.4362581526,-1738915.4362581526,-2207731.6655036276,-2205402.9288579803,-2205402.9288579803,-2207118.7671490232,-2205402.9288579803,-1722782.2387065205,-1839322.2834215928,-1763574.1476203443,-1728303.017129363,-1714431.8127171698,-2197079.3605744257,-2195175.3206689456,-2201637.177055652,-2195899.963790621,-2196778.237991327,850239.0254347353,824624.3078418641,806460.4391076639,825114.3494236977,829893.2939785124,-2191156.0300536593,-2191688.9745203154,-2190083.4579331013,-2191492.8470468414,-2190543.1316990545,-2219435.9535318036,-2219435.9535318036,-2219435.9535318036,-2219435.9535318036,-2219435.9535318036,7056221.142698609,7329219.735392963,7355000.481417787,7090992.571379308,7483928.916426358,-2181974.020903755,-2181974.020903755,-2181974.020903755,-2182035.310739215,-2181974.020903755,-1872344.9241871105,-1862599.7017979708,-1851472.848320923,-1869918.871979722,-1849758.1184372813,-2226206.8010269594,-2226035.217197855,-2226206.8010269594,-2226035.217197855,-2226206.8010269594,-2129512.685033147,-2129512.685033147,-2129512.685033147,-2129512.685033147,-2129512.685033147,-2218369.477716661,-2218356.9309423654,-2218356.9309423654,-2218356.9309423654,-2218369.477716661,-2129147.4774268423,-2127431.6391358,-2127431.6391358,-2129147.4774268423,-2127431.6391358,-2109362.2402944504,-2105912.2423909325,-2095562.2486803785,-2107637.2413426912,-2102462.244487414,-2186415.02459071,-2186415.02459071,-2186415.02459071,-2186415.02459071,-2186415.02459071,-1948391.0716740708,-1946503.6495539234,-1946675.233383028,-1951651.1644270518,-1947704.7363576537,-2215153.0221404633,-2215085.315838246,-2222218.0413279566,-2217841.110684613,-2211755.4482191214,-2219115.0639943164,-2219115.0639943164,-2219115.0639943164,-2219115.0639943164,-2219115.0639943164,-2153969.0685180835,-2153574.603467859,-2154330.6508371155,-2152892.103901154,-2153403.0196387544,-1298726.5701967299,-1298726.5701967299,-1298726.5701967299,-1298726.5701967299,-1298726.5701967299,-2204421.460185062,-2210083.7265455034,-2204936.211672375,-2200646.615944768,-2203906.7086977493,-2219434.6988543742,-2219434.6988543742,-2219434.6988543742,-2219434.6988543742,-2219434.6988543742,-1813007.4825290474,-1823068.3356556627,-1812941.8249189733,-1817344.187059486,-1802476.59621028,-2077184.9089782785,-2075738.8013836315,-2072797.3049343047,-2070787.3031432363,-2073924.9547762221,-2319022.364214373,-2320258.864013916,-2320273.2544721738,-2319794.299623786,-2321497.2074974207,-1983283.4463880914,-1983344.7362235521,-1983344.7362235521,-1983406.0260590126,-1981457.314103405,-1920437.5115033826,-1920376.221667922,-1920376.221667922,-1920082.058167897,-1920204.6378388177,-2217208.5319157625,-2217245.305817039,-2217591.0641281824,-2216982.1123640314,-2216825.9997033426,362704.55764018686,462081.87607951474,434557.3230620206,694902.8896997761,351483.23686366976,-2209369.653374797,-2209185.7838684157,-2208809.380639542,-2206492.559502875,-2210408.692505588,-2149446.707226056,-2148343.767289618,-2149201.6864351397,-2159055.401655896,-2156310.0603902275,-1389212.8828171545,-1383027.3507995126,-1377002.98190552,-1374576.1404431625,-1388806.4149592218,-1656766.75153689,-459146.80891841516,-989502.7514548559,-1212004.8487132543,-1350966.7277501693,-2219285.392240254,-2219348.126111733,-2218934.082559972,-2219323.0325631415,-2219097.1906258175,-2207159.7096484024,-2207159.7096484024,-2207159.7096484024,-2207159.7096484024,-2207159.7096484024,-1871660.931492976,-1871832.5153220799,-1871660.931492976,-1871660.931492976,-1871832.5153220799,-2214542.711556443,-2216048.324471939,-2215671.921243065,-2215044.5825282754,-2215295.518014191,-1780123.198338822,-2154691.1973469444,-2154691.1973469444,-2154691.1973469444,-2154691.1973469444,-2154691.1973469444,-2180479.329653676,-2180356.4728809046,-2180479.329653676,-2180479.329653676,-2182195.167944719,-2218959.1761085633,-2218959.1761085633,-2218959.1761085633,-2218959.1761085633,-2218959.1761085633,-1459160.8420194665,-1457445.0037284237,-1459160.8420194665,-1457445.0037284237,-1459160.8420194665,-1572402.1763896944,-1572448.2924758412,-1567555.050500481,-1567555.050500481,-1568809.7279300601,-2021747.6747718141,-2022056.8303057095,-2021081.2516981184,-2021996.2634780172,-2021442.0279838548,-1141413.081603437,-1160274.7560306124,-1136780.3182176212,-1156843.0794485265,-1135064.4799265782,-2152513.392611213,-2152513.392611213,-2152513.392611213,-2152513.392611213,-2152341.8087821086,-2174476.730148242,-2172147.993502594,-2172760.891857199,-2172147.993502594,-2172147.993502594,-2089866.66817711,-2104847.612556467,-2082154.0176128359,-2106003.937442106,-2119769.729453347,-2117653.344761218,-2112173.474181437,-2113889.31247248,-2115785.768977034,-2116579.2855451503,-2166599.6136016105,-2165247.631765146,-2165699.3156397943,-2168155.413614289,-2169011.6640538843,-2211613.056294554,-2211441.47246545,-2211441.47246545,-2211441.47246545,-2211613.056294554,-2229688.6690186486,-2229688.6690186486,-2229682.5400351025,-2229682.5400351025,-2229682.5400351025,-1753883.9938482214,-1758322.2143270257,-1747030.1174608096,-1753883.9938482214,-1737573.1872636876,-2189600.053046456,-2189600.053046456,-2189600.053046456,-2189600.053046456,-2189600.053046456,-754818.6439599703,-755505.0901171278,-755443.8002816669,-756608.0300535656,-755566.3799525879,-2220507.5618260014,-2220507.5618260014,-2220507.5618260014,-2220507.5618260014,-2220507.5618260014,-2215408.438982853,-2215414.7123700012,-2215408.438982853,-2215408.438982853,-2215414.7123700012,-1726083.8609342813,-1730251.2926437422,-1724612.3506795291,-1725341.9768233588,-1733805.8259985994,-820971.7806122302,-863381.2126967596,-791334.9616037053,-761299.9832295671,-775276.1610025722,-2205976.2036569878,-2205976.2036569878,-2205976.2036569878,-2205804.619827883,-2205798.4908443373,-2157291.388323172,-2158835.6427851105,-2159007.226614215,-2159001.0976306684,-2159007.226614215,-1448893.891567178,-1454212.9902694111,-1455585.6609022454,-1449237.0592253867,-1456786.747705975,-1423560.9978866938,-1423560.9978866938,-1424780.6656123574,-1423732.5817157982,-1423701.936798068,-2212387.614734746,-2212289.5509980097,-2212448.904570207,-2212326.3248992856,-2212510.1944056675,-2169508.4688041816,-2168889.1526588267,-2167033.4062646413,-2169453.3079522667,-2170833.453124804,-1725369.8286197502,-1732233.1817839216,-1732233.1817839216,-1750077.9000107674,-1735664.8583660072,-1493196.5058154017,-1502184.067222228,-1497879.5224152145,-1501728.3123365429,-1057387.4847919093,-2208018.3889226294,-2208018.3889226294,-2208143.8566655875,-2208018.3889226294,-2208143.8566655875,-2219435.9535318036,-2219435.9535318036,-2219435.9535318036,-2219435.9535318036,-2219435.9535318036,-1324756.9788173125,-1329157.02309432,-1324192.8235238728,-1325308.587336457,-1320969.8328949094,-2190137.703255978,-2187802.693223183,-2190137.703255978,-2190137.703255978,-2187808.9666103306,-2221992.017159325,-2221985.743772177,-2221992.017159325,-2221992.017159325,-2221985.743772177,-2165949.226818948,-2166562.1251735524,-2165949.226818948,-2165949.226818948,-2166549.578399257,-2224276.4064971623,-2224276.4064971623,-2223586.3339108936,-2223259.3480679905,-2223645.3105505086,-2144197.8061878434,-2143952.6468460015,-2151245.860163947,-2144320.385858764,-2144136.516352383,-2190643.527022469,-2191898.2044520485,-2190643.527022469,-2190643.527022469,-2191898.2044520485,-2080449.1686731298,-2080780.1732001551,-2079051.7881348166,-2081328.3956057194,-2079603.3966539605,-2175102.249690771,-2176943.5557247717,-2177556.4540793765,-2175840.6157883336,-2176943.5557247717,-2104264.7126249587,-2139206.9235747154,-2152418.8784157457,-2132515.1542396485,-2122220.1244933917,-1571760.0672806185,-1537669.6125290142,-1566792.945741038,-1564289.7304568414,-1570508.1258973344,-2155016.696180624,-2153300.8578895815,-2153300.8578895815,-2153300.8578895815,-2150972.1212439337,-2099460.323935186,-2099460.323935186,-2097744.485644143,-2099460.323935186,-2098847.4255805817,-2176537.4393851086,-2178265.8244504477,-2178253.277676152,-2178259.6954669016,-2177162.8845140096,-2212264.4121601973,-2212264.4121601973,-2212435.9959893017,-2212264.4121601973,-2212264.4121601973,-2123812.642449421,-2123990.6440692744,-2124266.503749217,-2122103.2219491275,-2124260.374765671,-1900003.0256113466,-1911882.2969221429,-1909112.5505630304,-1919002.7145557762,-1918387.2052309848,-1677626.8594540788,-1681852.0526042806,-1684513.1449565813,-1677626.8594540788,-1689199.4989682466,-1208803.8681608508,-1182996.3544775855,-1267643.7376711941,-1314561.877026896,-1171233.7015232258,4004259.501045863,3996441.8594360263,4008817.049902717,4022637.140405371,3997986.1138979653,-2172099.407789358,-2161258.9947977904,-2170669.075519637,-2171773.191657667,-2170581.2480995664,-2165628.410921595,-2167961.822133409,-2164188.312857856,-2167893.2480855878,-2162538.8452487644,-2216633.016483231,-2216571.7266477705,-2216571.7266477705,-2216633.016483231,-2216633.016483231,-2181349.379278134,-2181349.379278134,-2181349.379278134,-2181349.379278134,-2181349.379278134,-1976329.6840707476,-1974325.2699709015,-1975702.345355958,-1974599.4054195199,-1974850.3409054356,-2032304.2709089722,-2059744.2630081915,-2045457.3407693962,-2062516.6276617122,-2046092.592257143,-2220382.268418496,-2221068.603734913,-2222441.2743677474,-2214548.41822895,-2215406.337374471,-2246030.818360404,-2246043.3651347,-2245968.0844889255,-2246718.9973607836,-2245980.631263221,-2195266.049753839,-2194726.9763036375,-2194788.266139098,-2194935.0846423525,-2195130.9233086226,-1605660.1339163892,-1606273.0322709938,-1604557.1939799509,-1603331.3972707412,-1603821.438852575,-1907651.2555849117,-1953599.932561085,-1901684.0884157245,-1959998.1471292574,-1958909.8489172333,-2201289.9804882314,-2201302.527262527,-2201474.111091631,-2201340.1675854144,-2201264.8869396397,-314063.36956388754,638226.8819648856,638226.8819648856,-363822.6800041296,-257269.12213036962,-2194971.4749005167,-2194971.4749005167,-2209041.348887068,-2201834.828064688,-2201834.828064688,-1927912.8119599908,-1927912.8119599908,-1926135.6838334876,-1926135.6838334876,-1926135.6838334876,-2212300.022757792,-2212300.022757792,-2212471.6065868963,-2212293.893774246,-2212465.4776033503,446769.2052779567,447934.1617015765,447751.92468406574,446920.9427710981,446005.028247505,-2219519.638202408,-2219519.638202408,-2219519.638202408,-2219519.638202408,-2219519.638202408,-2218996.8164314507,-2218996.8164314507,-2218996.8164314507,-2218996.8164314507,-2218996.8164314507,-2020665.9206647442,-2020176.2627260229,-2022021.306029875,-2019034.506265105,-2019084.6933622886,-1395263.3574724158,-1393547.519181373,-1393541.3901978268,-1393547.519181373,-1393541.3901978268,-2218593.5514846477,-2218719.0192276062,-2218969.9547135215,-2218719.0192276062,-2218905.7768060244,-2208880.068500353,-2208804.7878545783,-2208829.88140317,-2208666.7733373246,-2208829.88140317,-2145870.338232374,-2130649.0000846013,-2123194.6495707864,-2144127.244316898,-2126951.023729888,-2227891.0627533114,-2227891.0627533114,-2227891.0627533114,-2227891.0627533114,-2227891.0627533114,-2207569.865716045,-2214604.8027093206,-2215291.1380257374,-2212717.3805891736,-2210315.206981714,-2227344.7837909143,-2229624.7933802283,-2229686.0832156893,-2226793.17527177,-2228018.971980979,-2175410.097419613,-2176171.7133818045,-2175707.148991675,-2185244.633786777,-2185839.4044132717,527720.0438404973,-251068.03947691916,160548.44956142877,526629.3618711513,-170117.1906206036,-2219021.909980043,-2219034.4567543385,-2219034.4567543385,-2219034.4567543385,-2219034.4567543385,-2221699.150590996,-2221699.150590996,-2221699.150590996,-2221699.150590996,-2221699.150590996,-1832491.0857715425,-1872187.6861879854,-1821162.2448468227,-1462485.3196537187,-1875764.050247224,-2064070.7144171374,-1973709.423553226,-1973746.1974545026,-2017782.4594505222,-1973703.2945696802,-2158910.428928688,-2158922.9757029843,-2158922.9757029843,-2158910.428928688,-2158910.428928688,-2223815.4425695385,-2223987.0263986425,-2223815.4425695385,-2223815.4425695385,-2223815.4425695385,-2219310.485788846,-2219310.485788846,-2219310.485788846,-2219310.485788846,-2219310.485788846,-2070232.0826740982,-1998781.4883099745,-2059035.7292403167,-2045988.1790561664,-2044758.960203004,-2224080.6305391686,-2224080.6305391686,-2224093.177313464,-2224080.6305391686,-2223480.2789588594,-2204648.7661074754,-2202932.9278164324,-2202932.9278164324,-2202932.9278164324,-2202932.9278164324,-2125067.5237681605,-2123351.685477117,-2125067.5237681605,-2125067.5237681605,-2123351.685477117,-2219059.5503029297,-2219059.5503029297,-2219059.5503029297,-2219059.5503029297,-2219059.5503029297,-2214261.394884859,-2213844.6517139133,-2214077.5253784778,-2214016.2355430173,-2214077.5253784778,-2260459.229377791,-2261312.4100299054,-2259806.7971144095,-2260352.437392675,-2261387.69067568,-2199499.132335967,-2208936.2429367024,-2207857.7358038933,-2212367.919518788,-2208825.9489430585,-2172363.506174776,-2173466.446111214,-2172363.506174776,-2172363.506174776,-2172363.506174776,-259668.8678903954,-356947.7383318079,-299215.59453082626,-355902.3827602531,-338679.8752248113,-2220015.318896641,-2220015.318896641,-2220027.8656709366,-2220002.7721223454,-2220015.318896641,-2201257.8783747493,-2202274.5008338937,-2201853.3164836145,-2204450.83250403,-2203843.848844424,-1138939.709971803,-1107221.7148451558,-1096765.2820215733,-1164100.8769496225,-1136004.463555598,-2219034.4567543385,-2219034.4567543385,-2219034.4567543385,-2219034.4567543385,-2219034.4567543385,-2219434.6988543742,-2219434.6988543742,-2219434.6988543742,-2219434.6988543742,-2219434.6988543742,-2205880.610072288,-2207590.319379785,-2205810.303181245,-2207651.6092152456,-2205941.8999077487,-1444872.5421923113,-1473354.449899418,-1436561.5818187366,-1376190.2687854278,-1489915.4619142164,-2008098.8994925383,-2008062.1255912618,-2008074.3835583536,-2009359.994712867,-2009316.803020841,-2219407.0728114336,-2219407.0728114336,-2219407.0728114336,-2219407.0728114336,-2219407.0728114336,-2163270.58342318,-2166212.218423432,-2166212.218423432,-2166825.1167780366,-2167438.0151326414,-2119611.957493298,-2123791.1206763363,-2127927.408684737,-2120622.76870525,-2145119.7063147286,-1327455.0596274526,-1320591.7064632813,-1322307.5447543238,-1322307.5447543238,-1327455.0596274526,-2252136.197786796,-2252130.0688032503,-2252136.197786796,-2252004.601060292,-2252136.197786796,-1371222.7584002512,-1361670.2392053078,-1362539.7231051903,-1342143.3404768202,-1355396.85205741,-1746774.4140224278,-1732209.8350035113,-1735491.6110390099,-1739379.4987940597,-1739061.179592256,-2198277.892627193,-2193259.182908875,-2190749.8280497156,-2189495.1506201364,-2194513.860338454,-1897214.9515036154,-1897282.370322622,-1897343.6601580824,-1895505.2421961187,-1897833.9788417662,-2178367.5595341497,-2158292.251528949,-2165155.6046931203,-2170646.287224457,-2149713.0600737347,-2219310.485788846,-2219310.485788846,-2219310.485788846,-2219310.485788846,-2219310.485788846,-1828795.403643942,-1828795.403643942,-1828669.9359009843,-1830511.241934985,-1829046.339129858,-1870978.2253071882,-1870978.2253071882,-1870978.2253071882,-1870978.2253071882,-1870978.2253071882,-1406697.5626781918,-1626929.4612910012,-1545411.7322498055,-1696589.9255716568,-1460763.9358291884,-2165036.127434026,-2175686.8716127877,-2166936.0963284685,-2169681.437594137,-2156812.650411316,4184081.117648566,4184081.117648566,4184081.117648566,4184081.117648566,4184081.117648566,-2197817.0761001864,-2197817.0761001864,-2197994.7889128365,-2197988.6599292904,-2197988.6599292904,-2197419.090164289,-2196512.2894066777,-2194171.0059867343,-2201047.737230753,-2197125.1877612825,-2203094.6373560983,-2202855.6347079873,-2203033.3475206373,-2203088.5083725518,-2202861.763691533,-2139524.612935141,-2119826.177290742,-2131243.7418999155,-2117693.2256604563,-2142535.838766132,-2230097.576854047,-2230036.287018586,-2230036.287018586,-2230207.8708476904,-2230207.8708476904,-2199056.3371372814,-2199056.3371372814,-2199056.3371372814,-2199056.3371372814,-2198884.753308177,-2208044.232285293,-2208044.232285293,-2208044.232285293,-2208044.232285293,-2208044.232285293,-2192013.4474274227,-2192025.994201719,-2192013.4474274227,-2191400.5490728184,-2191952.157591962,-1698179.0069550872,-1473710.312896974,-1579510.0986509605,-1349406.7745115228,-1455445.9713835176,-2209986.3688009386,-2210024.0091238264,-2209898.541380868,-2210195.5929529304,-2210346.1542444797,-1604422.7374454816,-1791571.9679419217,-1713010.5913630135,-1916092.408060673,-1886678.8290766536,-2225470.531124363,-2225470.531124363,-2225102.7921116007,-2225470.531124363,-2225464.4021408176,-2157553.8170070294,-2159269.655298072,-2157553.8170070294,-2159269.655298072,-2157553.8170070294,-2207391.0502078403,-2207391.0502078403,-2207391.0502078403,-2207391.0502078403,-2207391.0502078403,-2204455.1289455276,-2205778.7677099933,-2207719.9066460365,-2203627.882427921,-2203033.4264443247,-1984776.7426487107,-1984654.1629777898,-1983171.198351312,-1984887.0366423547,-1984041.2646231856,-1826658.3278818533,-1826658.3278818533,-1826658.3278818533,-1826658.3278818533,-1826829.9117109575,-2031542.677416531,-2030848.225029003,-2031185.0943491007,-2030868.4892264656,-2029835.2739329517,198815.81569009784,198815.81569009784,198815.81569009784,197099.97739905515,198815.81569009784,-2191351.065032478,-2192795.61278242,-2187552.1284671472,-2181843.7460205597,-2192275.789060515,-2079177.774930881,-2079355.4877435314,-2079177.774930881,-2077633.5204689421,-2077461.9366398382,-2208760.1158044506,-2208944.2464078506,-2209802.1655533724,-2204985.2715641563,-2208588.531975346,-2085582.390492401,-2083866.5522013588,-2083866.5522013588,-2085582.390492401,-2084969.4921377965,-2235819.335493049,-2233343.5863728514,-2233870.6235374412,-2228698.675860684,-2231750.3277527294,-2194491.8355832314,-2196391.8204825055,-2192591.850683957,-2193878.6601267764,-2194920.5873296047,-2171790.9926041393,-2168964.7112630443,-2170962.2380182464,-2174578.045203732,-2173448.1680347403,-2206577.492978557,-2222034.216167283,-2225606.1202341495,-2190648.604669952,-2203315.1872580484,-1522844.7514125374,-1508088.5421095693,-1522158.4160961204,-1504656.8655274836,-1534340.8679625245,-2219193.232712128,-2219131.9428766677,-2219242.2645804966,-2219291.296448865,-2219254.811354792,-2203880.821684941,-2202336.5672230027,-2201478.6480774814,-2204052.405514045,-2203366.0701976283,-1270175.3761123617,-1269533.5970373866,-1274552.306755705,-1280212.795548998,-1270788.2744669663,-173233.4541431467,29849.748063763844,-653669.5611443918,-511376.4542513562,1160587.1818609915,-2199531.373210429,-2199531.373210429,-2199531.373210429,-2199531.373210429,-2199359.7893813243,-2204754.239709064,-2204760.3686926095,-2204797.142593886,-2204797.142593886,-2204741.9817419713,-1939001.3755981605,-1934197.0283832403,-1928534.7620227993,-1932487.4634793454,-1928877.9296810078,-2283915.532515922,-2281711.0874116407,-2282458.3948271647,-2286762.3970178617,-2282208.9033772675,-2169112.1916233436,-2169283.775452448,-2169283.775452448,-2170999.613743491,-2169283.775452448,-2218930.4107118812,-2218930.4107118812,-2218930.4107118812,-2218930.4107118812,-2218930.4107118812,-1573257.4071842947,-1572154.4672478568,-1572031.6104750854,-1573257.4071842947,-1573870.3055388995,-1831601.6658034488,-1815117.938846512,-1822049.6317869397,-1832334.4509471974,-1826051.9866704845,-2190423.073537002,-2192634.834207782,-2187484.049506936,-2184827.8251416003,-2187365.447780607,-2218557.679331098,-2218557.679331098,-2218557.679331098,-2218557.679331098,-2218557.679331098,-2133472.923677329,-2141307.4698837227,-2138381.384128234,-2124532.243242474,-2131242.3338989737,-2210363.0617427537,-2206416.6336733545,-2208475.639622606,-2207617.7204770846,-2195263.684781576,-1649560.9290174579,-1641716.1071803682,-1647232.1923718103,-1651522.4808540435,-1642819.0471168065,-2211656.173823163,-2211827.757652267,-2211827.757652267,-2211827.757652267,-2211827.757652267,5700107.226497626,5714005.5166550735,5754156.132665477,5726702.7200087905,5721555.205135661,-1267669.4161160062,-1303702.0202279056,-1336989.283074137,-1307133.6968099913,-1223057.6205488925,-2219546.980914577,-2219546.980914577,-2219546.980914577,-2219546.980914577,-2219546.980914577,-2219435.9535318036,-2219435.9535318036,-2219435.9535318036,-2219435.9535318036,-2219435.9535318036,-2219293.3821315593,-2219293.3821315593,-2219293.3821315593,-2219293.3821315593,-2219293.3821315593,-2131349.6842031833,-2120025.151482301,-2121569.4059442384,-2127918.0076210974,-2123067.544320031,-2198372.7303241654,-2200207.9073746195,-2198427.8911760794,-2199180.697633827,-2200607.9601160665,14679396.956527984,6646041.033637499,6225391.739021699,8299394.2157559395,7855825.065860355,-2245414.685098884,-2245414.685098884,-2245408.5561153386,-2245414.685098884,-2245408.5561153386,-2274086.495033218,-2274086.495033218,-2274086.495033218,-2274086.495033218,-2274073.9482589224,-2164509.544640857,-2164503.4156573107,-2164503.4156573107,-2164503.4156573107,-2164503.4156573107,-2201426.747457311,-2203474.9414550066,-2205984.2963141655,-2193437.52201837,-2209748.3286029045,-1898597.0570502086,-1898768.6408793132,-1898768.6408793132,-1898768.6408793132,-1898597.0570502086,-1532407.0195333632,-1532407.0195333632,-1532407.0195333632,-1534122.8578244061,-1530691.1812423202,2598193.2180343266,2560552.8951469394,2560552.8951469394,2463481.572207852,2510365.7979637585,-2077580.1889488383,-2073908.2950060065,-2074234.3042813046,-2075950.1425723475,-2077580.1889488383,-2211946.415662693,-2211632.746305297,-2211971.509211284,-2211607.6527567063,-2211774.831833588,-1335789.7594171662,-1337505.597708209,-1337505.597708209,-1335789.7594171662,-1337505.597708209,-2229951.7235945617,-2230319.4626073237,-2229767.85408818,-2229767.85408818,-2229767.85408818,-2166707.0507893795,-2169947.6808495102,-2170046.998294923,-2167852.844042947,-2165891.984960987,-458709.18324962765,-458709.18324962765,-458709.18324962765,-458709.18324962765,-456993.3449585848,-2184806.7282825024,-2184806.7282825024,-2172259.953986707,-2177794.9750370425,-2184806.7282825024,-2300505.9111572625,-2299828.257280753,-2300348.932074963,-2300030.738512708,-2299867.630446863,-2178755.970695867,-2178755.970695867,-2178584.3868667632,-2178755.970695867,-2178768.5174701633,-2219484.247043098,-2219484.247043098,-2219484.247043098,-2219484.247043098,-2219484.247043098,-2218896.4422370847,-2218896.4422370847,-2218896.4422370847,-2218896.4422370847,-2218896.4422370847,-2239059.8796566697,-2239059.8796566697,-2239231.463485774,-2239231.463485774,-2239231.463485774,-2210658.729311873,-2211688.232286499,-2204996.4629514315,-2210315.561653665,-2198647.8612745735,-2180257.1788591403,-1775489.4708814349,-1774836.0373944975,-1770632.8680054063,-1772013.0131779434,-1773108.6535527147,-1865599.7908303833,-1866089.8324122168,-1875061.6113365984,-1857204.4688815505,-1852976.0244384788,-2210635.057962797,-2210463.474133693,-2210463.474133693,-2210463.474133693,-2210463.474133693,-2253116.4920146433,-2253103.9452403476,-2253116.4920146433,-2253116.4920146433,-2253103.9452403476,-2164468.2866725107,-2173413.270323802,-2174308.8833380905,-2172757.4794657356,-2170789.6575517217,-1876766.0487602751,-1890061.941083199,-1889761.9096966465,-1880552.3633771269,-1847106.7562307133,-2173114.728158148,-2176294.4178075427,-2187938.101035781,-2169424.791256224,-2189034.767585071,-1938514.9868788857,-1937902.088524281,-1938514.9868788857,-1937902.088524281,-1939617.926815324,-2029599.9084457746,-2122958.9137929333,-2134807.335597404,-2097687.7831012146,-2138409.9626333737,-2034338.5788965314,-2071633.8575979953,-2098131.716118204,-2048588.644709074,-2148113.1941856174,1750740.8176194692,1828190.3369402664,1755238.4278111414,2206334.084092643,1670540.5948456277,-2224876.3085276005,-2224876.3085276005,-2224876.3085276005,-2224876.3085276005,-2224876.3085276005,-2191978.7640847005,-2191978.7640847005,-2191978.7640847005,-2191978.7640847005,-2191978.7640847005,-1559692.1046003404,-1559863.6884294446,-1559520.520771236,-1558086.5603029418,-1559630.8147648799,-2220121.145011531,-2220121.145011531,-2220121.145011531,-2220115.016027985,-2220121.145011531,-2068539.0257150722,-2072973.953932655,-2081035.1044169362,-2060407.8202755859,-2067836.4530391868,1607144.032578942,1605428.194287899,1605428.194287899,1605428.194287899,1605428.194287899,-2089608.2497423943,-2079833.2294975505,-2077782.6993115582,-2078406.968238867,-2087178.3232482767,-1588129.8640681433,-1586012.528999635,-1587504.4189392426,-1584458.6225728458,-2219410.8599832123,-2218883.8954627886,-2219348.126111733,-2219285.392240254,-2219423.406757508,-1256434.3013296705,-1258481.298703495,-1256740.7505069731,-1256802.0403424334,-1256434.3013296705,-2168517.3272236343,-2165085.6506415484,-2165085.6506415484,-2165085.6506415484,-2165085.6506415484,-2218808.614817014,-2218808.614817014,-2218808.614817014,-2218808.614817014,-2218808.614817014,-2217181.0617816406,-2217181.0617816406,-2217181.0617816406,-2217242.351617101,-2217181.0617816406,-2039602.034923892,-2037886.1966328488,-2037886.1966328488,-2039602.034923892,-2039602.034923892,-2142177.4271312947,-2142177.4271312947,-2142177.4271312947,-2142177.4271312947,-2142177.4271312947,-2152042.9725008635,-2152042.9725008635,-2152042.9725008635,-2152042.9725008635,-2152655.870855468,-2219310.485788846,-2219310.485788846,-2219310.485788846,-2219310.485788846,-2219310.485788846,-1561924.817650215,-1561924.817650215,-1560208.9793591718,-1558954.3019295926,-1558954.3019295926,-1748723.4461109682,-1765979.975888689,-1764264.1375976463,-1744188.829592445,-1763063.0507939162,-1800907.1383037327,-1749526.7197694622,-1855416.158426706,-1691273.9134168138,-1779483.4197421009,-2201186.4391021584,-2200591.899988007,-2200205.801734791,-2200647.0331297363,-2200745.152286843,-1795410.6280734106,-1795410.6280734106,-1795398.0812991147,-1795398.0812991147,-1795410.6280734106,-2122246.994968355,-2122234.737001263,-2122253.123951901,-2122228.608017717,-2122259.2529354477,-2218592.4315819484,-2218592.4315819484,-2218592.4315819484,-2218592.4315819484,-2218592.4315819484,-2109445.9454530245,-2101373.747341576,-2100353.9708504574,-2096542.984432614,-2095689.009334588,-2212363.5975838928,-2212964.2102612206,-2212535.181412997,-2212535.181412997,-2212964.2102612206,-2219059.5503029297,-2219059.5503029297,-2219059.5503029297,-2219059.5503029297,-2219059.5503029297,-2083980.9782343959,-2085223.10888968,-2081107.7669206588,-2081722.5588611532,-2083604.5750055222,-1422744.1774226744,-1418626.1655241717,-1411248.0608726873,-1425832.6863465516,-1416052.4080876075,-2205781.1243205694,-2205781.1243205694,-2205609.540491465,-2205781.1243205694,-2205781.1243205694,-1817423.4710408286,-1835253.5482246692,-1829188.625532586,-1820239.478249806,-1801242.954479264,-1734579.9369933468,-1734579.9369933468,-1734579.9369933468,-1734579.9369933468,-1734579.9369933468,-2171759.900771581,-2167311.2679891656,-2130763.912389953,-2175571.3089370253,-2137491.8620070578,-2051576.9639797779,-2082692.9642333505,-2064123.7382755736,-2089217.286867164,-2082191.0932615187,-2085028.5181906456,-2085028.5181906456,-2085034.791577794,-2085028.5181906456,-2085034.791577794,-2227162.9002942843,-2227338.5551344254,-2227401.2890059045,-2225858.035767522,-2226836.6841625934,-2218532.5857825065,-2218532.5857825065,-2218532.5857825065,-2218532.5857825065,-2218532.5857825065,-1819508.8431069283,-1836679.5116946336,-1814025.192302831,-1824040.5715534154,-1814223.052619527,-1499871.2632466508,-1494115.4695446843,-1493505.4365853767,-1493946.3705612202,-1493986.6550829227,-2196666.0147581776,-2196659.3081602245,-2196703.6550810654,-2195056.1020306395,-2196691.1083067693,-2176336.44570389,-2176336.44570389,-2176336.44570389,-2176336.44570389,-2176336.44570389,-2203317.131841176,-2203329.678615472,-2203488.71567028,-2203317.131841176,-2203329.678615472,-930388.79999299,-968346.4774811016,-971485.3612220048,-868756.2060802015,-901840.440222036,4032303.9473815565,3814170.6928482275,3898234.0806300566,3802085.0794138955,4302853.111309274,-2197021.140316391,-2197634.0386709957,-2197082.4301518514,-2195244.0121898875,-2194876.2731771246,-2219310.485788846,-2219310.485788846,-2219310.485788846,-2219310.485788846,-2219310.485788846,-462243.4668019392,-526720.6508082027,-494727.0795959877,-468985.3487025908,-516791.42036175635,-573546.1304157509,-892751.6728984184,-664438.3667875646,-676169.1923913455,-1204069.2307865066,-2219435.9535318036,-2219435.9535318036,-2219435.9535318036,-2219435.9535318036,-2219435.9535318036,-2199003.277383045,-2199003.277383045,-2197287.4390920023,-2198941.9875475843,-2197287.4390920023,-2195310.7734753564,-2195059.83798944,-2195323.320249652,-2196775.676280483,-2197014.0649921033,-2219575.6654759333,-2219575.6654759333,-2219569.5364923873,-2219575.6654759333,-2219569.5364923873,-2173363.43314439,-2169944.3033366003,-2171660.141627643,-2171715.1580759557,-2169938.0299494523,-2115097.6581358598,-2132500.9101611217,-2125227.3409609767,-2098653.2442000797,-2101000.30216716,-997631.7615417747,-921917.9004169401,-922438.0172455274,-925693.8172801082,-935884.6361118951,-947048.8653339358,-946877.2815048315,-948593.1197958742,-949909.0870609143,-947490.1798594359,-1809327.0972149277,-1808714.0544567208,-1808731.3572432334,-1809350.384581384,-1809149.2399986752,-2212524.315703651,-2212524.315703651,-2212585.605539112,-2212585.605539112,-2212585.605539112,-1550950.174837031,-1548560.148355923,-1548560.148355923,-1557804.0512244427,-1549173.0467105275,-1966716.031024068,-1947299.576353135,-1916384.5364077128,-1931701.300501575,-2015383.7640401092,-2185123.0483919485,-2185061.758556488,-2185061.758556488,-2185123.0483919485,-2185123.0483919485,-2218244.0099737034,-2217553.9373874343,-2218244.0099737034,-2218305.4891677527,-2218244.0099737034,-2195488.3890012265,-2197210.3562758155,-2195494.5179847726,-2197204.2272922695,-2197210.3562758155,-2292124.44371049,-2292001.864039569,-2292737.342065095,-2292308.3132168716,-2291388.965684965,-1980326.0802727721,-1979687.8990109866,-1979689.3430470054,-1981534.311497967,-1981061.5582982972,-2176990.940658845,-2175639.676206678,-2176252.574561282,-2175152.245595031,-2176378.04230424,-2213792.4094773466,-2213792.4094773466,-2213792.4094773466,-2214405.307831951,-2213792.4094773466,-2111467.2714108843,-2111454.7246365882,-2111638.8552399883,-2111454.7246365882,-2111461.142427338,-2219717.418448056,-2219723.691835204,-2219717.418448056,-2219711.1450609085,-2219717.418448056,-2210612.2590622623,-2210294.518693831,-2210708.5622455915,-2210336.230027755,-2210583.094502634,-1709422.4482677728,-1707582.367694707,-1698565.1130068623,-1720628.0682633794,-1707550.2356814668,-1890150.1681805323,-1885860.4339020008,-1889188.1948656535,-1888373.0400540293,-1891437.5318270528,-1828614.0606434054,-1843830.2386681398,-1836934.9187812302,-1846926.2221317207,-1837390.6736669163,-2153519.080362653,-2170557.120026744,-2170698.618044264,-2161114.6602594806,-2162358.525737504,-2158413.3338792697,-2158303.0398856257,-2158915.9382402305,-2158303.0398856257,-2158915.9382402305,-2213392.0687395227,-2213638.672117383,-2213552.288733331,-2213465.9053492793,-2213651.2188916793,-2158284.47524224,-2159619.773176558,-2170638.510937748,-2126724.8009024644,-2165490.9960646196,-2221132.248083462,-2212209.888970039,-2207062.3740969105,-2207062.3740969105,-2220102.7451088363,-2210643.233213499,-2199667.997134371,-2208946.070680298,-2202076.588532581,-2211488.605584725,-2194140.053962368,-2195566.315221051,-2195382.184617651,-2197904.0862511066,-2195566.315221051,-2219222.658368775,-2219285.392240254,-2219260.2986916625,-2219285.392240254,-2219172.4712715917,-2149803.8418259844,-2149051.035368237,-2149552.9063400687,-2149929.3095689425,-2149176.5031111953,-2219971.6776547446,-2219971.6776547446,-2219971.6776547446,-2219971.6776547446,-2219971.6776547446,-2214162.970915717,-2214162.970915717,-2214162.970915717,-2214162.970915717,-2214162.970915717,-2219359.4182085996,-2219346.871434304,-2219045.7488512043,-2219296.6843371205,-2219171.2165941624,-2210556.1343302024,-2210610.20398557,-2211429.6268729814,-2210855.363327412,-2211050.3355720704,-2195046.185904384,-2195046.185904384,-2195046.185904384,-2195107.4757398446,-2196762.024195427,-2167308.232072896,-2165592.393781853,-2164979.495427249,-2164979.495427249,-2165592.393781853,-2216136.151892009,-2216788.5841553905,-2216863.8648011656,-2216424.7277008127,-2214417.2438134854,-2219435.9535318036,-2219435.9535318036,-2219435.9535318036,-2219435.9535318036,-2219435.9535318036,-2201449.4835178526,-2201436.936743557,-2201436.936743557,-2201436.936743557,-2201436.936743557,-1458269.9803005327,-1457485.4981168238,-1457657.0819459278,-1456382.5581803857,-1457657.0819459278,-1921515.4134398291,-1922140.8585687296,-1869612.4779656045,-1934060.9330581948,-1980497.7994043634,-2208380.642788096,-2208895.3942754082,-2208895.3942754082,-2206321.6368388445,-2200487.786649299,-2190276.654287989,-2191882.1985853873,-2190105.070458884,-2190166.3602943444,-2190166.3602943444,-2213109.0351374624,-2213109.0351374624,-2212937.451308358,-2213109.0351374624,-2212937.451308358,-2147381.4956546864,-2149038.9824480484,-2147258.888273581,-2142727.2859308776,-2137196.7599020735,-2204840.3053438202,-2204297.1885927664,-2201224.482153503,-2200813.2626415105,-2202069.7159738033,60355202.51707254,60354589.61871794,60365420.55472269,60367749.29136834,60367749.29136834,-2074664.8466214521,-2097951.6597144483,-2101502.3968401584,-2057312.6577703673,-2101075.8065141016,-2221555.7794493935,-2224744.294929356,-2224558.9813869563,-2222126.705373055,-2222186.5511724968,-2213859.167339842,-2215575.005630885,-2213859.167339842,-2214962.10727628,-2215575.005630885,-1572958.8514449329,-1566142.883214835,-1554389.625487156,-1567397.5606444145,-1556105.4637781987,-2175436.8893767754,-2197914.3709894363,-2181270.739566321,-2135972.6086827903,-2190879.433996161,-1855192.4302381987,-2204023.0334032783,-2199390.2700174623,-2207626.293814468,-2204880.952548799,-2204366.2010614867,-1631647.2897167508,-1631647.2897167508,-1631647.2897167508,-1631647.2897167508,-1631647.2897167508,-998849.2715155628,-996520.5348699152,-994804.6965788723,-998849.2715155628,-996459.2450344547,-2219466.951289006,-2219473.0802725526,-2219466.951289006,-2219473.0802725526,-2219473.0802725526,-2262046.411341282,-2262046.411341282,-2262046.411341282,-2262046.411341282,-2262046.411341282,-1787719.1313462765,-1788180.2922077395,-1788119.0023722795,-1788131.5491465754,-1787731.6781205726,-2219071.5194628183,-2219146.800108593,-2219171.8936571847,-2219103.0308021596,-2219090.484027864,-2202523.7014970696,-2204131.0235716724,-2207838.7291882657,-2196481.6283790884,-2199958.75356495,8389902.7432489,8382835.839532886,8388648.065819321,8389902.7432489,8391618.581539944,-1890295.9909420633,-1890295.9909420633,-1890295.9909420633,-1890295.9909420633,-1890295.9909420633,-1738814.3789108698,-1749289.804953219,-1736125.0988158216,-1732120.2092631522,-1731781.9272611742,-410940.0795764082,-410940.0795764082,-409052.65745626116,-357610.88284349977,-409052.65745626116,-2070895.255570117,-2102256.0623260597,-2081539.4443778116,-2104313.89769719,-2044913.7187726367,-1902113.4278599764,-1844670.9009689263,-1989032.674320259,-1834670.8791534035,-1846593.5164516366,-2317646.865098438,-2295300.716716158,-2345548.7347968374,-2310059.6619345113,-2299277.8728338424,-2154330.4503374184,-2154330.4503374184,-2154330.4503374184,-2153717.5519828135,-2152001.7136917706,-2184122.7120744386,-2178334.6871843175,-2184349.9980477816,-2181872.8775357315,-2180953.8932246575,-2192243.8701451714,-2192066.157332521,-2192072.286316067,-2192090.673266705,-2192225.4831945333,-1923440.452284763,-1881560.2894035743,-1873755.2432697609,-1950721.6729622998,-1945633.1337321794,-2203428.0934222178,-2203428.0934222178,-2203428.0934222178,-2203428.0934222178,-2203428.0934222178,-1706945.2703012459,-1706945.2703012459,-1705229.432010203,-1705229.432010203,-1706945.2703012459,-2208765.188039043,-2200613.2543922565,-2211226.024506945,-2201362.3235801524,-2209564.778065308,-1758038.4526550686,-1753062.5216110444,-1758038.4526550686,-1731271.3753148003,-1753234.1054401486,-2222744.3499692394,-2228873.333515286,-2228873.333515286,-2226360.4502614075,-2230712.028579101,-2217516.2970645465,-2218545.1325568026,-2219360.6728860294,-2219323.0325631415,-2219197.564820184,-2100819.583450478,-2097255.8894349053,-2093980.8774789027,-2093980.8774789027,-2093980.8774789027,-2211706.143078076,-2215311.138312007,-2213548.172119845,-2214551.914063509,-2213792.9786222153,-2200479.8870196594,-2174898.9078164217,-2200605.3547626175,-2200605.3547626175,-2200605.3547626175,-2197128.8302873117,-2197741.7286419165,-2197741.7286419165,-2198354.626996521,-2198354.626996521,-1862987.7599857694,-1864703.5982768124,-1862987.7599857694,-1864703.5982768124,-1862987.7599857694,-1828506.4635298434,-1817427.1168903795,-1823481.9776674514,-1842096.679388692,-1832928.8699366502,-2227108.186254025,-2227065.2833692026,-2227102.057270479,-2227108.186254025,-2227065.2833692026,-1908207.4430521398,-1908207.4430521398,-1908207.4430521398,-1908207.4430521398,-1908207.4430521398,-1937024.6996051818,-1936853.1157760776,-1936853.1157760776,-1937024.6996051818,-1936853.1157760776,-2083993.292674678,-2084618.4489963746,-2084600.062045736,-2081964.8762227863,-2082890.3527382396,-2027514.7107565633,-1972733.7242524019,-1969466.991562955,-2001915.7555146853,-1910669.8520251787,-2236409.22600764,-2236409.22600764,-2236409.22600764,-2236409.22600764,-2236409.22600764,-1688382.1812380028,-1683824.6323811482,-1688382.1812380028,-1690098.0195290458,-1688814.4613790964,-1351667.1070437036,-1329484.0660329182,-20666.63477629804,-1240381.946162211,-947955.0670668044,-1480216.1633954104,-1513243.6812512816,-1537478.7124889095,-1539018.8959398114,-1527321.6972599067,-2229385.5675443285,-2198771.4382625874,-2229874.8917418644,-2229925.078839048,-2223864.9868541784,-2224392.5067571113,-2224392.5067571113,-2224392.5067571113,-2224564.0905862157,-2224392.5067571113,-1892086.6975373898,-1933661.020627179,-1875990.9478758387,-1928585.595161972,-1886762.7134291376,-2198389.0928780977,-2195631.3273842265,-2196734.2673206646,-2197776.194523493,-2197776.194523493,-2106359.914441681,-2106347.3676673854,-2106359.914441681,-2106366.332232431,-2106366.332232431,-2202010.32646164,-2202022.873235936,-2202010.32646164,-2202022.873235936,-2202022.873235936,-2219433.4441769444,-2219433.4441769444,-2219433.4441769444,-2219433.4441769444,-2219433.4441769444,-2170603.295677695,-2170431.7118485905,-2170603.295677695,-2170603.295677695,-2170603.295677695,-2223726.2420140365,-2223726.2420140365,-2223726.2420140365,-2223726.2420140365,-2223726.2420140365,-2094808.794371178,-2096185.3900328889,-2129993.395769662,-2146062.5133516616,-2107412.0703171548,-1349302.7120988495,-1356166.065263021,-1366804.2626674867,-1369378.0201040509,-1354450.226971978,-2024227.4457756833,-2022336.5915529593,-2023043.517354864,-2023001.649066474,-2022075.096389311,35750624.392939076,35141501.79961886,35458931.88346178,35438341.823969275,35834700.46920017,-1825942.229238208,-1820796.4785624389,-1799444.938014705,-1814366.6021632317,-1835011.7393771056,-2207391.8499238384,-2206877.098436526,-2198469.4908104157,-2209794.0235312986,-2207906.6014111512,-1806001.123434549,-1806001.123434549,-1806001.123434549,-1804726.5996690064,-1804285.2851435062,-2149644.6365387784,-2150711.112353921,-2145592.028441237,-2151024.781711316,-2145704.949409899,-2163254.012367175,-2163254.012367175,-2165141.434487322,-2163425.5961962794,-2163254.012367175,-1861189.3859685904,-1886819.2066065995,-1869768.5774238044,-1865392.9979600892,-1872084.7672951561,-2184504.7082770383,-2181368.0147030894,-2188756.171177424,-2189821.202956548,-2183500.9663333744,5096248.267304425,5173866.684109252,5110510.879891265,5096076.68347532,5160065.232383877,-2187792.7847610777,-2187792.7847610777,-2187792.7847610777,-2186009.5276510282,-2187731.4949256172,-1665370.6400841253,-1665182.4384696884,-1664470.3421223091,-1664445.2485737177,-1664395.0614765347,-2226516.6937248483,-2226516.6937248483,-2226516.6937248483,-2226516.6937248483,-2226516.6937248483,-1343888.4183069398,-1341968.7618396832,-1344139.353792856,-1348269.9124656543,-1343712.7634667987,-2219768.0097509366,-2248013.2392593017,-2221964.4652561354,-2216515.543563399,-2221907.7818293483,-2223189.7141777608,-2223189.7141777608,-2223189.7141777608,-2223189.7141777608,-2223189.7141777608,-2181658.658000706,-2181658.658000706,-2181229.629152483,-2182884.4547099154,-2182884.4547099154,-2206966.124800428,-2208008.0520032556,-2207885.4723323346,-2206966.124800428,-2208008.0520032556,-1623064.5301690912,-1623064.5301690912,-1623064.5301690912,-1622451.6318144863,-1622451.6318144863,-2210873.701858404,-2209157.863567361,-2209157.863567361,-2207442.025276318,-2207442.025276318,-2161003.4482395626,-2157460.9234601324,-2158502.85066296,-2159422.1981948675,-2158380.2709920397,-2219435.9535318036,-2219435.9535318036,-2219435.9535318036,-2219435.9535318036,-2219435.9535318036,-2216444.951807536,-2216616.53563664,-2216616.53563664,-2216444.951807536,-2216616.53563664,-1897103.3658299134,-1891955.0196512344,-1909545.2024283886,-1890165.3447504353,-1890704.4064952836,-1956422.9688101588,-1952505.305442389,-1961413.515192404,-1963910.3232772674,-1962655.645847688,-2147974.5511963805,-2152370.3020011676,-2151283.696010804,-2145471.4697243692,-2143107.5789712034,-2219122.2841744088,-2219385.7664346206,-2219310.485788846,-2219417.13337036,-2219385.7664346206,-2219488.8039260884,-2219582.904733307,-2219582.904733307,-2219551.537797568,-2219438.6168289054,-2218218.9164251112,-2218206.369650816,-2218206.369650816,-2218218.9164251112,-2218218.9164251112,-2189434.5586400134,-2185670.5263512745,-2033980.0251151081,-2151709.478120038,-2192235.5590954567,-2189060.690733935,-2189079.077684574,-2189201.657355495,-2189177.1414213106,-2189158.7544706725,-2221353.0925278477,-2216572.4853619314,-2218411.1804257454,-2216817.6447037733,-2218472.470261206,-2204481.991474728,-2207585.308829599,-2207066.626979662,-2204969.161985324,-2213196.767078516,-2179394.427172071,-2176942.833753652,-2177997.0466337567,-2176942.833753652,-2177384.1482791523,-2227892.6961479187,-2231815.2456173887,-2226176.580755026,-2228137.8554897606,-2232428.1439719936,-2175047.5373006742,-2175723.169526757,-2175104.142188607,-2175735.7163010533,-2176880.820765239,-2309849.8797636363,-2311090.4056402347,-2307853.3378719194,-2309076.5039621578,-2304823.147475883,-2220904.0855430863,-2220910.214526633,-2220904.0855430863,-2220910.214526633,-2220904.0855430863,-2214527.5655173142,-2214527.5655173142,-2214527.5655173142,-2214527.5655173142,-2214527.5655173142,-2085908.392349293,-2082144.3600605547,-2088417.747208452,-2083399.037490134,-2090927.1020676112,-2196458.6281032376,-2197073.4200437316,-2197035.7797208447,-2196195.1458430258,-2196320.613585984,-2031541.4506173874,-2026231.0953027848,-2066296.0154167407,-2062855.129472212,-2005403.4499717646,-2249942.8567447844,-2246564.695614366,-2246878.364971761,-2242912.39903533,-2234419.649490935,-1738890.339173305,-1792264.317027619,-1746179.1159394206,-1805760.9557085154,-1742820.912536203,-2224129.2782139266,-2224129.2782139266,-2224129.2782139266,-2224129.2782139266,-2224129.2782139266,-2219517.1057080585,-2219604.933128129,-2219579.8395795375,-2219529.6524823545,-2219623.753289573,-2219433.4441769444,-2219433.4441769444,-2179843.7685899884,-2179905.0584254493,-2180517.9567800537,-2179292.1600708445,-2179773.461698945,-2230611.5604125513,-2230611.5604125513,-2230611.5604125513,-2230611.5604125513,-2230611.5604125513,-452345.16456905357,-456764.1617057532,-460760.286687961,-491583.20603804936,-459822.5244952309,-1956657.401507541,-1966294.8659878452,-1958515.8659244522,-1963158.1724138963,-1969597.7374151207,-1992997.8480757477,-1992997.8480757477,-1992985.301301452,-1992997.8480757477,-1992985.301301452,-2202105.986792271,-2197130.0557482466,-2194384.7144825784,-2201934.4029631666,-2202963.9059377923,-2150967.6111823563,-2149251.772891314,-2150967.6111823563,-2149251.772891314,-2149251.772891314,-2158983.2697997466,-2161177.140191459,-2182948.8633821453,-2172723.242331072,-2176986.0758041614,-2191217.563955864,-2190590.225241075,-2191343.0316988225,-2190088.354269243,-2190590.225241075,-2182800.770512521,-2182800.770512521,-2184516.6088035638,-2184516.6088035638,-2182800.770512521,-2198103.8057067115,-2194054.427339851,-2196971.3524346235,-2200746.196674918,-2203096.8951336467,-1492331.8844438184,377137.4856297018,-1590196.7239510224,-1182426.559337671,-1910139.4684938062,-2209790.904496891,-2209790.904496891,-2209790.904496891,-2209790.904496891,-2209790.904496891,-2181147.2824498448,-2181147.2824498448,-2182863.1207408872,-2181147.2824498448,-2182863.1207408872,-2176314.3558259658,-2179425.955851323,-2176198.097445451,-2186090.8968150583,-2168999.318787146,-1001615.9797402732,-843517.2999465443,-932856.8203072856,-690923.6212702459,-581722.8689981095,4102326.673348736,4101100.876639526,4100610.8350576926,4101223.733412297,4102326.673348736,-2049031.0046354744,-2069730.9920565826,-2047293.4589094196,-2069718.445282287,-2069718.445282287,-1226777.3173833138,184940.48433098418,-1261436.5037780588,-1622783.6034969673,-1573906.3484822102,-2470270.9849704215,-2475269.2560575297,-2467666.3577361642,-2469287.654275807,-2481525.889739628,-2219435.9535318036,-2219435.9535318036,-2219435.9535318036,-2219435.9535318036,-2219435.9535318036],\"xaxis\":\"x\",\"y\":[-52203.38841978027,-51758.27058518793,-51523.67019944874,-51694.92975554627,-51950.025101171006,-66356.63653417196,-65422.519578180625,-65529.21349340717,-65153.85287622,-65291.34707253418,-50198.78250625968,-49761.7307816809,-49546.61127691446,-50401.71247717698,-49039.8846397216,-47508.16449680849,-47273.80342710691,-47495.49633087871,-47318.14200786137,-47425.821418264764,-200379.8146760316,-200336.96880626577,-200336.96880626577,-200571.56919200788,-200336.96880626577,-48493.64312819374,-49496.09070391952,-48657.86339821346,-48674.98935382264,-49197.444285419835,-45324.76358749099,-45958.1718839821,-45427.98520821509,-45704.80856538546,-45198.08192819291,-4914.786758551104,67293.75904141787,28655.852955469465,22955.178287050854,-20116.5858743341,-48048.88000273198,-47972.17819634174,-47838.399531815005,-48072.34004130636,-48072.34004130636,-57622.21320686421,-57622.21320686421,-57622.21320686421,-57622.21320686421,-57622.21320686421,-57612.66855996185,-59381.30507351457,-60019.909451092935,-56069.131307704,-56310.06577641077,-17580.308856313983,-17580.308856313983,-17580.308856313983,-17556.84881773977,-17580.308856313983,-130467.87512597245,-130467.87512597245,-130467.87512597245,-130702.47551171458,-130233.27474023042,-55822.13057999989,-54863.35800011815,-54288.09445218922,-55055.112516094654,-56397.39412792908,-71224.40764207646,-67705.40185594634,-65805.13873143608,-67470.80147020434,-69347.60455614032,-61798.20600461835,-60943.1048043557,-61481.50185637284,-61259.80895260122,-59232.90240383007,-102204.03568217944,-101781.52841681597,-101488.28430714464,-101614.96596644289,-101946.21457390359,-55828.891123824185,-55582.777294537154,-55021.472660735206,-54798.76112824848,-55092.013586863744,-47474.76205495491,-47474.76205495491,-47474.76205495491,-47474.76205495491,-47474.76205495491,-46813.448675222804,-46813.448675222804,-46813.448675222804,-46813.448675222804,-46813.448675222804,-158279.60045196957,-156078.07361490614,-160302.21841564967,-158619.43882088584,-160086.21203401973,11967937.777672756,3965429.77885948,2579813.682096132,3887088.7580286693,10545433.816859566,-2614.75217615098,-1502.7149600536434,-14070.993182526461,-3713.961941724387,-2808.6980534275763,-47443.091640130464,-47443.091640130464,-47443.091640130464,-47443.091640130464,-47443.091640130464,-72171.60668769335,-70460.55836831052,-71226.47965058209,-71083.37291958368,-70586.28754386156,-39101.03479664613,-39335.63518238821,-39335.63518238821,-39335.63518238821,-39101.03479664613,-42099.70480659893,-42099.70480659893,-42099.70480659893,-42099.70480659893,-41865.10442085696,-59124.88112900075,-59487.573580258024,-58952.916369799124,-58219.43820005166,-58436.7955211668,-47919.34444270049,-48177.40486701664,-47661.28401838416,-48700.56500172262,-47832.54357447724,-114840.60206694731,-114162.61587366134,-114289.4297596347,-113712.17803503195,-113355.3909565621,-47215.064653393696,-47126.38749188496,-47202.39648746385,-47329.07814676208,-47354.41447862173,-48415.03989120847,-48297.739698337544,-48461.959968357056,-48203.899544040716,-49306.521357028076,-52689.000482227835,-52689.000482227835,-52689.000482227835,-52689.000482227835,-52689.000482227835,-49802.00297952052,-49104.53590525963,-48236.51447801422,-48605.541012236325,-48283.43455516259,-51122.36636714493,-50720.37866990121,-50762.34611123597,-50605.796021855545,-50516.90850337237,-58017.55694674494,-58017.55694674494,-58011.85627207659,-58164.1135792747,-57910.51094463806,-47379.75081048136,-47386.08489344616,-47386.08489344616,-47386.08489344616,-47386.08489344616,-56453.55132289997,-56688.151708641686,-56766.77106019214,-56691.32692271059,-56501.489951893906,-244482.00542981207,-244526.58332660672,-244252.10214978983,-244716.60581555395,-244740.06585412822,-55410.79866460997,-54659.12913456888,-55069.39719740662,-55735.66379627553,-54870.71897839367,-53539.545975515124,-52390.00408537928,-53516.085936940995,-52694.98458684394,-52648.06450969561,-47361.026112664294,-46410.913667928005,-47551.04860161165,-47574.508640185944,-47384.486151238576,-147862.0417334904,-150250.80609011592,-146569.9234949839,-148362.57895853554,-150216.87236595672,-127156.51350870146,-123321.42318917475,-144414.4199465717,-125665.32325065642,-138086.5209193525,-47247.425490754824,-48033.330410484145,-44967.86082649584,-46194.82211842785,-46930.7468325342,-46239.61587679755,-46242.78291828007,-46239.61587679755,-46249.11700124486,-46245.94995976259,-47316.409980832315,-47316.409980832315,-47316.409980832315,-47316.409980832315,-47316.409980832315,-61221.87400923961,-68864.25895644707,-62853.56540470414,-58471.20679018652,-68965.60428388577,-47379.75081048136,-47379.75081048136,-47379.75081048136,-47379.75081048136,-47379.75081048136,18800.02340259079,28585.815105199137,28542.969235433367,21378.52384981457,27498.504916020513,-121840.25104294198,-119314.54747553171,-124642.74559826331,-121234.0101804547,-117236.04347222563,-157228.84019685612,-155924.9094882169,-157650.70013200393,-155541.40045626418,-155349.64594028768,-42650.09606542576,-42650.09606542576,-42650.09606542576,-42650.09606542576,-42650.09606542576,-47069.380745200804,-47069.380745200804,-45802.56415221878,-47069.380745200804,-47069.380745200804,-47210.635800160846,-47210.635800160846,-47210.635800160846,-47210.635800160846,-47210.635800160846,-29264.311765877545,-27974.035134321373,-25123.697800111997,-28860.80674940869,-19446.483170267562,-58220.674434734305,-58247.30151479109,-58220.674434734305,-58244.134473308564,-58244.134473308564,-47475.419923928894,-47475.419923928894,-47475.419923928894,-47475.419923928894,-47475.419923928894,-48157.16103656097,-48157.16103656097,-48157.16103656097,-48157.16103656097,-48157.16103656097,-51832.853245360086,-51410.91488144687,-51609.00348038817,-51591.91877665332,-51604.5869425831,-53185.276002485974,-50911.93424323466,-55665.960520975146,-45584.37644459433,-51358.78410483629,11245850.239855262,11291648.005695414,11177170.017582783,11224171.259186272,11184526.932739506,-54769.9807116393,-55009.665684023574,-55006.49864254112,-54583.310782305125,-54578.22619566288,91707.61885444353,91684.1588158694,91707.61885444353,91684.1588158694,91684.1588158694,19484.094409383877,19486.01195454369,19484.094409383877,19484.094409383877,19484.094409383877,-46873.024173288715,-46873.024173288715,-46873.024173288715,-46873.024173288715,-46873.024173288715,-76132.20038521654,-71663.38104360002,-75492.28480305774,-71740.08284999071,-76439.0076107788,-6703.596586585484,18608.920556997982,-15330.617584792319,18129.262278693954,-6281.833262474009,-49486.13483362831,-49347.971872780945,-49255.863232216056,-49716.406435040524,-49624.297794475635,-49182.46773286639,-50070.87258932252,-48868.980018933566,-48513.16604334379,-49246.15496792144,-110605.7019718853,-110484.32757163141,-109605.68652829221,-110989.21100383795,-111262.58305196273,-48139.75958290626,-48120.58413130855,-48163.2196214804,-48163.2196214804,-48163.2196214804,-37045.17114272188,-39957.878243123894,-38478.15104090772,-38131.50850486695,-38850.608540889196,-48218.94722095344,-48193.5696372195,-48217.02967579372,-48217.02967579372,-48195.487182379315,-52413.58577740825,-52375.23487421307,-52432.76122900595,-52413.58577740825,-52471.11213220112,-99550.8839683414,-99550.8839683414,-99527.42392976726,-99550.8839683414,-99527.42392976726,-56096.004758844094,-55864.571414584556,-54086.1291158983,-55864.571414584556,-57958.357919699956,-47032.58557262566,-41360.04255847596,-77833.7511998063,-75103.25013752673,-94119.27252774022,-72954.36277105362,-83054.42118451519,-59096.40996216909,-59307.55030933675,-58744.50938355602,-58650.66922925901,-58674.12926783338,-47614.14908870435,-47614.14908870435,-47614.14908870435,-47614.14908870435,-47614.14908870435,-183753.08358685256,-180712.72376369583,-181681.5991412867,-182695.05241567225,-182422.9261642214,4786.258079751765,9341.579770529317,8422.564058752801,8379.718188987155,9911.658707882403,-49731.413724371734,-49750.58917596935,-49727.129137394986,-49750.58917596935,-49731.413724371734,-46982.18276203722,-46982.18276203722,-47216.78314777941,-46982.18276203722,-46982.18276203722,486120.0446886445,491773.7865349024,494684.7488632628,494002.4901994515,497873.3965641944,-107607.26865599805,-107759.93013299556,-107432.24029026987,-107964.36520719889,-107295.73986120739,-90070.11431678377,-90450.1592946782,-89945.16468451466,-90323.47763538013,-90030.23352570889,-2495133.568930543,-2494242.0874647256,-2495133.568930543,-2499426.7559896233,-2498488.3544466547,-43631.69945112381,-47892.9146765725,-43575.34609825969,-38488.90427473429,-46786.55295876589,22068.575887533876,15545.546826785363,64761.123478063244,11649.925499413675,4981.364792957281,-55693.98142963656,-61152.44789552688,-46015.78295132315,-64092.4968090261,-27762.654938922144,-62877.92894207784,-62877.92894207784,-62839.57803888273,-62877.92894207784,-62877.92894207784,-49114.86189083559,-49131.98784644514,-49131.98784644514,-49125.653763480266,-49114.86189083559,-68759.69464478346,-68759.69464478346,-68783.15468335767,-68994.2950305255,-68783.15468335767,-47278.40548304282,-47278.40548304282,-47278.40548304282,-47278.40548304282,-47278.40548304282,-68274.09142330979,-68274.09142330979,-68250.4210051418,-68058.66648916539,-68465.84593928611,-56093.79507714755,-56093.79507714755,-56309.00963169809,-56087.46099418266,-56093.79507714755,-36283.27537858859,-49027.45030398666,-48997.69743432179,-41327.081711942315,-48915.31310390378,-46556.32002504305,-46556.32002504305,-46556.32002504305,-46556.32002504305,-46556.32002504305,155164.10661600294,165902.3595106778,160347.812630329,149027.9621047601,157087.98585873126,-62397.52132517894,-69013.25220310339,-68989.79216452927,-66690.70838425757,-61787.56032224977,-28158.31330050531,-28135.970807425398,-28178.60629759707,-28162.597887481967,-28100.78694571243,-55062.921177838485,-53528.88505002765,-57939.23891748343,-56596.95730564917,-55254.6756938148,524088.2147333542,478103.01172415126,477722.7274302165,478227.72204038,510153.2322105534,-55931.5040104701,-56166.10439621201,-56166.10439621201,-56166.10439621201,-56166.10439621201,-47316.409980832315,-47316.409980832315,-47316.409980832315,-47316.409980832315,-47316.409980832315,-60924.50692405593,-61116.26144003235,-61116.26144003235,-60881.66105429035,-61116.26144003235,1100498.5728148045,1100475.1127762308,1100498.5728148045,1100263.9724290627,1100498.5728148045,-48736.40959676601,-48924.08990535978,-50097.09183406984,-49440.2107539921,-48712.94955819188,-61822.992724399955,-61822.992724399955,-62057.59311014214,-61822.992724399955,-62057.59311014214,-60052.27350445187,-60540.64972753356,-60306.04934179148,-60306.04934179148,-60307.96688695129,119692.76798715346,119692.76798715346,119692.76798715346,119692.76798715346,119458.16760141151,513896.0088760846,485950.0348349038,416129.43831270543,539916.4216959331,376953.1351747401,-91916.95179843355,-85932.60971560463,-87524.07693142517,-89526.32102672358,-92675.60711510421,-49049.74712650463,-48378.60632058734,-49874.291545202694,-48340.255417392254,-48340.255417392254,-43404.61890386644,-43404.61890386644,-43404.61890386644,-43404.61890386644,-43404.61890386644,-80445.54222554223,-80443.19622168467,-80961.04527384244,-80769.2907578661,-80534.69037212414,-33064.72330978566,-36478.794027872114,-33128.06413943478,-33254.745798733,-36155.7557966618,11947.112531014101,86532.15683778816,9491.449173739136,62326.15079337557,77963.87284971724,-44544.21763913572,-44810.24912366189,-29290.970165140752,-44992.30055239909,-43272.21256334071,-65516.912248531524,-65516.912248531524,-65229.28047456708,-65416.54002397308,-65128.90825000843,-51761.349898795175,-51690.11980041043,-51734.45838116473,-51688.4040608824,-51755.01581583013,-48890.57474565747,-48867.11470708311,-48890.57474565747,-48867.11470708311,-48890.57474565747,-51622.71368039522,-51646.17371896943,-51622.71368039522,-51622.71368039522,-51622.71368039522,-48184.501383813054,-48184.501383813054,-48184.501383813054,-48184.501383813054,-48184.501383813054,-54072.274229794544,-54072.274229794544,-54306.87461553648,-54072.274229794544,-54306.87461553648,-51916.309940207575,-51939.7699787818,-51916.309940207575,-51939.7699787818,-51916.309940207575,-50289.966683859115,-50530.901152566024,-50289.966683859115,-50289.966683859115,-50289.966683859115,1528703.4638059344,889024.4251797175,864004.7974683245,822833.2581964125,1407785.82000581,-68098.33394102122,-59220.587302751475,-66391.92912842575,-68942.89532969237,-59965.13053380493,-146802.48303116308,-143820.10251507297,-144204.59675274792,-147975.48495987305,-147314.5296724127,-46873.024173288715,-46873.024173288715,-46873.024173288715,-46873.024173288715,-46873.024173288715,-186528.43425520058,-187678.96135105853,-186911.94328715318,-187252.6064493403,-187252.6064493403,-52022.32021470896,-52022.32021470896,-51787.719828966896,-51830.56569873255,-51787.719828966896,-36753.13984004457,-37375.74422430975,-36949.389322591334,-37064.44203217718,-37102.79293537238,-47244.6092097371,-47244.6092097371,-47244.6092097371,-47244.6092097371,-47250.94329270207,-50810.417021154564,-50816.75110411954,-50810.417021154564,-50810.417021154564,-50810.417021154564,-49367.06242296041,-49343.602384386184,-49367.06242296041,-49367.06242296041,-49367.06242296041,-46540.78463526795,-45602.38309229997,-45602.38309229997,-46521.60918367036,-45602.38309229997,-51682.98707275013,-51236.41750321694,-51300.27794097469,-51562.40018037665,-51255.59295481455,-64682.86643748502,-64487.482968452845,-67599.06496820506,-68007.7660657609,-67261.24296173887,-51898.96908134883,-51917.97133024364,-52006.64849175238,-51987.646242857736,-51993.98032582261,-49322.01033539227,-49345.470373966404,-49345.470373966404,-49351.80445693145,-49345.470373966404,-150530.6033257777,-150779.727306842,-153769.0388286729,-149391.6567562506,-144287.17809848321,-47189.72832153407,-47341.7463126921,-47398.75305937602,-47474.76205495491,-47164.39198967434,-31838.155829268962,-31838.155829268962,-31838.155829268962,-31838.155829268962,-31838.155829268962,-59314.36556328077,-59122.61104730444,-59122.61104730444,-59314.36556328077,-59122.61104730444,-47379.75081048136,-47373.416727516385,-47386.08489344616,-47373.416727516385,-47379.75081048136,-32206.110728679374,-32206.110728679374,-32206.110728679374,-32440.711114421425,-32206.110728679374,-77178.89297030753,-75534.77272495357,-73581.2554403301,-75361.7193793239,-75673.61541123914,-48562.12152386684,-48562.12152386684,-48562.12152386684,-48562.12152386684,-48565.28856534935,-50254.946472716474,-50254.946472716474,-50254.946472716474,-50254.946472716474,-50254.946472716474,-47353.83303113602,-47353.83303113602,-47353.83303113602,-47353.83303113602,-47353.83303113602,-47030.74283911472,-46942.06567760613,-46986.404258360424,-46872.390764992204,-47062.413253939325,-49176.948393911596,-49176.948393911596,-49176.948393911596,-49176.948393911596,-49176.948393911596,-48588.13032325158,173081.313410009,-48611.590361825816,-48611.590361825816,-48611.590361825816,-47505.79906148316,-47505.79906148316,-47505.79906148316,-47505.79906148316,-47505.79906148316,-46974.46959757677,-46974.46959757677,-46974.46959757677,-46974.46959757677,-46974.46959757677,-56750.24208370031,-58207.08116562929,-60233.98771440044,-60394.216081808656,-66657.76399960769,-211544.80881464045,-210301.42677020785,-209714.9258058529,-209902.6061144465,-211544.80881464045,-53324.017651469716,-53324.017651469716,-53324.017651469716,-53324.017651469716,-53324.017651469716,-85878.94383499003,-87019.07876867357,-86005.62549428814,-86240.22588002998,-86303.56670967927,-78415.54889697183,-78392.0888583977,-78415.54889697183,-78421.8829799369,-78656.48336567883,-80247.57171468399,-72314.56675054996,58132.755237398436,-25991.355947892873,25547.398908456813,-60281.17836047745,-61197.105070593534,-61197.105070593534,-61048.196424382986,-61580.61410254608,-47506.43246977958,-47506.43246977958,-47506.43246977958,-47506.43246977958,-47506.43246977958,-44551.87977922486,-43139.37927805014,-44621.55469183893,-44121.16213761104,-44627.88877480375,-52609.930132131485,-52609.930132131485,-52846.448063033386,-52654.69354705698,-52611.847677291276,-64163.05985746205,-63928.45947172007,-61817.05600004192,-64397.660243203965,-64397.660243203965,-46968.555025871,-46962.22094290611,-46962.22094290611,-46968.555025871,-46962.22094290611,-48460.083675071524,-48483.54371364565,-48483.54371364565,-48460.083675071524,-48460.083675071524,-45289.50343206132,-46841.353758464036,-46271.28629162223,-46778.01292881492,-46803.34926067455,-46289.39568790948,-46289.39568790948,-46270.22023631188,-46289.39568790948,-46523.99607365141,-22760.735315401584,-20926.778099231276,-20883.932229465623,-21395.978870715266,-20414.73145798152,-53838.19712477704,-56091.531918077046,-55364.97592538553,-55509.48874340151,-53219.32054248877,-48214.27888433331,-47909.38920393104,-47947.74010712613,-47792.41894918547,-47909.38920393104,-48990.284126780556,-49416.639028498685,-49182.03864275682,-49416.639028498685,-48988.36658162084,-50745.891474910895,-50821.900470489876,-50830.11084674022,-50853.570885314366,-50830.11084674022,-51102.26752658263,-51773.408332499916,-51926.81194528087,-50793.54275586075,-50872.16210741105,-65172.83046829611,-64914.770043979865,-64921.104126944774,-64752.809649542745,-64993.744118249626,-49200.76825670453,-49098.55691575159,-48893.96103114246,-48399.23437992337,-49603.45274025484,-47417.75530827084,-47411.42122530578,-47471.59501347246,-47462.093889025135,-47468.4279719901,-47888.44160844544,-45314.92763140684,-45101.445103885366,-46265.040076143545,-47219.482326214435,-55106.24235054865,-56065.01493043025,-56065.01493043025,-54145.55222550716,-56065.01493043025,-48350.360450154345,-48350.360450154345,-48350.360450154345,-48350.360450154345,-48350.360450154345,-47506.43246977958,-47506.43246977958,-47506.43246977958,-47506.43246977958,-47506.43246977958,-39443.14485544954,-39446.31189693207,-40713.12848991411,-39439.97781396701,-41663.24093465057,-54743.15553931807,-54717.819207458364,-57254.08486986614,-55886.363346489125,-57763.16643242508,-51168.66787416669,-51168.66787416669,-51168.66787416669,-51168.66787416669,-51168.66787416669,-45062.978518164615,-44936.296858866626,-45949.75013325203,-45443.02349605925,-45126.31934781373,-86607.94259669028,-86525.83883418683,-84391.01355897199,-85214.44434441025,-85151.1035147611,2134260.0503714937,2119058.2512557106,2145219.745927816,2137618.846369924,2176463.8058506455,179266.80537560044,-136540.06361459836,-185361.618556392,-44721.723900513156,-230476.1723090009,-60485.24583408427,-60250.645448342395,-60485.24583408427,-60485.24583408427,-60485.24583408427,-47505.79906148316,-47505.79906148316,-47505.79906148316,-47505.79906148316,-47505.79906148316,-49419.219204508554,-46700.02131927691,-48099.853654521976,-49043.63201629339,-49449.01332604757,-20281.21640620108,28325.617092331107,30699.92470826773,40290.09204851213,-35126.15337120941,-34124.17763219568,-48027.489740172045,-39913.529462123144,-48090.83056982117,-36683.14715001925,-83357.10202551346,-84464.78325160596,-85754.0334752178,-84450.1027665786,-85078.39770273019,-49782.05621147717,-49782.05621147717,-49782.05621147717,-49782.05621147717,-49782.05621147717,-67883.63422541962,-61935.93032136956,-64153.13035256531,-66341.76277375607,-62472.00032632064,-51213.14613440937,-50837.785517222,-50603.185131480044,-51377.36640442859,-53277.62952893889,-50557.16072866296,-50651.0008829598,-50744.841037256396,-50909.06130727611,-50604.08080581154,-41925.47664466042,-46758.24459094571,-40330.19402161481,-43403.459074835155,-45162.96196790009,-45942.0871801499,-45942.0871801499,-45942.0871801499,-45942.0871801499,-45942.0871801499,-55866.16986752138,-56045.16144363035,-74733.19405244401,-77067.4030662681,-81663.82012912225,-72780.8851978215,-71771.268062707,-70050.40033002694,-70037.55896139423,-70056.73441299183,-70026.94029145273,-70056.73441299183,450246.69620798284,436989.6998784674,438972.0285304436,450202.11831118807,443532.5682651786,-101425.58323420392,-102058.99153069487,-90892.01954188173,-102058.99153069487,-104123.48129773077,-50065.21382797017,-50071.54791093514,-50065.21382797017,-50062.046786487816,-50306.14829667733,-52233.49170656068,-50542.331825526926,-54840.157538522864,-51529.690549334584,-50432.19484169902,-46484.81429973981,-46484.81429973981,-46484.81429973981,-46484.81429973981,-46484.81429973981,-46794.28114298444,-46794.28114298444,-46794.28114298444,-46794.28114298444,-46794.28114298444,-100514.80066662104,-100516.71821178084,-100516.71821178084,-100514.80066662104,-100514.80066662104,-49797.87955566552,-50638.43629671315,-50321.732148467556,-50367.94702250752,-50720.77937525685,-52697.32386805522,-52720.78390662926,-52697.32386805522,-52720.78390662926,-52931.92425379711,-46619.66085469217,-47348.080395656674,-43389.27854258835,-45542.86675065756,-47234.06690228853,-47316.409980832315,-47316.409980832315,-47316.409980832315,-47316.409980832315,-47316.409980832315,-43002.86253544548,-43002.86253544548,-43002.86253544548,-43002.86253544548,-43002.86253544548,-58461.56236825316,-58461.56236825316,-58461.56236825316,-58485.02240682729,-58461.56236825316,-61463.12775222622,-61271.37323624999,-61265.039153284924,-61228.52736648419,-61271.37323624999,-101142.1887626211,-101376.78914836302,-101142.1887626211,-101185.0346323867,-101142.1887626211,-52712.32292542681,-52146.19336430946,-52508.885815566995,-52901.92077918034,-52741.411843857415,-42047.74110117986,-38900.56788113423,-42796.202107256584,-39995.67142325206,-41047.82200623864,-52727.00073949046,-52718.320652668124,-51100.399028673266,-52983.536197574314,-52837.96684939639,-70659.26081342694,-60711.52763241817,-63290.56956823526,-68356.54479930445,-62185.265881456515,-68261.5441284423,-68356.55537291593,-68021.08829181605,-64220.63851287043,-68204.5373817581,-54573.65357241815,-54597.1136109923,-54597.1136109923,-54597.1136109923,-54573.65357241815,-53493.335985975944,-53235.27556165962,-53235.27556165962,-53235.27556165962,-53493.335985975944,-51666.364913379904,-52301.703500043084,-51621.36238139113,-53378.94772929651,-51621.36238139113,-43910.16829175271,-45106.6302590369,-44232.27474882652,-44238.60883179149,-44537.2552502911,-103589.53739185791,-103589.53739185791,-103353.01946095606,-103163.18249013959,-103154.9308620148,-54927.678643469546,-55817.815526954844,-53391.44092894609,-60291.13945003604,-52334.440670277916,-41425.71282346624,-41425.71282346624,-41489.05365311534,-41425.71282346624,-41425.71282346624,-103263.3277075778,-275824.8547513722,-217415.70528131793,-125967.2588696826,-129238.8191017827,-48694.67706053624,-48675.50160893877,-48675.50160893877,-48694.67706053624,-48694.67706053624,-91688.95117044877,-90361.00363823603,-96671.56633025175,-94684.47018084418,-92097.96973696403,-26985.735690501682,-51946.610326846145,-49284.80277059529,-52193.87887851771,-51450.819828554224,-51788.49756876352,-45739.43922405267,-45676.09839440356,-45905.86972359724,-45848.862976913,-45954.839296734055,-134270.98168194262,-134270.98168194262,-134270.98168194262,-134036.38129620033,-134270.98168194262,-335935.55896006175,-133793.86223998514,-163059.07465817296,-334648.30422194296,-188967.79875912223,-47995.53079283465,-47995.53079283465,-47995.53079283465,-47995.53079283465,-47995.53079283465,-126048.31503293496,-125880.02055553297,-126071.77507150918,-125621.9601312168,-125626.03433859946,-48417.62138760257,-48678.84885340134,-48350.40831336241,-48229.94107900913,-48370.70131045402,-52510.16175192685,-52700.18424087397,-52301.137014084685,-52757.19098755827,-52307.471097049645,-59683.31314241435,-59941.37356673047,-59960.549018328165,-59941.37356673047,-59706.773180988566,7787.724902872628,-4880.441026946452,-35917.44755500333,-107492.5850584814,-33151.23537479174,-49339.48269640752,-49339.48269640752,-49339.48269640752,-49339.48269640752,-49339.48269640752,354279.7500033163,354813.49560656765,354468.33747781016,354276.58296183386,355197.0046385201,-47505.79906148316,-47505.79906148316,-47505.79906148316,-47505.79906148316,-47505.79906148316,-72748.34072187115,-73016.79704423802,-72763.02120689847,-72613.45268443684,-72422.35804471132,-107835.88914843577,-107601.28876269372,-107835.88914843577,-107409.53424671738,-107409.53424671738,-37025.53433432788,-47234.8098569323,-42167.54348500467,-49133.11720124539,-49135.03474640513,-52119.941251835815,-52143.40129041018,-52124.22583881246,-52119.941251835815,-52126.275334800775,-112125.99721580274,-106880.85313652761,-112144.78470068697,-101191.26917831434,-111899.60218719185,-91895.31647133661,-98916.76879149424,-82129.1558950191,-99507.9252433708,-110538.16487267638,3700.2516903122014,1213.4876014468746,2693.38757678133,134.3258270337336,2597.6298773248122,-92178.81423606123,-92159.63878446356,-92178.81423606123,-92175.6471945788,-92169.31311161391,-142800.6691945878,-143035.26958032977,-143035.26958032977,-142800.6691945878,-142800.6691945878,-43130.45310438823,-39065.60881816146,-43756.90665463033,-56214.129871863,-57479.31999755929,-64482.99582635049,-66592.29550209026,-60234.46896883814,-65435.434323267385,-62606.19274041453,-43080.93817250728,-43080.93817250728,-43080.93817250728,-43080.93817250728,-43080.93817250728,-95523.12628683745,-97214.32643846826,-97771.96505542065,-96584.26680296486,-96232.30426286702,-108646.88364929834,-108648.61567632748,-107828.64894494723,-108542.42897691256,-109663.80097774194,-103121.24210420562,-104742.76734322251,-103773.41333355093,-101936.5292737273,-98642.80613197428,353977.29739072395,290882.40674088453,393014.5367721278,292987.47612959787,443253.618342973,-130497.16236788641,-129488.40619922071,-130115.48041274685,-130115.48041274685,-130121.81449571176,-81655.50077853825,-82105.22066904686,-82029.21167346802,-82022.87759050302,-82010.20942457317,-72584.63057426662,-73082.52028564712,-73258.15886913659,-73920.20586245733,-74114.42802164868,4472.890398516301,-14429.889462059127,-17577.928695619255,-12605.67356816535,-17603.26502747889,-49168.68663910743,-42923.73397776273,-48912.94290512016,-47683.652177847085,-37223.0465643315,-54159.42833741959,-54031.4023083726,-54015.612450437286,-54165.63046955582,-53979.17909240192,-329634.6101272412,-329634.6101272412,-329634.6101272412,-329400.0097414992,-329634.6101272412,-81490.01482677588,-81258.58148251631,-81493.18186825834,-81255.41444103382,-81255.41444103382,-52751.130263046536,-53947.59223033065,-52509.49186573208,-53173.41095738208,-53478.39145884665,-49397.31412786263,-49326.93401214014,-49350.394050714356,-50077.65524651457,-50898.75659661149,-48341.63788204861,-48341.63788204861,-48341.63788204861,-48341.63788204861,-48341.63788204861,-60366.71272478036,-66645.62805940011,-27363.002196208028,-14910.517123983893,-53470.97480842874,-81929.28242326982,-81952.74246184395,-80369.22172061657,-80920.52625460409,-83454.15944056789,-87438.09774103232,-103699.09107541955,-107913.1954603286,-84327.38999523905,-102970.21353511568,-38540.16390666251,-38540.16390666251,-38774.76429240459,-38540.16390666251,-38540.16390666251,-38169.64299754686,-37935.04261180474,-37935.04261180474,-37935.04261180474,-38169.64299754686,-94896.48479872097,-94603.24068904959,-94292.87062376918,-95580.80507497149,-95928.94032200123,-79262.9099057594,-79262.9099057594,-79021.97543705245,-79256.57582279453,-79028.3095200175,-53809.032373660295,-50451.9684022584,-54030.725277432335,-54056.061609291966,-53743.773998851466,-87185.41043745246,-96075.64646685829,-98938.88976312701,-92651.59942524113,-83197.20387983836,-42888.325733938065,-41829.07636744175,-44684.444224953615,-40032.95787642626,-43487.03189761007,-47451.52102076487,-47760.01479275994,-47791.68520758461,-47791.68520758461,-47791.68520758461,-46619.66085469217,-46112.93421749954,-46683.001684341296,-46809.6833436396,-46809.6833436396,-100100.17409833452,-100334.7744840764,-100334.7744840764,-100334.7744840764,-100334.7744840764,-53101.44417204408,-53144.29004180978,-53144.29004180978,-52909.68965606759,-53144.29004180978,-91547.34487165348,-132382.60813255972,-110090.76570899907,-91345.08832673501,-87352.1157550073,-54269.85075564051,-54409.439896908894,-53268.347699063794,-53674.44695693879,-54117.832764482635,244685.20379442445,249014.07351422566,250119.78432887362,248395.96409653092,245262.57113829185,-54087.82072833637,-53483.1341267599,-53752.250325377645,-53421.772681647475,-53896.06621236002,-47506.43246977958,-47506.43246977958,-47506.43246977958,-47506.43246977958,-47506.43246977958,-1336704.470461569,-1286663.0055882572,-1175802.5137762313,-1388954.9363718077,-1130613.124214107,-53360.10175939075,-53360.10175939075,-53360.10175939075,-53379.277210988635,-53360.10175939075,-1324.1527405330976,2110.500578728578,-3819.696382945367,-3419.4030700269864,-7140.348890590263,-55943.330826838086,-55966.790865412455,-55943.330826838086,-55966.790865412455,-55943.330826838086,-42377.48194509734,-42377.48194509734,-42377.48194509734,-42377.48194509734,-42377.48194509734,-46968.03541776244,-46961.70133479746,-46961.70133479746,-46961.70133479746,-46968.03541776244,-63040.906960050444,-63275.50734579242,-63275.50734579242,-63040.906960050444,-63275.50734579242,-50363.54458603575,-50455.65322660061,-50731.97914829531,-50409.59890631801,-50547.761867165565,-50627.455382647066,-50627.455382647066,-50627.455382647066,-50627.455382647066,-50627.455382647066,-55693.15898694682,-55951.21941126306,-55927.7593726889,-55247.418254037075,-55786.99914124355,-38049.3528685672,-38485.8105679947,-40910.082364950824,-38818.10295950167,-37275.40669654577,-47285.605579522125,-47285.605579522125,-47285.605579522125,-47285.605579522125,-47285.605579522125,-53586.27477229186,-53265.28603706976,-53622.258633670135,-52931.323982386464,-53288.74607564401,-74777.6817772486,-74777.6817772486,-74777.6817772486,-74777.6817772486,-74777.6817772486,-50522.94372482033,-49748.76245187177,-50452.56360909762,-51039.06457345258,-50593.323840542806,-47505.79906148316,-47505.79906148316,-47505.79906148316,-47505.79906148316,-47505.79906148316,-120348.32451172426,-121957.64753514035,-122367.01295025446,-120605.5968764678,-122272.78161538669,-52221.33646453231,-52694.6114433991,-52931.459312426356,-53151.16883354729,-53052.8337126801,-82019.41693481161,-82085.6608816666,-82415.59413269437,-82181.37732924918,-82475.50399658438,-77915.87952016787,-77935.05497176577,-77935.05497176577,-77954.23042336335,-78193.11539608179,-59184.903347435655,-59165.72789583808,-59165.72789583808,-59150.837031217125,-59189.187934412315,-46327.82295414686,-46339.328225105426,-46519.7629882537,-46208.81147548767,-46135.88292003971,-384838.12787675246,-335021.7033596167,-347816.31163269357,-216384.09011082014,-389872.890492664,-42189.2668333137,-42131.74047852065,-41941.71798957353,-40807.39753074582,-42490.259584019615,-46936.825099630565,-47363.180001348876,-47245.87980847791,-45623.062939475385,-45998.42355666256,-41742.36391311097,-38696.81231445823,-41992.00021203058,-45436.17075687998,-44208.96542449054,24752.346985092445,-50400.47409880172,509063.1560848789,-35937.60171618782,-17034.43950523831,-47430.42347420061,-47462.093889025135,-47253.06915118318,-47449.425723095264,-47335.41222972714,-48897.003878406234,-48897.003878406234,-48897.003878406234,-48897.003878406234,-48897.003878406234,-72633.7748479517,-72610.3148093773,-72633.7748479517,-72633.7748479517,-72610.3148093773,-45036.14011346486,-45796.23006925396,-45606.20758030667,-45289.50343206132,-45416.18509135933,174275.14846356385,-57117.094974258966,-57117.094974258966,-57117.094974258966,-57117.094974258966,-57117.094974258966,-56899.32993813166,-56089.46600446063,-56899.32993813166,-56899.32993813166,-56664.72955238959,-47265.73731711296,-47265.73731711296,-47265.73731711296,-47265.73731711296,-47265.73731711296,-91502.08293074321,-91736.68331648513,-91502.08293074321,-91736.68331648513,-91502.08293074321,-100407.31753607042,-100320.51666784711,-97850.22431153234,-97850.22431153234,-98483.63260802336,-108182.4891647846,-107225.9765237459,-107834.28780441752,-108416.89148636062,-108144.67018512585,-73602.70253695163,-71015.76421082464,-74236.12357845498,-71484.96498230865,-74470.72396419701,-28362.315978491082,-28362.315978491082,-28362.315978491082,-28362.315978491082,-28385.77601706546,-61718.08429500519,-61760.93016477076,-61952.68468074727,-61760.93016477076,-61760.93016477076,-58334.182700653866,-52323.71791310083,-48937.623538331594,-52923.9464943902,-51538.69030940594,-35341.86552301227,-33676.24101928122,-33441.6406335394,-34516.70271054495,-36018.119689268904,-51655.6235779604,-52073.91236968465,-52301.93935642136,-52441.04986560903,-53974.137259157396,-50526.61218754287,-50550.0722261171,-50550.0722261171,-50550.0722261171,-50526.61218754287,-53679.423102017055,-53679.423102017055,-53677.505556857264,-53677.505556857264,-53677.505556857264,-14313.985348560991,-16425.140205607735,-10724.465537189206,-14313.985348560991,-6079.677494178534,-65461.20015308365,-65461.20015308365,-65461.20015308365,-65461.20015308365,-65461.20015308365,-285409.06191413704,-285623.8269720307,-285604.65152043296,-285197.4720703123,-285643.00242362823,-56038.35481632415,-56038.35481632415,-56038.35481632415,-56038.35481632415,-56038.35481632415,-45473.19183804357,-45476.35887952591,-45473.19183804357,-45473.19183804357,-45476.35887952591,-111310.40291347714,-111842.8205916405,-109307.16601418232,-110306.86691866994,-112183.48375382743,-43171.98982122402,-63260.88017348274,-50226.61048197544,-53777.76531501072,-24506.404587796922,-47625.43246054976,-47625.43246054976,-47625.43246054976,-47648.89249912398,-47646.97495396416,-43872.01735977863,-43660.87701261084,-43637.416974036634,-43635.49942887692,-43637.416974036634,-95214.07720017432,-94486.81600437411,-94299.13569578038,-95167.15712302586,-94134.91542576099,-116607.44573967112,-116607.44573967112,-116989.03722646413,-116583.98570109697,-116574.39797529812,-48772.430764896126,-48741.75004233984,-48791.60621649359,-48753.25531329841,-48810.7816680912,-32851.86423009108,-32655.693176309327,-32702.003100133297,-32834.60632365316,-33531.355449793235,-135164.069473969,-134225.66793100117,-134225.66793100117,-131785.82391928424,-133756.4671595171,-142137.24939617064,-146784.58999912872,-145602.23209401648,-146444.42581230908,-207225.1011710862,-41742.41697171206,-41742.41697171206,-41805.757801360945,-41742.41697171206,-41805.757801360945,-47506.43246977958,-47506.43246977958,-47506.43246977958,-47506.43246977958,-47506.43246977958,-148487.67030291384,-149090.45570450273,-148308.7571555703,-148660.24936729265,-148076.63941730122,-54538.53979632261,-54578.21862460563,-54538.53979632261,-54538.53979632261,-54581.38566608815,-62313.026534480596,-62309.85949299817,-62313.026534480596,-62313.026534480596,-62309.85949299817,-55191.911955449505,-55383.66647142591,-55191.911955449505,-55191.911955449505,-55377.332388460956,-49008.798182765815,-49008.798182765815,-48660.42361969589,-48642.42337849716,-48823.15258624038,-61357.46310307963,-61280.76129668899,-62791.127006331786,-61395.81400627493,-61338.28765148205,-41417.97374326057,-42051.38203975126,-41417.97374326057,-41417.97374326057,-42051.38203975126,-70321.30453550644,-69732.98923935083,-69961.25554212787,-70087.78028622427,-70133.83460650667,-60636.54786689244,-60465.28831079959,-60657.04282677588,-60891.643212518065,-60465.28831079959,-81015.5414314928,-76521.62231559388,-74715.1993453806,-77436.5638199879,-78844.1661344398,268031.3109724412,276104.64702126954,267786.85048819124,266848.927577304,267232.27199971373,-70238.64613888819,-70473.24652463001,-70473.24652463001,-70473.24652463001,-70516.0923943957,-63156.263845099274,-63156.263845099274,-63390.86423084109,-63156.263845099274,-62964.50932912277,-64804.263263405686,-64575.996960628596,-64569.66287766381,-64574.079415468885,-65002.3518623468,-49462.26306157109,-49462.26306157109,-49438.80302299688,-49462.26306157109,-49462.26306157109,-75819.87908936448,-75800.83558859535,-76041.4277268799,-76058.89601291156,-76039.51018172009,-112119.63377576723,-110412.17270076423,-111088.46834950274,-109602.37036225412,-110157.1389502998,-19781.11397341826,-20813.33018065824,-23139.90997184948,-19781.11397341826,-23304.11749685644,-68411.2564466044,-68713.2491006349,-67199.04164934598,-65908.65492457159,-70131.71567750812,1711161.76429332,1708205.8631580328,1714563.4061615167,1710822.5954907492,1707994.722810865,-50204.64213038751,-44731.99444870558,-49482.55667238777,-50039.95597329961,-49438.218091633324,-53463.103682990775,-54638.74412181847,-53834.5549013153,-54607.65515447959,-53005.37148039787,-46016.44984518441,-45997.27439358654,-45997.27439358654,-46016.44984518441,-46016.44984518441,-50248.23544223922,-50248.23544223922,-50248.23544223922,-50248.23544223922,-50248.23544223922,-50007.31176225144,-50096.228239800555,-49690.60761400608,-50116.96251572439,-50243.644175022506,-183573.228602799,-182492.93586449916,-178881.95526990484,-180830.9836091993,-184083.82110569198,-52566.141900884635,-52472.30174658753,-52284.6214379941,-53363.78321240756,-53246.48301953635,-59305.263224473674,-59311.59730743857,-59273.59280964908,-59535.0222382395,-59279.926892614065,-50966.27472489461,-51569.043781311055,-51588.21923290869,-50862.72728626744,-50921.58973873447,-109665.2217755544,-109856.97629153065,-110091.57667727274,-109708.06764532009,-109089.95822762548,-49237.79515133532,-72044.96001788288,-48674.07018426046,-75780.95533391953,-77923.34823660637,-41648.123675359086,-41654.45775832414,-41630.997719749925,-41673.460007218964,-41635.45550942931,-89759.97295677042,-219963.1870435837,-219963.1870435837,-82956.56177025226,-97525.24572483082,-51409.29369326807,-51409.29369326807,-49485.57053018366,-50470.89215030018,-50470.89215030018,-85012.26846856196,-85012.26846856196,-85227.69340270628,-85227.69340270628,-85227.69340270628,-51857.976714091696,-51857.976714091696,-51834.51667551756,-51856.05916893196,-51832.599130357754,-144321.38455584075,-143850.93038940843,-143715.18888449483,-143261.62135763146,-143724.00941406985,-47525.14771578343,-47525.14771578343,-47525.14771578343,-47525.14771578343,-47525.14771578343,-47284.73956600779,-47284.73956600779,-47284.73956600779,-47284.73956600779,-47284.73956600779,-65176.909875929305,-65259.958157581845,-65530.913318855724,-64683.55660777499,-64708.892939634636,-149274.57216411686,-149509.17254985866,-149507.25500469888,-149509.17254985866,-149507.25500469888,-45942.21138337943,-46005.55221302855,-46132.23387232655,-46005.55221302855,-46088.06849427514,-48880.661278824475,-48842.65678103505,-48855.324946964836,-48772.98186842106,-48855.324946964836,-14001.155297987492,-9168.39469160237,-5853.863272859397,-13128.09503153117,-5100.535879604978,-50127.65486379934,-50127.65486379934,-50127.65486379934,-50127.65486379934,-50127.65486379934,-49733.448558547985,-48771.58697700574,-48677.746822708905,-49029.647401322145,-49358.08794136087,-54489.28742003381,-55279.765522513604,-55298.94097411108,-54316.708355655195,-54700.217387607925,-60845.803264354305,-60789.96760784707,-60885.68405542929,-59646.05459756743,-59065.66114514945,-514437.5524674493,-390122.81619452394,-448798.9742188254,-514007.3624754115,-401053.15706641,-47297.40773193764,-47303.741814902445,-47303.741814902445,-47303.741814902445,-47303.741814902445,-47410.02381273074,-47410.02381273074,-47410.02381273074,-47410.02381273074,-47410.02381273074,-93363.03408365938,-75509.58699076273,-85132.66436637017,-95521.82691879012,-88157.75295372172,21299.767483861157,66912.83501184899,66901.3297408904,44770.8397635594,66914.75255700879,-49042.32468408633,-49048.658767051136,-49048.658767051136,-49042.32468408633,-49042.32468408633,-55007.218340114676,-54983.758301540554,-55007.218340114676,-55007.218340114676,-55007.218340114676,-47443.091640130464,-47443.091640130464,-47443.091640130464,-47443.091640130464,-47443.091640130464,-44570.63846532836,-25003.86908340373,-47170.38597076431,-46084.884055003415,-47298.12538035738,-48439.32474107511,-48439.32474107511,-48445.65882403993,-48439.32474107511,-48253.90430806368,-53511.4015762336,-53746.00196197562,-53746.00196197562,-53746.00196197562,-53746.00196197562,-16378.004437854333,-16612.60482359644,-16378.004437854333,-16378.004437854333,-16612.60482359644,-47316.409980832315,-47316.409980832315,-47316.409980832315,-47316.409980832315,-47316.409980832315,-49180.54045953114,-49127.29869171478,-49123.014104738366,-49103.83865314066,-49123.014104738366,-60153.31097837508,-60584.02861998889,-59823.938664199704,-60098.221776850565,-60622.03311777827,-50376.61089352906,-49086.30877194794,-49288.87994516266,-48617.10800046388,-49128.94426211987,-59682.68200363277,-59256.327101914445,-59682.68200363277,-59682.68200363277,-59682.68200363277,-302552.02045875194,-289061.6325217207,-298853.1261758219,-292431.1359045526,-293457.3173037558,-47663.60933350327,-47663.60933350327,-47669.943416468246,-47657.27525053847,-47663.60933350327,-48567.08337239134,-48750.06657526519,-47326.53488540559,-48307.61254185801,-48551.59439402698,-157726.94235486997,-159026.85240516998,-158178.93994567948,-156564.3295085513,-157748.67087971224,-47303.741814902445,-47303.741814902445,-47303.741814902445,-47303.741814902445,-47303.741814902445,-47505.79906148316,-47505.79906148316,-47505.79906148316,-47505.79906148316,-47505.79906148316,-61234.23655159624,-60997.71862069442,-61188.15362838478,-61016.89407229212,-61253.412003193705,6881.073738748612,-11165.257503425993,4658.468607298656,-15293.247161737088,-15858.284105276567,-3097.888142739813,-3086.382871781149,-3090.2179621006844,-3735.7129770360507,-3719.791168272223,-47256.533205241234,-47256.533205241234,-47256.533205241234,-47256.533205241234,-47256.533205241234,-65372.34919087476,-65521.257837085424,-65521.257837085424,-65713.01235306184,-65904.76686903836,-50182.912712939935,-49253.29072351889,-48387.39722102707,-49187.735512492174,-55154.83484901964,-98726.6398604796,-99665.04140344758,-99430.4410177056,-99430.4410177056,-98726.6398604796,-57448.16205062973,-57446.24450546992,-57448.16205062973,-57382.9036758208,-57448.16205062973,79643.52648180332,89606.82643409204,83366.55685895294,98286.86100187036,92773.86791654667,-131002.06260059876,-133018.80980200222,-132710.05192937274,-131790.5290017845,-132770.9348961428,-46886.79167114339,-44353.1584851793,-43086.341892197415,-42452.933595706556,-44986.5667816704,-103625.16387977595,-103646.2568765334,-103665.43232813095,-103861.68181067776,-103818.83594091199,-56850.88821354787,-59595.712726729456,-58657.31118376144,-57906.589949387024,-60768.71465543942,-47443.091640130464,-47443.091640130464,-47443.091640130464,-47443.091640130464,-47443.091640130464,-80809.53074419212,-80809.53074419212,-80746.18991454314,-80574.93035845003,-80936.21240349027,-63373.24314584551,-63373.24314584551,-63373.24314584551,-63373.24314584551,-63373.24314584551,-133945.04064284585,-102755.8499700753,-111074.12305388635,-92029.8415243343,-127090.8245659334,-42991.66517648149,-41543.476867845944,-42739.93883513012,-42364.57821794307,-44124.08111100807,1611005.96504155,1611005.96504155,1611005.96504155,1611005.96504155,1611005.96504155,-55862.35513516253,-55862.35513516253,-55840.8126417482,-55838.89509658841,-55838.89509658841,-49118.928563205016,-48837.63087220543,-48874.14265900634,-50256.61429043029,-49029.38538818185,-45366.94602130324,-45369.31306312018,-45347.77056970577,-45365.02847614342,-45371.2306082799,-12227.958025611868,-2283.447770703818,-8047.4632687716585,-1206.6536666693646,-13748.137937190066,-55048.79782570377,-55029.62237410606,-55029.62237410606,-55006.162335531924,-55006.162335531924,-45128.78545113736,-45128.78545113736,-45128.78545113736,-45128.78545113736,-45152.24548971157,-49446.04853681175,-49446.04853681175,-49446.04853681175,-49446.04853681175,-49446.04853681175,-54861.890054636,-54868.224137600715,-54861.890054636,-54670.135538659655,-54842.71460303837,-99576.73128181986,-128122.78681760821,-110372.99881449316,-142545.92811341333,-128331.89905219882,-48534.97530151388,-48553.977550408614,-48490.63672075948,-48530.51751183448,-48606.52650741346,-158116.2816541744,-133354.7035419668,-142718.34793473326,-115227.25693315311,-121453.30077580368,-49271.60091755144,-49271.60091755144,-49156.54820796569,-49271.60091755144,-49269.68337239173,-51147.258244266515,-50912.6578585244,-51147.258244266515,-50912.6578585244,-51147.258244266515,-41425.71282346624,-41425.71282346624,-41425.71282346624,-41425.71282346624,-41425.71282346624,-50420.4462113472,-50217.4255414754,-49964.12806037002,-50624.48543306457,-50592.78615866254,-82229.32663950205,-82190.97573630667,-82421.29153507212,-82186.69114933014,-81999.22122033035,-102122.07487918834,-102122.07487918834,-102122.07487918834,-102122.07487918834,-102098.61484061416,-71337.90420207276,-71104.9781468245,-71157.38283757286,-71126.9742344989,-70723.02793919809,-277394.745685243,-277394.745685243,-277394.745685243,-277160.145299501,-277394.745685243,-46758.12988583375,-45836.16184037875,-46271.350016684555,-47132.33215785643,-46784.63730787016,-66467.48040293918,-66445.93790952487,-66467.48040293918,-66678.62075010697,-66702.08078868118,-48941.95261248527,-48924.82665687595,-48807.5264640049,-49458.07346111776,-48965.412651059414,-5307.691605214654,-5542.291990956485,-5542.291990956485,-5307.691605214654,-5115.937089238159,-59252.168500316126,-59480.44719539004,-59491.053473034735,-60418.638358764474,-59753.3984843274,-53563.6348833558,-54158.0738828826,-52969.19588382909,-52600.36733690368,-52926.35001406364,-53870.404750006266,-54425.067778308454,-54112.51030888995,-53626.183581796606,-53716.27114952251,-45625.299423853,-53549.10526212621,-55243.43120336524,-37705.64622172762,-43977.18835665376,-64109.92862265296,-66127.4919400343,-64203.76877694999,-66596.69271151829,-62538.1060381815,-47348.60000376563,-47329.42455216793,-47363.940365043505,-47379.28072632168,-47370.274448008575,-49230.75167748954,-49441.89202465728,-49559.19221752825,-49207.29163891551,-49301.13179321211,-85826.08866719765,-85384.43488668317,-87918.06807264697,-90893.35503912535,-86017.84318317405,-138890.29872180792,-162523.82457100952,-77059.755866425,-93483.88666430378,-317125.4787749914,-47275.29339710501,-47275.29339710501,-47275.29339710501,-47275.29339710501,-47298.75343567913,-49094.21419364388,-49096.13173880368,-49107.63700976234,-49107.63700976234,-49090.37910332459,-70819.81317782342,-71476.69425790098,-72250.87553084953,-71714.4616851255,-72203.95545370122,-79706.0514025696,-78828.48389935415,-79930.06205481674,-80519.65968236719,-79815.8753587455,-44729.38138919977,-44705.92135062556,-44705.92135062556,-44471.320964883445,-44705.92135062556,-47267.34888469684,-47267.34888469684,-47267.34888469684,-47267.34888469684,-47267.34888469684,-120391.35449478554,-120817.70939650403,-120007.84546283283,-120391.35449478554,-120583.10901076197,-64139.21164008905,-67596.38117078246,-67352.97211868915,-63628.49310028509,-65300.477177005734,-62597.76370771412,-63231.93923205928,-61702.331957481576,-60902.60426253408,-61289.47856288458,-47063.04666223584,-47063.04666223584,-47063.04666223584,-47063.04666223584,-47063.04666223584,-50840.068361789774,-50338.27480304227,-50548.549393344336,-51682.898236729096,-51145.04886325445,-48558.58544155769,-49098.16632876416,-48816.64586587385,-48933.946058744834,-50623.06883608729,-93320.33361219252,-91637.38883817116,-93363.17948195821,-94705.46109379253,-91211.03393645285,-49705.61150544362,-49682.15146686948,-49682.15146686948,-49682.15146686948,-49682.15146686948,2724045.7622222947,2722145.4990977845,2716655.850071421,2720409.4562432943,2721113.25740052,-73044.08596141989,-68117.47786083768,-63566.23037744277,-67648.2770893537,-79143.69599071205,-47444.82366715961,-47444.82366715961,-47444.82366715961,-47444.82366715961,-47444.82366715961,-47506.43246977958,-47506.43246977958,-47506.43246977958,-47506.43246977958,-47506.43246977958,-47346.21237444618,-47346.21237444618,-47346.21237444618,-47346.21237444618,-47346.21237444618,-62960.89112503778,-64509.25367093503,-64298.11332376727,-63430.09189652177,-64173.773844822754,-56650.16788423497,-56476.99078298234,-56667.425790672976,-57047.470768567604,-56667.186474632756,5818966.408452491,2044135.6798604536,1829574.4748750261,2897524.412012439,2465539.0616547354,-53940.7601542883,-53940.7601542883,-53938.84260912858,-53940.7601542883,-53938.84260912858,-64489.066102730816,-64489.066102730816,-64489.066102730816,-64489.066102730816,-64482.732019765856,-19651.6222673249,-19649.704722165105,-19649.704722165105,-19649.704722165105,-19649.704722165105,-46842.38905693246,-48977.21433214749,-50244.03092512928,-43909.947960219695,-52144.25581460203,-79020.3118200306,-78996.85178145645,-78996.85178145645,-78996.85178145645,-79020.3118200306,-162254.54941241047,-162254.54941241047,-162254.54941241047,-162019.94902666842,-162489.14979815256,1155064.975897775,1136062.7270030465,1136062.7270030465,1088158.2968554755,1110726.3951434086,-92668.55574485468,-93170.6005703426,-93126.0264970516,-92891.42611130959,-92668.55574485468,-49394.018988938384,-49235.666914815694,-49406.68715486826,-49222.99874888594,-49417.479027512774,33783.071988964584,34017.672374706664,34017.672374706664,33783.071988964584,34017.672374706664,-57946.38781260768,-58061.44052219344,-57888.86145781489,-57888.86145781489,-57888.86145781489,-37814.82584448387,-37917.247212315255,-37087.90697910625,-36863.084133873665,-37406.73922846309,-276638.3625363047,-276638.3625363047,-276638.3625363047,-276638.3625363047,-276872.9629220466,-67432.86383033136,-67432.86383033136,-61098.78086542165,-64010.72700225094,-67432.86383033136,-72528.3681584438,-72287.45027912514,-72447.94262505964,-72403.78956243601,-72321.44648389223,-50967.52522511386,-50967.52522511386,-50990.98526368798,-50967.52522511386,-50973.85930807883,-47413.15325233502,-47413.15325233502,-47413.15325233502,-47413.15325233502,-47413.15325233502,-47234.06690228853,-47234.06690228853,-47234.06690228853,-47234.06690228853,-47234.06690228853,-59922.316402564495,-59922.316402564495,-59898.85636399019,-59898.85636399019,-59898.85636399019,-49268.47144190323,-49127.71121045804,-50042.65271485211,-49315.3915190518,-50910.67414209728,-51945.555498103975,62734.84797066,62073.98773298351,64195.90552622818,63499.1564000881,62835.9539820581,-71314.77002913767,-70696.66061144299,-70572.19720952878,-72545.29831264072,-72765.21821335542,-49149.828485774706,-49173.28852434884,-49173.28852434884,-49173.28852434884,-49173.28852434884,-61496.77700872171,-61490.44292575664,-61496.77700872171,-61496.77700872171,-61490.44292575664,-34509.275835782944,-39017.98001182731,-38382.24165143322,-37583.73895307197,-36606.780876099016,-116928.39305471543,-110748.69245038152,-110657.23173019863,-115024.884848901,-121534.70903002429,-62407.9551444548,-60315.85946414638,-60101.63011531788,-61251.093965631844,-59672.10817211713,-26120.937407399677,-25929.182891423625,-26120.937407399677,-25929.182891423625,-25694.582505681436,-18102.997739115537,-67805.0369082776,-70215.55235524345,-55977.3902487469,-72763.78330548677,28426.91886806382,-42139.67913196047,-19189.73320372623,22333.770371861232,-36826.60275543152,38214.37316780835,121145.17322630345,83097.8295670804,-35653.23807686205,40028.086797189666,-49088.0980296998,-49088.0980296998,-49088.0980296998,-49088.0980296998,-49088.0980296998,-49793.74381638269,-49793.74381638269,-49793.74381638269,-49793.74381638269,-49793.74381638269,-98445.51032693339,-98422.05028835934,-98468.9703655078,-98637.47522250368,-98426.33487533589,-47720.56411937662,-47720.56411937662,-47720.56411937662,-47718.64657421683,-47720.56411937662,-72023.21895037778,-70118.78362071388,-75207.14381576207,-70496.82131223881,-68244.08031899351,789249.8273864589,789484.4277722011,789484.4277722011,789484.4277722011,789484.4277722011,-32720.662192403506,-40788.48343792583,-40964.20078369821,-40178.535180009014,-37879.87666349307,-71919.97136996285,-71951.88110082764,-71721.88277102156,-71285.07036248321,-47493.76430384973,-47227.732819323464,-47462.093889025135,-47430.42347420061,-47500.098386814614,307545.07380812074,307136.0676339024,307449.1965501323,307430.02109853475,307545.07380812074,-58093.9651813182,-58563.16595280229,-58563.16595280229,-58563.16595280229,-58563.16595280229,-47189.72832153407,-47189.72832153407,-47189.72832153407,-47189.72832153407,-47189.72832153407,-51892.12844382996,-51892.12844382996,-51892.12844382996,-51911.30389542767,-51892.12844382996,-59907.88408149653,-60142.484467238595,-60142.484467238595,-59907.88408149653,-59907.88408149653,-57120.719500872176,-57120.719500872176,-57120.719500872176,-57120.719500872176,-57120.719500872176,-54845.851617564185,-54845.851617564185,-54845.851617564185,-54845.851617564185,-55037.60613354031,-47443.091640130464,-47443.091640130464,-47443.091640130464,-47443.091640130464,-47443.091640130464,-96241.52674023234,-96241.52674023234,-96476.12712597435,-95842.71882948354,-95842.71882948354,-73360.13623452457,-71276.2670088033,-71510.86739454542,-74255.69190772688,-71675.08766456488,-49778.87456307242,-8663.142023890177,-44478.87105785088,-62292.686059768064,-59243.74776911248,-50176.50573316015,-49913.35254961558,-49869.698507597896,-49853.45915300576,-50038.442481657316,-107141.47946191923,-107141.47946191923,-107135.14537895426,-107135.14537895426,-107141.47946191923,-51072.443227474505,-51068.608137155,-51074.36077263432,-51066.69059199519,-51076.27831779393,-47057.05898467688,-47057.05898467688,-47057.05898467688,-47057.05898467688,-47057.05898467688,-67357.0242557906,-62784.17533819745,-64239.20447078611,-61007.848287110726,-61801.79494821623,-50153.484039113435,-50264.252161722514,-50130.0240005393,-50130.0240005393,-50264.252161722514,-47316.409980832315,-47316.409980832315,-47316.409980832315,-47316.409980832315,-47316.409980832315,20876.32721938414,20249.253005858005,22326.83221834832,22016.462153067783,21066.349708331254,-99474.30838496776,-100037.34931074837,-101046.13096943914,-99052.02769063212,-100389.2498893614,-48648.94781885427,-48648.94781885427,-48672.407857428414,-48648.94781885427,-48648.94781885427,-129404.16594735168,-120325.47478322378,-126142.23537981547,-121028.08035513366,-124341.84672557643,-100750.85088868423,-100750.85088868423,-100750.85088868423,-100750.85088868423,-100750.85088868423,-58110.01847969544,-58726.31356558961,-63723.301781894406,-56219.17843981086,-61968.70222229053,-31244.301256414867,-46952.827009390545,-37578.384221324435,-50246.55015114362,-46699.46369079421,21524.085660409004,21524.085660409004,21520.91861892655,21524.085660409004,21520.91861892655,-49654.157465756914,-49742.83462726574,-49774.50504209034,-48995.41283740642,-49489.47130866951,-47050.378496305966,-47050.378496305966,-47050.378496305966,-47050.378496305966,-47050.378496305966,-135869.06698203893,-133604.04951798593,-136501.4901360684,-134948.5213823828,-136577.84553705313,-69609.59315684804,-69654.56792915001,-69585.25099019437,-69771.37654944537,-69480.29322221922,-52681.978821253695,-52675.06329080316,-52700.981070148344,-52964.171430584145,-52694.64698718354,-47764.58210918286,-47764.58210918286,-47764.58210918286,-47764.58210918286,-47764.58210918286,-48288.18161441613,-48294.51569738095,-48264.721575842006,-48288.18161441613,-48294.51569738095,326833.80222292163,334994.37702733616,322406.9675506186,355013.63358019013,332077.1007299983,584725.4011073534,475822.01998067443,518260.3758455686,468619.92833353207,722409.6018316331,-51921.159370607566,-52112.91388658384,-51940.33482220497,-52136.58430475191,-52021.531595166074,-47443.091640130464,-47443.091640130464,-47443.091640130464,-47443.091640130464,-47443.091640130464,-215837.02500512547,-236781.11311631196,-226000.01435187136,-217946.32468086528,-232903.17692701946,-30763.497752408635,-27774.67910100347,-32272.589664503077,11984.201069421473,-38223.936438805424,-47506.43246977958,-47506.43246977958,-47506.43246977958,-47506.43246977958,-47506.43246977958,-54521.02363980176,-54521.02363980176,-54755.62402554396,-54501.84818820429,-54755.62402554396,-49637.795454513725,-49511.11379521572,-49644.12953747862,-49276.513409473526,-49396.86098580696,-47549.90260015756,-47549.90260015756,-47547.98505499777,-47549.90260015756,-47547.98505499777,-54723.86073257952,-55199.39558702842,-54964.79520128638,-54980.80361140156,-55196.228545546124,-54552.432408948276,-53691.33703663039,-55132.89049807309,-55576.27111450056,-55910.517375654104,-141400.2150373936,-125745.88929105047,-126415.09219491282,-132110.44916534954,-122099.04216269583,-74007.98655826112,-74031.44659683539,-73796.8462110933,-74449.42995918191,-74223.20111281166,-101405.82632655217,-101212.82231425312,-101211.7258067183,-101405.39786785438,-101426.11932364374,-43417.11412933127,-43417.11412933127,-43436.28958092888,-43436.28958092888,-43436.28958092888,-153293.2783317084,-153316.94874987635,-153316.94874987635,-156882.79814308012,-153508.70326585267,-54347.345804351775,-56432.69196685772,-56484.02543152924,-55338.812325723215,-53391.163931696494,-56082.19238615174,-56063.01693455404,-56063.01693455404,-56082.19238615174,-56082.19238615174,-46904.69458811317,-46556.32002504305,-46904.69458811317,-46935.73159464133,-46904.69458811317,-56100.82206140144,-55868.1392208193,-56102.73960656124,-55866.22167565958,-55868.1392208193,-70247.88465627696,-70209.53375308137,-70439.63917225297,-70305.41101106974,-70017.77923710515,-76439.66344533248,-76223.37920849594,-76235.87417172285,-76814.30476113434,-76669.76886450419,-54985.10996595115,-54538.26010434949,-54730.014620325535,-54409.84641802209,-54793.35544997464,-88154.761007612,-88154.761007612,-88154.761007612,-88346.5155235884,-88154.761007612,-75372.48171657378,-75366.14763360897,-75349.02167799951,-75366.14763360897,-75370.56417141405,-49897.93317165193,-49901.100213134145,-49897.93317165193,-49894.76613016917,-49897.93317165193,-48943.28492904428,-48672.79565483856,-48881.82039268065,-48803.935103816184,-48818.47956303154,-67799.49867284401,-63366.66997253622,-63072.32123874098,-66117.9186615105,-64368.906815952665,-90576.98882955693,-90777.73327867391,-91047.44726994987,-90792.41376370125,-91751.18634358302,-91614.65366290441,-100398.34850611458,-95706.43000636162,-100860.49724651256,-96046.59419318139,-27990.168059740252,-32100.264857840346,-33690.82998314613,-28534.0080438985,-31583.76207849459,-48372.42856093295,-48415.064051104746,-48606.818567081,-48415.064051104746,-48606.818567081,-48687.03053282356,-48776.22730244102,-48744.38368491337,-48712.540067385904,-48782.56138540591,-32016.038897150152,-27406.21141488829,-30326.91611980769,-8157.625742624291,-31030.717277033793,-50234.593431586465,-51454.51543744502,-52158.31659467098,-52158.31659467098,-50375.35366303164,-49810.540413841685,-51313.90042775025,-50053.39242770825,-50989.876425516646,-49686.90613800574,-40460.37620643098,-41070.324464347934,-41087.4504199571,-42360.601095903905,-41070.324464347934,-47398.75305937602,-47430.42347420061,-47417.75530827084,-47430.42347420061,-47373.416727516385,-54843.80986917464,-54463.764891280014,-54717.12820987652,-54907.15069882377,-54527.10572092914,-47541.56693866231,-47541.56693866231,-47541.56693866231,-47541.56693866231,-47541.56693866231,-48146.89279735656,-48146.89279735656,-48146.89279735656,-48146.89279735656,-48146.89279735656,-47467.79456369367,-47461.460480728616,-47309.44248957098,-47436.124148868985,-47372.78331921986,-40187.96991595467,-40144.67055141772,-40487.75024774033,-40221.372357808475,-40272.73783233919,-56846.622587794925,-56846.622587794925,-56846.622587794925,-56865.79803939263,-56612.022202052736,-63443.24018182895,-63677.840567570755,-63486.086051594604,-63486.086051594604,-63677.840567570755,-45840.56865000825,-46169.94096418386,-46207.94546197311,-45986.25255820131,-44972.799283815664,-47506.43246977958,-47506.43246977958,-47506.43246977958,-47506.43246977958,-47506.43246977958,-49434.386851515526,-49428.05276855074,-49428.05276855074,-49428.05276855074,-49428.05276855074,-84691.19125665234,-84522.89677925024,-84499.4367406761,-84949.25168096852,-84499.4367406761,56054.4784590926,55856.38986015131,81156.20993298882,49721.028902479615,26277.95444105283,-47649.56037160339,-47579.18025588092,-47579.18025588092,-47931.08083449377,-48728.72214601645,-51377.71871257344,-51185.75381700334,-51401.17875114766,-51420.35420274527,-51420.35420274527,-48511.4367573053,-48511.4367573053,-48534.896795879584,-48511.4367573053,-48534.896795879584,-50892.917858082736,-51119.95873343502,-50777.415651839874,-51256.80644075945,-52257.88468236279,-53737.52333323825,-54305.30649261953,-53377.68471945372,-53244.21120845886,-52868.29392837997,-1037596.7406632219,-1037788.4951791991,-1031219.8118285491,-1031262.6576983149,-1031262.6576983149,-45780.40456151761,-57536.462544389695,-59329.00802345905,-37020.36782104757,-59113.64920265219,-48111.844816728386,-49121.46326303217,-49051.44194501217,-48247.1121941292,-48253.792682499945,-55309.79227064044,-55075.191884898246,-55309.79227064044,-54883.43736892224,-55075.191884898246,32560.640653074774,37102.417454955415,41935.08344114088,36469.009158464345,42169.68382688295,-58257.698348205005,-55184.433294984745,-57460.0570366823,-63653.5072202712,-56146.294876527,-76681.17368171352,-48619.69816688696,-49253.119208390635,-48127.037356828914,-48502.39797401622,-48572.778089738684,-15580.15591380945,-15580.15591380945,-15580.15591380945,-15580.15591380945,-15580.15591380945,-141495.8506530431,-141538.69652280875,-141773.29690855066,-141495.8506530431,-141519.52107121103,-47467.95788783043,-47469.87543299023,-47467.95788783043,-47469.87543299023,-47469.87543299023,-60596.89488171511,-60596.89488171511,-60596.89488171511,-60596.89488171511,-60596.89488171511,-118353.17235858366,-117485.16367635068,-117465.98822475312,-117472.32230771797,-118359.50644154857,-47317.74607850632,-47355.75057629582,-47368.418742225585,-47334.83078224133,-47328.496699276366,-46454.068413493136,-45944.52096386585,-45614.67001761004,-46265.934962843654,-46370.088357704095,3484035.6454679295,3479367.1870067506,3483402.2371714376,3484035.6454679295,3483801.0450821877,-89470.99875973511,-89470.99875973511,-89470.99875973511,-89470.99875973511,-89470.99875973511,-96500.76559370357,-99224.1749600585,-95849.73213562848,-94625.6455128879,-94305.4403643009,-103367.07436626806,-103367.07436626806,-103625.13479058424,-77655.39463445505,-103625.13479058424,-41354.655312876755,-57187.94517999084,-46611.758655621,-57997.899582008526,-24910.601439755235,-97694.49336908424,-99715.24795820845,-97944.16290839933,-101272.5605195213,-102768.2899414899,-89106.09178688015,-84525.38584130589,-99498.89795702414,-89094.77227826812,-84226.84658904083,-54455.54102284361,-54455.54102284361,-54455.54102284361,-54263.786506867094,-54498.386892609284,-57036.16402758759,-55336.81961304381,-57162.672484182774,-57123.0310091483,-55558.27320077523,-49157.55758977902,-49179.100083193414,-49181.01762835321,-49186.77026383246,-49151.80495429977,-57389.94548859138,-57992.3628658693,-58161.359003891375,-56673.36596348105,-56267.1691399275,-49301.3339323615,-49301.3339323615,-49301.3339323615,-49301.3339323615,-49301.3339323615,-106791.40352607914,-106791.40352607914,-107026.00391182111,-107026.00391182111,-106791.40352607914,-48063.85726071642,-48792.06297566566,-47654.949935419354,-48729.893236193566,-47696.94633581998,-76543.10564975394,-77223.4467684057,-76543.10564975394,-80202.87166732934,-77199.98672983155,-48541.273447755324,-50458.818607518675,-50458.818607518675,-49672.62509201563,-51034.08215544744,-46537.31777614846,-47056.71257927094,-47468.4279719901,-47449.425723095264,-47386.08489344616,-54237.81044805339,-53708.601220406716,-54441.20318078075,-54441.20318078075,-54441.20318078075,-49413.57862417771,-51343.59763518964,-50452.409482297204,-50959.13611948993,-50577.17359643549,-60404.421372530276,-47607.84175638389,-60467.762202179394,-60467.762202179394,-60467.762202179394,-55160.32574082626,-55352.08025680251,-55352.08025680251,-55543.834772778995,-55543.834772778995,-83078.66677645824,-82844.06639071625,-83078.66677645824,-82844.06639071625,-83078.66677645824,-113150.38990079283,-107757.14085170545,-110566.77686192137,-120360.03178569698,-115661.18144195148,-49906.56560150673,-49893.1427853886,-49904.64805634701,-49906.56560150673,-49893.1427853886,-123153.08609277439,-123153.08609277439,-123153.08609277439,-123153.08609277439,-123153.08609277439,-82523.53331817249,-82546.99335674675,-82546.99335674675,-82523.53331817249,-82546.99335674675,-28594.11416167148,-28789.70376796731,-28783.951132488186,-28730.91974426561,-29020.469063389886,-66550.77566939402,-69179.94891683415,-68420.6585413127,-67380.94029885872,-69728.28445284234,-52527.74117067703,-52527.74117067703,-52527.74117067703,-52527.74117067703,-52527.74117067703,-159728.01178496017,-156326.36991676333,-159728.01178496017,-159493.41139921805,-158610.10383818878,-85511.58616317563,-89371.25511149263,-266943.37608127756,-98522.77395136943,-141260.78623024173,-114814.22280902712,-110572.17430073608,-107395.44831075132,-107072.17076350069,-108872.72553781737,-50137.35177830026,-34682.18934392068,-50384.381013931605,-50409.71734579131,-47350.35527373991,-53451.952868649634,-53451.952868649634,-53451.952868649634,-53428.492830075505,-53451.952868649634,-69348.49226435277,-82265.32394914559,-64970.91414127652,-81430.62955059449,-68326.33116797169,-53023.56179486481,-52932.17950344703,-52505.82460172883,-52831.80727888878,-52831.80727888878,-88124.16185826583,-88117.82777530098,-88124.16185826583,-88128.578396071,-88128.578396071,-52071.12709708532,-52077.46118005029,-52071.12709708532,-52077.46118005029,-52077.46118005029,-47505.165653186465,-47505.165653186465,-47505.165653186465,-47505.165653186465,-47505.165653186465,-60737.64966317756,-60761.109701751695,-60737.64966317756,-60737.64966317756,-60737.64966317756,-48848.71408161401,-48848.71408161401,-48848.71408161401,-48848.71408161401,-48848.71408161401,-40275.96505242438,-50546.879724957296,-52636.87786018428,-55804.23618303652,-50814.110607544935,-72335.82407486078,-71397.42253189275,-69942.9001402924,-69590.99956167945,-71632.02291763481,-76599.1536038442,-76863.05896908524,-76761.02787000615,-76215.64457189158,-76342.32878019221,-5504572.645122189,-5421289.508183776,-5464690.579546047,-5461875.374917147,-5516068.064023546,-64864.82182616319,-65328.31144464989,-68917.56504295852,-66874.62414184316,-63845.22351023435,-48911.69260387787,-48982.07271960057,-50131.61460973644,-48583.252063839056,-48841.312488155236,-89008.5845197163,-89008.5845197163,-89008.5845197163,-89458.399460009,-89243.18490545839,-52481.50389503863,-53019.900947056056,-50435.595097372825,-53178.25302117869,-50492.60184405713,-57026.65624991534,-57026.65624991534,-56768.59582559929,-57003.19621134119,-57026.65624991534,-82164.2083107114,-78935.48920256922,-80991.2063820014,-81856.9679336647,-80942.0264292708,-60893.23934025665,-59309.71859902925,-62921.87791605655,-63447.78000484698,-60386.51270306371,999908.4269218516,1039203.2013428648,1006007.9095010187,999931.8869604252,1032235.710081464,-57738.34007980319,-57738.34007980319,-57738.34007980319,-57951.8474687878,-57719.16462820549,-62457.62218926869,-62362.610944794884,-63103.937967729646,-63091.26980179979,-63065.93346994016,-49480.8855905666,-49480.8855905666,-49480.8855905666,-49480.8855905666,-49480.8855905666,-166868.2882755933,-165899.1735819621,-166994.9699348914,-166438.26309207547,-166779.61111408458,-53511.416801580795,-60956.77346656555,-53043.02502370807,-53434.129626459406,-52966.8272427663,-48295.47164557169,-48295.47164557169,-48295.47164557169,-48295.47164557169,-48295.47164557169,-54214.172815833015,-54214.172815833015,-54079.94465464956,-54597.68184778564,-54597.68184778564,-49959.72391486195,-50285.70659202174,-50247.35568882632,-49959.72391486195,-50285.70659202174,-94784.54748514964,-94784.54748514964,-94784.54748514964,-94592.79296917332,-94592.79296917332,-58064.93464186646,-58299.53502760857,-58299.53502760857,-58534.13541335075,-58534.13541335075,-43297.51638139741,-42266.32658210177,-42592.309259261434,-42879.94103322612,-42553.95835606627,-47506.43246977958,-47506.43246977958,-47506.43246977958,-47506.43246977958,-47506.43246977958,-49166.52142418193,-49143.0613856078,-49143.0613856078,-49166.52142418193,-49143.0613856078,-73722.80360718023,-72112.06567297911,-77615.42028150003,-72321.1565241585,-72487.40150557246,-89352.04244283722,-86273.43880585095,-90770.6377109368,-92031.1202209538,-91397.71192446281,-57101.52581381532,-59203.00634371189,-59872.92642700361,-55837.87626231591,-55627.655826060894,-47348.080395656674,-47481.09613791996,-47443.091640130464,-47496.931345332094,-47481.09613791996,-47503.698435054284,-47551.20405729109,-47551.20405729109,-47535.368849878876,-47478.36210319486,-46892.0264221833,-46885.6923392185,-46885.6923392185,-46892.0264221833,-46892.0264221833,-45570.441466704906,-43670.21657723217,32908.84646852442,-27626.22374315662,-48085.31171981439,-44369.82637818866,-44375.579013667986,-44413.92991686309,-44406.25973622402,-44400.507100744704,-51659.68311381975,-50163.997889204475,-50739.26143713348,-50240.699695594965,-50758.43688873093,-38540.48916459569,-38812.90478051176,-39845.31025536706,-37490.99898600518,-42232.90107454234,-54698.802133818506,-53931.78406991304,-54338.75314044,-53931.78406991304,-54146.99862446359,-50152.01138195643,-51379.240284205094,-49615.098737222834,-50228.713188347094,-51570.99480018152,-56826.80121526173,-57050.22614606255,-56856.55408492661,-57056.56022902744,-56535.00856470473,-74151.10712757036,-74662.06478443748,-73027.87137949071,-73644.19497224658,-71496.94084714241,-47891.092081275754,-47893.00962643547,-47891.092081275754,-47893.00962643547,-47891.092081275754,-45007.31509669155,-45007.31509669155,-45007.31509669155,-45007.31509669155,-45007.31509669155,-5750.633157878663,-3850.4082684059163,-7017.449750860705,-4483.816564896895,-8284.266343842555,-54138.336041679584,-54448.706106960126,-54429.70385806538,-54005.32029941646,-54068.661129065666,31258.93664284164,35040.62348893289,13713.526830042149,16551.435314362127,45555.20121068292,-57024.48335598251,-55907.358701977915,-56065.71077610084,-54769.49977204977,-52129.27512913544,-61952.547812342134,-88897.73674506729,-65420.40884279993,-95630.16181052673,-63760.35949788491,-48758.03290471291,-48758.03290471291,-48758.03290471291,-48758.03290471291,-48758.03290471291,-47288.55002547177,-47332.88860622605,-47320.220440296194,-47294.884108436556,-47342.38973067354,-47505.165653186465,-47505.165653186465,-42066.89794143776,-42086.07339303548,-42277.82790901173,-41894.318877059064,-42020.81501822656,-50665.681141792906,-50665.681141792906,-50665.681141792906,-50665.681141792906,-50665.681141792906,-184401.41097100996,-185783.96103119935,-187111.3517784127,-196680.03407646043,-186740.8160659213,52267.845777407754,48514.319899114096,52441.45133735798,50097.840640341514,45746.0863274083,-23975.765298290586,-23975.765298290586,-23969.431215325534,-23975.765298290586,-23969.431215325534,-49875.89636577377,-50556.23748442572,-50931.598101612886,-49899.356404348,-49758.596172902726,-67349.49106035489,-67584.0914460968,-67349.49106035489,-67584.0914460968,-67584.0914460968,-34600.767035643184,-34607.495210863985,-46699.49890691683,-41537.22129051548,-42588.439746650096,-26201.153670128264,-25884.44952188268,-26264.494499777385,-25631.086203286282,-25884.44952188268,-52459.08210532991,-52459.08210532991,-52224.48171958795,-52224.48171958795,-52459.08210532991,-50101.11783409106,-50654.774744442264,-50255.95408868076,-49739.8332400486,-49418.43071158198,336070.6554797045,1279849.017251229,286664.8083534098,492522.5047129705,125145.69274821595,-48155.926555097845,-48155.926555097845,-48155.926555097845,-48155.926555097845,-48155.926555097845,-53260.414041938675,-53260.414041938675,-53025.81365619672,-53260.414041938675,-53025.81365619672,-44781.216287698095,-46352.06886299573,-48024.98471385285,-43001.77937160192,-45491.59084392947,-42321.76028628627,-73857.96336434499,-43180.78147753795,-76259.43586716075,-91465.61507062548,819995.6965494893,819612.1875175366,820230.2969352313,820422.0514512077,819995.6965494893,-51335.67489724908,-50783.0230538599,-51375.395134566854,-50776.68897089484,-50776.68897089484,228078.0141335076,941931.0194601225,216999.04503864737,34577.455649252006,53821.73420919115,-123941.44172136123,-127167.1845067702,-122514.75143845184,-124378.06004582628,-129269.18503813246,-47506.43246977958,-47506.43246977958,-47506.43246977958,-47506.43246977958,-47506.43246977958],\"yaxis\":\"y\",\"type\":\"scattergl\"},{\"hovertemplate\":\"color=2<br>PC1=%{x}<br>PC2=%{y}<extra></extra>\",\"legendgroup\":\"2\",\"marker\":{\"color\":\"#EF553B\",\"symbol\":\"circle\"},\"mode\":\"markers\",\"name\":\"2\",\"showlegend\":true,\"x\":[451297003.3685412,459031483.63893026,480340611.5124798,439994554.229613,468238867.3655185],\"xaxis\":\"x\",\"y\":[-5289984.382290727,-9476355.26595479,763907.5257051494,-3235104.2111308035,-5796843.706435755],\"yaxis\":\"y\",\"type\":\"scattergl\"},{\"hovertemplate\":\"color=3<br>PC1=%{x}<br>PC2=%{y}<extra></extra>\",\"legendgroup\":\"3\",\"marker\":{\"color\":\"#00cc96\",\"symbol\":\"circle\"},\"mode\":\"markers\",\"name\":\"3\",\"showlegend\":true,\"x\":[8960226.540921139,8962067.846955141,8959975.605435222,8960853.879635928,8959097.331234517,19726403.01010828,19732993.15451579,19740665.622695114,19725148.3326787,19725148.3326787,82913833.27902798,84155991.05173461,90136244.7782383,85374839.3574755,83918793.1811802,92814357.3430673,92814067.76603493,92809617.39842978,92812469.92094713,92810990.06906262,81787672.53770635,84225831.83608538,79667361.72727464,79763664.91060413,80781241.68011168,57001410.80827548,57004842.484857574,57003126.64656653,57003126.64656653,57003126.64656653,59095961.37434233,52180255.41859357,58377224.01985162,51676477.43158372,59826280.1723529,9040443.231864596,9046695.072183412,9036275.800155133,9036888.698509738,9040566.088637367],\"xaxis\":\"x\",\"y\":[-1327066.085687213,-1327237.3452433061,-1327192.7673465111,-1326749.3815389674,-1327636.1531540554,7303400.748913506,7304450.285391035,7309500.231492675,7302767.340617015,7302767.340617015,-7216126.139334725,-7690794.211406252,-7958628.448921432,-8207957.423872434,-7318391.279588029,10743073.429968115,10743917.97861178,10742111.593876597,10743331.490392439,10741923.913568005,-3900021.4845478027,-2945452.9069835185,-4608264.245287469,-4669728.78165113,-4189042.4049253454,-7797066.906535217,-7797536.107306696,-7797301.506920955,-7797301.506920955,-7797301.506920955,10764931.163267594,10712561.938833946,10665101.037216138,11418168.49135523,10488951.966233205,-994617.850300232,-991890.4412067976,-995150.2679783953,-994958.5134624187,-993807.9863665614],\"yaxis\":\"y\",\"type\":\"scattergl\"},{\"hovertemplate\":\"color=1<br>PC1=%{x}<br>PC2=%{y}<extra></extra>\",\"legendgroup\":\"1\",\"marker\":{\"color\":\"#ab63fa\",\"symbol\":\"circle\"},\"mode\":\"markers\",\"name\":\"1\",\"showlegend\":true,\"x\":[154818339.33994615,154976226.71921083,153894507.74797168,157197763.29631102,156811197.2715478,178700896.1080946,167694479.28591633,189993553.4776798,170391024.89794302,179473658.75310877],\"xaxis\":\"x\",\"y\":[2562400.080348846,2161105.3568578116,2441708.9073957843,2445114.083727129,2517052.1901724925,6198592.294179381,9453254.610120285,5077300.73766256,7046693.679787594,5698757.294245318],\"yaxis\":\"y\",\"type\":\"scattergl\"}],                        {\"template\":{\"data\":{\"histogram2dcontour\":[{\"type\":\"histogram2dcontour\",\"colorbar\":{\"outlinewidth\":0,\"ticks\":\"\"},\"colorscale\":[[0.0,\"#0d0887\"],[0.1111111111111111,\"#46039f\"],[0.2222222222222222,\"#7201a8\"],[0.3333333333333333,\"#9c179e\"],[0.4444444444444444,\"#bd3786\"],[0.5555555555555556,\"#d8576b\"],[0.6666666666666666,\"#ed7953\"],[0.7777777777777778,\"#fb9f3a\"],[0.8888888888888888,\"#fdca26\"],[1.0,\"#f0f921\"]]}],\"choropleth\":[{\"type\":\"choropleth\",\"colorbar\":{\"outlinewidth\":0,\"ticks\":\"\"}}],\"histogram2d\":[{\"type\":\"histogram2d\",\"colorbar\":{\"outlinewidth\":0,\"ticks\":\"\"},\"colorscale\":[[0.0,\"#0d0887\"],[0.1111111111111111,\"#46039f\"],[0.2222222222222222,\"#7201a8\"],[0.3333333333333333,\"#9c179e\"],[0.4444444444444444,\"#bd3786\"],[0.5555555555555556,\"#d8576b\"],[0.6666666666666666,\"#ed7953\"],[0.7777777777777778,\"#fb9f3a\"],[0.8888888888888888,\"#fdca26\"],[1.0,\"#f0f921\"]]}],\"heatmap\":[{\"type\":\"heatmap\",\"colorbar\":{\"outlinewidth\":0,\"ticks\":\"\"},\"colorscale\":[[0.0,\"#0d0887\"],[0.1111111111111111,\"#46039f\"],[0.2222222222222222,\"#7201a8\"],[0.3333333333333333,\"#9c179e\"],[0.4444444444444444,\"#bd3786\"],[0.5555555555555556,\"#d8576b\"],[0.6666666666666666,\"#ed7953\"],[0.7777777777777778,\"#fb9f3a\"],[0.8888888888888888,\"#fdca26\"],[1.0,\"#f0f921\"]]}],\"heatmapgl\":[{\"type\":\"heatmapgl\",\"colorbar\":{\"outlinewidth\":0,\"ticks\":\"\"},\"colorscale\":[[0.0,\"#0d0887\"],[0.1111111111111111,\"#46039f\"],[0.2222222222222222,\"#7201a8\"],[0.3333333333333333,\"#9c179e\"],[0.4444444444444444,\"#bd3786\"],[0.5555555555555556,\"#d8576b\"],[0.6666666666666666,\"#ed7953\"],[0.7777777777777778,\"#fb9f3a\"],[0.8888888888888888,\"#fdca26\"],[1.0,\"#f0f921\"]]}],\"contourcarpet\":[{\"type\":\"contourcarpet\",\"colorbar\":{\"outlinewidth\":0,\"ticks\":\"\"}}],\"contour\":[{\"type\":\"contour\",\"colorbar\":{\"outlinewidth\":0,\"ticks\":\"\"},\"colorscale\":[[0.0,\"#0d0887\"],[0.1111111111111111,\"#46039f\"],[0.2222222222222222,\"#7201a8\"],[0.3333333333333333,\"#9c179e\"],[0.4444444444444444,\"#bd3786\"],[0.5555555555555556,\"#d8576b\"],[0.6666666666666666,\"#ed7953\"],[0.7777777777777778,\"#fb9f3a\"],[0.8888888888888888,\"#fdca26\"],[1.0,\"#f0f921\"]]}],\"surface\":[{\"type\":\"surface\",\"colorbar\":{\"outlinewidth\":0,\"ticks\":\"\"},\"colorscale\":[[0.0,\"#0d0887\"],[0.1111111111111111,\"#46039f\"],[0.2222222222222222,\"#7201a8\"],[0.3333333333333333,\"#9c179e\"],[0.4444444444444444,\"#bd3786\"],[0.5555555555555556,\"#d8576b\"],[0.6666666666666666,\"#ed7953\"],[0.7777777777777778,\"#fb9f3a\"],[0.8888888888888888,\"#fdca26\"],[1.0,\"#f0f921\"]]}],\"mesh3d\":[{\"type\":\"mesh3d\",\"colorbar\":{\"outlinewidth\":0,\"ticks\":\"\"}}],\"scatter\":[{\"fillpattern\":{\"fillmode\":\"overlay\",\"size\":10,\"solidity\":0.2},\"type\":\"scatter\"}],\"parcoords\":[{\"type\":\"parcoords\",\"line\":{\"colorbar\":{\"outlinewidth\":0,\"ticks\":\"\"}}}],\"scatterpolargl\":[{\"type\":\"scatterpolargl\",\"marker\":{\"colorbar\":{\"outlinewidth\":0,\"ticks\":\"\"}}}],\"bar\":[{\"error_x\":{\"color\":\"#2a3f5f\"},\"error_y\":{\"color\":\"#2a3f5f\"},\"marker\":{\"line\":{\"color\":\"#E5ECF6\",\"width\":0.5},\"pattern\":{\"fillmode\":\"overlay\",\"size\":10,\"solidity\":0.2}},\"type\":\"bar\"}],\"scattergeo\":[{\"type\":\"scattergeo\",\"marker\":{\"colorbar\":{\"outlinewidth\":0,\"ticks\":\"\"}}}],\"scatterpolar\":[{\"type\":\"scatterpolar\",\"marker\":{\"colorbar\":{\"outlinewidth\":0,\"ticks\":\"\"}}}],\"histogram\":[{\"marker\":{\"pattern\":{\"fillmode\":\"overlay\",\"size\":10,\"solidity\":0.2}},\"type\":\"histogram\"}],\"scattergl\":[{\"type\":\"scattergl\",\"marker\":{\"colorbar\":{\"outlinewidth\":0,\"ticks\":\"\"}}}],\"scatter3d\":[{\"type\":\"scatter3d\",\"line\":{\"colorbar\":{\"outlinewidth\":0,\"ticks\":\"\"}},\"marker\":{\"colorbar\":{\"outlinewidth\":0,\"ticks\":\"\"}}}],\"scattermapbox\":[{\"type\":\"scattermapbox\",\"marker\":{\"colorbar\":{\"outlinewidth\":0,\"ticks\":\"\"}}}],\"scatterternary\":[{\"type\":\"scatterternary\",\"marker\":{\"colorbar\":{\"outlinewidth\":0,\"ticks\":\"\"}}}],\"scattercarpet\":[{\"type\":\"scattercarpet\",\"marker\":{\"colorbar\":{\"outlinewidth\":0,\"ticks\":\"\"}}}],\"carpet\":[{\"aaxis\":{\"endlinecolor\":\"#2a3f5f\",\"gridcolor\":\"white\",\"linecolor\":\"white\",\"minorgridcolor\":\"white\",\"startlinecolor\":\"#2a3f5f\"},\"baxis\":{\"endlinecolor\":\"#2a3f5f\",\"gridcolor\":\"white\",\"linecolor\":\"white\",\"minorgridcolor\":\"white\",\"startlinecolor\":\"#2a3f5f\"},\"type\":\"carpet\"}],\"table\":[{\"cells\":{\"fill\":{\"color\":\"#EBF0F8\"},\"line\":{\"color\":\"white\"}},\"header\":{\"fill\":{\"color\":\"#C8D4E3\"},\"line\":{\"color\":\"white\"}},\"type\":\"table\"}],\"barpolar\":[{\"marker\":{\"line\":{\"color\":\"#E5ECF6\",\"width\":0.5},\"pattern\":{\"fillmode\":\"overlay\",\"size\":10,\"solidity\":0.2}},\"type\":\"barpolar\"}],\"pie\":[{\"automargin\":true,\"type\":\"pie\"}]},\"layout\":{\"autotypenumbers\":\"strict\",\"colorway\":[\"#636efa\",\"#EF553B\",\"#00cc96\",\"#ab63fa\",\"#FFA15A\",\"#19d3f3\",\"#FF6692\",\"#B6E880\",\"#FF97FF\",\"#FECB52\"],\"font\":{\"color\":\"#2a3f5f\"},\"hovermode\":\"closest\",\"hoverlabel\":{\"align\":\"left\"},\"paper_bgcolor\":\"white\",\"plot_bgcolor\":\"#E5ECF6\",\"polar\":{\"bgcolor\":\"#E5ECF6\",\"angularaxis\":{\"gridcolor\":\"white\",\"linecolor\":\"white\",\"ticks\":\"\"},\"radialaxis\":{\"gridcolor\":\"white\",\"linecolor\":\"white\",\"ticks\":\"\"}},\"ternary\":{\"bgcolor\":\"#E5ECF6\",\"aaxis\":{\"gridcolor\":\"white\",\"linecolor\":\"white\",\"ticks\":\"\"},\"baxis\":{\"gridcolor\":\"white\",\"linecolor\":\"white\",\"ticks\":\"\"},\"caxis\":{\"gridcolor\":\"white\",\"linecolor\":\"white\",\"ticks\":\"\"}},\"coloraxis\":{\"colorbar\":{\"outlinewidth\":0,\"ticks\":\"\"}},\"colorscale\":{\"sequential\":[[0.0,\"#0d0887\"],[0.1111111111111111,\"#46039f\"],[0.2222222222222222,\"#7201a8\"],[0.3333333333333333,\"#9c179e\"],[0.4444444444444444,\"#bd3786\"],[0.5555555555555556,\"#d8576b\"],[0.6666666666666666,\"#ed7953\"],[0.7777777777777778,\"#fb9f3a\"],[0.8888888888888888,\"#fdca26\"],[1.0,\"#f0f921\"]],\"sequentialminus\":[[0.0,\"#0d0887\"],[0.1111111111111111,\"#46039f\"],[0.2222222222222222,\"#7201a8\"],[0.3333333333333333,\"#9c179e\"],[0.4444444444444444,\"#bd3786\"],[0.5555555555555556,\"#d8576b\"],[0.6666666666666666,\"#ed7953\"],[0.7777777777777778,\"#fb9f3a\"],[0.8888888888888888,\"#fdca26\"],[1.0,\"#f0f921\"]],\"diverging\":[[0,\"#8e0152\"],[0.1,\"#c51b7d\"],[0.2,\"#de77ae\"],[0.3,\"#f1b6da\"],[0.4,\"#fde0ef\"],[0.5,\"#f7f7f7\"],[0.6,\"#e6f5d0\"],[0.7,\"#b8e186\"],[0.8,\"#7fbc41\"],[0.9,\"#4d9221\"],[1,\"#276419\"]]},\"xaxis\":{\"gridcolor\":\"white\",\"linecolor\":\"white\",\"ticks\":\"\",\"title\":{\"standoff\":15},\"zerolinecolor\":\"white\",\"automargin\":true,\"zerolinewidth\":2},\"yaxis\":{\"gridcolor\":\"white\",\"linecolor\":\"white\",\"ticks\":\"\",\"title\":{\"standoff\":15},\"zerolinecolor\":\"white\",\"automargin\":true,\"zerolinewidth\":2},\"scene\":{\"xaxis\":{\"backgroundcolor\":\"#E5ECF6\",\"gridcolor\":\"white\",\"linecolor\":\"white\",\"showbackground\":true,\"ticks\":\"\",\"zerolinecolor\":\"white\",\"gridwidth\":2},\"yaxis\":{\"backgroundcolor\":\"#E5ECF6\",\"gridcolor\":\"white\",\"linecolor\":\"white\",\"showbackground\":true,\"ticks\":\"\",\"zerolinecolor\":\"white\",\"gridwidth\":2},\"zaxis\":{\"backgroundcolor\":\"#E5ECF6\",\"gridcolor\":\"white\",\"linecolor\":\"white\",\"showbackground\":true,\"ticks\":\"\",\"zerolinecolor\":\"white\",\"gridwidth\":2}},\"shapedefaults\":{\"line\":{\"color\":\"#2a3f5f\"}},\"annotationdefaults\":{\"arrowcolor\":\"#2a3f5f\",\"arrowhead\":0,\"arrowwidth\":1},\"geo\":{\"bgcolor\":\"white\",\"landcolor\":\"#E5ECF6\",\"subunitcolor\":\"white\",\"showland\":true,\"showlakes\":true,\"lakecolor\":\"white\"},\"title\":{\"x\":0.05},\"mapbox\":{\"style\":\"light\"}}},\"xaxis\":{\"anchor\":\"y\",\"domain\":[0.0,1.0],\"title\":{\"text\":\"PC1\"}},\"yaxis\":{\"anchor\":\"x\",\"domain\":[0.0,1.0],\"title\":{\"text\":\"PC2\"}},\"legend\":{\"title\":{\"text\":\"color\"},\"tracegroupgap\":0},\"title\":{\"text\":\"PCA Representation of Clusters\"}},                        {\"responsive\": true}                    ).then(function(){\n",
       "                            \n",
       "var gd = document.getElementById('feee231d-4be3-4c1f-a85b-b67ef442f7d9');\n",
       "var x = new MutationObserver(function (mutations, observer) {{\n",
       "        var display = window.getComputedStyle(gd).display;\n",
       "        if (!display || display === 'none') {{\n",
       "            console.log([gd, 'removed!']);\n",
       "            Plotly.purge(gd);\n",
       "            observer.disconnect();\n",
       "        }}\n",
       "}});\n",
       "\n",
       "// Listen for the removal of the full notebook cells\n",
       "var notebookContainer = gd.closest('#notebook-container');\n",
       "if (notebookContainer) {{\n",
       "    x.observe(notebookContainer, {childList: true});\n",
       "}}\n",
       "\n",
       "// Listen for the clearing of the current output cell\n",
       "var outputEl = gd.closest('.output');\n",
       "if (outputEl) {{\n",
       "    x.observe(outputEl, {childList: true});\n",
       "}}\n",
       "\n",
       "                        })                };                });            </script>        </div>"
      ]
     },
     "metadata": {},
     "output_type": "display_data"
    }
   ],
   "source": [
    "# Create scatter plot of `PC2` vs `PC1`\n",
    "fig = px.scatter(\n",
    "    data_frame=X_pca,\n",
    "    x=\"PC1\",\n",
    "    y=\"PC2\",\n",
    "    color=labels.astype(str),\n",
    "    title=\"PCA Representation of Clusters\"\n",
    ")\n",
    "fig.update_layout(xaxis_title=\"PC1\", yaxis_title=\"PC2\")\n",
    "fig.show()"
   ]
  },
  {
   "cell_type": "markdown",
   "id": "c86ee0d4",
   "metadata": {},
   "source": [
    "* Observation:\n",
    "1. Group 2 is in right corner and showing high networth and high assets.\n",
    "2. Group 1 is on upper sode due to it's debt value.\n",
    "3. Some points are not captured perfectly by model in the 0 group. "
   ]
  },
  {
   "cell_type": "markdown",
   "id": "d364146e",
   "metadata": {},
   "source": [
    "**Conclusion:** In this project, we analyzed USA finance data with a specific focus on the credit-averse group. Using K-means clustering and hyperparameter tuning, we identified four distinct financial clusters. The application of Principal Component Analysis (PCA) helped simplify the data, leading to a visually informative scatter plot. The findings offer actionable insights for risk assessment and strategic financial planning, providing valuable perspectives for credit risk analysis and financial management."
   ]
  }
 ],
 "metadata": {
  "kernelspec": {
   "display_name": "Python 3 (ipykernel)",
   "language": "python",
   "name": "python3"
  },
  "language_info": {
   "codemirror_mode": {
    "name": "ipython",
    "version": 3
   },
   "file_extension": ".py",
   "mimetype": "text/x-python",
   "name": "python",
   "nbconvert_exporter": "python",
   "pygments_lexer": "ipython3",
   "version": "3.10.9"
  }
 },
 "nbformat": 4,
 "nbformat_minor": 5
}
